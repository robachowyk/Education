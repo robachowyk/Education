{
 "cells": [
  {
   "cell_type": "markdown",
   "id": "8cfc3d55",
   "metadata": {},
   "source": [
    "## Optimization for Big Data"
   ]
  },
  {
   "cell_type": "markdown",
   "id": "cca245ff-ee2d-4de9-979e-00beef4dc616",
   "metadata": {},
   "source": [
    "## Mirror Descent"
   ]
  },
  {
   "cell_type": "markdown",
   "id": "2bd581f5-be67-412e-b82b-5bffa40c2037",
   "metadata": {},
   "source": [
    "### Kayané Robach"
   ]
  },
  {
   "cell_type": "markdown",
   "id": "149e73c2-2b8b-45a0-aceb-4452e1d4ae69",
   "metadata": {},
   "source": [
    "Some questions have been modified by myself thinking there was some typos in the homework."
   ]
  },
  {
   "cell_type": "markdown",
   "id": "d2080d94-c393-4c86-bf5d-e131a29f25ab",
   "metadata": {},
   "source": [
    "## Summary"
   ]
  },
  {
   "cell_type": "markdown",
   "id": "993b9ad3",
   "metadata": {},
   "source": [
    "$D$ closed and convex $\\subset$ $\\mathbb{R}^p$.\n",
    "\n",
    "$f$ a smooth and $C_1^L(\\mathbb{R}^p,\\mathbb{R}_+)$ function.\n",
    "\n",
    "We consider the euclidean norm : $||x||$ = $\\sqrt{\\sum_{i=1}^p x_i^2}$ and the $L^1$ one : $|x|$ = $\\sum_{i=1}^p |x_i|$.\n",
    "\n",
    "In this homework, we are looking for $x^⋆ = \\underset{x \\in D}{argmin} f(x)$."
   ]
  },
  {
   "cell_type": "markdown",
   "id": "a661c373",
   "metadata": {},
   "source": [
    "## Elementary facts"
   ]
  },
  {
   "cell_type": "markdown",
   "id": "38f566db",
   "metadata": {},
   "source": [
    "**Question 1.a** *Prove that when f is $\\alpha$ strongly convex, a unique minimizer $x^⋆$ exists for f.*"
   ]
  },
  {
   "cell_type": "markdown",
   "id": "f7579b19",
   "metadata": {},
   "source": [
    "To prove existance we need f to be strongly convex and coercive on a closed and convex set.\n",
    "\n",
    "$f$ is $\\alpha$ strongly convex which means by definition 1.6.1 that $g : x \\rightarrowtail f(x) - \\alpha ||x||^2$ is convex. $g$ is also differentiable since $f$ is differentiable, then by proposition 1.4.2 \n",
    "\n",
    "$\\forall$ $x, y \\in D$ $$g(y) \\geq g(x) + <\\nabla g(x),y-x>$$\n",
    "\n",
    "$$\\iff f(y) - \\alpha ||y||^2 \\geq f(x) - \\alpha ||x||^2 + <\\nabla f(x) + 2 \\alpha x,y-x>$$ \n",
    "\n",
    "$$\\iff f(y) \\geq \\alpha ||y||^2 + <\\nabla f(x) + 2 \\alpha x,y-x> + f(x) - \\alpha ||x||^2$$ \n",
    "\n",
    "By Cauchy Schwarz we have $||\\nabla f(x) + 2 \\alpha x|| ||y-x|| \\geq$ $<\\nabla f(x) + 2 \\alpha x,y-x>$ $\\geq - ||\\nabla f(x) + 2 \\alpha x|| ||y-x||$\n",
    "\n",
    "So $$f(y) \\geq \\alpha ||y||^2 - ||\\nabla f(x) + 2 \\alpha x|| ||y-x|| + f(x) - \\alpha ||x||^2$$\n",
    "\n",
    "Therefore for a fixed $x$, $||y|| \\longrightarrow + \\infty \\implies f(y) \\longrightarrow + \\infty$.\n",
    "\n",
    "As a conclusion we get that there exists a minimizer of $f$ since $f$ is strongly convex and coercive on a convex set.\n",
    "\n",
    "Is this minimizer unique ?\n",
    "\n",
    "Assume that 2 distinct solutions exist. Let $x_1^⋆$ and $x_2^⋆$ $\\in D$ such that $\\nabla f(x_1^⋆) = \\nabla f(x_2^⋆) = 0$. Since $f$ is L-smooth and $\\alpha$ strongly convex on $\\mathbb{R}^p$ by lemma 1.6.1 we have $\\forall$ $x_1, x_2 \\in D$ $<\\nabla f(x_1) - \\nabla f(x_2), x_1 - x_2> \\geq \\frac{\\alpha L}{\\alpha + L} ||x_1 - x_2|| + \\frac{||\\nabla f(x_1) - \\nabla f(x_2)||^2}{\\alpha + L}$. In particular for $x_1^⋆, x_2^⋆$ we get $0 \\geq \\frac{\\alpha L}{\\alpha + L} ||x_1^⋆ - x_2^⋆|| \\implies ||x_1^⋆ - x_2^⋆|| = 0 \\iff x_1^⋆ = x_2^⋆$ which is in contradiction with our assumption. Then we can conclude that when f is $\\alpha$ strongly convex, it has a unique minimizer $x^⋆$."
   ]
  },
  {
   "cell_type": "markdown",
   "id": "b7e5fb04",
   "metadata": {},
   "source": [
    "**Question 1.b** *Prove that $x^⋆$ satisfies $\\forall v \\in D$ $<\\nabla f(v), v − x^⋆ \\geq 0$.*"
   ]
  },
  {
   "cell_type": "markdown",
   "id": "5e9f77c4",
   "metadata": {},
   "source": [
    "We have that f is smooth and strongly convex, and so that there exists a unique minimizer $x^⋆$, we have by the FOC that $\\nabla f(x^⋆) = 0$. Moreover, for $\\forall v \\geq x^⋆, \\nabla f(v) > 0$, so that $<\\nabla f(v), v − x^⋆ \\geq 0$. Likewise, $\\forall v \\leq x^⋆, \\nabla f(v) < 0$ and $<\\nabla f(v), v − x^⋆ \\geq 0$. Finally, $\\forall v \\in D$ $<\\nabla f(v), v − x^⋆ \\geq 0$."
   ]
  },
  {
   "cell_type": "markdown",
   "id": "046e7dae",
   "metadata": {},
   "source": [
    "**Question 2.a** *Recall the definition of the projection on D. Does this projection exists ? Why (we do not ask for a proof). Below, we will denote this projection by $\\prod_D$.*"
   ]
  },
  {
   "cell_type": "markdown",
   "id": "5cc70867",
   "metadata": {},
   "source": [
    "The projection on $D$ is defined $\\forall x \\in \\mathbb{R}^p$ as $\\prod_D(x)$ = $\\underset{v \\in D}{argmin} ||v - x||$. Since $\\mathbb{R}^p$ with the euclidean norm is an Hilbert space and $D$ is a closed subspace of this Hilbert, we know by theorem of the orthogonal projection that $\\prod_D$ exists."
   ]
  },
  {
   "cell_type": "markdown",
   "id": "b22b2392",
   "metadata": {},
   "source": [
    "**Question 2.b** *Consider the case $D = [a_1, b_1] × [a_2, b_2] × . . . × [a_p, b_p]$, where $a_i < b_i$ $\\forall$ i. Compute $\\prod_D(x)$.*"
   ]
  },
  {
   "cell_type": "markdown",
   "id": "ce374505",
   "metadata": {},
   "source": [
    "$D$ is an hypercube in $\\mathbb{R}^p$, thus\n",
    "$\\forall i \\in [|1,p|]$, $\\prod_D(x)_i = \\left\\{\n",
    "    \\begin{array}{ll}\n",
    "        a_i & \\ \\text{if} \\  x_i < a_i \\\\\n",
    "        x_i & \\ \\text{if} \\ x_i \\in [a_i,b_i] \\\\\n",
    "        b_i & \\ \\text{if} \\ x_i > b_i \n",
    "    \\end{array}\n",
    "\\right.$"
   ]
  },
  {
   "cell_type": "markdown",
   "id": "2d7ef48b",
   "metadata": {},
   "source": [
    "**Question 2.c** *For p′ an integer such that p′ ≤ p and a radius R > 0, consider the set $D = \\{x \\in \\mathbb{R}^p : x^2_1 + . . . + x^2_p′ \\leq R^2\\}$. Compute $\\prod_D(x)$.*"
   ]
  },
  {
   "cell_type": "markdown",
   "id": "e977bc59",
   "metadata": {},
   "source": [
    "$D = \\{x \\in \\mathbb{R}^p : x^2_1 + . . . + x^2_p′ \\leq R^2\\} = \\{x \\in \\mathbb{R}^p : ||x||^2 \\leq R^2\\} = \\bar{B}(0,R)$\n",
    "\n",
    "$D$ is the closed and centered ball of radius R in $\\mathbb{R}^p$, thus $\\prod_D(x) = \\frac{x}{max\\{1, \\frac{||x||}{R}\\}}$.\n",
    "\n",
    "Indeed, if $||x|| \\leq R$ then $x \\in D$ then $\\prod_D(x) = x$. \n",
    "\n",
    "If $||x|| > R$ the closest point of $x$ in $D$ is $\\frac{R x}{||x||}$ which has norm $R$. \n",
    "\n",
    "Therefore $\\frac{||x||}{R} > 1 \\iff ||x|| > R \\implies \\prod_D(x) = \\frac{x}{max\\{1, \\frac{||x||}{R}\\}} = \\frac{R x}{||x||}$ and \n",
    "\n",
    "$\\frac{||x||}{R} \\leq 1 \\iff ||x|| \\leq R \\implies \\prod_D(x) = \\frac{x}{max\\{1, \\frac{||x||}{R}\\}} = x$"
   ]
  },
  {
   "cell_type": "markdown",
   "id": "70941a13-5c89-41a7-a726-2b304effd098",
   "metadata": {},
   "source": [
    "## Non-smooth domain"
   ]
  },
  {
   "cell_type": "markdown",
   "id": "bf98db32",
   "metadata": {},
   "source": [
    "Define $S$ as the probability simplex :\n",
    "$S = \\{x \\in \\mathbb{R}^p : x_1 + x_2 + . . . + x_p = 1 \\& \\forall i \\in \\{1, . . . , p\\} x_i \\geq 0\\}$.\n",
    "\n",
    "$q$ : $x \\in S$ $\\rightarrowtail$ $\\frac{1}{2} ||x - v||^2$."
   ]
  },
  {
   "cell_type": "markdown",
   "id": "ca3ef780-6f55-411c-9e5e-6bca4e5e1620",
   "metadata": {},
   "source": [
    "**Question 3.a** *Define the projection on S as a constrained minimization problem. Below, we denote by w this projection.*"
   ]
  },
  {
   "cell_type": "markdown",
   "id": "c942e615-ab4e-429a-8b8c-abfdb0509daa",
   "metadata": {},
   "source": [
    "The constraints : $\\sum_{i=1}^p x_i = 1$ and $x_i \\geq 0$ $\\forall i$ could be written as $x^T 1 - 1 = 0$ and $\\forall i$ $x_i \\geq 0$.\n",
    "\n",
    "Therefore the minimization problem is the following : \n",
    "\n",
    "$\\underset{x \\in \\mathbb{R}^p}{argmin} ||x - v||$ such that $x^T 1 - 1 = 0$ and $\\forall i$ $x_i \\geq 0$.\n",
    "\n",
    "which is equivalent to \n",
    "\n",
    "$\\underset{x \\in \\mathbb{R}^p}{argmin} \\frac{1}{2}||x - v||^2$ such that $x^T 1 - 1 = 0$ and $\\forall i$ $x_i \\geq 0$\n",
    "\n",
    "\n",
    "$\\underset{x \\in \\mathbb{R}^p}{argmin}\\ q(x)$ such that $x^T 1 - 1 = 0$ and $\\forall i$ $x_i \\geq 0$"
   ]
  },
  {
   "cell_type": "markdown",
   "id": "4235d897-cb8a-407d-85f9-407e54d7af59",
   "metadata": {},
   "source": [
    "**Question 3.b** *Prove that the Lagrangian function L associated to this minimization problem is :*\n",
    "\n",
    "$$L(x, \\zeta, \\lambda) = \\frac{1}{2} ||x - v||^2 + \\lambda (\\sum_{i=1}^p x_i - 1) - <\\zeta , x>$$\n",
    "\n",
    "*where $\\lambda \\in \\mathbb{R}$ and $\\zeta \\in \\mathbb{R}^p_+$. Give the relationship between the multipliers and $w$\n",
    "with the help of the KKT conditions.*"
   ]
  },
  {
   "cell_type": "markdown",
   "id": "724d6b94-639b-48c4-ab26-22703c2886ea",
   "metadata": {},
   "source": [
    "$\\underset{x \\in \\mathbb{R}^p}{argmin} \\frac{1}{2}||x - v||^2$ such that $x^T 1 - 1 = 0$ and $\\forall i$ $x_i \\geq 0$.\n",
    "\n",
    "The Lagrangian of the problem is then :\n",
    "\n",
    "$$L(x,\\lambda,\\zeta) = \\frac{1}{2}||x - v||^2 + \\lambda (x^T 1 - 1) - \\zeta^T x$$\n",
    "\n",
    "We denote $w$ the solution $x$.\n",
    "\n",
    "$$L(w,\\lambda,\\zeta) = \\frac{1}{2}||w - v||^2 + \\lambda (w^T 1 - 1) - \\zeta^T w$$\n",
    "\n",
    "where $\\lambda \\in \\mathbb{R}$ and $\\zeta \\in \\mathbb{R}^p$ are the Lagrangian multipliers.\n",
    "\n",
    "The KKT necessary condition give :\n",
    "\n",
    "$\\forall i$ $- w_i \\leq 0$ and $\\zeta_i \\geq 0$\n",
    "\n",
    "$\\sum_{i=1}^p w_i = 1$\n",
    "\n",
    "$\\forall i$ $\\zeta_i w_i = 0$\n",
    "\n",
    "$\\forall i$ $\\frac{\\partial L(w,\\lambda, \\zeta)}{\\partial w_i} = 0 \\iff w_i - v_i + \\lambda - \\zeta_i = 0$\n",
    "\n",
    "So :\n",
    "- $w_i > 0$ $\\implies$ $\\zeta_i = 0$ and $w_i = v_i - \\lambda > 0$\n",
    "- $w_i = 0$ $\\implies$ $\\zeta_i \\geq 0$ and $w_i = v_i - \\lambda + \\zeta_i = 0$ $\\iff$ $- \\zeta_i = v_i - \\lambda \\leq 0$."
   ]
  },
  {
   "cell_type": "markdown",
   "id": "8477bc07-51a1-443c-8de3-d76ea6999115",
   "metadata": {},
   "source": [
    "**Question 3.c** *Assume that for two integers $(i, j) \\in \\{1, ... , p\\}, v_i \\geq v_j$ , prove that if w_i = 0, then w_j = 0.*"
   ]
  },
  {
   "cell_type": "markdown",
   "id": "1dfa2418-4c84-4f34-a4a1-eaad32717231",
   "metadata": {},
   "source": [
    "For $(i,j)$ two integers $\\in {1,...,p}$, $v_i \\geq v_j$, and $w_i = 0$ $\\implies$ $\\zeta_i \\geq 0$ and $w_i = v_i - \\lambda + \\zeta_i = 0$.\n",
    "\n",
    "Assume $w_j > 0$, this implies $\\zeta_j = 0$ and $w_j = v_j - \\lambda > 0$.\n",
    "\n",
    "Then $v_i - \\lambda \\geq w_j = v_j - \\lambda > 0$\n",
    "\n",
    "$\\iff - \\zeta_i \\geq w_j = v_j - \\lambda > 0$ but since $\\zeta_i \\geq 0$ this leads to $0 \\geq - \\zeta_i \\geq w_j = v_j - \\lambda > 0$ which is impossible. Since then we made an error assuming $w_j > 0$ so $w_j = 0$."
   ]
  },
  {
   "cell_type": "markdown",
   "id": "40e605d4-a0d8-42c4-87e3-9d977be30ac2",
   "metadata": {},
   "source": [
    "**Question 3.d** *Prove that if $w_i$ > 0, then $\\zeta_i$ = 0. \n",
    "Denote by I the set of \"active coordinates\" for the solution $w$ : $$I = \\{i \\in \\{1, ..., p\\} : w_i > 0\\}$$ and $\\rho = |I|$. Prove that if we rank $w$ by decreasing values : $$w_{(1)} \\geq w_{(2)} \\geq ... \\geq w_{(\\rho)} > w_{(\\rho + 1)} = 0$$ then the same ranking also holds for coordinates in v for integers in $I$.*\n",
    "\n",
    "*Deduce that : $$\\lambda = \\frac{\\sum_{i=1}^{\\rho} v_i - 1}{\\rho}$$*"
   ]
  },
  {
   "cell_type": "markdown",
   "id": "8f23ca28-c486-4dcf-9b4b-c361804e1388",
   "metadata": {},
   "source": [
    "So, assume : $$w_{(1)} \\geq w_{(2)} \\geq w_{(3)} \\geq ... \\geq w_{(\\rho)} > w_{(\\rho + 1)} = 0$$\n",
    "\n",
    "then $$v_{(1)} - \\lambda \\geq v_{(2)} - \\lambda \\geq v_{(3)} - \\lambda  \\geq ... \\geq v_{(\\rho)} - \\lambda > w_{(\\rho + 1)} = 0$$\n",
    "\n",
    "We focus on integers in $I$ so :\n",
    "\n",
    "$$v_{(1)} - \\lambda \\geq v_{(2)} - \\lambda \\geq v_{(3)} - \\lambda  \\geq ... \\geq v_{(\\rho)} - \\lambda$$\n",
    "\n",
    "$$\\iff v_{(1)} \\geq v_{(2)} \\geq v_{(3)} \\geq ... \\geq v_{(\\rho)}$$\n",
    "\n",
    "Now we need the value of $\\lambda$ :\n",
    "\n",
    "Assume that some $w_i = 0$ and some $w_i \\neq 0$. $\\sum_{i=1}^{p} w_i = \\sum_{i=1}^{\\rho} w_i = 1$ where $\\rho$ is the number of non zero coordinate of $w$. $\\sum_{i=1}^{\\rho} w_i = \\sum_{i=1}^{\\rho} (v_i - \\lambda) = 1 \\iff \\lambda = \\frac{\\sum_{i=1}^{\\rho} v_i - 1}{\\rho}$."
   ]
  },
  {
   "cell_type": "markdown",
   "id": "67eabe3e-9223-4079-8c29-463a22136239",
   "metadata": {},
   "source": [
    "**Question 3.e** *Assume that the integer $\\rho$ is known, prove that $$w_i = max \\{v_i − \\lambda, 0\\}$$*"
   ]
  },
  {
   "cell_type": "markdown",
   "id": "366578b9-7801-4915-a4a1-2aebade0e3e4",
   "metadata": {},
   "source": [
    "If $w_i > 0$, we must have that $w_i = v_i - \\lambda$ otherwise $w_i = 0$. Thus, $w_i = \\max\\{v_i - \\lambda,0\\}$."
   ]
  },
  {
   "cell_type": "markdown",
   "id": "47fb3a98-cc39-4223-a3e3-d95cbf24f6bc",
   "metadata": {},
   "source": [
    "**Question 3.f** *Prove that the ALGORITHM 1 compute w.*"
   ]
  },
  {
   "cell_type": "markdown",
   "id": "9b4c54bd-758a-4d9c-9664-786a6696a95c",
   "metadata": {},
   "source": [
    "To sum up :\n",
    "\n",
    "We know that our solution is $w$ such that :\n",
    "\n",
    "- $w_i > 0$ $\\implies$ $w_i = v_i - \\lambda > 0$\n",
    "or\n",
    "- $w_i = 0$ \n",
    "\n",
    "Moreover we know that the first case occurs when $i \\in \\{1,...,\\rho \\}$ and the second one when $i > \\rho$.\n",
    "\n",
    "Finally $w_i = max \\{0, v_i - \\lambda\\}$.\n",
    "\n",
    "We have seen that $w$ and $v$ were sorted alike with $\\rho$ positive coordinates and $p - \\rho$ null ones.\n",
    "\n",
    "Then to compute the value of $w$ we need the value of $\\lambda = \\frac{\\sum_{i=1}^{\\rho} v_i - 1}{\\rho}$ and so the value of $\\rho$.\n",
    "\n",
    "Assuming $\\rho = max\\{j \\in \\{1,...,p\\}$ such that $v_j - \\frac{\\sum_{k=1}^j v_k - 1}{j} > 0\\}$ we can then compute $\\lambda$ and thus $w$.\n",
    "\n",
    "Let us show that $\\rho$ is defined as above.\n",
    "\n",
    "- $\\forall j \\in \\{1,...,\\rho \\}$ we have $w_j > 0$, $w_j = v_j - \\lambda = v_j - \\frac{\\sum_{i=1}^{\\rho} v_i - 1}{\\rho}$ > 0.\n",
    "\n",
    "- $\\forall j > \\rho $ we have $w_j = 0$, $w_j = v_j - \\lambda + \\zeta_j = 0$ $\\iff$ $- \\zeta_j = v_j - \\lambda \\leq 0$ $\\iff$ $- \\zeta_j = v_j - \\frac{\\sum_{i=1}^{\\rho} v_i - 1}{\\rho} \\leq 0$\n",
    "\n",
    "Then $\\rho$ is equal to the max integer $j \\in \\{1, ..., p\\}$ such that $v_i - \\lambda > 0$."
   ]
  },
  {
   "cell_type": "markdown",
   "id": "42929d1b-f224-4800-925d-e8c3270d3046",
   "metadata": {},
   "source": [
    "**Question 3.g** *Implement this projection in Python with a program from you.*"
   ]
  },
  {
   "cell_type": "code",
   "execution_count": null,
   "id": "e0bd96ca-566f-4b01-84e8-7677d4f2e4f2",
   "metadata": {},
   "outputs": [],
   "source": [
    "from numpy import *\n",
    "\n",
    "def proj_onto_proba_simplex(v):\n",
    "    \n",
    "    \"\"\" proj_onto_proba_simplex take a vector in R^p and return w as expressed above.\n",
    "        The vector v need to be sorted since we know that both vector are sorted alike.\n",
    "        To express w we need the value lambda and the value rho.\n",
    "        We first compute rho according to the formula above and we then compute lambda. \"\"\"\n",
    "    \n",
    "    u = sorted(v)\n",
    "    \n",
    "    rho = 0\n",
    "    for j in range(len(v)):\n",
    "        arg_to_max = u[j] - sum(u[0:j])/j + 1/j \n",
    "        if arg_to_max > 0 and j > rho :\n",
    "            rho = j\n",
    "            \n",
    "    lbda = sum(u)/rho - 1/rho \n",
    "    \n",
    "    w = zeros(len(v))\n",
    "    for i in range(len(v)):\n",
    "        w[i] = maximum(v[i] - lbda, 0)\n",
    "    \n",
    "    return w "
   ]
  },
  {
   "cell_type": "markdown",
   "id": "5000ed0c-2a2e-44b2-b02e-83c1e478a004",
   "metadata": {},
   "source": [
    "**Question 3.h** *What is the complexity cost of a such algorithm ?*"
   ]
  },
  {
   "cell_type": "markdown",
   "id": "41269946-1423-40a6-b707-30c86ad7fbc0",
   "metadata": {},
   "source": [
    "$\\rho$ and $\\lambda$ could be really easily computed without iteration (building a vector in numpy and looking for the argument maximum for example in order to compute $\\rho$).\n",
    "\n",
    "Once $\\rho$ and $\\lambda$ are computed it is also easy to compute the vector $w$.\n",
    "\n",
    "The complexity cost appears when dealing with sorting the initial vector passed as an input in the algorithm. Indeed, with big data it could be really costly to sort $v$."
   ]
  },
  {
   "cell_type": "markdown",
   "id": "e81a1e82",
   "metadata": {},
   "source": [
    "## Projected Gradient Descent - PGD"
   ]
  },
  {
   "cell_type": "markdown",
   "id": "b9e64088-365a-45dc-85bc-414b673d0b7f",
   "metadata": {},
   "source": [
    "Below, we consider that $x^⋆ = \\underset{x \\in \\mathbb{R}^p}{argmin} f(x) \\in D$. We also assume that $f$ is strongly convex of parameter $\\alpha$."
   ]
  },
  {
   "cell_type": "markdown",
   "id": "d9773514",
   "metadata": {},
   "source": [
    "**Question 4.a** *We introduce the PGD algorithm. Prove that the algorithm always belongs to $D$.*"
   ]
  },
  {
   "cell_type": "markdown",
   "id": "47bbe723-25e0-4d12-88db-3169a67b44f8",
   "metadata": {},
   "source": [
    "This is obvious since we start in $\\mathbb{R}^p$ and then, each iteration is an element of $\\mathbb{R}^p$ projected onto $D$ so that it is an element of $D$. Finally all the elements build after the first element are in $D$."
   ]
  },
  {
   "cell_type": "markdown",
   "id": "09d40cd6-eb5d-4ec0-b064-0cf959d1bb57",
   "metadata": {},
   "source": [
    "**Question 4.b** *Show that when the stepsize $\\rho \\in (0, \\frac{2 \\alpha}{L^2})$, the algorithm converges exponentially fast towards* $x^⋆$."
   ]
  },
  {
   "cell_type": "markdown",
   "id": "0280bd2e-6624-4131-b28e-a0b8bed2454f",
   "metadata": {},
   "source": [
    "The purpose here is to show that there exists $\\mu$ such that $\\underset{k \\rightarrow \\infty}{lim} \\frac{|x_{k+1} - x^⋆|}{|x_{k} - x^⋆|} = \\mu$. Thus we want to upper bounds $\\frac{|x_{k+1} - x^⋆|}{|x_{k} - x^⋆|}$ by a real term so that the convergence would be linear ie: it would be dominated by an exponential term.\n",
    "\n",
    "Since $x^⋆$ is a fixed point of $\\prod_D(. - \\rho \\nabla f(.)$ :\n",
    "$$||x_{k} - x^⋆||^2 = ||\\prod_D(x_{k-1} - \\rho \\nabla f(x_{k-1})) - \\prod_D(x^⋆ - \\rho \\nabla f(x^⋆))||^2$$\n",
    "Using that the projection is 1-lipschitz :\n",
    "$$||x_{k} - x^⋆||^2 \\leq ||x_{k-1} - \\rho \\nabla f(x_{k-1}) - x^⋆ + \\rho \\nabla f(x^⋆)||^2$$\n",
    "$$ \\leq ||x_{k-1} - x^⋆||^2 + \\rho^2||\\nabla f(x_{k-1}) - \\nabla f(x^⋆)||^2 - 2 <,\\nabla f(x_{k-1}) - \\nabla f(x^⋆), x_{k-1} - x^⋆>$$\n",
    "$$ = ||x_{k-1} - x^⋆||^2 + \\rho^2||\\nabla f(x_{k-1})||^2 - 2 <,\\nabla f(x_{k-1}), x_{k-1} - x^⋆>$$\n",
    "\n",
    "But since $f$ is $\\alpha$ strongly convex and L-smooth : $$\\rho^2||\\nabla f(x_{k-1})||^2 - 2 <,\\nabla f(x_{k-1}) - \\nabla f(x^⋆), x_{k-1} - x^⋆> \\leq \\rho^2 L^2 - 2 \\alpha \\rho ||x_{k-1} - x^⋆||^2$$\n",
    "\n",
    "Therefore $$||x_{k} - x^⋆||^2 \\leq ||x_{k-1} - x^⋆||^2 (1 - 2 \\alpha \\rho + \\rho^2 L^2)$$\n",
    "$$\\iff \\frac{||x_{k} - x^⋆||^2}{||x_{k-1} - x^⋆||^2} \\leq  1 - 2 \\alpha \\rho + \\rho^2 L^2$$\n",
    "\n",
    "We define $h(\\rho) = 1 - 2 \\alpha \\rho + \\rho^2 L^2$ which has its minimum at $\\rho^⋆ = \\frac{\\alpha^2}{\\rho^2}$ for $\\rho \\in (0, \\frac{2 \\alpha}{L^2})$\n",
    "\n",
    "Then we have :\n",
    "\n",
    "$$\\frac{||x_{k} - x^⋆||^2}{||x_{k-1} - x^⋆||^2} \\leq  1 - 2 \\alpha \\rho^⋆ + \\rho^⋆^2 L^2$$\n",
    "\n",
    "Which is equivalent to say that the algorithm converges exponentially fast."
   ]
  },
  {
   "cell_type": "markdown",
   "id": "9f9424d0-5640-4534-a1bf-3128429d0a96",
   "metadata": {},
   "source": [
    "**Question 4.c** *What is the numerical \"cost\" of the algorithm to achieve an $\\varepsilon$ solution in each case ?*"
   ]
  },
  {
   "cell_type": "markdown",
   "id": "44627561-e9eb-4068-ac4e-2eefe93185a5",
   "metadata": {},
   "source": [
    "# NEED ANSWER"
   ]
  },
  {
   "cell_type": "markdown",
   "id": "cccf29f3-3228-41f6-be2d-4716e602080f",
   "metadata": {},
   "source": [
    "**Question 4.d** *Discuss on the effect of the dimension when looking at the simplex constraint of **Question 3**.*"
   ]
  },
  {
   "cell_type": "markdown",
   "id": "be717c89-3f30-4bef-8198-09b76600cdbf",
   "metadata": {},
   "source": [
    "# NEED ANSWER"
   ]
  },
  {
   "cell_type": "markdown",
   "id": "0a8c57da-3634-47fc-bd13-8fdfcfe0912c",
   "metadata": {},
   "source": [
    "## Projected stochastic strongly convex case"
   ]
  },
  {
   "cell_type": "markdown",
   "id": "abe479a1-08f7-4469-9de1-979f087ecdb1",
   "metadata": {},
   "source": [
    "D is the diameter of $D$, D = $\\underset{x,y \\in D}{sup} ||x-y||$."
   ]
  },
  {
   "cell_type": "markdown",
   "id": "49ec8625-9147-48d6-ba4c-5e5ccfd94a61",
   "metadata": {},
   "source": [
    "**Question 5.a** *Prove that : \n",
    "\n",
    "$$2 \\gamma_k [f(x_{k-1}) - f(x^⋆) + \\frac{\\alpha}{2}||x_{k-1}-x^⋆||^2] \\leq ||x_{k-1}-x^⋆||^2  - \\mathbb{E}[||x_{k}-x^⋆||^2| F_{k-1}] + \\gamma_k^2 [L^2 D^2 + \\sigma^2]$$"
   ]
  },
  {
   "cell_type": "markdown",
   "id": "1993aeee-e562-4786-97b2-ae893b2df2ec",
   "metadata": {},
   "source": [
    "$$||x_{k}-x^⋆||^2 = || \\prod_D[ x_{k-1} - \\gamma_k(\\nabla f(x_k-1)+ \\xi_k) ] - x^⋆||^2 = || \\prod_D[ x_{k-1} - \\gamma_k(\\nabla f(x_k-1)+ \\xi_k) - x^⋆]||^2$$ since $x^⋆ \\in D$\n",
    "\n",
    "$$\\iff ||x_{k}-x^⋆||^2 \\leq ||x_{k-1} - \\gamma_k(\\nabla f(x_{k-1})+ \\xi_k) - x^⋆||^2$$ since the projection is 1-lipschitz.\n",
    "\n",
    "$$\\iff ||x_{k}-x^⋆||^2 \\leq ||x_{k-1}-x^⋆||^2 + \\gamma_k^2 ||\\nabla f(x_{k-1})+ \\xi_k||^2 - 2 \\gamma_k <x_{k-1}-x^⋆, \\nabla f(x_{k-1})> - 2 \\gamma_k <x_{k-1}-x^⋆, \\xi_k>$$\n",
    "\n",
    "by strong convexity of $f$ we have : $$- 2 \\gamma_k <x_{k-1}-x^⋆, \\nabla f(x_{k-1})> \\leq 2 \\gamma_k [f(x^⋆) - f(x_{k-1}) - \\frac{\\alpha}{2}||x_{k-1}-x^⋆||^2]$$\n",
    "\n",
    "$$\\iff ||x_{k}-x^⋆||^2 \\leq ||x_{k-1}-x^⋆||^2 + \\gamma_k^2 ||\\nabla f(x_{k-1})+ \\xi_k||^2 + 2 \\gamma_k [f(x^⋆) - f(x_{k-1}) - \\frac{\\alpha}{2}||x_{k-1}-x^⋆||^2] - 2 \\gamma_k <x_{k-1}-x^⋆, \\xi_k>$$\n",
    "\n",
    "$$\\iff 2 \\gamma_k [f(x_{k-1}) - f(x^⋆) + \\frac{\\alpha}{2}||x_{k-1}-x^⋆||^2] \\leq ||x_{k-1}-x^⋆||^2  - ||x_{k}-x^⋆||^2 + \\gamma_k^2 ||\\nabla f(x_{k-1})||^2 + \\gamma_k^2 ||\\xi_k||^2 - 2 \\gamma_k <x_{k-1}-x^⋆, \\xi_k>$$\n",
    "\n",
    "Then by taking the conditionnal expectation with respect to $F_{k-1}$ we get :\n",
    "\n",
    "$2 \\gamma_k <x_{k-1}-x^⋆, \\mathbb{E}[\\xi_k| F_{k-1}]> = 0$ and $\\gamma_k^2 \\mathbb{E}[||\\xi_k||^2 | F_{k-1}] = \\gamma_k^2 \\mathbb{E}[||\\xi_k||^2] \\leq \\gamma_k^2 \\sigma^2$ since the $\\xi_k$ are iid and centered.\n",
    "\n",
    "Since $f \\in C^L_1$, $||\\nabla f(x_{k-1})||^2 = ||\\nabla f(x_{k-1}) - \\nabla f(x^⋆)||^2 \\leq L^2 ||x_{k-1}-x^⋆||^2$ \n",
    "\n",
    "Therefore $$2 \\gamma_k [f(x_{k-1}) - f(x^⋆) + \\frac{\\alpha}{2}||x_{k-1}-x^⋆||^2] \\leq ||x_{k-1}-x^⋆||^2  - \\mathbb{E}[||x_{k}-x^⋆||^2| F_{k-1}] + \\gamma_k^2 L^2 ||x_{k-1}-x^⋆||^2 + \\gamma_k^2 \\sigma^2$$\n",
    "\n",
    "$$\\iff 2 \\gamma_k [f(x_{k-1}) - f(x^⋆) + \\frac{\\alpha}{2}||x_{k-1}-x^⋆||^2] \\leq ||x_{k-1}-x^⋆||^2  - \\mathbb{E}[||x_{k}-x^⋆||^2| F_{k-1}] + \\gamma_k^2 [L^2 ||x_{k-1}-x^⋆||^2 + \\sigma^2]$$\n",
    "\n",
    "Hence, $$2 \\gamma_k [f(x_{k-1}) - f(x^⋆) + \\frac{\\alpha}{2}||x_{k-1}-x^⋆||^2] \\leq ||x_{k-1}-x^⋆||^2  - \\mathbb{E}[||x_{k}-x^⋆||^2| F_{k-1}] + \\gamma_k^2 [L^2 D^2 + \\sigma^2]$$"
   ]
  },
  {
   "cell_type": "markdown",
   "id": "798acf12-1de8-4ced-be43-acdb2d825967",
   "metadata": {},
   "source": [
    "**Question 5.b** *Conclude that for a fixed horizon N > 0 and a constant step-size \\gamma, if we define $\\bar{x_N} = \\frac{1}{N} \\sum_{k=1}^N x_k$ one has : $$\\mathbb{E}[2(f(\\bar{x_N}) - f(x^⋆)) + \\alpha ||\\bar{x_N}-x^⋆||^2] \\leq \\sigma^2 L^2 \\gamma + \\frac{D^2}{N \\gamma}$$*\n",
    "\n",
    "*Conclude an optimal tuning of the parameter $\\gamma$.*"
   ]
  },
  {
   "cell_type": "markdown",
   "id": "4801b5af-0dc2-4024-a6f4-61cb1d63da93",
   "metadata": {},
   "source": [
    "Suppose that **Question 5.a** is true for a constant step-size $\\gamma$, we take the expectation and divide by $\\gamma$.\n",
    "\n",
    "$$\\mathbb{E} [ 2 [f(x_{k-1}) - f(x^⋆) + \\frac{\\alpha}{2}||x_{k-1}-x^⋆||^2] ]\\leq \\frac{1}{\\gamma} \\mathbb{E} [||x_{k-1}-x^⋆||^2]  - \\frac{1}{\\gamma} \\mathbb{E}[||x_{k}-x^⋆||^2] + \\gamma [L^2 D^2 + \\sigma^2]$$\n",
    "\n",
    "$$\\iff \\mathbb{E} [ 2 [f(x_{k-1}) - f(x^⋆)] + \\alpha||x_{k-1}-x^⋆||^2 ] \\leq \\frac{1}{\\gamma} \\mathbb{E} [||x_{k-1}-x^⋆||^2]  - \\frac{1}{\\gamma} \\mathbb{E}[||x_{k}-x^⋆||^2] + \\gamma [L^2 D^2 + \\sigma^2]$$\n",
    "\n",
    "$$\\iff \\frac{1}{N} \\sum_{k=1}^n \\mathbb{E} [ 2 [f(x_{k-1}) - f(x^⋆)] + \\alpha||x_{k-1}-x^⋆||^2 ] \\leq \\frac{1}{\\gamma} \\frac{1}{N} \\sum_{k=1}^n \\mathbb{E} [||x_{k-1}-x^⋆||^2]  - \\frac{1}{\\gamma} \\frac{1}{N} \\sum_{k=1}^n \\mathbb{E}[||x_{k}-x^⋆||^2] + \\frac{1}{N} \\sum_{k=1}^n \\gamma [L^2 D^2 + \\sigma^2]$$\n",
    "\n",
    "Using the convexity of $f$ and a telescopic sum argument :\n",
    "\n",
    "$$\\iff \\mathbb{E} [ 2 [f(\\bar{x}_N) - f(x^⋆)] + \\alpha||\\bar{x}_N - x^⋆||^2 ] \\leq \\frac{1}{\\gamma} \\frac{1}{N} \\mathbb{E} [||x_{0}-x^⋆||^2]  - \\frac{1}{\\gamma} \\frac{1}{N} \\mathbb{E}[||x_{N}-x^⋆||^2] + \\gamma [L^2 D^2 + \\sigma^2]$$\n",
    "\n",
    "Therefore we get :\n",
    "\n",
    "$$\\mathbb{E} [ 2 [f(\\bar{x}_N) - f(x^⋆)] + \\alpha||\\bar{x}_N - x^⋆||^2 ] \\leq \\frac{D^2}{\\gamma N} + \\gamma [L^2 D^2 + \\sigma^2]$$\n",
    "\n",
    "We study the term : $\\frac{D^2}{\\gamma N} + \\gamma [L^2 D^2 + \\sigma^2]$. The purpose is to get the optimal tunning $\\gamma$ which minimizes this term.\n",
    "\n",
    "$\\frac{\\partial}{\\partial \\gamma} (\\frac{D^2}{\\gamma N} + \\gamma [L^2 D^2 + \\sigma^2]) = \\frac{- D^2}{\\gamma^2 N} + L^2 D^2 + \\sigma^2$\n",
    "\n",
    "$\\frac{\\partial^2}{\\partial \\gamma^2} (\\frac{D^2}{\\gamma N} + \\gamma [L^2 D^2 + \\sigma^2]) = \\frac{2 D^2}{\\gamma^3 N} > 0$\n",
    "\n",
    "$\\frac{\\partial}{\\partial \\gamma} (\\frac{D^2}{\\gamma N} + \\gamma [L^2 D^2 + \\sigma^2]) = 0 \\iff \\gamma^⋆ = \\sqrt{\\frac{D^2}{N(L^2 D^2 + \\sigma^2)}} = \\frac{D}{\\sqrt{N(L^2 D^2 + \\sigma^2)}}$\n",
    "\n",
    "The term is a convex function of $\\gamma$ so that $\\gamma^⋆$ is the minimizer of this term and hence it is the optimal tunning of the parameter $\\gamma$."
   ]
  },
  {
   "cell_type": "markdown",
   "id": "6cf16594-01dc-41db-93bd-b9fdf8f3f726",
   "metadata": {},
   "source": [
    "**Question 5.c** *Coming back to 5.a and choosing $\\gamma_k = \\frac{1}{\\alpha k}$, prove that $\\mathbb{E}[f(\\bar{x}_N)] - f(x^⋆) \\leq \\frac{D^2 log n}{\\alpha n}$, where D refers to the diameter of $D$.*"
   ]
  },
  {
   "cell_type": "markdown",
   "id": "1498648f-3c1d-4a98-9d43-aa56b4cd0bfd",
   "metadata": {},
   "source": [
    "$$2 \\frac{1}{\\alpha k} [f(x_{k-1}) - f(x^⋆) + \\frac{\\alpha}{2}||x_{k-1}-x^⋆||^2] \\leq ||x_{k-1}-x^⋆||^2  - \\mathbb{E}[||x_{k}-x^⋆||^2| F_{k-1}] + \\frac{1}{\\alpha^2 k^2} [L^2 D^2 + \\sigma^2]$$\n",
    "\n",
    "$$\\iff f(x_{k-1}) - f(x^⋆) + \\frac{\\alpha}{2}||x_{k-1}-x^⋆||^2 \\leq \\frac{\\alpha k}{2} ||x_{k-1}-x^⋆||^2  - \\frac{\\alpha k}{2} \\mathbb{E}[||x_{k}-x^⋆||^2| F_{k-1}] + \\frac{1}{2 \\alpha k} [L^2 D^2 + \\sigma^2]$$\n",
    "\n",
    "$$\\iff f(x_{k-1}) - f(x^⋆) \\leq \\frac{\\alpha (k - 1)}{2} ||x_{k-1}-x^⋆||^2  - \\frac{\\alpha k}{2} \\mathbb{E}[||x_{k}-x^⋆||^2| F_{k-1}] + \\frac{1}{2 \\alpha k} [L^2 D^2 + \\sigma^2]$$\n",
    "\n",
    "We take the expectation and again we use a telescopic sum argument :\n",
    "\n",
    "$$\\iff \\frac{1}{N} \\sum_{k=1}^N \\mathbb{E}[f(x_{k-1}) - f(x^⋆)] \\leq \\frac{\\alpha}{2} \\frac{1}{N} \\sum_{k=1}^N (k-1) \\mathbb{E}[||x_{k-1}-x^⋆||^2]  - \\frac{\\alpha}{2} \\frac{1}{N} \\sum_{k=1}^N k \\mathbb{E}[||x_{k}-x^⋆||^2] + \\frac{1}{N} \\sum_{k=1}^N \\frac{1}{2 \\alpha k} [L^2 D^2 + \\sigma^2]$$\n",
    "\n",
    "$$\\iff \\frac{1}{N} \\sum_{k=1}^N \\mathbb{E}[f(x_{k-1}) - f(x^⋆)] \\leq \\frac{\\alpha}{2} \\frac{1}{N} \\sum_{k=1}^N [ (k-1) \\mathbb{E}[||x_{k-1}-x^⋆||^2] - k \\mathbb{E}[||x_{k}-x^⋆||^2] ] + \\frac{1}{N} \\sum_{k=1}^N \\frac{1}{2 \\alpha k} [L^2 D^2 + \\sigma^2]$$\n",
    "\n",
    "$$\\iff \\frac{1}{N} \\sum_{k=1}^N \\mathbb{E}[f(x_{k-1}) - f(x^⋆)] \\leq \\frac{\\alpha}{2} \\frac{1}{N} -N \\mathbb{E}[||x_{N}-x^⋆||^2] + \\frac{1}{N} \\sum_{k=1}^N \\frac{1}{2 \\alpha k} [L^2 D^2 + \\sigma^2]$$\n",
    "\n",
    "$$\\iff \\frac{1}{N} \\sum_{k=1}^N \\mathbb{E}[f(x_{k-1}) - f(x^⋆)] \\leq - \\frac{\\alpha}{2} \\mathbb{E}[||x_{N}-x^⋆||^2] + [L^2 D^2 + \\sigma^2] \\frac{1}{2 \\alpha N} \\sum_{k=1}^N \\frac{1}{k}$$\n",
    "\n",
    "We know that the harmonic series diverges slowly, and $\\sum_{k=1}^N \\frac{1}{k} \\leq log(N) + 1$\n",
    "\n",
    "$$\\iff \\frac{1}{N} \\sum_{k=1}^N \\mathbb{E}[f(x_{k-1}) - f(x^⋆)] \\leq - \\frac{\\alpha}{2} \\mathbb{E}[||x_{N}-x^⋆||^2] + [L^2 D^2 + \\sigma^2] \\frac{log(N) + 1}{2 \\alpha N}$$\n",
    "\n",
    "We use that f is convex and get :\n",
    "\n",
    "$$\\mathbb{E}[f(\\bar{x}_N) - f(x^⋆)] \\leq \\frac{[L^2 D^2 + \\sigma^2] [log(N) + 1]}{2 \\alpha N}$$"
   ]
  },
  {
   "cell_type": "markdown",
   "id": "f87d7b08-e08e-4213-ae93-568513f834c8",
   "metadata": {},
   "source": [
    "**Question 5.d** *Compare the rates obtained by the two step-size strategies.*"
   ]
  },
  {
   "cell_type": "markdown",
   "id": "53b42cf7-6057-465f-8201-87ecaac4131e",
   "metadata": {},
   "source": [
    "We refer to :\n",
    "\n",
    "- **Question 5.b** with $\\gamma = \\frac{D}{\\sqrt{N(L^2 D^2 + \\sigma^2)}}$ and \n",
    "\n",
    "$$\\mathbb{E} [ 2 [f(\\bar{x}_N) - f(x^⋆)] + \\alpha||\\bar{x}_N - x^⋆||^2 ] \\leq 2 \\frac{D \\sqrt{L^2 D^2 + \\sigma^2}}{\\sqrt{N}}$$\n",
    "\n",
    "$$\\iff \\mathbb{E} [ f(\\bar{x}_N) - f(x^⋆) ] \\leq \\frac{2 D \\sqrt{L^2 D^2 + \\sigma^2} - \\alpha D^2 \\sqrt{N}}{2 \\sqrt{N}}$$\n",
    "\n",
    "- **Question 5.c** with $\\gamma_k = \\frac{1}{\\alpha k}$ and $$\\mathbb{E}[f(\\bar{x}_N) - f(x^⋆)] \\leq \\frac{[L^2 D^2 + \\sigma^2] [log(N) + 1]}{2 \\alpha N}$$ \n",
    "\n",
    "Let's look at the ratio of upper bounds :\n",
    "\n",
    "$$\\frac{D \\alpha \\sqrt{N}[2 \\sqrt{L^2 D^2 + \\sigma^2} - D \\alpha \\sqrt{N}]}{[L^2 D^2 + \\sigma^2] [log(N) + 1]}$$"
   ]
  },
  {
   "cell_type": "markdown",
   "id": "8970031d-e17c-4fa0-813c-b2b0690772a7",
   "metadata": {},
   "source": [
    "# NEED ANSWER"
   ]
  },
  {
   "cell_type": "markdown",
   "id": "7005cb71-9b76-4f83-8cb4-4057a81b9ff7",
   "metadata": {},
   "source": [
    "## Projected stochastic convex case"
   ]
  },
  {
   "cell_type": "markdown",
   "id": "90692eb1-55c9-4c43-b85b-9080cd0a6e1e",
   "metadata": {},
   "source": [
    "Below, we consider that $x^⋆ = \\underset{x \\in \\mathbb{R}^p}{argmin} f(x) \\in D$. We also assume that $f$ is convex."
   ]
  },
  {
   "cell_type": "markdown",
   "id": "48328f49-3b9e-4ad4-ad27-41a9ae76f45f",
   "metadata": {},
   "source": [
    "**Question 6.a** *Repeating the arguments of **Question 5.a**, prove that : $$\\gamma_{k+1} \\mathbb{E}[f(x_k) - f(x^⋆)] \\leq \\frac{||x_1 - x^⋆||^2 + \\sigma^2 \\sum_{j=1}^k \\gamma_j^2}{2 \\sum_{j=1}^k \\gamma_j}$$*"
   ]
  },
  {
   "cell_type": "markdown",
   "id": "6598671a-e671-4695-b3f2-8269acc14fb7",
   "metadata": {},
   "source": [
    "Using convexity :\n",
    "\n",
    "$$f(x_k) - f(x^⋆) \\leq <x_k - x^⋆, \\nabla f(x_k)>$$\n",
    "$$\\iff - 2 \\gamma_k <x_{k-1} - x^⋆, \\nabla f(x_{k-1})> \\leq - 2 \\gamma_k (f(x_{k-1}) - f(x^⋆))$$\n",
    "\n",
    "We keep the same computation at the beginning of the **Question 5.a** :\n",
    "$$||x_{k}-x^⋆||^2 \\leq ||x_{k-1}-x^⋆||^2 + \\gamma_k^2 ||\\nabla f(x_{k-1})+ \\xi_k||^2 - 2 \\gamma_k <x_{k-1}-x^⋆, \\nabla f(x_{k-1})> - 2 \\gamma_k <x_{k-1}-x^⋆, \\xi_k>$$\n",
    "\n",
    "With the argument above and the same reasonning as in **Question 5.a**, we get :\n",
    "$$2 \\gamma_k (f(x_{k-1}) - f(x^⋆)) \\leq ||x_{k-1}-x^⋆||^2 - ||x_{k}-x^⋆||^2 + \\gamma_k^2 L ||x_{k-1}-x^⋆||^2 + \\gamma_k^2 \\sigma^2$$\n",
    "\n",
    "Taking the expectation  :\n",
    "$$2 \\gamma_k \\mathbb{E}[f(x_{k-1}) - f(x^⋆)] \\leq \\mathbb{E}[||x_{k-1}-x^⋆||^2] - \\mathbb{E}[||x_{k}-x^⋆||^2] + \\gamma_k^2 L \\mathbb{E}[||x_{k-1}-x^⋆||^2] + \\gamma_k^2 \\sigma^2$$\n",
    "\n",
    "We use a telescopic sum argument :\n",
    "$$2 \\sum_{k=1}^n \\gamma_k \\mathbb{E}[f(x_{k-1}) - f(x^⋆)] \\leq \\sum_{k=1}^n \\mathbb{E}[||x_{k-1}-x^⋆||^2] - \\sum_{k=1}^n \\mathbb{E}[||x_{k}-x^⋆||^2] + \\sum_{k=1}^n \\gamma_k^2 L \\mathbb{E}[||x_{k-1}-x^⋆||^2] + \\sum_{k=1}^n \\gamma_k^2 \\sigma^2$$\n",
    "\n",
    "$$\\iff \\mathbb{E}[f(x_{k-1}) - f(x^⋆)] \\leq \\frac{||x_0-x^⋆||^2 - ||x_{n}-x^⋆||^2 + \\sum_{k=1}^n \\gamma_k^2 L D^2 + \\sum_{k=1}^n \\gamma_k^2 \\sigma^2}{2 \\sum_{k=1}^n \\gamma_k}$$\n",
    "\n",
    "$$\\iff \\mathbb{E}[f(x_{k-1}) - f(x^⋆)] \\leq \\frac{||x_0-x^⋆||^2 + \\sum_{k=1}^n \\gamma_k^2 [L D^2 + \\sigma^2]}{2 \\sum_{k=1}^n \\gamma_k}$$"
   ]
  },
  {
   "cell_type": "markdown",
   "id": "62d74be3-f73e-44e2-bb20-712a9904b40e",
   "metadata": {},
   "source": [
    "**Question 6.b** *Define now $$\\bar{x}_N = \\sum_{k=1}^N (\\frac{\\gamma_{k+1}}{\\sum_{j=1}^k \\gamma_{j+1}}x_k)$$*\n",
    "\n",
    "*Prove that a suitable constant step-size yields a $O(\\frac{1}{\\sqrt{N}})$ convergence rate.\n",
    "Discuss on the \"not-anytime\" feature of a such strategy.*"
   ]
  },
  {
   "cell_type": "markdown",
   "id": "c39a43d6-66bb-4f60-b6f1-1a7f57cf6eda",
   "metadata": {},
   "source": [
    "# NEED ANSWER"
   ]
  },
  {
   "cell_type": "markdown",
   "id": "929f175d-34ac-48b7-b779-d5b87bd135e1",
   "metadata": {},
   "source": [
    "**Question 6.c** *Choosing now $\\gamma_{k+1} \\approx (k+1)^{-1/2}$, what convergence rate is obtained ?*"
   ]
  },
  {
   "cell_type": "markdown",
   "id": "9c303694-fc29-45a1-a088-dd134d0187e2",
   "metadata": {},
   "source": [
    "# NEED ANSWER"
   ]
  },
  {
   "cell_type": "markdown",
   "id": "cc85d582-9176-463d-aafd-380036a6744a",
   "metadata": {},
   "source": [
    "## Mirror Descent - convex case"
   ]
  },
  {
   "cell_type": "markdown",
   "id": "c9923b8f-c3e5-4ea9-9f5c-8dd157a11eaf",
   "metadata": {},
   "source": [
    "We introduce $\\phi$ a smooth and $\\rho$ strongly convex function on $D$ and define the Bregman divergence $\\forall$ $x, z \\in D$ $D_{\\phi}(x,z) = \\phi(x) - \\phi(z) - <\\nabla \\phi(z), x-z>$"
   ]
  },
  {
   "cell_type": "markdown",
   "id": "f1de82a0-f69c-4c19-98d7-a94c909671bc",
   "metadata": {},
   "source": [
    "**Question 7.a** *Prove that $D_{\\phi} \\geq 0$ and is a convex function of the first coordinate. Compute $\\nabla_x D_{\\phi}(x,z)$.*"
   ]
  },
  {
   "cell_type": "markdown",
   "id": "a8c0dbc3-e86d-48c6-a0a4-74babd070318",
   "metadata": {},
   "source": [
    "By strong convexity of $\\phi$ we know that $\\phi(x) - \\phi(z) - <\\nabla \\phi(z), x - z> \\geq \\frac{\\rho}{2}||z-x||^2$, since $\\rho$ is a strictly positive constant and the norm is positive we get the result $D_{\\phi} \\geq 0$.\n",
    "\n",
    "$\\nabla_x D_{\\phi}(x,z) = \\nabla \\phi(x) - \\nabla \\phi(z)$\n",
    "\n",
    "$\\frac{\\partial^2 D}{\\partial x^2}(x,z) = \\frac{\\partial^2 \\phi}{\\partial x^2}(x)$ and since $\\phi$ is convex we get that $D$ is convex in $x$."
   ]
  },
  {
   "cell_type": "markdown",
   "id": "026c8a5c-3c3f-4f7e-9b2e-1a142d5d6693",
   "metadata": {},
   "source": [
    "**Question 7.b** *Show that $D_{\\phi}$ satisfies the three points lemma :\n",
    "$$D_{\\phi}(x,z) = D_{\\phi}(x,y) + D_{\\phi}(y,z) - <\\nabla \\phi(z) - \\nabla \\phi(y), x - y>$$*"
   ]
  },
  {
   "cell_type": "markdown",
   "id": "b7bb90ae-366b-4f5b-9b1f-10e975d6423c",
   "metadata": {},
   "source": [
    "$$D_{\\phi}(x,y) + D_{\\phi}(y,z) - <\\nabla \\phi(z) - \\nabla \\phi(y), x - y>$$ $$= \\phi(x) - \\phi(y) - <\\nabla \\phi(y), x-y> + \\phi(y) - \\phi(z) - <\\nabla \\phi(z), y-z> - <\\nabla \\phi(z) - \\nabla \\phi(y), x - y>$$ $$= \\phi(x) - \\phi(y) - <\\nabla \\phi(y), x> + <\\nabla \\phi(y), y> + \\phi(y) - \\phi(z) - <\\nabla \\phi(z), y> + <\\nabla \\phi(z), z> - <\\nabla \\phi(z), x> + <\\nabla \\phi(z),y> + <\\nabla \\phi(y), x> - <\\nabla \\phi(y), y>$$ $$= \\phi(x) - \\phi(z) + <\\nabla \\phi(z), z> - <\\nabla \\phi(z), x>$$ $$= \\phi(x) - \\phi(z) - <\\nabla \\phi(z), x - z> = D_{\\phi}(x,z)$$\n",
    "\n",
    "So that $D_{\\phi}$ satisfies the three points lemma."
   ]
  },
  {
   "cell_type": "markdown",
   "id": "15a14bbb-d943-43ad-b580-39ab98d410d3",
   "metadata": {},
   "source": [
    "**Question 7.c** *Assume that $D = \\mathbb{R}^p$ (no constraints) and $\\phi$ is the square function $\\phi(x) = ||x||^2$, prove that : $$D_{\\phi}(x,z) = ||x-z||^2$$*"
   ]
  },
  {
   "cell_type": "markdown",
   "id": "58de9d6b-b9f0-4124-be7f-47f6729c8c59",
   "metadata": {},
   "source": [
    "$$||x-z||^2 = \\sum_{i=1}^p (x_i - z_i)^2 = \\sum_{i=1}^p x_i^2 + \\sum_{i=1}^p z_i^2 - 2 \\sum_{i=1}^p x_i z_i = <x,x> + <z,z> - 2 <x,z>$$\n",
    "\n",
    "$$D_{\\phi}(x,z) = \\phi(x) - \\phi(z) - <\\nabla \\phi(z), x-z> = <x,x> - <z,z> - <2z,x> + <2z,z>$$ $$= <x,x> + <z,z> - <2z,x> = <x,x> + <z,z> - 2 <z,x>$$\n",
    "\n",
    "So $D_{\\phi}(x,z) = ||x-z||^2$"
   ]
  },
  {
   "cell_type": "markdown",
   "id": "2f20d3ce-49de-4caa-a1dd-6dd3f8b52490",
   "metadata": {},
   "source": [
    "**Question 7.d** *Assume that $D = S$ (simplex) and $\\phi$ is the negative entropy $\\phi(x) = \\sum_{i=1}^p x_i log(x_i)$, prove that : $$D_{\\phi}(x,z) = \\sum_{i=1}^p x_i log(\\frac{x_i}{z_i})$$\n",
    "What is the name of a such divergence ?*"
   ]
  },
  {
   "cell_type": "markdown",
   "id": "a93e8c5a-ea7b-4592-9942-d1cf02f1909e",
   "metadata": {},
   "source": [
    "$$\\sum_{i=1}^p x_i log(\\frac{x_i}{z_i}) = \\sum_{i=1}^p x_i log(x_i) - \\sum_{i=1}^p x_i log(z_i)$$\n",
    "\n",
    "$$D_{\\phi}(x,z) = \\phi(x) - \\phi(z) - <\\nabla \\phi(z), x-z>$$ $$= \\sum_{i=1}^p x_i log(x_i) - \\sum_{i=1}^p z_i log(z_i) - <log(z) + 1, x> + <log(z) + 1, z>$$ $$= \\sum_{i=1}^p x_i log(x_i) - \\sum_{i=1}^p z_i log(z_i) - \\sum_{i=1}^p log(z_i) x_i - \\sum_{i=1}^p x_i + \\sum_{i=1}^p log(z_i) z_i + \\sum_{i=1}^p z_i$$ $$= \\sum_{i=1}^p x_i log(x_i) - \\sum_{i=1}^p log(z_i) x_i - \\sum_{i=1}^p x_i + \\sum_{i=1}^p z_i$$ $$= \\sum_{i=1}^p x_i log(x_i) - \\sum_{i=1}^p log(z_i) x_i - 1 + 1$$ $$= \\sum_{i=1}^p x_i log(x_i) - \\sum_{i=1}^p log(z_i) x_i$$ $$= \\sum_{i=1}^p x_i log(\\frac{x_i}{z_i})$$\n",
    "\n",
    "So $D_{\\phi}(x,z) = \\sum_{i=1}^p x_i log(\\frac{x_i}{z_i})$\n",
    "\n",
    "This Bregman divergence is called the Kullback-Leibler divergence. This measure is used in information theory and can be seen as a kind of \"distance\" between probability distribution, it represents how far the distribution $P_1$ is from the distribution $P_2$."
   ]
  },
  {
   "cell_type": "markdown",
   "id": "82634519-8c58-435f-ad74-8b6657298214",
   "metadata": {},
   "source": [
    "**Question 8.a** *Write an explicit upgrade when $D = \\mathbb{R}^p$ and $\\phi(x) = ||x||^2$.*"
   ]
  },
  {
   "cell_type": "markdown",
   "id": "943d41f5-a9b5-42b3-9092-4c0d59d459c8",
   "metadata": {},
   "source": [
    "Define $$h(x) = <\\nabla f(x_k), x - x_k> + \\frac{1}{\\gamma_{k}} ||x - x_k||^2$$ $$= <\\nabla f(x_k), x - x_k> + \\frac{1}{\\gamma_{k}} \\sum_{i=1}^p x_i^2 + \\frac{1}{\\gamma_{k}} \\sum_{i=1}^p (x_k)_i^2 - \\frac{2}{\\gamma_{k}} \\sum_{i=1}^p x_i (x_k)_i$$\n",
    "\n",
    "According to what i can understand of the Mirror Descent Algorithm the objective function $h$ corresponds to a tradeoff between following the direction of the gradient (which is the $1^{st}$ term of $h$) and stay close to the current point (which is the $2^{nd}$ term of $h$).\n",
    "\n",
    "The purpose of the algorithm is to find the minimum of $f$ (where gradient of $f$ should be 0). At each iteration, we look at a local curvature fit of $f$ induced by the function $h$ which involve the Bregman divergence. We minimize this local fit function to get the new point and so on and so forth until we reach the minimal point of $f$.\n",
    "\n",
    "We seek for the arg min of $h(x)$ : $$\\frac{\\partial h(x)}{\\partial x_i} = 0 $$\n",
    "\n",
    "When $D = \\mathbb{R}^p$ and $\\phi(x) = ||x||^2$ this is equivalent to :\n",
    "$${\\nabla f(x_k)}_i + \\frac{2}{\\gamma_{k}}x_i - \\frac{2}{\\gamma_{k}} (x_k)_i = 0 $$\n",
    "$$\\iff x_i = (x_k)_i - \\frac{\\gamma_{k}}{2} {\\nabla f(x_k)}_i$$\n",
    "\n",
    "So that, for each iteration of the algorithm we should update the point which becomes : $(x_k) - \\frac{\\gamma_{k}}{2} {\\nabla f(x_k)}$."
   ]
  },
  {
   "cell_type": "code",
   "execution_count": null,
   "id": "b44abcc8-9081-47c1-9413-826b2e9915ac",
   "metadata": {},
   "outputs": [],
   "source": [
    "def gradientApprox(f, x, eps = 10**(-5)):\n",
    "\n",
    "    \"\"\" Here we approximate the derivative of f at each coordinate in the array x.\n",
    "        The function return the array of the value of the different derivatives evaluated \n",
    "        at each value of the array x.\"\"\"\n",
    "\n",
    "    if type(x) != ndarray:\n",
    "        x = array(x)\n",
    "    gradient = zeros(x.shape)\n",
    "\n",
    "    for i in range(x.shape[0]):\n",
    "\n",
    "        vect_eps = zeros(x.shape)\n",
    "        np.put(vect_eps,i,eps)\n",
    "        gradient[i] = ( f(x+vect_eps)-f(x) ) / eps\n",
    "\n",
    "    return gradient \n",
    "\n",
    "def mirror_descent(f, x0, stepsize, tolerance, MaxIter):\n",
    "    \n",
    "    \"\"\" The purpose is to estimate the extrema point of f given a stepsize sequence and an initial point.\n",
    "    \n",
    "        We first initialize the values of the gradient and then enter the mirror descent loop until convergence. \n",
    "        Convergence is defined as the closeness of the value of the gradient of f to 0.\n",
    "        \n",
    "        In the loop we update the estimated point with the minimizer of h introduced above.\n",
    "        \n",
    "        The function returns the estimated extrema point of f.\n",
    "        \"\"\"\n",
    "    \n",
    "    x = x0\n",
    "    g = gradientApprox(f, x)\n",
    "    n = 0\n",
    "    \n",
    "    while norm(g) > tolerance and n < MaxIter:\n",
    "        \n",
    "        x = x - stepsize[n]/2*g\n",
    "        g = gradientApprox(f, x)\n",
    "        n += 1\n",
    "        \n",
    "    if n == MaxIter:\n",
    "        \n",
    "        print(f\"Max number of iterations {MaxIter}\")\n",
    "        \n",
    "    return x"
   ]
  },
  {
   "cell_type": "markdown",
   "id": "bca04a43-fc16-4ae9-ae8e-54542f6cd36e",
   "metadata": {},
   "source": [
    "**Question 8.b** *Prove that when $D = S$ and $\\phi(x) = \\sum_{i=1}^p x_i log(x_i)$ :\n",
    "$$\\forall j \\in \\{1, ..., p\\} x_{k+1, j} = \\frac{x_{k,j} e^{-\\gamma_{k+1} g_{k,j}}}{\\sum_{i=1}^p x_{k,i} e^{-\\gamma_{k+1} g_{k,i}}}$$*"
   ]
  },
  {
   "cell_type": "markdown",
   "id": "0cbc355e-fd1a-464a-b2a6-ecd46becaebe",
   "metadata": {},
   "source": [
    "We have seen that $D_{\\phi}(x, z) = \\sum_{i=1}^p x_i log(\\frac{x_i}{z_i})$\n",
    "\n",
    "Since $x_{k+1}$ is the minimizer of h defined above we have $\\forall j$:\n",
    "\n",
    "$\\frac{\\partial h}{\\partial (x_{k+1})_j}(x_{k+1}) = 0$\n",
    "\n",
    "Then $$(g_k)_j + \\frac{1}{\\gamma_{k+1}} \\frac{\\partial D_{\\phi}}{\\partial (x_{k+1})_j}(x_{k+1}, x_k) = 0$$\n",
    "$$\\iff (g_k)_j + \\frac{1}{\\gamma_{k+1}} (log(x_{k+1})_j - log(x_{k+1})_j + 1)= 0$$\n",
    "$$\\iff \\nabla f(x_k)_j + \\frac{1}{\\gamma_{k+1}} (log(x_{k+1})_j - log(x_{k+1})_j + 1)= 0$$\n",
    "$$\\iff log(x_{k+1})_j = log(x_{k})_j -1 - \\gamma_{k+1} \\nabla f(x_k)_j$$\n",
    "$$\\iff (x_{k+1})_j = (x_{k})_j e^{-1 - \\gamma_{k+1} \\nabla f(x_k)_j}$$\n",
    "\n",
    "Then we need $ x_{k+1} \\in S$ so we normalize each coordinate and get :\n",
    "$$(\\tilde{x}_{k+1})_j = \\frac{(x_{k})_j e^{-1 - \\gamma_{k+1} \\nabla f(x_k)_j}}{\\sum_{i=1}^p (x_{k})_i e^{-1 - \\gamma_{k+1} \\nabla f(x_k)_i}}$$\n",
    "$$\\iff (\\tilde{x}_{k+1})_j = \\frac{(x_{k})_j e^{-1 - \\gamma_{k+1} (g_k)_j}}{\\sum_{i=1}^p (x_{k})_i e^{-1 - \\gamma_{k+1} (g_k)_i}}$$\n",
    "\n",
    "Hence, $\\tilde{x}_{k+1} \\in S$."
   ]
  },
  {
   "cell_type": "markdown",
   "id": "876e6378-39fb-42f4-be20-3cd947acd7fc",
   "metadata": {},
   "source": [
    "**Question 8.c** *Using the definition of the algorithm and the three points\n",
    "lemma, prove that for any $x \\in D$, we have :\n",
    "$$\\gamma_{k+1} <g_k, x_{k+1} - x_k> \\leq D_{\\phi}(x,x_k) - D_{\\phi}(x,x_{k+1}) - D_{\\phi}(x_{k+1},x_k)$$*"
   ]
  },
  {
   "cell_type": "markdown",
   "id": "4415206a-92d8-475a-bf04-8ee6fc0d6d41",
   "metadata": {},
   "source": [
    "$$D_{\\phi}(x_{k+1},x_k) = \\phi(x_{k+1}) - \\phi(x_k) - <\\nabla \\phi(x_k), x_{k+1}-x_k> = \\phi(x_{k+1}) - \\phi(x_k) - <\\nabla \\phi(x_k), x_{k+1}> + <\\nabla \\phi(x_k), x_{k}>$$\n",
    "\n",
    "$x_{k+1}$ is the minimizer of $h(x)$ so that $$\\frac{\\partial h}{\\partial x}(x_{k+1}) = 0 \\iff g_k + \\frac{1}{\\gamma_{k+1}} \\frac{\\partial D_{\\phi}}{\\partial x}(x_{k+1}, x_k) = 0 \\iff g_k + \\frac{1}{\\gamma_{k+1}} (\\nabla \\phi(x_{k+1}) - \\nabla \\phi(x_{k})) = 0 \\iff (\\nabla \\phi(x_{k}) - \\nabla \\phi(x_{k+1})) = \\gamma_{k+1} g_k$$\n",
    "\n",
    "We apply the three points lemma :\n",
    "$$D_{\\phi}(x,x_k) = D_{\\phi}(x,x_{k+1}) + D_{\\phi}(x_{k+1},x_k) - <\\nabla \\phi(x_k) - \\nabla \\phi(x_{k+1}), x - x_{k+1}>$$\n",
    "\n",
    "$$\\iff D_{\\phi}(x,x_k) = D_{\\phi}(x,x_{k+1}) + D_{\\phi}(x_{k+1},x_k) - <\\gamma_{k+1} g_k, x - x_{k+1}>$$\n",
    "\n",
    "$$\\iff D_{\\phi}(x,x_k) - D_{\\phi}(x,x_{k+1}) - D_{\\phi}(x_{k+1},x_k) = -  \\gamma_{k+1}<g_k, x - x_{k+1}>$$\n",
    "\n",
    "$$\\iff D_{\\phi}(x,x_k) - D_{\\phi}(x,x_{k+1}) - D_{\\phi}(x_{k+1},x_k) = \\gamma_{k+1}<g_k, x_{k+1} - x>$$"
   ]
  },
  {
   "cell_type": "markdown",
   "id": "865f88a2-cf23-47b7-a6a9-301ecdc99bda",
   "metadata": {},
   "source": [
    "**Question 8.d** *Show that\n",
    "$$\\gamma_{k+1} <g_k, x_{k+1} - x_k> \\leq \\frac{\\gamma_{k+1}^2 ||g_{k+1}||^2}{2 \\rho} + \\frac{\\rho}{2} ||x_{k+1} - x_k||^2$$*"
   ]
  },
  {
   "cell_type": "markdown",
   "id": "fb023479-7f85-4d22-ae23-c50c3ac1f49a",
   "metadata": {},
   "source": [
    "Using Cauchy Schwartz inequality we know that :\n",
    "$$\\gamma_{k+1} <g_k, x_{k+1} - x_k> - \\frac{\\rho}{2} ||x_{k+1} - x_k||^2 \\leq \\gamma_{k+1} ||g_k|| ||x_{k+1} - x_k|| - \\frac{\\rho}{2} ||x_{k+1} - x_k||^2$$\n",
    "\n",
    "We seek for the maximum of $h(x) = \\gamma_{k+1} ||g_k|| x - \\frac{\\rho}{2} x^2$ :\n",
    "\n",
    "$\\frac{\\partial h}{\\partial x}(x) = \\gamma_{k+1} ||g_k|| - \\rho x$\n",
    "\n",
    "$\\frac{\\partial h}{\\partial x}(x) = 0 \\iff \\frac{\\gamma_{k+1} ||g_k||}{\\rho} = x$\n",
    "\n",
    "Therefore $$\\gamma_{k+1} <g_k, x_{k+1} - x_k> - \\frac{\\rho}{2} ||x_{k+1} - x_k||^2 \\leq \\gamma_{k+1} ||g_k|| \\frac{\\gamma_{k+1} ||g_k||}{\\rho} - \\frac{\\rho}{2} (\\frac{\\gamma_{k+1} ||g_k||}{\\rho})^2$$\n",
    "\n",
    "$$\\iff \\gamma_{k+1} <g_k, x_{k+1} - x_k> - \\frac{\\rho}{2} ||x_{k+1} - x_k||^2 \\leq \\frac{\\gamma_{k+1}^2 ||g_k||^2}{\\rho} - \\frac{\\gamma_{k+1}^2 ||g_k||^2}{2 \\rho}$$\n",
    "\n",
    "$$\\iff \\gamma_{k+1} <g_k, x_{k+1} - x_k> \\leq \\frac{\\gamma_{k+1}^2 ||g_k||^2}{2 \\rho} + \\frac{\\rho}{2} ||x_{k+1} - x_k||^2$$"
   ]
  },
  {
   "cell_type": "markdown",
   "id": "c07632be-0841-4e4a-a62d-c819e3758f10",
   "metadata": {},
   "source": [
    "**Question 8.e** *Assume $|\\nabla f| \\leq M$ over $D$, using the convexity\n",
    "of f and a telescopic sum argument, prove that if we define $\\bar{x}_N$ as in **Question 6.b**, then :*\n",
    "$$f(\\bar{x}_N) - f(x^⋆) \\leq \\frac{\\underset{x \\in D}{sup} D_{\\phi}(x, x_0) + \\frac{M^2}{2 \\rho} \\sum_{k=0}^N \\gamma_{k+1}^2}{\\sum_{k=0}^N \\gamma_{k+1}}$$"
   ]
  },
  {
   "cell_type": "markdown",
   "id": "4251a39d-e5e0-4e2c-897f-cef6b186880f",
   "metadata": {},
   "source": [
    "We study $f(x_k) - f(x^⋆)$ :\n",
    "\n",
    "By convexity of $f$ :\n",
    "$$f(x_k) - f(x^⋆) \\leq <\\nabla f(x_k), x_k - x_k - x^⋆>$$\n",
    "\n",
    "since $\\nabla f(x_k) = \\frac{1}{\\gamma_{k+1}} (\\nabla \\phi(x_k) - \\nabla \\phi(x_{k+1}))$ :\n",
    "$$f(x_k) - f(x^⋆) \\leq \\frac{1}{\\gamma_{k+1}} <\\nabla \\phi(x_k) - \\nabla \\phi(x_{k+1}), x_k - x_k - x^⋆>$$\n",
    "\n",
    "by the 3 points lemma :\n",
    "$$f(x_k) - f(x^⋆) \\leq \\frac{1}{\\gamma_{k+1}} (D_{\\phi}(x^⋆, x_k) + D_{\\phi}(x_k, x_{k+1}) - D_{\\phi}(x^⋆, x_{k+1}))$$\n",
    "\n",
    "Look at  $\\frac{1}{\\gamma_{k+1}} D_{\\phi}(x_k, x_{k+1})$ :\n",
    "$$\\frac{1}{\\gamma_{k+1}} D_{\\phi}(x_k, x_{k+1}) = \\frac{1}{\\gamma_{k+1}} (\\phi(x_k) - \\phi(x_{k+1}) - <\\nabla \\phi(x_{k+1}), x_k - x_{k+1}>)$$\n",
    "\n",
    "by strong convexity of $\\phi$ :\n",
    "$$\\frac{1}{\\gamma_{k+1}} (\\phi(x_k) - \\phi(x_{k+1})) - \\frac{1}{\\gamma_{k+1}} <\\nabla \\phi(x_{k+1}, x_k - x_{k+1}>)$$ $$\\leq  \\frac{1}{\\gamma_{k+1}} (<x_k - x_{k+1}, \\nabla \\phi(x_{k}> - \\frac{\\rho}{2} ||x_k - x_{k+1}||^2) - \\frac{1}{\\gamma_{k+1}} <\\nabla \\phi(x_{k+1}), x_k - x_{k+1}>)$$ $$= \\frac{1}{\\gamma_{k+1}} <\\nabla \\phi(x_k) - \\nabla \\phi(x_{k+1}), x_k - x_{k+1}> - \\frac{\\rho}{2 \\gamma_{k+1}} ||x_k - x_{k+1}||^2$$ $$= <\\nabla f(x_k), x_k - x_{k+1}> - \\frac{\\rho}{2 \\gamma_{k+1}} ||x_k - x_{k+1}||^2$$\n",
    "\n",
    "by **Question 8.d** :\n",
    "$$<\\nabla f(x_k), x_k - x_{k+1}> \\leq \\frac{\\gamma_{k+1} ||g_{k+1}||^2}{2 \\rho} + \\frac{\\rho}{2 \\gamma_{k+1}} ||x_{k+1} - x_k||^2$$\n",
    "\n",
    "So that :\n",
    "$$\\frac{1}{\\gamma_{k+1}} D_{\\phi}(x_k, x_{k+1}) \\leq \\frac{\\gamma_{k+1} ||g_{k}||^2}{2 \\rho} + \\frac{\\rho}{2 \\gamma_{k+1}} ||x_{k+1} - x_k||^2 - \\frac{\\rho}{2 \\gamma_{k+1}} ||x_k - x_{k+1}||^2$$\n",
    "$$\\iff \\frac{1}{\\gamma_{k+1}} D_{\\phi}(x_k, x_{k+1}) \\leq \\frac{\\gamma_{k+1} M^2}{2 \\rho}$$\n",
    "\n",
    "We come back there :\n",
    "$$f(x_k) - f(x^⋆) \\leq \\frac{1}{\\gamma_{k+1}} (D_{\\phi}(x^⋆, x_k) + D_{\\phi}(x_k, x_{k+1}) - D_{\\phi}(x^⋆, x_{k+1}))$$\n",
    "$$\\iff f(x_k) - f(x^⋆) \\leq \\frac{1}{\\gamma_{k+1}} (D_{\\phi}(x^⋆, x_k) - D_{\\phi}(x^⋆, x_{k+1})) + \\frac{\\gamma_{k+1} M^2}{2 \\rho}$$\n",
    "$$\\iff  \\gamma_{k+1} (f(x_k) - f(x^⋆)) \\leq (D_{\\phi}(x^⋆, x_k) - D_{\\phi}(x^⋆, x_{k+1})) + \\frac{\\gamma_{k+1}^2 M^2}{2 \\rho}$$\n",
    "\n",
    "Then we use a telescopic sum argument :\n",
    "$$\\sum_{k=1}^N\\gamma_{k+1} (f(x_k) - f(x^⋆)) \\leq \\sum_{k=1}^N (D_{\\phi}(x^⋆, x_k) - D_{\\phi}(x^⋆, x_{k+1})) + \\sum_{k=1}^N \\frac{\\gamma_{k+1}^2 M^2}{2 \\rho}$$\n",
    "\n",
    "$$\\sum_{k=1}^N\\gamma_{k+1} (f(x_k) - f(x^⋆)) \\leq D_{\\phi}(x^⋆, x_1) - D_{\\phi}(x^⋆, x_{N+1}) + \\sum_{k=1}^N \\frac{\\gamma_{k+1}^2 M^2}{2 \\rho}$$\n",
    "\n",
    "Because $D_{\\phi}$ is positive :\n",
    "\n",
    "$$\\sum_{k=1}^N\\gamma_{k+1} (f(x_k) - f(x^⋆)) \\leq \\underset{x \\in D}{sup} D_{\\phi}(x, x_1) +  \\frac{M^2}{2 \\rho}\\sum_{k=1}^N \\gamma_{k+1}^2$$\n",
    "\n",
    "$$\\frac{\\sum_{k=1}^N\\gamma_{k+1} (f(x_k) - f(x^⋆))}{\\sum_{k=1}^N\\gamma_{k+1}} \\leq \\frac{\\underset{x \\in D}{sup} D_{\\phi}(x, x_1) +  \\frac{M^2}{2 \\rho}\\sum_{k=1}^N \\gamma_{k+1}^2}{\\sum_{k=1}^N\\gamma_{k+1}}$$\n",
    "\n",
    "Now we need to introduce $\\bar{x}_N = \\sum_{k=1}^N (\\frac{\\gamma_{k+1}}{\\sum_{j=1}^k \\gamma_{j+1}}x_k)$.\n",
    "\n",
    "The last thing to show is :\n",
    "$$f(\\bar{x}_N) - f(x^⋆) \\leq \\frac{\\sum_{k=1}^N\\gamma_{k+1} (f(x_k) - f(x^⋆))}{\\sum_{k=1}^N\\gamma_{k+1}}$$\n",
    "\n",
    "$$\\iff f(\\bar{x}_N) - f(x^⋆) \\leq \\sum_{k=1}^N \\frac{\\gamma_{k+1}}{\\sum_{j=1}^N\\gamma_{j+1}} (f(x_k) - f(x^⋆))$$\n",
    "\n",
    "We have :\n",
    "$$\\sum_{k=1}^N \\frac{\\gamma_{k+1}}{\\sum_{j=1}^N \\gamma_{j+1}} \\leq \\sum_{k=1}^N \\frac{\\gamma_{k+1}}{\\sum_{j=1}^k \\gamma_{j+1}} \\iff 1 \\leq \\sum_{k=1}^N \\frac{\\gamma_{k+1}}{\\sum_{j=1}^k \\gamma_{j+1}}$$\n",
    "\n",
    "$$\\iff f(\\bar{x}_N) - f(x^⋆) \\leq \\sum_{k=1}^N \\frac{\\gamma_{k+1}}{\\sum_{j=1}^k\\gamma_{j+1}} (f(x_k) - f(x^⋆))$$\n",
    "\n",
    "$$\\iff f(\\bar{x}_N) - f(x^⋆) \\leq \\sum_{k=1}^N \\frac{\\gamma_{k+1}}{\\sum_{j=1}^k\\gamma_{j+1}} f(x_k) - \\sum_{k=1}^N \\frac{\\gamma_{k+1}}{\\sum_{j=1}^k\\gamma_{j+1}} f(x^⋆) \\leq \\sum_{k=1}^N \\frac{\\gamma_{k+1}}{\\sum_{j=1}^k\\gamma_{j+1}} f(x_k) - f(x^⋆)$$\n",
    "\n",
    "But this is true because $f$ is convex so that $\\forall x \\in D$ $$f(\\sum_{k=1}^N \\frac{\\gamma_{k+1}}{\\sum_{j=1}^k \\gamma_{j+1}}x) \\leq \\sum_{k=1}^N \\frac{\\gamma_{k+1}}{\\sum_{j=1}^k \\gamma_{j+1}} f(x)$$\n",
    "\n",
    "Then, we conclude that $$f(\\bar{x}_N) - f(x^⋆) \\leq \\frac{\\underset{x \\in D}{sup} D_{\\phi}(x, x_1) +  \\frac{M^2}{2 \\rho}\\sum_{k=1}^N \\gamma_{k+1}^2}{\\sum_{k=1}^N\\gamma_{k+1}}$$"
   ]
  },
  {
   "cell_type": "markdown",
   "id": "9a69e971-76a2-41e1-ba6b-741739f583fd",
   "metadata": {},
   "source": [
    "**Question 9** *Present the Markowitz portfolio problem.*"
   ]
  },
  {
   "cell_type": "markdown",
   "id": "aba8c105-3b15-4d26-8480-85e020e13be9",
   "metadata": {},
   "source": [
    "Let's consider 2 periods. An investor with fixed initial fortune $V_0$ wants to  buy some assets represented by random variables in time 0. The investor choses a combination of assets $A_0, A_1, ..., A_d$ which returns are $R_0, R_1, ..., R_d$.\n",
    "\n",
    "Without loss of generality we assume that $A_0$ is a risk free asset for simplicity (then the expected return of  $A_0$ has no variance since it is a fixed amount of money).\n",
    "\n",
    "The return of the portfolio in time 1 would be : $\\frac{V_1 - V_0}{V_0} = \\frac{\\alpha_0 A_0 (R_0 + 1) + \\alpha_1 A_1 (R_1 + 1) + ... + \\alpha_d A_d (R_d + 1) - \\alpha_0 A_0 + \\alpha_1 A_1 + ... + \\alpha_d A_d}{\\alpha_0 A_0 + \\alpha_1 A_1 + ... + \\alpha_d A_d}$\n",
    "\n",
    "The problem is that with risky asset we cannot know the exact return of the portfolio in the future. Thus we only look at the expectation.\n",
    "\n",
    "The Markowitz optimal portfolio is the one which minimizes the volatility given a fixed return expectation path."
   ]
  },
  {
   "cell_type": "code",
   "execution_count": 3,
   "id": "d3410238-1df9-4418-bfdf-034d89f5d3b0",
   "metadata": {},
   "outputs": [
    {
     "data": {
      "image/jpeg": "[encoded data removed]",
      "text/plain": [
       "<IPython.core.display.Image object>"
      ]
     },
     "execution_count": 3,
     "metadata": {},
     "output_type": "execute_result"
    }
   ],
   "source": [
    "from IPython.display import Image\n",
    "Image(\"Markowitz.jpg\")"
   ]
  },
  {
   "cell_type": "markdown",
   "id": "784bd788-ef03-4104-8fbb-37e38c962f7c",
   "metadata": {},
   "source": [
    "The theory allows to draw an \"efficient frontier\" of the optimal portfolios drew in bold and red on the graph above. We can see that, for a given $R_0$ (the return of the risk free asset $A_0$) which is defined as $r_f$ on the graph, there exists only one optimal Markowitz portfolio which minimizes the variance for the given curve representing the expected return as a function of the variance.\n",
    "\n",
    "This optimal portfolio is the one at the intersection between the path of expected returns and the efficient frontier.\n",
    "\n",
    "It is this portfolio the investor should be interested in."
   ]
  },
  {
   "cell_type": "markdown",
   "id": "22ac593a-897f-4c18-9836-a5b6da6aed7c",
   "metadata": {},
   "source": [
    "**Question 10** *Compare the mirror descent and the projected gradient descent\n",
    "over the simplex from a numerical point of view with a large number p of\n",
    "assets in a porfolio with the Markowitz model with correlated and uncorrelated\n",
    "framework.*"
   ]
  },
  {
   "cell_type": "markdown",
   "id": "913e0887-b697-4591-899f-4e52ae1b3bf8",
   "metadata": {},
   "source": [
    "# NEED ANSWER"
   ]
  },
  {
   "cell_type": "markdown",
   "id": "262c89c0-18a3-4866-82c5-08c5d5306278",
   "metadata": {},
   "source": [
    "**Question 11** *Would it be possible to handle the mirror descent with a stochastic optimzation algorithm ? If yes, try it on the Markowitz model !*"
   ]
  },
  {
   "cell_type": "markdown",
   "id": "15734f13-2a74-4207-b168-99468b5c6820",
   "metadata": {},
   "source": [
    "If this is the question, then the answer should be yes !\n",
    "\n",
    "Intuitively the purpose is to minimize the efficient frontier function minus the expected returns path. This function to minimize is convex as we can see with the graph so that nothing prevent us to apply a mirror descent to find the minimum."
   ]
  },
  {
   "cell_type": "markdown",
   "id": "2e052005-b84f-4aa9-b56c-30011316193b",
   "metadata": {},
   "source": []
  }
 ],
 "metadata": {
  "kernelspec": {
   "display_name": "Python 3",
   "language": "python",
   "name": "python3"
  },
  "language_info": {
   "codemirror_mode": {
    "name": "ipython",
    "version": 3
   },
   "file_extension": ".py",
   "mimetype": "text/x-python",
   "name": "python",
   "nbconvert_exporter": "python",
   "pygments_lexer": "ipython3",
   "version": "3.9.5"
  }
 },
 "nbformat": 4,
 "nbformat_minor": 5
}
