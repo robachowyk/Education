{
 "cells": [
  {
   "cell_type": "code",
   "execution_count": 1,
   "metadata": {},
   "outputs": [
    {
     "name": "stdout",
     "output_type": "stream",
     "text": [
      "Populating the interactive namespace from numpy and matplotlib\n"
     ]
    }
   ],
   "source": [
    "%pylab inline\n",
    "figsize(10,10)\n",
    "\n",
    "from random import *\n",
    "import scipy.io\n",
    "from sklearn.linear_model import Lasso, LassoCV, lasso_path, Ridge\n",
    "from sklearn import datasets"
   ]
  },
  {
   "cell_type": "markdown",
   "metadata": {
    "id": "HDqnPak_yOQG"
   },
   "source": [
    "**1** Hight dimensional regression\n",
    "**1.1** Lasso"
   ]
  },
  {
   "cell_type": "markdown",
   "metadata": {
    "id": "W0ay1R4SyYjM"
   },
   "source": [
    "**Create a sample** of size $n=100$ of points $(X_i,Y_i)$ with $X_i\\in\\mathbb R^p$ and $Y_i\\in\\mathbb R$, and satisfying\n",
    "$$Y_i=\\langle \\theta, X_i\\rangle+\\epsilon_i=\\sum_k\\theta_kX_i^k+\\epsilon_i$$\n",
    "with $\\theta\\in\\mathbb R^p$ sparse, containing only $s=10$ nonzero entries $\\theta_k\\neq 0$, and some noise $\\epsilon_i$ distributed according to the normal law $\\mathcal N(0,1)$, $i=1,\\dots,n$.\n"
   ]
  },
  {
   "cell_type": "code",
   "execution_count": 2,
   "metadata": {
    "id": "so0KJxgkzcfJ"
   },
   "outputs": [],
   "source": [
    "n = 100\n",
    "p = 30\n",
    "s = 10\n",
    "\n",
    "THETA = zeros(p)\n",
    "nonzeros = 0\n",
    "\n",
    "while nonzeros < s :\n",
    "    \n",
    "    position = randint(0,p-1)\n",
    "    \n",
    "    if THETA[position] == 0 :\n",
    "        \n",
    "        nonzeros += 1\n",
    "        THETA[position] = random()\n",
    "\n",
    "X = array([normal(0,5,p) for i in range(n)])\n",
    "\n",
    "epsilon = normal(0,1,n)\n",
    "\n",
    "Y = X.dot(THETA) + epsilon"
   ]
  },
  {
   "cell_type": "markdown",
   "metadata": {
    "id": "zG-id_f46TOS"
   },
   "source": [
    "We are interested in using the Lasso, with the minimization of\n",
    "$$f_\\lambda(\\theta)=\\frac{1}{2 n}\\|Y-\\langle X,\\theta\\rangle\\|^2_2+\\lambda\\|\\theta\\|_1=\\frac{1}{2 n}\\sum_{i=1}^n\\left(Y_i-\\sum_{k=1}^pX_i^k\\theta_k\\right)^2+\\lambda\\sum_{i=1}^p|\\theta_i|$$~\n",
    "where $\\lambda$ is a positive parameter.\n",
    "\n",
    "**Write down the main step of minimization algorithm of $f_\\lambda$.** (See Proposition 2.3.3.)"
   ]
  },
  {
   "cell_type": "markdown",
   "metadata": {
    "id": "JTGux02I7byI"
   },
   "source": [
    "Our function of interest $f_\\lambda(\\theta)$ is not differentiable, so that we cannot minimize it using the gradient descent. \n",
    "\n",
    "Nonetheless we can decompose $f_\\lambda(\\theta)$ as a sum of a smooth and convex function : $f(\\theta)$ and a continuous but non smooth function (involving norm 1).\n",
    "\n",
    "$$f_\\lambda(\\theta) = \\tilde{f}(\\theta) + \\lambda\\|\\theta\\|_1$$\n",
    "\n",
    "Then, for each coordinate of $\\theta$ we define a sequence of surrogates and we build a sequence of the minimizers of each surrogates. This allows us to find the minimizer of our function. Indeed, the sequence of minimizers of the surrogates should converge toward the minimum of our function of interest.\n",
    "\n",
    "The sequence of minimizers $(\\theta_k)_k$ is build in such a way that to compute each value $(\\theta_k)$ we have to solve a multidimensional problem. Indeed we need to find the minimizer $\\theta$ in $\\mathbb{R}^p$ of a sum of terms. But is suffices to solve the minimizer for each term of the sum to get each coordinate of the $\\theta$ we are looking for, and then build the $\\theta$.\n",
    "\n",
    "$$f(\\theta) =\\|Y-\\langle X,\\theta\\rangle\\|^2_2 = \\sum_{i=1}^n\\left(Y_i-\\sum_{k=1}^pX_i^k\\theta_k\\right)^2 = \\sum_{i=1}^n Y_i + \\sum_{i=1}^n \\sum_{k=1}^p (X_i^k)^2(\\theta_k)^2 + 2 \\sum_{i=1}^n \\sum_{l<k} X_i^l \\theta_l X_i^k \\theta_k - 2 Y_i \\sum_{k=1}^p X_i^k \\theta_k$$\n",
    "\n",
    "$$\\frac{\\partial f(\\theta)}{\\partial \\theta_q} = 2 \\theta_q \\sum_{i=1}^n (X_i^q)^2 + 2 \\sum_{i=1}^n \\sum_{k \\neq q} X_i^q X_i^k \\theta_k - 2 Y_i X_i^q$$\n",
    "\n",
    "$$\\frac{\\partial f(\\theta)^2}{\\partial \\theta_q \\theta_r} = 2 \\sum_{i=1}^n X_i^q X_i^r$$\n",
    "\n",
    "$$\\frac{\\partial f(\\theta)^2}{\\partial \\theta_q^2} = 2 \\sum_{i=1}^n (X_i^q)^2$$\n",
    "\n",
    "So $Hess_f = D^2f = 2 X^t X$, then L = $||Hess_f||_{frob} = \\sqrt{\\sum_{i=1}^n \\sum_{j=1}^n {Hess_f}_{i,j} }$\n",
    "\n",
    "Objective function is $f_\\lambda(\\theta)=\\frac{1}{2 n}\\|Y-\\langle X,\\theta\\rangle\\|^2_2+\\lambda\\|\\theta\\|_1$ but coordinate descent minimizes $f_\\lambda(\\theta)=\\|Y-\\langle X,\\theta\\rangle\\|^2_2+\\lambda\\|\\theta\\|_1$ then we just need to sets $\\lambda = 2 n \\lambda$"
   ]
  },
  {
   "cell_type": "markdown",
   "metadata": {
    "id": "rrdJET387joS"
   },
   "source": [
    "**Program the Iterative Soft Thresholding Algorithm.**"
   ]
  },
  {
   "cell_type": "code",
   "execution_count": 3,
   "metadata": {
    "id": "KLDh4Y9O2TRH"
   },
   "outputs": [],
   "source": [
    "def gradientApprox(f, x, eps = 10**(-5)):\n",
    "\n",
    "    \"\"\" Here we approximate the derivative of f at each coordinate in the array x.\n",
    "        The function return the array of the value of the different derivatives evaluated \n",
    "        at each value of the array x.\"\"\"\n",
    "\n",
    "    if type(x) != ndarray:\n",
    "        x = array(x)\n",
    "    gradient = zeros(x.shape)\n",
    "\n",
    "    for i in range(x.shape[0]):\n",
    "\n",
    "        vect_eps = zeros(x.shape)\n",
    "        np.put(vect_eps,i,eps)\n",
    "        gradient[i] = ( f(x+vect_eps)-f(x) ) / eps\n",
    "\n",
    "    return gradient \n",
    "\n",
    "def methodNormeGrad(f, X0, alpha, tol, N=2000):\n",
    "    \n",
    "    \"\"\" The purpose is to estimate the extrema point X of the function f.\n",
    "    \n",
    "        1rst we initialize the gradient for the initial values in array X0,\n",
    "        and we initialize the value of the estimated extrema point X with initial values X0.\n",
    "        \n",
    "        2nd we enter a loop until the gradients converges in norm to 0 \n",
    "        (or until the max number of iterations is reached).\n",
    "        \n",
    "        In this loop, we update the estimated point by substracting a deviation from the previous gradient\n",
    "        making the gradient smaller.\n",
    "        Then we update the gradient and each time we save its norm in the array lnormg so that we are \n",
    "        able in the end to see the convergence of the norm to 0. \n",
    "        \n",
    "        The function return the estimated extrema point, the array of norms \n",
    "        and the sequence of successive result until convergence. \"\"\"\n",
    "    \n",
    "    lX=[X0]\n",
    "    X = X0\n",
    "    g = gradientApprox(f,X0)\n",
    "    lnormeg = [norm(g)]\n",
    "    \n",
    "    n=0\n",
    "    \n",
    "    while norm(g) > tol and n < N:\n",
    "        \n",
    "        X = X - alpha*g\n",
    "        g = gradientApprox(f,X)\n",
    "        lnormeg.append(norm(g))\n",
    "        lX.append(X)\n",
    "        n += 1\n",
    "        \n",
    "    if n==N:\n",
    "        \n",
    "        print(f\"Max number of iterations {N}\")\n",
    "        \n",
    "    return X, array(lnormeg), array(lX)\n",
    "\n",
    "def soft_thresholding_op(x, lbda, L):\n",
    "    \n",
    "    return sign(x)*maximum(0, abs(x) - lbda/L)\n",
    "\n",
    "def ISTA(f, x0, lbda, L, tolerance = 10**(-5), N = 1000):\n",
    "    \n",
    "    \"\"\" We do a gradient descent on f in order to get Xk the argmin vector we want to build.\n",
    "        To do so, we build each coordinate of the vector using the soft thresholding operator (given in prop. 2.3.3).\n",
    "        The soft thresholding operator is applied on Xk_tilde obtainded by the gradient descent algorithm. \"\"\"\n",
    "    \n",
    "    xk = x0.copy()\n",
    "    xk_tilde = x0.copy()\n",
    "    \n",
    "    grad = gradientApprox(f, x0)\n",
    "    \n",
    "    diff = [100]\n",
    "    \n",
    "    n = 0\n",
    "    \n",
    "    while diff[-1] > tolerance and n < N :\n",
    "        \n",
    "        xk_ = xk\n",
    "        \n",
    "        xk_tilde = xk - grad/L\n",
    "        xk = soft_thresholding_op(xk_tilde, lbda, L)\n",
    "\n",
    "        grad = gradientApprox(f, xk)\n",
    "        \n",
    "        diff.append(norm(xk_ - xk))\n",
    "        \n",
    "        n += 1\n",
    "        \n",
    "    if n == N :\n",
    "        print(f\"Max number of iterations {N}\")\n",
    "    \n",
    "    return xk, diff\n",
    "\n",
    "def smooth_convex_f(x, features = X, labels = Y):\n",
    "    \n",
    "    s = 0\n",
    "    for l in range(features.shape[0]):\n",
    "        scalar_features_x = 0\n",
    "        for k in range(features.shape[1]):\n",
    "            scalar_features_x += features[l,k]*x[k]\n",
    "        s += (labels[l] - scalar_features_x)**2\n",
    "        \n",
    "    return s"
   ]
  },
  {
   "cell_type": "markdown",
   "metadata": {
    "id": "AFBb5u1l8PfY"
   },
   "source": [
    "**Test your implementation of ISTA to find $\\theta$ from $X$ and $Y$ above.**"
   ]
  },
  {
   "cell_type": "markdown",
   "metadata": {},
   "source": [
    "**Compare your result with the *sklearn.linear_model* package.** Help yourself with the resources you find on the web. Note that the parameter `alpha` taken by `Lasso` is equal to $\\lambda$ in our notation."
   ]
  },
  {
   "cell_type": "code",
   "execution_count": 4,
   "metadata": {
    "id": "eeSwzaCs8ZUT"
   },
   "outputs": [
    {
     "data": {
      "text/plain": [
       "[<matplotlib.lines.Line2D at 0x22e821b7ef0>]"
      ]
     },
     "execution_count": 4,
     "metadata": {},
     "output_type": "execute_result"
    },
    {
     "data": {
      "image/png": "[encoded data removed]",
      "text/plain": [
       "<Figure size 720x720 with 1 Axes>"
      ]
     },
     "metadata": {
      "needs_background": "light"
     },
     "output_type": "display_data"
    }
   ],
   "source": [
    "# With 1st theta = null vector\n",
    "\n",
    "Lips_cst = linalg.norm(2*np.dot(X.T,X))\n",
    "penalty_term_lbda = 2.*X.shape[0]*2\n",
    "\n",
    "result, successive_norms_grad = ISTA(smooth_convex_f, zeros(p), penalty_term_lbda, Lips_cst)\n",
    "\n",
    "plot(successive_norms_grad)"
   ]
  },
  {
   "cell_type": "code",
   "execution_count": 5,
   "metadata": {},
   "outputs": [
    {
     "name": "stdout",
     "output_type": "stream",
     "text": [
      "The theta we are trying to recover \n",
      "[0.24931202 0.         0.88730906 0.31643074 0.         0.\n",
      " 0.92933529 0.         0.         0.         0.85173348 0.\n",
      " 0.03552247 0.         0.         0.         0.2482205  0.9006299\n",
      " 0.82400411 0.         0.         0.         0.         0.\n",
      " 0.04742571 0.         0.         0.         0.         0.        ]\n",
      "\n",
      "Result from ISTA program \n",
      "[ 0.19317873  0.          0.81862155  0.22346864 -0.         -0.\n",
      "  0.835422    0.         -0.         -0.          0.75610201 -0.\n",
      "  0.          0.         -0.         -0.          0.16097486  0.78144706\n",
      "  0.7559985  -0.         -0.          0.         -0.         -0.\n",
      "  0.         -0.          0.          0.         -0.         -0.        ]\n",
      "\n",
      "Result from LASSO program (sklearn) \n",
      "[ 0.19415586  0.          0.81824069  0.2215504  -0.         -0.\n",
      "  0.8342829   0.         -0.         -0.          0.75415699 -0.\n",
      "  0.          0.         -0.         -0.          0.16178154  0.78238155\n",
      "  0.75729232 -0.         -0.          0.         -0.         -0.\n",
      "  0.         -0.          0.          0.         -0.         -0.        ]\n",
      "\n"
     ]
    }
   ],
   "source": [
    "print(f\"The theta we are trying to recover \\n{THETA}\\n\")\n",
    "\n",
    "print(f\"Result from ISTA program \\n{result}\\n\")\n",
    "\n",
    "lasso = Lasso(alpha = 2.)\n",
    "lasso_fit = lasso.fit(X,Y)\n",
    "\n",
    "print(f\"Result from LASSO program (sklearn) \\n{lasso_fit.coef_ - zeros(p)}\\n\")"
   ]
  },
  {
   "cell_type": "markdown",
   "metadata": {
    "id": "Ikw_dK0b8bWf"
   },
   "source": [
    "The results are similar but the ISTA program does not really converges since the norms of gradient at the end are still quite high. The convergence seems to depend on the initial point chosen.\n",
    "\n",
    "Nonetheless the result from the ISTA are closed to the one from the LASSO of sklearn. The LASSO from sklearn use a particularly complexe criterion of convergence which is not implemented here. This could explain the eventual differences between both methods."
   ]
  },
  {
   "cell_type": "markdown",
   "metadata": {
    "id": "jSu8z1bG9C1c"
   },
   "source": [
    "**1.2** Application to a real database"
   ]
  },
  {
   "cell_type": "markdown",
   "metadata": {
    "id": "A0_zoFns9JWS"
   },
   "source": [
    "**Use a real database from *scikit-learn* and test your program and the package *sklearn.linear_model*.**\n",
    "\n",
    "Note that the parameter `alpha` taken by `Lasso` is equal to $\\lambda$ in our notation."
   ]
  },
  {
   "cell_type": "code",
   "execution_count": 6,
   "metadata": {},
   "outputs": [
    {
     "data": {
      "text/plain": [
       "array([0.        , 0.        , 0.24514151, 0.        ])"
      ]
     },
     "execution_count": 6,
     "metadata": {},
     "output_type": "execute_result"
    }
   ],
   "source": [
    "IRIS = datasets.load_iris()\n",
    "\n",
    "def f(x, features = IRIS.data, labels = IRIS.target):\n",
    "    \n",
    "    s = 0\n",
    "    for l in range(features.shape[0]):\n",
    "        scalar_features_x = 0\n",
    "        for k in range(features.shape[1]):\n",
    "            scalar_features_x += features[l,k]*x[k]\n",
    "        s += (labels[l] - scalar_features_x)**2\n",
    "        \n",
    "    return s\n",
    "\n",
    "lasso = Lasso(alpha=0.9)\n",
    "u = lasso.fit(IRIS.data,IRIS.target)\n",
    "\n",
    "Lips_cst = linalg.norm(2*np.dot(IRIS.data.T,IRIS.data))\n",
    "penalty_term_lbda = 0.9*IRIS.data.shape[0]*2\n",
    "\n",
    "iris_result, successive_norms_grad = ISTA(f, zeros(IRIS.data.shape[1]), penalty_term_lbda, Lips_cst)\n",
    "\n",
    "iris_result"
   ]
  },
  {
   "cell_type": "code",
   "execution_count": 7,
   "metadata": {},
   "outputs": [
    {
     "name": "stdout",
     "output_type": "stream",
     "text": [
      "[ 0.         -0.          0.14967951  0.        ]\n"
     ]
    }
   ],
   "source": [
    "lasso = Lasso(alpha = 0.9)\n",
    "lasso_fit = lasso.fit(IRIS.data, IRIS.target)\n",
    "\n",
    "print(lasso_fit.coef_ - zeros(IRIS.data.shape[1]))"
   ]
  },
  {
   "cell_type": "markdown",
   "metadata": {},
   "source": [
    "Here the results are much different than before. As the criterion of convergence from the Lasso regression of sklearn is something really complicated that we do not implement here the result could be different. The ratio number of features/size of the sample before was aroud 1/3 since the sample was of size 100 and we had 30 features ; here the sample has size 150 with 4 different features. It could also be a reason why it does not give a result as good as before."
   ]
  },
  {
   "cell_type": "markdown",
   "metadata": {
    "id": "6X1kVTXz1TPM"
   },
   "source": [
    "**Use your lecture notes to check what is ridge regression. Explain briefly the pros and cons associated to this method, especially when handling high dimensional datasets.**"
   ]
  },
  {
   "cell_type": "markdown",
   "metadata": {
    "id": "t59e6_TA1XeL"
   },
   "source": [
    "Studying the issues raised by linear regression in high dimension we conclude that the usual OLS estimator is no longer consistent when the number of features is higher than the size of the sample.\n",
    "\n",
    "Instead of the usual minimization program $$\\hat{\\theta_n} = \\underset{\\theta \\in \\mathbb{R^p}}{argmin} \\|Y-\\langle X,\\theta\\rangle\\|_2^2$$ we add a penalty term to the minimization $$\\hat{\\theta}_{Ridge} = \\underset{\\theta \\in \\mathbb{R^p}}{argmin} \\|Y-\\langle X,\\theta\\rangle\\|_2^2 + \\lambda\\|\\theta\\|_2^2$$\n",
    "\n",
    "It results in a good estimator in the context of reasonnable dimensional problems with multi-colinearity among the covariates. The ridge regression has a good numerical stability. The purpose of adding a penalty term is to penalize the size of the coefficient $\\theta$ in order to reduce the variance of the estimates. The trade-off variance/bias implies that it increases the bias because of the penalty term $\\lambda$. This bias can be removed only with not so high dimension (when the size of the sample stay superior to the number of features), it is the reason why we should not use this method with high dimensions."
   ]
  },
  {
   "cell_type": "markdown",
   "metadata": {
    "id": "LRG0w3-O1bYI"
   },
   "source": [
    "**Compare the results (from a statistical and numerical point of\n",
    "view) between the Lasso and the Ridge regression.**"
   ]
  },
  {
   "cell_type": "code",
   "execution_count": 8,
   "metadata": {},
   "outputs": [
    {
     "name": "stdout",
     "output_type": "stream",
     "text": [
      "[ 0.19415586  0.          0.81824069  0.2215504  -0.         -0.\n",
      "  0.8342829   0.         -0.         -0.          0.75415699 -0.\n",
      "  0.          0.         -0.         -0.          0.16178154  0.78238155\n",
      "  0.75729232 -0.         -0.          0.         -0.         -0.\n",
      "  0.         -0.          0.          0.         -0.         -0.        ]\n"
     ]
    },
    {
     "data": {
      "text/plain": [
       "array([  3.00696719, -12.49919603,  -5.22415542, -15.54982089,\n",
       "       -26.77243738,   1.43050917,   1.95807211, -10.4583002 ,\n",
       "         1.58545486,  -4.17763745, -11.734608  ,   3.86397336,\n",
       "         1.83769316,  12.66647634,   7.4716018 ,  -3.31829174,\n",
       "        -3.3847816 , -10.5376289 ,  11.13871245,  -2.76526347,\n",
       "        -3.65770603,   4.70463703,  -2.79658791,   9.22542996,\n",
       "        -3.05959315,  -6.87757542, -16.04464161,  -7.82251363,\n",
       "         7.85076293,  -1.15995759,  -0.1782063 ,   1.30784942,\n",
       "         7.52359911,   0.31165546,  -5.78375249,  18.21905383,\n",
       "        12.57493779, -13.74642306,  11.11637814,  -5.58406962,\n",
       "        -3.94498922,   6.28237205,   2.58042838,   1.11418927,\n",
       "         6.62064659,   0.50401677,  -2.52470847,  18.0150457 ,\n",
       "         5.62905965, -10.39430596,   1.66538506,  -1.18856561,\n",
       "        -0.71212679, -12.27926148,  -7.52250582,   1.80636521,\n",
       "        13.70037287,  -2.47856015,   2.20777124, -10.51962303,\n",
       "        -2.01907018,   0.44399266,   4.82219043, -16.5170431 ,\n",
       "       -16.84647782,  10.42006002,  -0.08209974,   3.29226718,\n",
       "         7.06059513,  -5.70192212,   2.3200255 ,  -4.29327859,\n",
       "         1.37558966, -11.03908867,  12.16024353,   1.55111025,\n",
       "         6.28115308,   4.71773527,  10.52556706,   0.02963944,\n",
       "         2.85256295, -10.93748464,  -0.80062911,   1.50956847,\n",
       "         7.55899724,   2.08825633,  -4.80692812,  19.73629954,\n",
       "         6.82708788,   0.89554413,   2.78374966,  24.35033388,\n",
       "       -13.33098916,  12.71233893,  -4.02826933,   8.61638156,\n",
       "         4.89845482,   4.24085434,   8.24653642,  12.49175574])"
      ]
     },
     "execution_count": 8,
     "metadata": {},
     "output_type": "execute_result"
    }
   ],
   "source": [
    "lasso_reg = Lasso(alpha=2.)\n",
    "lasso_reg.fit(X,Y)\n",
    "print(lasso_reg.coef_)\n",
    "y_pred1 = lasso_reg.predict(X)\n",
    "y_pred1"
   ]
  },
  {
   "cell_type": "code",
   "execution_count": 9,
   "metadata": {},
   "outputs": [
    {
     "name": "stdout",
     "output_type": "stream",
     "text": [
      "[ 0.24421283  0.02236298  0.90800354  0.30728509  0.00269417  0.00744762\n",
      "  0.97906572 -0.02310187 -0.02715852 -0.00974144  0.84256456 -0.04119855\n",
      "  0.08406956  0.01790343  0.02415629  0.01528229  0.25287328  0.88181197\n",
      "  0.82691516 -0.0260512  -0.02837423  0.05380915 -0.04520337  0.01130601\n",
      "  0.02618924 -0.00567473  0.00518743 -0.00636922 -0.04003144 -0.03082898]\n"
     ]
    },
    {
     "data": {
      "text/plain": [
       "array([  3.38599255, -13.78789398,  -6.10304864, -17.84072575,\n",
       "       -28.83292037,   1.91428436,   2.41388415, -11.83950955,\n",
       "         1.56911736,  -5.81312573, -14.19162476,   4.16150898,\n",
       "         0.5001059 ,  14.31164275,   6.80449275,  -3.90300537,\n",
       "        -4.63062037, -13.84219188,  11.81023858,  -2.58336152,\n",
       "        -4.8722998 ,   4.01208982,  -2.1494691 ,  11.42571502,\n",
       "        -4.8299499 ,  -5.1916575 , -18.21505027,  -9.43852554,\n",
       "         8.95244327,  -1.8162852 ,   0.12419614,   1.38177988,\n",
       "         8.58391498,  -0.57027618,  -5.62309412,  19.81024113,\n",
       "        13.44819766, -16.95481064,  12.95558369,  -6.72676268,\n",
       "        -3.6472661 ,   6.48152208,   3.77551388,   0.82890935,\n",
       "         7.09553408,   1.69998611,  -3.3850574 ,  21.12112591,\n",
       "         5.85016775, -11.50004429,   2.65812362,  -1.4433448 ,\n",
       "        -0.40574808, -14.19283469,  -7.76574292,   2.06481058,\n",
       "        15.25618597,  -3.44934431,   3.74097184, -11.21369974,\n",
       "        -3.09004865,   0.47569564,   3.48992326, -18.11016343,\n",
       "       -19.44437523,  12.32984248,   0.68689168,   4.91813889,\n",
       "         6.68349841,  -5.57676034,   2.3783155 ,  -5.83701524,\n",
       "         2.77486427, -10.66192873,  13.04008184,   2.89586864,\n",
       "         7.12070898,   5.28905982,  11.69662998,  -0.37858524,\n",
       "         3.69552667, -11.36814758,  -2.09387626,   2.93665645,\n",
       "         7.72571209,   2.62282472,  -5.73679675,  21.63764454,\n",
       "         7.35266581,  -1.14238671,   3.48256343,  27.64996463,\n",
       "       -14.59436265,  15.02397267,  -4.07320556,   9.60323462,\n",
       "         4.81036331,   4.57316617,   9.05330364,  14.40877826])"
      ]
     },
     "execution_count": 9,
     "metadata": {},
     "output_type": "execute_result"
    }
   ],
   "source": [
    "ridge_reg = Ridge(alpha=.0001)\n",
    "ridge_reg.fit(X,Y)\n",
    "print(ridge_reg.coef_)\n",
    "y_pred2 = ridge_reg.predict(X)\n",
    "y_pred2"
   ]
  },
  {
   "cell_type": "markdown",
   "metadata": {},
   "source": [
    "The result of the coefficients from the ridge regression are not sparse and really different form the ones returned by the lasso. \n",
    "\n",
    "The ridge aim to converge quikly since the lasso is based on some more \"efficiency\" based criteria. This could explain that the ridge result do not take the for expected.\n",
    "\n",
    "Nonetheless the prediction power seems not so far from the lasso since given the features X, both functions return similar values for the prediction of the target Y."
   ]
  },
  {
   "cell_type": "markdown",
   "metadata": {
    "id": "Xl22ugbS1lcB"
   },
   "source": [
    "**2** Sequential regression problem\n",
    "\n",
    "The log-likelihood is\n",
    "$$ \\ell(\\theta)=\\frac{\\ell_n(\\theta)}{n}=\\frac1n\\log\\mathbb P((X_1,Y_1),\\dots,(X_n,Y_n)|\\theta)\\\\\n",
    "=\\frac1n\\log\\prod_{i=1}^n\\frac{1}{1+e^{-Y_i\\langle X_i,\\theta\\rangle}}\\\\\n",
    "=-\\frac1n\\sum_{i=1}^n\\log\\left(1+e^{-Y_i\\langle X_i,\\theta\\rangle}\\right).\n",
    " $$\n",
    " **Why?**"
   ]
  },
  {
   "cell_type": "markdown",
   "metadata": {
    "id": "K8-_jUGx38ap"
   },
   "source": [
    "We model $\\mathbb{P}(Y=1|X=x) = p(x;\\theta)$\n",
    "\n",
    "$p(x;\\theta) = \\frac{e^{<\\theta,x>}}{1 + e^{<\\theta,x>}} = \\frac{1}{1 + e^{-<\\theta,x>}} = \\frac{1}{1 + e^{-y<\\theta,x>}}$\n",
    "\n",
    "$\\ell_n(\\theta) = log \\prod_{i = 1}^n \\mathbb{P}(Y=1|X=x_i) = log \\prod_{i = 1}^n p(x_i;\\theta) = \\sum_{i = 1}^n log(\\frac{1}{1 + e^{-y_i<\\theta,x_i>}}) = - \\sum_{i = 1}^n log(1 + e^{-y_i<\\theta,x_i>})$\n",
    "\n",
    "Then $\\ell(\\theta)=\\frac{\\ell_n(\\theta)}{n} = - \\frac{1}{n} \\sum_{i = 1}^n log(1 + e^{-y_i<\\theta,x_i>})$"
   ]
  },
  {
   "cell_type": "markdown",
   "metadata": {
    "id": "0QBvOC4e3_gW"
   },
   "source": [
    "**Define a function that computes $\\ell(\\theta)$.**"
   ]
  },
  {
   "cell_type": "code",
   "execution_count": 10,
   "metadata": {
    "id": "UievkmZ_4FUV"
   },
   "outputs": [
    {
     "data": {
      "text/plain": [
       "-0.03415279029937272"
      ]
     },
     "execution_count": 10,
     "metadata": {},
     "output_type": "execute_result"
    }
   ],
   "source": [
    "def loglikelihood(theta, x, y):\n",
    "    \n",
    "    n = y.shape[0]\n",
    "    s = 0\n",
    "    for i in range(n):\n",
    "        scalar = array([theta.dot(x[i,:])])\n",
    "        expo = exp( - y[i] * scalar )\n",
    "        s += math.log(1+ expo, 10)\n",
    "    \n",
    "    return - s / n\n",
    "\n",
    "loglikelihood(THETA, X, Y)"
   ]
  },
  {
   "cell_type": "markdown",
   "metadata": {
    "id": "hfigX6444Q84"
   },
   "source": [
    "**Is $\\ell$, as a function of $\\theta$, convex and/or smooth?**"
   ]
  },
  {
   "cell_type": "markdown",
   "metadata": {
    "id": "dKtm0SWw4kkK"
   },
   "source": [
    "$\\ell$ is smooth as composite of smooth functions.\n",
    "\n",
    "$\\frac{\\partial \\ell(\\theta)}{\\partial \\theta} = - \\frac{1}{n} \\sum_{i = 1}^n \\frac{\\partial}{\\partial \\theta} log(1 + e^{-y_i<\\theta,x_i>}) = - \\frac{1}{n} \\sum_{i = 1}^n \\frac{- y_i x_i e^{-y_i<\\theta,x_i>}}{1 + e^{-y_i<\\theta,x_i>}} = \\frac{1}{n} \\sum_{i = 1}^n \\frac{y_i x_i}{1 + e^{y_i<\\theta,x_i>}}$\n",
    "\n",
    "\n",
    "$\\frac{\\partial^2 \\ell(\\theta)}{\\partial \\theta^2} = - \\frac{1}{n} \\sum_{i = 1}^n \\frac{(y_i x_i)^2 e^{y_i<\\theta,x_i>}}{(1 + e^{y_i<\\theta,x_i>})^2}$ is minus the sum of positive terms so it is negative then $\\ell$ is concave."
   ]
  },
  {
   "cell_type": "markdown",
   "metadata": {
    "id": "HEQHinwx4lzR"
   },
   "source": [
    "**Compute the gradient of $\\ell$.** (Check your answer with page 39 of the notes.)"
   ]
  },
  {
   "cell_type": "markdown",
   "metadata": {
    "id": "wdzPTBXZ4qkE"
   },
   "source": [
    "$\\frac{\\partial \\ell(\\theta)}{\\partial \\theta_k} = \\frac{1}{n} \\sum_{i = 1}^n x_i^k\\frac{y_i}{1 + e^{y_i<\\theta,x_i>}}$\n",
    "\n"
   ]
  },
  {
   "cell_type": "code",
   "execution_count": 11,
   "metadata": {},
   "outputs": [
    {
     "name": "stderr",
     "output_type": "stream",
     "text": [
      "C:\\Users\\KU\\Anaconda3\\lib\\site-packages\\ipykernel_launcher.py:12: RuntimeWarning: overflow encountered in exp\n",
      "  if sys.path[0] == '':\n"
     ]
    },
    {
     "data": {
      "text/plain": [
       "array([  4.33439978,  -1.70115278,  -1.00328456,   1.55334132,\n",
       "        -4.9800766 ,   2.10279101,  -3.23552813,   8.02937374,\n",
       "         3.14970514,  -1.00421615,   1.80133781,  -4.71144242,\n",
       "        -1.41744868,   0.46265804,  -0.03301158,  -1.65489513,\n",
       "         1.51159355,   1.99870623,   1.76243286,  -5.02897811,\n",
       "        -3.88687074,   0.16505242, -12.17186222,  -6.27074141,\n",
       "         0.75633326,  -7.78571432,   1.81291502,  -0.6711048 ,\n",
       "       -18.29602973,  -2.9245103 ])"
      ]
     },
     "execution_count": 11,
     "metadata": {},
     "output_type": "execute_result"
    }
   ],
   "source": [
    "def grad_loglikelihood(theta, x, y):\n",
    "    \n",
    "    n = y.shape[0]\n",
    "    p = x.shape[1]\n",
    "    gradient = zeros(p)\n",
    "    \n",
    "    for k in range(p):\n",
    "        \n",
    "        s = 0\n",
    "        for i in range(n):\n",
    "            scalar = array([theta.dot(x[i,:])])\n",
    "            factor =  y[i] / (1 + exp( y[i] * scalar ))\n",
    "            s += factor * x[i,k]\n",
    "        \n",
    "        gradient[k] = s\n",
    "    \n",
    "    return gradient\n",
    "\n",
    "grad_loglikelihood(THETA, X, Y)"
   ]
  },
  {
   "cell_type": "markdown",
   "metadata": {
    "id": "o1dLHM1l4skF"
   },
   "source": [
    "**[Optional] Check that \n",
    "$$\\theta^*=\\operatorname{arg\\,min}_{\\theta\\in\\mathbb R^p}\\ell(\\theta).$$**"
   ]
  },
  {
   "cell_type": "markdown",
   "metadata": {
    "id": "9EZ9FQVK5A8X"
   },
   "source": [
    "**Define a sequential stochastic gradient algorithm for the maximization of $\\ell$:**\n",
    "$$\\theta_{n+1}=\\theta_n+\\gamma_{n+1}\\nabla\\ell(\\theta_n)+\\gamma_{n+1}\\epsilon_{n+1}.$$\n",
    "Note that in the definition below, `f` is a function to be maximized, `stepsizes` is a function (of `n`) giving the size of the step at each iteration."
   ]
  },
  {
   "cell_type": "markdown",
   "metadata": {},
   "source": [
    "According proposition 4.3.2 of the lecture notes, we choose here a stepsize $\\gamma_n = \\frac{\\gamma}{n^{\\alpha}}$ with $\\gamma = \\frac{1}{2}$ and $\\alpha \\in (0,1)$."
   ]
  },
  {
   "cell_type": "markdown",
   "metadata": {},
   "source": [
    "A (stochastic) gradient ascent aims to maximize a function whereas a gradient descent aims to minimize it. Here we program the stochastic gradient ascent, we will then implement it on the log likelihood of the logistic regression in order to find the maximizer."
   ]
  },
  {
   "cell_type": "code",
   "execution_count": 12,
   "metadata": {
    "id": "uwRCOY7B5Ryb"
   },
   "outputs": [],
   "source": [
    "def stochasticGradientAscent(f, x0, stepsize, alpha, tol, N = 5000):\n",
    "    \n",
    "    \"\"\" Here is the general formula of the stochastic gradient that we will apply later on the minimization of l.\n",
    "        As usual we initialize our variable with x0 and enter the while loop to make the gradinet ascend converges.\n",
    "        The new term is updated based on the stochastic gradient formula taking a noise into account.\"\"\"\n",
    "    \n",
    "    x = x0\n",
    "    g = gradientApprox(f,x0)\n",
    "    lnormeg = [norm(g)]\n",
    "    lX=[x]\n",
    "    \n",
    "    n=1\n",
    "    \n",
    "    while norm(g) > tol and n < N:\n",
    "        \n",
    "        noise = numpy.random.normal(0,1,x.shape[0])\n",
    "        \n",
    "        x = x + (1./n**alpha) * (stepsize*g + stepsize*noise)\n",
    "\n",
    "        g = gradientApprox(f,x)\n",
    "        \n",
    "        lnormeg.append(norm(g))\n",
    "        lX.append(x)\n",
    "        \n",
    "        n += 1\n",
    "        \n",
    "    if n==N:\n",
    "        \n",
    "        print(f\"Max number of iterations {N}\")\n",
    "        \n",
    "    return x, array(lnormeg), lX"
   ]
  },
  {
   "cell_type": "markdown",
   "metadata": {
    "id": "UOogpHSV5zfJ"
   },
   "source": [
    "**Give an admissible step sequence $(\\gamma_n)_{n\\geq1}$ for the convergence of $(\\theta_n)_{n\\geq1}$ towards $\\theta^*$. Using the lecture notes, describe the theoretical properties with a convergence rate.**"
   ]
  },
  {
   "cell_type": "markdown",
   "metadata": {},
   "source": [
    "From proposition 4.3.2 we know that an admissible stepsize $\\gamma_n$ is $\\frac{\\gamma}{n^{\\alpha}}$. Then with $\\gamma \\approx \\frac{1}{2}$ and $\\alpha \\in (0,1)$ the bias and the variance of the estimation are bounded.\n",
    "\n",
    "Hence the global rate of convergence of the method is lower than $\\frac{1}{n}$."
   ]
  },
  {
   "cell_type": "markdown",
   "metadata": {
    "id": "_Pwd4MRG6F2O"
   },
   "source": [
    "**Program the sequential logistic regression algorithm and check its good behavior for reasonable size of $p$ ($p=5,10,20$).**"
   ]
  },
  {
   "cell_type": "code",
   "execution_count": 13,
   "metadata": {
    "id": "WV85AmyW6PmG"
   },
   "outputs": [],
   "source": [
    "def logistic_regression(f, x0, gradient_f, target, features, stepsize=1/2, alpha=0.001, tol=10**(-6), N=10000):\n",
    "    \n",
    "    \"\"\" f and gradient_f input should be the loglikelihood function and its gradient.\n",
    "    \n",
    "        We base the sequential logistic regression on the stochastic gradient ascend method.\n",
    "        First, we create the features and target (X and Y at the beginning of the TP).\n",
    "        Then we initialize the gradient of the function with x0.\n",
    "        While the norm of the gradient does not converge (or until we reach the maximum number of iterations),\n",
    "        we compute the new term x based on the stochastic sequential formula.\n",
    "        As usual, gradient is updated.\n",
    "        The function return the sequence of x, the list of the successives norms of the gradient and the result x \n",
    "        which aim to be the minimizer of the convex function f. \"\"\"\n",
    "\n",
    "    x = x0\n",
    "    g = gradient_f(x0, features, target)\n",
    "    lnormeg = [norm(g)]\n",
    "    lX=[x]\n",
    "    \n",
    "    k = 1\n",
    "    \n",
    "    while norm(g) > tol and k < N:\n",
    "        \n",
    "        noise = numpy.random.normal(0,1,x.shape[0])\n",
    "        \n",
    "        x = x +  (1./k**alpha) * (stepsize*g + stepsize*noise) \n",
    "\n",
    "        g = gradient_f(x, features, target)\n",
    "        \n",
    "        lnormeg.append(norm(g))\n",
    "        lX.append(x)\n",
    "        \n",
    "        k += 1\n",
    "        \n",
    "    if k==N:\n",
    "        \n",
    "        print(f\"Max number of iterations {N}\")\n",
    "        \n",
    "    return x, array(lnormeg), lX"
   ]
  },
  {
   "cell_type": "markdown",
   "metadata": {
    "id": "nsaH8GDZ6gLP"
   },
   "source": [
    "**Illustrate the convergence rate. Is it better than expected (from a theoretical point of view)?**"
   ]
  },
  {
   "cell_type": "markdown",
   "metadata": {},
   "source": [
    "Let's represent in $\\mathbb{R}^2$ the result from the logistic regression we built."
   ]
  },
  {
   "cell_type": "code",
   "execution_count": 14,
   "metadata": {},
   "outputs": [
    {
     "data": {
      "text/plain": [
       "<matplotlib.legend.Legend at 0x22e82245da0>"
      ]
     },
     "execution_count": 14,
     "metadata": {},
     "output_type": "execute_result"
    },
    {
     "data": {
      "image/png": "[encoded data removed]",
      "text/plain": [
       "<Figure size 720x720 with 1 Axes>"
      ]
     },
     "metadata": {
      "needs_background": "light"
     },
     "output_type": "display_data"
    }
   ],
   "source": [
    "# SIMULATE\n",
    "N = 500\n",
    "features = np.random.uniform(-1, 1, size=N).reshape((-1,1))\n",
    "true_theta = 85\n",
    "\n",
    "scalar = true_theta * features\n",
    "p = 1/(1 + np.exp(- scalar))\n",
    "\n",
    "target = np.random.binomial(1, p) * 2 - 1\n",
    "plot(features, target, 'go')\n",
    "\n",
    "# GET ESTIMATES FROM LOGISTIC\n",
    "theta_estimate, list_norms_R2, list_results_R2 = logistic_regression(loglikelihood, np.array([100]), grad_loglikelihood, target, features)\n",
    "\n",
    "# PLOT THE FIT\n",
    "scalar_estimate = theta_estimate * features\n",
    "p_estimate = 1/(1 + np.exp(- scalar_estimate))\n",
    "plot(features, p_estimate*2-1, \"r.\")\n",
    "\n",
    "xlabel(\"X\")\n",
    "ylabel(\"$\\mathbb{P}(Y=1|X)$\")\n",
    "legend((\"Target\",\"log_regression\"))"
   ]
  },
  {
   "cell_type": "markdown",
   "metadata": {},
   "source": [
    "Let's illustrate the convergence rate of the method applied on data generated in $\\mathbb{R}^p$."
   ]
  },
  {
   "cell_type": "markdown",
   "metadata": {},
   "source": [
    "We generate data for p = 5, 10, 20 and apply the logistic regression ; we then look at the convergence rate and compare it with $\\frac{1}{n}$."
   ]
  },
  {
   "cell_type": "code",
   "execution_count": 16,
   "metadata": {
    "scrolled": false
   },
   "outputs": [
    {
     "name": "stdout",
     "output_type": "stream",
     "text": [
      "\n",
      "\n",
      "For p = 5\n",
      "Max number of iterations 1000\n"
     ]
    },
    {
     "name": "stderr",
     "output_type": "stream",
     "text": [
      "C:\\Users\\KU\\Anaconda3\\lib\\site-packages\\ipykernel_launcher.py:18: RuntimeWarning: divide by zero encountered in true_divide\n"
     ]
    },
    {
     "data": {
      "image/png": "[encoded data removed]",
      "text/plain": [
       "<Figure size 720x720 with 1 Axes>"
      ]
     },
     "metadata": {
      "needs_background": "light"
     },
     "output_type": "display_data"
    },
    {
     "name": "stdout",
     "output_type": "stream",
     "text": [
      "Max number of iterations 1000\n"
     ]
    },
    {
     "name": "stderr",
     "output_type": "stream",
     "text": [
      "C:\\Users\\KU\\Anaconda3\\lib\\site-packages\\ipykernel_launcher.py:39: RuntimeWarning: divide by zero encountered in true_divide\n"
     ]
    },
    {
     "data": {
      "image/png": "[encoded data removed]",
      "text/plain": [
       "<Figure size 720x720 with 1 Axes>"
      ]
     },
     "metadata": {
      "needs_background": "light"
     },
     "output_type": "display_data"
    },
    {
     "name": "stdout",
     "output_type": "stream",
     "text": [
      "Max number of iterations 1000\n"
     ]
    },
    {
     "name": "stderr",
     "output_type": "stream",
     "text": [
      "C:\\Users\\KU\\Anaconda3\\lib\\site-packages\\ipykernel_launcher.py:60: RuntimeWarning: divide by zero encountered in true_divide\n"
     ]
    },
    {
     "data": {
      "image/png": "[encoded data removed]",
      "text/plain": [
       "<Figure size 720x720 with 1 Axes>"
      ]
     },
     "metadata": {
      "needs_background": "light"
     },
     "output_type": "display_data"
    }
   ],
   "source": [
    "n = 100\n",
    "p = 5\n",
    "\n",
    "THETA = np.random.random(size=p+1)*50\n",
    "\n",
    "\n",
    "X = np.concatenate((np.ones((n,1)), np.random.uniform(-1, 1, size=n*p).reshape((n,p))), axis=1)\n",
    "scalar = THETA.dot(X.T)\n",
    "proba = 1/(1 + np.exp(- scalar))\n",
    "\n",
    "Y = np.random.binomial(1, proba) * 2 - 1\n",
    "\n",
    "print(\"\\n\\nFor p = 5\")\n",
    "\n",
    "res, list_norms, list_results = logistic_regression(loglikelihood, np.zeros(p+1), grad_loglikelihood, Y, X, alpha = 0.5, N=1000)\n",
    "\n",
    "semilogy( list_norms )\n",
    "semilogy( exp(1/arange(list_norms.shape[0])) )\n",
    "title( \"Convergence of the log regression for p = 5\" )\n",
    "legend((\"logistic regression\",\"1/N\"))\n",
    "show()\n",
    "\n",
    "#######################################################################\n",
    "\n",
    "n = 100\n",
    "p = 10\n",
    "\n",
    "THETA = np.random.random(size=p+1)*50\n",
    "\n",
    "X = np.concatenate((np.ones((n,1)), np.random.uniform(-1, 1, size=n*p).reshape((n,p))), axis=1)\n",
    "scalar = THETA.dot(X.T)\n",
    "proba = 1/(1 + np.exp(- scalar))\n",
    "\n",
    "Y = np.random.binomial(1, proba) * 2 - 1\n",
    "\n",
    "res, list_norms, list_results = logistic_regression(loglikelihood, np.zeros(p+1), grad_loglikelihood, Y, X, alpha = 0.5, N=1000)\n",
    "\n",
    "semilogy( list_norms )\n",
    "semilogy( exp(1/arange(list_norms.shape[0])) )\n",
    "title( \"Convergence of the log regression for p = 10\" )\n",
    "legend((\"logistic regression\",\"1/N\"))\n",
    "show()\n",
    "\n",
    "#######################################################################\n",
    "\n",
    "n = 100\n",
    "p = 20\n",
    "\n",
    "THETA = np.random.random(size=p+1)*50\n",
    "\n",
    "X = np.concatenate((np.ones((n,1)), np.random.uniform(-1, 1, size=n*p).reshape((n,p))), axis=1)\n",
    "scalar = THETA.dot(X.T)\n",
    "proba = 1/(1 + np.exp(- scalar))\n",
    "\n",
    "Y = np.random.binomial(1, proba) * 2 - 1\n",
    "\n",
    "res, list_norms, list_results = logistic_regression(loglikelihood, np.zeros(p+1), grad_loglikelihood, Y, X, alpha = 0.5, N=1000)\n",
    "\n",
    "semilogy( list_norms )\n",
    "semilogy( exp(1/arange(list_norms.shape[0])) )\n",
    "title( \"Convergence of the log regression for p = 20\" )\n",
    "legend((\"logistic regression\",\"1/N\"))\n",
    "show()\n",
    "\n",
    "#######################################################################"
   ]
  },
  {
   "cell_type": "markdown",
   "metadata": {
    "id": "4GMbfBxf6rGY"
   },
   "source": [
    "We expect a convergence rate lower than $\\frac{1}{n}$ for the logistic regression.\n",
    "\n",
    "The method does not converge for N = 1 000, N = 10 000 or even for N = 100 000 and it takes too much time to test for bigger N...\n",
    "\n",
    "When comparing the convergence rate of the method in blue with $\\frac{1}{n}$ in orange we see that the convergence of our method is quite coherent with the rate $\\frac{1}{n}$. As p increases, the convergence seems to become faster."
   ]
  }
 ],
 "metadata": {
  "colab": {
   "authorship_tag": "ABX9TyM+SDkgHnRUyp/TXtNEj07Q",
   "collapsed_sections": [],
   "name": "TP3.ipynb",
   "provenance": []
  },
  "kernelspec": {
   "display_name": "Python 3",
   "language": "python",
   "name": "python3"
  },
  "language_info": {
   "codemirror_mode": {
    "name": "ipython",
    "version": 3
   },
   "file_extension": ".py",
   "mimetype": "text/x-python",
   "name": "python",
   "nbconvert_exporter": "python",
   "pygments_lexer": "ipython3",
   "version": "3.7.3"
  }
 },
 "nbformat": 4,
 "nbformat_minor": 4
}
