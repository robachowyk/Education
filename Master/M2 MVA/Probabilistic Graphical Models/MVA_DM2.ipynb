{
  "nbformat": 4,
  "nbformat_minor": 0,
  "metadata": {
    "colab": {
      "name": "PGM_IWAE_Assignment2_.ipynb",
      "provenance": [],
      "collapsed_sections": []
    },
    "kernelspec": {
      "name": "python3",
      "display_name": "Python 3"
    },
    "accelerator": "GPU"
  },
  "cells": [
    {
      "cell_type": "markdown",
      "metadata": {
        "id": "3tyYDKlcqkBE"
      },
      "source": [
        "# **PGM homework**: IWAE for binarised MNIST"
      ]
    },
    {
      "cell_type": "markdown",
      "metadata": {
        "id": "9B30ONxejRn-"
      },
      "source": [
        "In this assignment, you'll play a bit with a VAE on a binarised version of MNIST"
      ]
    },
    {
      "cell_type": "markdown",
      "source": [
        "## 1. Gaussian processes"
      ],
      "metadata": {
        "id": "SUh-UQT2HSzc"
      }
    },
    {
      "cell_type": "markdown",
      "source": [
        "### 1. Learning"
      ],
      "metadata": {
        "id": "3LE58Xu5HYMQ"
      }
    },
    {
      "cell_type": "markdown",
      "source": [
        "**Write a complete set of functions implementing the training GP step, i.e. the optimization in\n",
        "$\\theta$ of the (marginal) log-likelihood: $h(\\theta) = log \\: p(Y|X,\\theta)$**"
      ],
      "metadata": {
        "id": "MMWXqE7MHbfa"
      }
    },
    {
      "cell_type": "markdown",
      "source": [
        "$$Y | X \\sim \\mathcal{N}(0_n, C_{\\theta})$$\n",
        "\n",
        "We get rid off elements that do not depend on $\\theta$.\n",
        "\n",
        "\\begin{align*}\n",
        "h(\\theta) &= log \\: p(Y|X, \\theta)\\\\\n",
        "&= log\\left( \\: \\frac{1}{(2 \\pi)^{n/2} |C_{\\theta}|^{1/2}} \\exp^{- \\frac{1}{2}( \\: Y^T C_{\\theta}^{-1} Y \\: )} \\: \\right)\\\\\n",
        "&= -\\frac{1}{2} log |C_{\\theta}| - \\frac{1}{2} ( \\: Y^T C_{\\theta}^{-1} Y \\: )\\\\\n",
        "&= -\\frac{1}{2} log |K_{\\theta} + \\sigma^2 I| - \\frac{1}{2} ( \\: Y^T (K_{\\theta} + \\sigma^2 I)^{-1} Y \\: )\\\\\n",
        "\\end{align*}\n",
        "\n",
        "\\begin{align*}\n",
        "\\theta = \\underset{\\theta}{argmax} \\left[ -\\frac{1}{2} log |K_{\\theta} + \\sigma^2 I| - \\frac{1}{2} ( \\: Y^T (K_{\\theta} + \\sigma^2 I)^{-1} Y \\: ) \\right]\\\\\n",
        "\\end{align*}\n",
        "\n",
        "\n",
        "- How to compute $Y^T (K_{\\theta} + \\sigma^2 I)^{-1} Y$ ?\n",
        "We are looking for $\\alpha$ such that:\n",
        "\\begin{align*}\n",
        "(K_{\\theta} + \\sigma^2 I)^{-1} Y &= \\alpha\\\\\n",
        "(K_{\\theta} + \\sigma^2 I) \\alpha &= Y\\\\\n",
        "L L^T \\alpha &= Y\\\\\n",
        "L \\beta &= Y\\\\\n",
        "\\end{align*}\n",
        "Where we use the Cholesky decomposition to express the covariance matrix $K_{\\theta} + \\sigma^2 I$.\n",
        "Then we can find $\\alpha$ looking for the solution to $L^T \\alpha = \\beta$ where $\\beta$ is the solution to $L \\beta = Y$.\n",
        "\n",
        "- How to compute $|K_{\\theta} + \\sigma^2 I|$ ?\n",
        "\\begin{align*}\n",
        "|K_{\\theta} + \\sigma^2 I| &= |L L^T|\\\\\n",
        "&= |L| |L^T|\\\\\n",
        "&= |L|^2\\\\\n",
        "&= {\\left(\\prod_{i=1}^n L_{i,i}\\right)}^2\\\\\n",
        "&= \\prod_{i=1}^n L_{i,i}^2\\\\\n",
        "\\end{align*}\n",
        "Where we use that $L$ is a lower triangular matrix and $L^T$ is an upper triangular matrix. Thanks to determinant properties, we know that $|L| = |L^T|$ and that for any triangular matrix the determinant is the product of its diagonal elements.\n",
        "\n",
        "Then, \n",
        "\\begin{align*}\n",
        "-\\frac{1}{2} log |K_{\\theta} + \\sigma^2 I| - \\frac{1}{2} ( \\: Y^T (K_{\\theta} + \\sigma^2 I)^{-1} Y \\: ) &= -\\frac{1}{2} log \\prod_{i=1}^n {L_{i,i}}^2 - \\frac{1}{2} \\: Y^T \\alpha \\:\\\\\n",
        "&= - \\sum_{i=1}^n log \\: L_{i,i} - \\frac{1}{2} \\: Y^T \\alpha \\:\\\\\n",
        "\\end{align*}"
      ],
      "metadata": {
        "id": "4KUHzk18HnoE"
      }
    },
    {
      "cell_type": "markdown",
      "source": [
        "Now, we want to compute the gradient with respect to $\\theta_i$ of the log likelihood. \n",
        "\n",
        "\\begin{align*}\n",
        "\\nabla_{\\theta_l} h(\\theta) &= \\nabla_{\\theta_l} \\left( \\: -\\frac{1}{2} log |K_{\\theta} + \\sigma^2 I| - \\frac{1}{2} \\: Y^T \\: (K_{\\theta} + \\sigma^2 I)^{-1} \\: Y \\: \\right)\\\\\n",
        "&= \\nabla_{\\theta_l} \\left( - \\sum_{i=1}^n log \\: L_{i,i} - \\frac{1}{2} \\: Y^T \\alpha \\right)\\\\\n",
        "\\end{align*}\n",
        "\n",
        "The Cholesky decomposition gives us that $L_{i,i} = \\sqrt{(K_{\\theta} + \\sigma^2 I)_{i,i} - \\sum_{k=1}^{i-1} {L_{i,k}}^2}$. In the above formula, $\\theta$ appears in $L_{i,i}$ and in $\\alpha$.\n",
        "\n",
        "Also we have:\n",
        "\n",
        "We know that $\\nabla_{\\theta} log |C_{\\theta}| = \\frac{\\nabla_{\\theta} |C_{\\theta}|}{|C_{\\theta}|} = \\frac{|C_{\\theta}| \\: Tr(C_{\\theta}^{-1} \\: \\nabla_{\\theta} C_{\\theta})}{|C_{\\theta}|} = Tr(C_{\\theta}^{-1} \\: \\nabla_{\\theta} C_{\\theta})$ and that $\\nabla_{\\theta} Y^T C_{\\theta}^{-1} Y = - C_{\\theta}^{-1} \\: Y \\: \\nabla_{\\theta}C_{\\theta} \\: Y^T \\: C_{\\theta}^{-1}$.\n",
        "\n",
        "\\begin{align*}\n",
        "\\nabla_{\\theta_l} h(\\theta) &= \\nabla_{\\theta_l} \\left( \\: -\\frac{1}{2} log |C_{\\theta}| - \\frac{1}{2} \\: Y^T \\: C_{\\theta}^{-1} \\: Y \\: \\right)\\\\\n",
        "&= -\\frac{1}{2} \\nabla_{\\theta_l} log |C_{\\theta}| - \\frac{1}{2} \\: \\nabla_{\\theta_l} (Y^T C_{\\theta}^{-1} Y)\\\\\n",
        "&= -\\frac{1}{2} |C_{\\theta}| \\: Tr(C_{\\theta}^{-1} \\: \\nabla_{\\theta_l} C_{\\theta}) + \\frac{1}{2} \\: C_{\\theta}^{-1} \\: Y \\: \\nabla_{\\theta_l}C_{\\theta} \\: Y^T \\: C_{\\theta}^{-1}\\\\\n",
        "\\end{align*}\n",
        "\n",
        "None of these two methods leads to a simple formula for the gradient. We don't have time to think about the implementation of the conjugate gradient so that we will use scipy to compute the conjugate gradient descent and find the optimal theta."
      ],
      "metadata": {
        "id": "XgYw-oPVfKOQ"
      }
    },
    {
      "cell_type": "code",
      "source": [
        "import numpy as np\n",
        "import pandas as pds\n",
        "from scipy.optimize import minimize\n",
        "from sklearn.preprocessing import normalize\n",
        "from sklearn.model_selection import train_test_split\n",
        "from math import *"
      ],
      "metadata": {
        "id": "q04S2f3VT5By"
      },
      "execution_count": 117,
      "outputs": []
    },
    {
      "cell_type": "code",
      "source": [
        "def exponential_quadratic_kernel(THETA, x_i, x_j):\n",
        "  return THETA[0] * np.exp( - THETA[1] / 2 * np.linalg.norm(x_i - x_j)**2) + THETA[2] + THETA[3] * np.dot(x_i.T, x_j)\n",
        "\n",
        "def matrix_kernel(THETA, X):\n",
        "  n = X.shape[0]\n",
        "  matrix = np.zeros((n,n))\n",
        "  for row in range(n):\n",
        "    for col in range(n):\n",
        "      matrix[row,col] = exponential_quadratic_kernel(THETA, X[row], X[col])\n",
        "  return matrix\n",
        "\n",
        "def marginal_loglikelihood(THETA, X, Y):\n",
        "  n = X.shape[0]\n",
        "  K = matrix_kernel(THETA, X)\n",
        "  L = np.linalg.cholesky( K + THETA[4]*np.eye(n) ) # THETA[4] = sigma_2\n",
        "  beta = np.linalg.solve(L, Y) # solve L beta = Y <=> solve(L, Y)\n",
        "  alpha = np.linalg.solve(L.T, beta) # solve L^T alpha = beta <=> solve(L^T, beta)\n",
        "  marginal_log_likelihood = - np.sum( [np.log(L[i,i]) for i in range(n)] ) - np.dot(Y.T, alpha)/2\n",
        "  return marginal_log_likelihood"
      ],
      "metadata": {
        "id": "JMXVHVIkIKSu"
      },
      "execution_count": 118,
      "outputs": []
    },
    {
      "cell_type": "markdown",
      "source": [
        "### 2. Prediction"
      ],
      "metadata": {
        "id": "xmSdaI7eHprJ"
      }
    },
    {
      "cell_type": "markdown",
      "source": [
        "**Write a complete set of functions in R or Python implementing the prediction GP step, i.e. the prediction $\\hat{y}$ for a new observation $x$.**"
      ],
      "metadata": {
        "id": "fNOMUoJPHsJ5"
      }
    },
    {
      "cell_type": "markdown",
      "source": [
        "We have a gaussian process $$Y | X \\sim \\mathcal{N}(0_n, C_{\\theta})$$\n",
        "\n",
        "From properties of the gaussian distribution we then have the following prediction gaussian process step : $$y_{n+1} | Y_n, X_n \\sim \\mathcal{N}(k^T C_{\\theta} Y_n, C_{\\theta} - k^T C_{\\theta}^{-1} k)$$\n",
        "\n",
        "Therefore, to compute the prediction $\\hat{y}$ of a new observation in input we use the mean of the above distribution. In other words, we use the kernel function computed between the new observation $x$ and the training observations, times the weight learned before that we denoted by $\\alpha$."
      ],
      "metadata": {
        "id": "viFdmQ-v0Wey"
      }
    },
    {
      "cell_type": "code",
      "source": [
        "# prediction step:\n",
        "\n",
        "def prediction_step(optimal_theta, X_train, Y_train, test_input):\n",
        "\n",
        "  n = X_train.shape[0]\n",
        "  K = matrix_kernel(optimal_theta, X_train)\n",
        "  L = np.linalg.cholesky( K + optimal_theta[4]*np.eye(n) ) # THETA[4] = sigma_2\n",
        "  beta = np.linalg.solve(L, Y_train) # solve L beta = Y <=> solve(L, Y)\n",
        "  alpha = np.linalg.solve(L.T, beta) # solve L^T alpha = beta <=> solve(L^T, beta)\n",
        "\n",
        "  prediction = 0\n",
        "  for input in range(n):\n",
        "    prediction += alpha[input] * exponential_quadratic_kernel(optimal_theta, X_train[input], test_input)\n",
        "  return prediction"
      ],
      "metadata": {
        "id": "KCsMiz4I1VmO"
      },
      "execution_count": 119,
      "outputs": []
    },
    {
      "cell_type": "markdown",
      "source": [
        "### 3. Real data"
      ],
      "metadata": {
        "id": "aIsRdzg3Hzxd"
      }
    },
    {
      "cell_type": "markdown",
      "source": [
        "**Learn the GP regression model on the first 75% part of the UScrimes.csv data set. The target is the\n",
        "Murder variable. Use the model learned to predict the outputs of the remaining 25%. Compare the RSME\n",
        "you obtain with the RMSE of a simple multivariate linear model for regression.**\n",
        "\n",
        "\n",
        "**For the linear model, you can use existing packages. However, all the functions you implement should be\n",
        "stand alone. You are allowed to rely on packages but not on the ones implementing directly solutions to the\n",
        "questions. The source code should be handed in along with results**"
      ],
      "metadata": {
        "id": "x3l1P0prH14u"
      }
    },
    {
      "cell_type": "code",
      "source": [
        "DF = pds.read_csv(\"/content/UScrimes.csv\")\n",
        "DF.columns = [[\"State\", \"Murder\", \"Assault\", \"UrbanPop\"]]\n",
        "features = np.array(DF[[\"State\", \"Assault\", \"UrbanPop\"]]) # shape n x p\n",
        "n, p = features.shape\n",
        "target = np.array(DF[[\"Murder\"]]) # shape n x 1\n",
        "DF.head()"
      ],
      "metadata": {
        "colab": {
          "base_uri": "https://localhost:8080/",
          "height": 206
        },
        "id": "Es4-RYah1fTU",
        "outputId": "59aab377-1c7e-4b58-b32a-c2991c7dd4a4"
      },
      "execution_count": 120,
      "outputs": [
        {
          "output_type": "execute_result",
          "data": {
            "text/html": [
              "\n",
              "  <div id=\"df-f2f50862-8c9d-486f-b80b-559fd78ef4f7\">\n",
              "    <div class=\"colab-df-container\">\n",
              "      <div>\n",
              "<style scoped>\n",
              "    .dataframe tbody tr th:only-of-type {\n",
              "        vertical-align: middle;\n",
              "    }\n",
              "\n",
              "    .dataframe tbody tr th {\n",
              "        vertical-align: top;\n",
              "    }\n",
              "\n",
              "    .dataframe thead tr th {\n",
              "        text-align: left;\n",
              "    }\n",
              "</style>\n",
              "<table border=\"1\" class=\"dataframe\">\n",
              "  <thead>\n",
              "    <tr>\n",
              "      <th></th>\n",
              "      <th>State</th>\n",
              "      <th>Murder</th>\n",
              "      <th>Assault</th>\n",
              "      <th>UrbanPop</th>\n",
              "    </tr>\n",
              "  </thead>\n",
              "  <tbody>\n",
              "    <tr>\n",
              "      <th>0</th>\n",
              "      <td>Alabama</td>\n",
              "      <td>13.2</td>\n",
              "      <td>236</td>\n",
              "      <td>58</td>\n",
              "    </tr>\n",
              "    <tr>\n",
              "      <th>1</th>\n",
              "      <td>Alaska</td>\n",
              "      <td>10.0</td>\n",
              "      <td>263</td>\n",
              "      <td>48</td>\n",
              "    </tr>\n",
              "    <tr>\n",
              "      <th>2</th>\n",
              "      <td>Arizona</td>\n",
              "      <td>8.1</td>\n",
              "      <td>294</td>\n",
              "      <td>80</td>\n",
              "    </tr>\n",
              "    <tr>\n",
              "      <th>3</th>\n",
              "      <td>Arkansas</td>\n",
              "      <td>8.8</td>\n",
              "      <td>190</td>\n",
              "      <td>50</td>\n",
              "    </tr>\n",
              "    <tr>\n",
              "      <th>4</th>\n",
              "      <td>California</td>\n",
              "      <td>9.0</td>\n",
              "      <td>276</td>\n",
              "      <td>91</td>\n",
              "    </tr>\n",
              "  </tbody>\n",
              "</table>\n",
              "</div>\n",
              "      <button class=\"colab-df-convert\" onclick=\"convertToInteractive('df-f2f50862-8c9d-486f-b80b-559fd78ef4f7')\"\n",
              "              title=\"Convert this dataframe to an interactive table.\"\n",
              "              style=\"display:none;\">\n",
              "        \n",
              "  <svg xmlns=\"http://www.w3.org/2000/svg\" height=\"24px\"viewBox=\"0 0 24 24\"\n",
              "       width=\"24px\">\n",
              "    <path d=\"M0 0h24v24H0V0z\" fill=\"none\"/>\n",
              "    <path d=\"M18.56 5.44l.94 2.06.94-2.06 2.06-.94-2.06-.94-.94-2.06-.94 2.06-2.06.94zm-11 1L8.5 8.5l.94-2.06 2.06-.94-2.06-.94L8.5 2.5l-.94 2.06-2.06.94zm10 10l.94 2.06.94-2.06 2.06-.94-2.06-.94-.94-2.06-.94 2.06-2.06.94z\"/><path d=\"M17.41 7.96l-1.37-1.37c-.4-.4-.92-.59-1.43-.59-.52 0-1.04.2-1.43.59L10.3 9.45l-7.72 7.72c-.78.78-.78 2.05 0 2.83L4 21.41c.39.39.9.59 1.41.59.51 0 1.02-.2 1.41-.59l7.78-7.78 2.81-2.81c.8-.78.8-2.07 0-2.86zM5.41 20L4 18.59l7.72-7.72 1.47 1.35L5.41 20z\"/>\n",
              "  </svg>\n",
              "      </button>\n",
              "      \n",
              "  <style>\n",
              "    .colab-df-container {\n",
              "      display:flex;\n",
              "      flex-wrap:wrap;\n",
              "      gap: 12px;\n",
              "    }\n",
              "\n",
              "    .colab-df-convert {\n",
              "      background-color: #E8F0FE;\n",
              "      border: none;\n",
              "      border-radius: 50%;\n",
              "      cursor: pointer;\n",
              "      display: none;\n",
              "      fill: #1967D2;\n",
              "      height: 32px;\n",
              "      padding: 0 0 0 0;\n",
              "      width: 32px;\n",
              "    }\n",
              "\n",
              "    .colab-df-convert:hover {\n",
              "      background-color: #E2EBFA;\n",
              "      box-shadow: 0px 1px 2px rgba(60, 64, 67, 0.3), 0px 1px 3px 1px rgba(60, 64, 67, 0.15);\n",
              "      fill: #174EA6;\n",
              "    }\n",
              "\n",
              "    [theme=dark] .colab-df-convert {\n",
              "      background-color: #3B4455;\n",
              "      fill: #D2E3FC;\n",
              "    }\n",
              "\n",
              "    [theme=dark] .colab-df-convert:hover {\n",
              "      background-color: #434B5C;\n",
              "      box-shadow: 0px 1px 3px 1px rgba(0, 0, 0, 0.15);\n",
              "      filter: drop-shadow(0px 1px 2px rgba(0, 0, 0, 0.3));\n",
              "      fill: #FFFFFF;\n",
              "    }\n",
              "  </style>\n",
              "\n",
              "      <script>\n",
              "        const buttonEl =\n",
              "          document.querySelector('#df-f2f50862-8c9d-486f-b80b-559fd78ef4f7 button.colab-df-convert');\n",
              "        buttonEl.style.display =\n",
              "          google.colab.kernel.accessAllowed ? 'block' : 'none';\n",
              "\n",
              "        async function convertToInteractive(key) {\n",
              "          const element = document.querySelector('#df-f2f50862-8c9d-486f-b80b-559fd78ef4f7');\n",
              "          const dataTable =\n",
              "            await google.colab.kernel.invokeFunction('convertToInteractive',\n",
              "                                                     [key], {});\n",
              "          if (!dataTable) return;\n",
              "\n",
              "          const docLinkHtml = 'Like what you see? Visit the ' +\n",
              "            '<a target=\"_blank\" href=https://colab.research.google.com/notebooks/data_table.ipynb>data table notebook</a>'\n",
              "            + ' to learn more about interactive tables.';\n",
              "          element.innerHTML = '';\n",
              "          dataTable['output_type'] = 'display_data';\n",
              "          await google.colab.output.renderOutput(dataTable, element);\n",
              "          const docLink = document.createElement('div');\n",
              "          docLink.innerHTML = docLinkHtml;\n",
              "          element.appendChild(docLink);\n",
              "        }\n",
              "      </script>\n",
              "    </div>\n",
              "  </div>\n",
              "  "
            ],
            "text/plain": [
              "        State Murder Assault UrbanPop\n",
              "0     Alabama   13.2     236       58\n",
              "1      Alaska   10.0     263       48\n",
              "2     Arizona    8.1     294       80\n",
              "3    Arkansas    8.8     190       50\n",
              "4  California    9.0     276       91"
            ]
          },
          "metadata": {},
          "execution_count": 120
        }
      ]
    },
    {
      "cell_type": "code",
      "source": [
        "features = np.array(DF[[\"Assault\",\"UrbanPop\"]])\n",
        "features = normalize(features, axis=0)\n",
        "\n",
        "target = np.array(DF[[\"Murder\"]])\n",
        "target = normalize(target, axis=0)\n",
        "\n",
        "X_train, X_test, y_train, y_test = train_test_split(features, target, test_size = 0.25)"
      ],
      "metadata": {
        "id": "hAzlPF3i1o3A"
      },
      "execution_count": 121,
      "outputs": []
    },
    {
      "cell_type": "code",
      "source": [
        "# optimization step: conjugate gradient descent\n",
        "\n",
        "theta_0 = np.array([0,0,0,0,1])\n",
        "\n",
        "theta = minimize(fun = marginal_loglikelihood, x0 = theta_0, args = (X_train, y_train), method=\"CG\")\n",
        "theta.x"
      ],
      "metadata": {
        "colab": {
          "base_uri": "https://localhost:8080/"
        },
        "id": "njn3ab0t1k-b",
        "outputId": "3d06dc83-e1c2-41f2-e845-02fe12e2cbb0"
      },
      "execution_count": 122,
      "outputs": [
        {
          "output_type": "execute_result",
          "data": {
            "text/plain": [
              "array([1.49200122e+06, 1.04415029e+05, 3.62788729e+05, 1.06478164e+03,\n",
              "       1.82351855e+06])"
            ]
          },
          "metadata": {},
          "execution_count": 122
        }
      ]
    },
    {
      "cell_type": "code",
      "source": [
        "# prediction step:\n",
        "\n",
        "predicted_murder = []\n",
        "for test_input in X_test:\n",
        "  predicted_murder.append( prediction_step(theta.x, X_train, y_train, test_input) )\n",
        "\n",
        "predicted_murder = np.array(predicted_murder).reshape(-1,1)\n",
        "\n",
        "RMSE = sqrt( np.mean( (predicted_murder - y_test)**2 ) )\n",
        "RMSE"
      ],
      "metadata": {
        "colab": {
          "base_uri": "https://localhost:8080/"
        },
        "id": "2dtfPV-Y1m9L",
        "outputId": "68a9b179-3e2a-4786-85f1-2b8432b437a5"
      },
      "execution_count": 123,
      "outputs": [
        {
          "output_type": "execute_result",
          "data": {
            "text/plain": [
              "0.09285750457028175"
            ]
          },
          "metadata": {},
          "execution_count": 123
        }
      ]
    },
    {
      "cell_type": "markdown",
      "source": [
        "## 2. IWAE"
      ],
      "metadata": {
        "id": "F0cjWJoEHVIt"
      }
    },
    {
      "cell_type": "markdown",
      "metadata": {
        "id": "z3sguCcpg2Yw"
      },
      "source": [
        "# Loading useful stuff"
      ]
    },
    {
      "cell_type": "code",
      "metadata": {
        "id": "xMPYV_R2ghyx"
      },
      "source": [
        "import numpy as np\n",
        "import tensorflow as tf\n",
        "import matplotlib.pyplot as plt\n",
        "import tensorflow_probability as tfp\n",
        "\n",
        "tfk = tf.keras\n",
        "tfkl = tf.keras.layers\n",
        "tfd = tfp.distributions"
      ],
      "execution_count": 124,
      "outputs": []
    },
    {
      "cell_type": "markdown",
      "metadata": {
        "id": "h58v-MfihGen"
      },
      "source": [
        "# Loading MNIST and binarising it"
      ]
    },
    {
      "cell_type": "code",
      "metadata": {
        "id": "1sTryqQpguSj"
      },
      "source": [
        "(train_images_nonbinary, y_train), (test_images_nonbinary,  y_test) = tf.keras.datasets.mnist.load_data()\n",
        "\n",
        "train_images_nonbinary = train_images_nonbinary.reshape(train_images_nonbinary.shape[0], 28*28)\n",
        "test_images_nonbinary = test_images_nonbinary.reshape(test_images_nonbinary.shape[0], 28*28)\n",
        "\n",
        "y_train = tf.cast(y_train, tf.int64)\n",
        "y_test =tf.cast(y_test, tf.int64)"
      ],
      "execution_count": 125,
      "outputs": []
    },
    {
      "cell_type": "code",
      "metadata": {
        "id": "xP-RnOcwjIUK",
        "colab": {
          "base_uri": "https://localhost:8080/",
          "height": 248
        },
        "outputId": "689cd9fe-11d4-46a1-dc6d-dd082f014aa5"
      },
      "source": [
        "plt.imshow(train_images_nonbinary[0, :].reshape((28,28)), cmap='gray')\n",
        "plt.axis('off')\n",
        "plt.show()"
      ],
      "execution_count": 126,
      "outputs": [
        {
          "output_type": "display_data",
          "data": {
            "image/png": "[encoded data removed]",
            "text/plain": [
              "<Figure size 432x288 with 1 Axes>"
            ]
          },
          "metadata": {
            "needs_background": "light"
          }
        }
      ]
    },
    {
      "cell_type": "markdown",
      "metadata": {
        "id": "6JaPwhRdhI8s"
      },
      "source": [
        "Then we binarise the data. There are many ways to do that. Here, we simply round the numbers, following the [TF tutorial on convolutional VAEs](https://www.tensorflow.org/tutorials/generative/cvae)."
      ]
    },
    {
      "cell_type": "code",
      "metadata": {
        "id": "UyIpmbV8g4d3"
      },
      "source": [
        "# Normalizing the images to the range of [0., 1.]\n",
        "train_images = train_images_nonbinary/255.\n",
        "test_images = test_images_nonbinary/255.\n",
        "\n",
        "# Binarization\n",
        "train_images[train_images >= .5] = 1.\n",
        "train_images[train_images < .5] = 0.\n",
        "test_images[test_images >= .5] = 1.\n",
        "test_images[test_images < .5] = 0."
      ],
      "execution_count": 127,
      "outputs": []
    },
    {
      "cell_type": "code",
      "metadata": {
        "id": "s8pOg8LNg7p2",
        "colab": {
          "base_uri": "https://localhost:8080/",
          "height": 248
        },
        "outputId": "d971f734-8d8d-4acc-843e-a73167ba8af1"
      },
      "source": [
        "plt.imshow(train_images[0, :].reshape((28,28)), cmap='gray')\n",
        "plt.axis('off')\n",
        "plt.show()"
      ],
      "execution_count": 128,
      "outputs": [
        {
          "output_type": "display_data",
          "data": {
            "image/png": "[encoded data removed]",
            "text/plain": [
              "<Figure size 432x288 with 1 Axes>"
            ]
          },
          "metadata": {
            "needs_background": "light"
          }
        }
      ]
    },
    {
      "cell_type": "markdown",
      "metadata": {
        "id": "cybWUmUGMNqH"
      },
      "source": [
        "# Specifying our graphical model"
      ]
    },
    {
      "cell_type": "markdown",
      "metadata": {
        "id": "x_SffkK9GaRh"
      },
      "source": [
        "We will use a **deep latent variable model with a Gaussian prior and a Bernoulli observation model**. This can be written:\n",
        "\n",
        "$$p_{\\boldsymbol{\\theta}}(\\mathbf{x}_1,...,\\mathbf{x}_n) = \\prod_{i=1}^n p(\\mathbf{x}_i|\\mathbf{z}_i)p(\\mathbf{z}_i),$$\n",
        "$$p(\\mathbf{z}_i) = \\mathcal{N}(\\mathbf{z}_i|\\mathbf{0}_d,\\mathbf{I}_d), $$\n",
        "$$p_{\\boldsymbol{\\theta}}(\\mathbf{x}_i|\\mathbf{z}_i) = \\mathcal{B} (\\mathbf{x}_i|\\boldsymbol{\\pi}_{\\boldsymbol{\\theta}}(\\mathbf{z}_i)),$$\n",
        "\n",
        "where $\\boldsymbol{\\pi}_{\\boldsymbol{\\theta}}: \\mathbb{R}^d \\rightarrow \\mathbb{[0,1]}^p$ is a function (called the **decoder**) parametrised by a deep neural net. This neural net will be defined as a keras sequential model."
      ]
    },
    {
      "cell_type": "code",
      "metadata": {
        "id": "LdIQhO9ZMLsD",
        "colab": {
          "base_uri": "https://localhost:8080/"
        },
        "outputId": "154f5b5e-cf62-4002-b896-ccc18a7335fa"
      },
      "source": [
        "d = 10 # dimension of the latent space\n",
        "\n",
        "p_z = tfd.Independent(tfd.Normal(loc = tf.zeros(d, tf.float32), scale = tf.ones(d, tf.float32)),reinterpreted_batch_ndims=1)  # that's the prior\n",
        "\n",
        "np.array( p_z.sample() )"
      ],
      "execution_count": 129,
      "outputs": [
        {
          "output_type": "execute_result",
          "data": {
            "text/plain": [
              "array([ 1.6358532 ,  0.33898902,  0.5827557 , -1.0222918 ,  0.45605516,\n",
              "        0.1429545 , -0.28240833,  1.659014  , -0.41079754,  0.29954264],\n",
              "      dtype=float32)"
            ]
          },
          "metadata": {},
          "execution_count": 129
        }
      ]
    },
    {
      "cell_type": "code",
      "metadata": {
        "id": "x1hb-6ysMLvO"
      },
      "source": [
        "h = 100 # number of hidden units\n",
        "\n",
        "sigma = \"relu\"\n",
        "\n",
        "decoder = tfk.Sequential([\n",
        "  tfkl.InputLayer(input_shape=[d,]),\n",
        "  tfkl.Dense(h, activation=sigma),\n",
        "  tfkl.Dense(h, activation=sigma),\n",
        "  tfkl.Dense(28*28)\n",
        "])\n",
        "\n",
        "pi_theta_z = np.array( decoder(np.array([p_z.sample()])) ).reshape((28,28))"
      ],
      "execution_count": 130,
      "outputs": []
    },
    {
      "cell_type": "markdown",
      "source": [
        "Note that the decoder needs to output probabilities, which can be constrained using a sigmoid final layer. However, it is generally better (i.e. computationnaly more stable) to work with [logits](https://stackoverflow.com/questions/34240703/what-are-logits-what-is-the-difference-between-softmax-and-softmax-cross-entrop) than probabilities, when doing deep learning. For instance, all the distributions of TensorFlow probability or Pytorch distributions that use probabilities as parameters (e.g. [Bernoulli](https://www.tensorflow.org/probability/api_docs/python/tfp/distributions/Bernoulli), [categorical](https://www.tensorflow.org/probability/api_docs/python/tfp/distributions/Categorical) or [binomial](https://www.tensorflow.org/probability/api_docs/python/tfp/distributions/Binomial)) can use $\\texttt{logits}$ or $\\texttt{probs}$ as arguments. It is generally better to use  $\\texttt{logits}$. This is why this keras model for the decoder does not output probabilities, but logits.\n",
        "\n",
        "\n",
        "\n"
      ],
      "metadata": {
        "id": "BZkgqqw2J32a"
      }
    },
    {
      "cell_type": "markdown",
      "source": [
        "### 1. Ancestral sampling"
      ],
      "metadata": {
        "id": "6AZ5fL3WIAdW"
      }
    },
    {
      "cell_type": "markdown",
      "source": [
        "**1. Implement a function that performs ancestral sampling for this deep latent variable model, and show 5 sampled images from the initialised model. Of course, we expect these samples to look like random noise, since we have not trained our model yet.**"
      ],
      "metadata": {
        "id": "Swqz4zq0HxHe"
      }
    },
    {
      "cell_type": "code",
      "source": [
        "def ancestral_sampling(p_z, decoder):\n",
        "\n",
        "  # sample z from the prior\n",
        "  z = p_z.sample()\n",
        "\n",
        "  # compute parameter for the bernoulli\n",
        "  pi_theta_z = np.array( decoder(np.array([z])) ).reshape((28,28))\n",
        "\n",
        "  # sample pixel from the bernoulli\n",
        "  pixels_image = tfd.Bernoulli(logits = pi_theta_z).sample()\n",
        "  plt.imshow( pixels_image, cmap='gray' )\n",
        "  plt.show()\n",
        "\n",
        "  return np.array(pixels_image)\n",
        "\n",
        "\n",
        "for image in range(5):\n",
        "  p_z = tfd.Independent(tfd.Normal(loc = tf.zeros(d, tf.float32), scale = tf.ones(d, tf.float32)),reinterpreted_batch_ndims=1)  # that's the prior\n",
        "  decoder = tfk.Sequential([\n",
        "    tfkl.InputLayer(input_shape=[d,]),\n",
        "    tfkl.Dense(h, activation=sigma),\n",
        "    tfkl.Dense(h, activation=sigma),\n",
        "    tfkl.Dense(28*28)\n",
        "  ])\n",
        "  ancestral_sampling(p_z, decoder)"
      ],
      "metadata": {
        "id": "lWCfEy4r7Za4",
        "colab": {
          "base_uri": "https://localhost:8080/",
          "height": 1000
        },
        "outputId": "406d6fd7-e8d8-4898-f7a9-4c9f1cc447b1"
      },
      "execution_count": 131,
      "outputs": [
        {
          "output_type": "display_data",
          "data": {
            "image/png": "[encoded data removed]",
            "text/plain": [
              "<Figure size 432x288 with 1 Axes>"
            ]
          },
          "metadata": {
            "needs_background": "light"
          }
        },
        {
          "output_type": "display_data",
          "data": {
            "image/png": "[encoded data removed]",
            "text/plain": [
              "<Figure size 432x288 with 1 Axes>"
            ]
          },
          "metadata": {
            "needs_background": "light"
          }
        },
        {
          "output_type": "display_data",
          "data": {
            "image/png": "[encoded data removed]",
            "text/plain": [
              "<Figure size 432x288 with 1 Axes>"
            ]
          },
          "metadata": {
            "needs_background": "light"
          }
        },
        {
          "output_type": "display_data",
          "data": {
            "image/png": "[encoded data removed]",
            "text/plain": [
              "<Figure size 432x288 with 1 Axes>"
            ]
          },
          "metadata": {
            "needs_background": "light"
          }
        },
        {
          "output_type": "display_data",
          "data": {
            "image/png": "[encoded data removed]",
            "text/plain": [
              "<Figure size 432x288 with 1 Axes>"
            ]
          },
          "metadata": {
            "needs_background": "light"
          }
        }
      ]
    },
    {
      "cell_type": "markdown",
      "metadata": {
        "id": "z3HIWw5hNSun"
      },
      "source": [
        "## Encoder"
      ]
    },
    {
      "cell_type": "markdown",
      "metadata": {
        "id": "uC62wDDvHIsb"
      },
      "source": [
        "To be able to train our model, we will need an **encoder** (aka **inference network**), that will allow us to approximate the intractable posterior $p(\\mathbf{z}|\\mathbf{x})$.\n",
        "The approximate posterior is defined as follows\n",
        "$$ q(\\mathbf{z}|\\mathbf{x}) = \\mathcal{N}(\\mathbf{z} | \\mathbf{m}_\\boldsymbol{\\gamma} ( \\mathbf{x} ), \\text{Diag}(\\mathbf{s}_\\boldsymbol{\\gamma} ( \\mathbf{x} )),\n",
        "$$ \n",
        "where $\\mathbf{x} \\mapsto (\\mathbf{m}_\\boldsymbol{\\gamma} ( \\mathbf{x} ), \\mathbf{s}_\\boldsymbol{\\gamma} ( \\mathbf{x} ))$ is a function from the data space (i.e. $\\{0,1\\}^p$) to $\\mathbb{R}^d \\times [0, \\infty[^d$ parametrised by a deep neural network. In other words, the encoder outputs the mean and the diagonal of the covariance matrix of the approximate posterior $q(\\mathbf{z}|\\mathbf{x})$."
      ]
    },
    {
      "cell_type": "code",
      "metadata": {
        "id": "mQFCFP4GMLxx"
      },
      "source": [
        "encoder = tfk.Sequential([\n",
        "  tfkl.InputLayer(input_shape=[28*28,]),\n",
        "  tfkl.Dense(h, activation=sigma),\n",
        "  tfkl.Dense(h, activation=sigma),\n",
        "  tfkl.Dense(2*d) # 2*d because we need both the mean and the diagonal of the covariance of q(z|x)\n",
        "])"
      ],
      "execution_count": 132,
      "outputs": []
    },
    {
      "cell_type": "markdown",
      "metadata": {
        "id": "KbracCjgNDjH"
      },
      "source": [
        "##The IWAE objective"
      ]
    },
    {
      "cell_type": "markdown",
      "metadata": {
        "id": "k2Nbj9JoNYIX"
      },
      "source": [
        "The **IWAE objective** is defined as\n",
        "$$\n",
        "\\mathcal{L}_K (\\boldsymbol{\\theta,\\gamma}) = \\sum_{i=1}^n \\mathbb{E}_{\\mathbf{z}_{i1},\\ldots,\\mathbf{z}_{iK} \\sim q_{\\boldsymbol{\\gamma}}(\\mathbf{z}|\\mathbf{x}_i)} \\left[ \\log\\frac{1}{K} \\sum_{k=1}^K \\frac{p_{\\boldsymbol{\\theta}}(\\mathbf{x}_i|\\mathbf{z}_{ik}){p(\\mathbf{z}_{ik})}}{{q_{\\boldsymbol{\\gamma}}(\\mathbf{z}_{ik}|\\mathbf{x}_i)}} \\right]\n",
        "$$"
      ]
    },
    {
      "cell_type": "markdown",
      "source": [
        "### 2. Training"
      ],
      "metadata": {
        "id": "jrTMyHKMIEzq"
      }
    },
    {
      "cell_type": "markdown",
      "metadata": {
        "id": "IRd-gC2qN5fS"
      },
      "source": [
        "**2. Create a function that computes an unbiased estimate of the IWAE bound, and optimise it to train the model. You are allowed to use TF probability to avoid implementing the reparametrisation trick, and you are allowed to use keras for training.** \n",
        "\n",
        "\n",
        "\n",
        "\n"
      ]
    },
    {
      "cell_type": "markdown",
      "source": [
        "..."
      ],
      "metadata": {
        "id": "6UxiTnNhmDIX"
      }
    },
    {
      "cell_type": "markdown",
      "source": [
        "### 3. Sampling"
      ],
      "metadata": {
        "id": "KkuBPr72IIwl"
      }
    },
    {
      "cell_type": "markdown",
      "source": [
        "**3. Show a few samples from the model after training.**"
      ],
      "metadata": {
        "id": "QifyVPyRIKcI"
      }
    },
    {
      "cell_type": "markdown",
      "source": [
        "..."
      ],
      "metadata": {
        "id": "cYPT9cHdmEA7"
      }
    },
    {
      "cell_type": "markdown",
      "source": [
        "### 4. Importance sampling and visualisation"
      ],
      "metadata": {
        "id": "M8Lbd_IyIMaR"
      }
    },
    {
      "cell_type": "markdown",
      "source": [
        "**Implement a importance sampling estimate to approximate the posterior mean of each data point: $\\mathbb{E}[z|x_i] = \\int z \\: p(z|x_i) \\: dz$**\n",
        "\n",
        "\n",
        "**Visualise these two-dimensional embeddings using a scatter plot.**"
      ],
      "metadata": {
        "id": "p-KI0r_AIPlB"
      }
    },
    {
      "cell_type": "code",
      "source": [
        "sample_size = 100\n",
        "\n",
        "p_z = tfd.Independent(tfd.Normal(loc = tf.zeros(d, tf.float32), scale = tf.ones(d, tf.float32)),reinterpreted_batch_ndims=1)  # that's the prior\n",
        "\n",
        "posterior_mean = []\n",
        "\n",
        "for image in range(len(train_images)):\n",
        "\n",
        "  x = np.array([train_images[image]])\n",
        "  mean, var = tf.reshape(encoder(x),[2,10])\n",
        "  var = tf.exp(var/2)\n",
        "  \n",
        "  #z = tfd.Independent(tfd.Normal(loc = mean, scale = var),reinterpreted_batch_ndims=1)\n",
        "  z = tfd.Normal(loc = mean, scale = var)\n",
        "  z_samples = z.sample(sample_size)\n",
        "\n",
        "  # p(z|x) = p_theta(x|z).p(z)\n",
        "  theta = decoder(z_samples)\n",
        "  log_p_theta_x_z = tf.reduce_sum( tfd.Bernoulli(theta).log_prob(x), axis=1 )\n",
        "\n",
        "  # prior\n",
        "  log_p_z = p_z.log_prob(z_samples)\n",
        "\n",
        "  # q_gamma(z|x)\n",
        "  log_q_gamma_z_x = tf.reduce_sum( z.log_prob(z_samples), axis=1 )\n",
        "\n",
        "  ratio = tf.exp( log_p_theta_x_z + log_p_z - log_q_gamma_z_x - tf.reduce_logsumexp(log_p_theta_x_z + log_p_z - log_q_gamma_z_x) )\n",
        "\n",
        "  posterior_mean.append( tf.reduce_sum( z_samples * np.array([ratio]).reshape(-1,1), axis=0) )\n"
      ],
      "metadata": {
        "colab": {
          "base_uri": "https://localhost:8080/",
          "height": 433
        },
        "id": "LIeUtLu7mX0r",
        "outputId": "928170e9-efac-4ee9-c57d-2c4e98b8a02c"
      },
      "execution_count": 133,
      "outputs": [
        {
          "output_type": "error",
          "ename": "KeyboardInterrupt",
          "evalue": "ignored",
          "traceback": [
            "\u001b[0;31m---------------------------------------------------------------------------\u001b[0m",
            "\u001b[0;31mKeyboardInterrupt\u001b[0m                         Traceback (most recent call last)",
            "\u001b[0;32m<ipython-input-133-eec05115f892>\u001b[0m in \u001b[0;36m<module>\u001b[0;34m()\u001b[0m\n\u001b[1;32m     13\u001b[0m   \u001b[0;31m#z = tfd.Independent(tfd.Normal(loc = mean, scale = var),reinterpreted_batch_ndims=1)\u001b[0m\u001b[0;34m\u001b[0m\u001b[0;34m\u001b[0m\u001b[0;34m\u001b[0m\u001b[0m\n\u001b[1;32m     14\u001b[0m   \u001b[0mz\u001b[0m \u001b[0;34m=\u001b[0m \u001b[0mtfd\u001b[0m\u001b[0;34m.\u001b[0m\u001b[0mNormal\u001b[0m\u001b[0;34m(\u001b[0m\u001b[0mloc\u001b[0m \u001b[0;34m=\u001b[0m \u001b[0mmean\u001b[0m\u001b[0;34m,\u001b[0m \u001b[0mscale\u001b[0m \u001b[0;34m=\u001b[0m \u001b[0mvar\u001b[0m\u001b[0;34m)\u001b[0m\u001b[0;34m\u001b[0m\u001b[0;34m\u001b[0m\u001b[0m\n\u001b[0;32m---> 15\u001b[0;31m   \u001b[0mz_samples\u001b[0m \u001b[0;34m=\u001b[0m \u001b[0mz\u001b[0m\u001b[0;34m.\u001b[0m\u001b[0msample\u001b[0m\u001b[0;34m(\u001b[0m\u001b[0msample_size\u001b[0m\u001b[0;34m)\u001b[0m\u001b[0;34m\u001b[0m\u001b[0;34m\u001b[0m\u001b[0m\n\u001b[0m\u001b[1;32m     16\u001b[0m \u001b[0;34m\u001b[0m\u001b[0m\n\u001b[1;32m     17\u001b[0m   \u001b[0;31m# p(z|x) = p_theta(x|z).p(z)\u001b[0m\u001b[0;34m\u001b[0m\u001b[0;34m\u001b[0m\u001b[0;34m\u001b[0m\u001b[0m\n",
            "\u001b[0;32m/usr/local/lib/python3.7/dist-packages/tensorflow_probability/python/distributions/distribution.py\u001b[0m in \u001b[0;36msample\u001b[0;34m(self, sample_shape, seed, name, **kwargs)\u001b[0m\n\u001b[1;32m   1232\u001b[0m     \"\"\"\n\u001b[1;32m   1233\u001b[0m     \u001b[0;32mwith\u001b[0m \u001b[0mself\u001b[0m\u001b[0;34m.\u001b[0m\u001b[0m_name_and_control_scope\u001b[0m\u001b[0;34m(\u001b[0m\u001b[0mname\u001b[0m\u001b[0;34m)\u001b[0m\u001b[0;34m:\u001b[0m\u001b[0;34m\u001b[0m\u001b[0;34m\u001b[0m\u001b[0m\n\u001b[0;32m-> 1234\u001b[0;31m       \u001b[0;32mreturn\u001b[0m \u001b[0mself\u001b[0m\u001b[0;34m.\u001b[0m\u001b[0m_call_sample_n\u001b[0m\u001b[0;34m(\u001b[0m\u001b[0msample_shape\u001b[0m\u001b[0;34m,\u001b[0m \u001b[0mseed\u001b[0m\u001b[0;34m,\u001b[0m \u001b[0;34m**\u001b[0m\u001b[0mkwargs\u001b[0m\u001b[0;34m)\u001b[0m\u001b[0;34m\u001b[0m\u001b[0;34m\u001b[0m\u001b[0m\n\u001b[0m\u001b[1;32m   1235\u001b[0m \u001b[0;34m\u001b[0m\u001b[0m\n\u001b[1;32m   1236\u001b[0m   \u001b[0;32mdef\u001b[0m \u001b[0m_call_sample_and_log_prob\u001b[0m\u001b[0;34m(\u001b[0m\u001b[0mself\u001b[0m\u001b[0;34m,\u001b[0m \u001b[0msample_shape\u001b[0m\u001b[0;34m,\u001b[0m \u001b[0mseed\u001b[0m\u001b[0;34m,\u001b[0m \u001b[0;34m**\u001b[0m\u001b[0mkwargs\u001b[0m\u001b[0;34m)\u001b[0m\u001b[0;34m:\u001b[0m\u001b[0;34m\u001b[0m\u001b[0;34m\u001b[0m\u001b[0m\n",
            "\u001b[0;32m/usr/local/lib/python3.7/dist-packages/tensorflow_probability/python/distributions/distribution.py\u001b[0m in \u001b[0;36m_call_sample_n\u001b[0;34m(self, sample_shape, seed, **kwargs)\u001b[0m\n\u001b[1;32m   1208\u001b[0m         ps.cast(sample_shape, tf.int32), name='sample_shape')\n\u001b[1;32m   1209\u001b[0m     sample_shape, n = self._expand_sample_shape_to_vector(\n\u001b[0;32m-> 1210\u001b[0;31m         sample_shape, 'sample_shape')\n\u001b[0m\u001b[1;32m   1211\u001b[0m     samples = self._sample_n(\n\u001b[1;32m   1212\u001b[0m         n, seed=seed() if callable(seed) else seed, **kwargs)\n",
            "\u001b[0;32m/usr/local/lib/python3.7/dist-packages/tensorflow_probability/python/distributions/distribution.py\u001b[0m in \u001b[0;36m_expand_sample_shape_to_vector\u001b[0;34m(self, x, name)\u001b[0m\n\u001b[1;32m   2013\u001b[0m     \u001b[0;34m\"\"\"Helper to `sample` which ensures input is 1D.\"\"\"\u001b[0m\u001b[0;34m\u001b[0m\u001b[0;34m\u001b[0m\u001b[0m\n\u001b[1;32m   2014\u001b[0m     \u001b[0mprod\u001b[0m \u001b[0;34m=\u001b[0m \u001b[0mps\u001b[0m\u001b[0;34m.\u001b[0m\u001b[0mreduce_prod\u001b[0m\u001b[0;34m(\u001b[0m\u001b[0mx\u001b[0m\u001b[0;34m)\u001b[0m\u001b[0;34m\u001b[0m\u001b[0;34m\u001b[0m\u001b[0m\n\u001b[0;32m-> 2015\u001b[0;31m     \u001b[0mx\u001b[0m \u001b[0;34m=\u001b[0m \u001b[0mdistribution_util\u001b[0m\u001b[0;34m.\u001b[0m\u001b[0mexpand_to_vector\u001b[0m\u001b[0;34m(\u001b[0m\u001b[0mx\u001b[0m\u001b[0;34m,\u001b[0m \u001b[0mtensor_name\u001b[0m\u001b[0;34m=\u001b[0m\u001b[0mname\u001b[0m\u001b[0;34m)\u001b[0m\u001b[0;34m\u001b[0m\u001b[0;34m\u001b[0m\u001b[0m\n\u001b[0m\u001b[1;32m   2016\u001b[0m     \u001b[0;32mreturn\u001b[0m \u001b[0mx\u001b[0m\u001b[0;34m,\u001b[0m \u001b[0mprod\u001b[0m\u001b[0;34m\u001b[0m\u001b[0;34m\u001b[0m\u001b[0m\n\u001b[1;32m   2017\u001b[0m \u001b[0;34m\u001b[0m\u001b[0m\n",
            "\u001b[0;32m/usr/local/lib/python3.7/dist-packages/tensorflow_probability/python/internal/distribution_util.py\u001b[0m in \u001b[0;36mexpand_to_vector\u001b[0;34m(x, tensor_name, op_name, validate_args)\u001b[0m\n\u001b[1;32m   1414\u001b[0m       \u001b[0;31m# Definitely expand ndims from 0 to 1.\u001b[0m\u001b[0;34m\u001b[0m\u001b[0;34m\u001b[0m\u001b[0;34m\u001b[0m\u001b[0m\n\u001b[1;32m   1415\u001b[0m       return ps.convert_to_shape_tensor(\n\u001b[0;32m-> 1416\u001b[0;31m           ps.reshape(x_orig, [1]), name=tensor_name)\n\u001b[0m\u001b[1;32m   1417\u001b[0m \u001b[0;34m\u001b[0m\u001b[0m\n\u001b[1;32m   1418\u001b[0m     \u001b[0;32melif\u001b[0m \u001b[0mndims\u001b[0m \u001b[0;34m!=\u001b[0m \u001b[0;36m1\u001b[0m\u001b[0;34m:\u001b[0m\u001b[0;34m\u001b[0m\u001b[0;34m\u001b[0m\u001b[0m\n",
            "\u001b[0;32m<decorator-gen-220>\u001b[0m in \u001b[0;36mreshape\u001b[0;34m(*args, **kwargs)\u001b[0m\n",
            "\u001b[0;32m/usr/local/lib/python3.7/dist-packages/tensorflow_probability/python/internal/prefer_static.py\u001b[0m in \u001b[0;36mwrap\u001b[0;34m(***failed resolving arguments***)\u001b[0m\n\u001b[1;32m     79\u001b[0m     \u001b[0;32mif\u001b[0m \u001b[0mall_static\u001b[0m\u001b[0;34m:\u001b[0m\u001b[0;34m\u001b[0m\u001b[0;34m\u001b[0m\u001b[0m\n\u001b[1;32m     80\u001b[0m       \u001b[0;34m[\u001b[0m\u001b[0margs_\u001b[0m\u001b[0;34m,\u001b[0m \u001b[0mkwargs_\u001b[0m\u001b[0;34m]\u001b[0m \u001b[0;34m=\u001b[0m \u001b[0mtf\u001b[0m\u001b[0;34m.\u001b[0m\u001b[0mnest\u001b[0m\u001b[0;34m.\u001b[0m\u001b[0mpack_sequence_as\u001b[0m\u001b[0;34m(\u001b[0m\u001b[0;34m[\u001b[0m\u001b[0margs\u001b[0m\u001b[0;34m,\u001b[0m \u001b[0mkwargs\u001b[0m\u001b[0;34m]\u001b[0m\u001b[0;34m,\u001b[0m \u001b[0mflat_args_\u001b[0m\u001b[0;34m)\u001b[0m\u001b[0;34m\u001b[0m\u001b[0;34m\u001b[0m\u001b[0m\n\u001b[0;32m---> 81\u001b[0;31m       \u001b[0;32mreturn\u001b[0m \u001b[0mstatic_fn\u001b[0m\u001b[0;34m(\u001b[0m\u001b[0;34m*\u001b[0m\u001b[0margs_\u001b[0m\u001b[0;34m,\u001b[0m \u001b[0;34m**\u001b[0m\u001b[0mkwargs_\u001b[0m\u001b[0;34m)\u001b[0m\u001b[0;34m\u001b[0m\u001b[0;34m\u001b[0m\u001b[0m\n\u001b[0m\u001b[1;32m     82\u001b[0m     \u001b[0;32mreturn\u001b[0m \u001b[0moriginal_fn\u001b[0m\u001b[0;34m(\u001b[0m\u001b[0;34m*\u001b[0m\u001b[0margs\u001b[0m\u001b[0;34m,\u001b[0m \u001b[0;34m**\u001b[0m\u001b[0mkwargs\u001b[0m\u001b[0;34m)\u001b[0m\u001b[0;34m\u001b[0m\u001b[0;34m\u001b[0m\u001b[0m\n\u001b[1;32m     83\u001b[0m   \u001b[0;32mreturn\u001b[0m \u001b[0mwrap\u001b[0m\u001b[0;34m(\u001b[0m\u001b[0moriginal_fn\u001b[0m\u001b[0;34m)\u001b[0m\u001b[0;34m\u001b[0m\u001b[0;34m\u001b[0m\u001b[0m\n",
            "\u001b[0;32m/usr/local/lib/python3.7/dist-packages/tensorflow_probability/python/internal/backend/numpy/_utils.py\u001b[0m in \u001b[0;36mwrap\u001b[0;34m(wrapped, instance, args, kwargs)\u001b[0m\n\u001b[1;32m     57\u001b[0m     \u001b[0;32mreturn\u001b[0m \u001b[0mnew_fn\u001b[0m\u001b[0;34m\u001b[0m\u001b[0;34m\u001b[0m\u001b[0m\n\u001b[1;32m     58\u001b[0m   \u001b[0moriginal_fn\u001b[0m \u001b[0;34m=\u001b[0m \u001b[0m_find_method_from_name\u001b[0m\u001b[0;34m(\u001b[0m\u001b[0mglobals\u001b[0m\u001b[0;34m(\u001b[0m\u001b[0;34m)\u001b[0m\u001b[0;34m,\u001b[0m \u001b[0mtf_method_name\u001b[0m\u001b[0;34m)\u001b[0m\u001b[0;34m\u001b[0m\u001b[0;34m\u001b[0m\u001b[0m\n\u001b[0;32m---> 59\u001b[0;31m   \u001b[0;34m@\u001b[0m\u001b[0mwrapt\u001b[0m\u001b[0;34m.\u001b[0m\u001b[0mdecorator\u001b[0m\u001b[0;34m\u001b[0m\u001b[0;34m\u001b[0m\u001b[0m\n\u001b[0m\u001b[1;32m     60\u001b[0m   \u001b[0;32mdef\u001b[0m \u001b[0mwrap\u001b[0m\u001b[0;34m(\u001b[0m\u001b[0mwrapped\u001b[0m\u001b[0;34m,\u001b[0m \u001b[0minstance\u001b[0m\u001b[0;34m,\u001b[0m \u001b[0margs\u001b[0m\u001b[0;34m,\u001b[0m \u001b[0mkwargs\u001b[0m\u001b[0;34m)\u001b[0m\u001b[0;34m:\u001b[0m\u001b[0;34m\u001b[0m\u001b[0;34m\u001b[0m\u001b[0m\n\u001b[1;32m     61\u001b[0m     \u001b[0;32mdel\u001b[0m \u001b[0minstance\u001b[0m\u001b[0;34m,\u001b[0m \u001b[0mwrapped\u001b[0m\u001b[0;34m\u001b[0m\u001b[0;34m\u001b[0m\u001b[0m\n",
            "\u001b[0;31mKeyboardInterrupt\u001b[0m: "
          ]
        }
      ]
    },
    {
      "cell_type": "code",
      "source": [
        "embedding_1 = np.array(posterior_mean)[:,0]\n",
        "embedding_2 = np.array(posterior_mean)[:,1]\n",
        "\n",
        "plt.scatter(embedding_1, embedding_2, c = np.arange(len(embedding_1)))"
      ],
      "metadata": {
        "colab": {
          "base_uri": "https://localhost:8080/",
          "height": 283
        },
        "id": "WtgAmGQmv7YU",
        "outputId": "977df68a-5b59-4b8a-bc98-fab5e61d3377"
      },
      "execution_count": 134,
      "outputs": [
        {
          "output_type": "execute_result",
          "data": {
            "text/plain": [
              "<matplotlib.collections.PathCollection at 0x7f002c2ad710>"
            ]
          },
          "metadata": {},
          "execution_count": 134
        },
        {
          "output_type": "display_data",
          "data": {
            "image/png": "[encoded data removed]",
            "text/plain": [
              "<Figure size 432x288 with 1 Axes>"
            ]
          },
          "metadata": {
            "needs_background": "light"
          }
        }
      ]
    },
    {
      "cell_type": "markdown",
      "source": [
        "I interrupt the above cell because it was too long.\n",
        "\n",
        "The visualization scatter plot capture the latent space distribution. During the training, we should be able to see some clusters appearing with increasing accuracy."
      ],
      "metadata": {
        "id": "CnXKQ6W-yWw-"
      }
    },
    {
      "cell_type": "code",
      "source": [
        ""
      ],
      "metadata": {
        "id": "-LgHj0vzzaeX"
      },
      "execution_count": null,
      "outputs": []
    }
  ]
}