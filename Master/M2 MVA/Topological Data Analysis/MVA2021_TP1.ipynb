{
 "cells": [
  {
   "cell_type": "markdown",
   "metadata": {},
   "source": [
    "## MVA 2021-22  "
   ]
  },
  {
   "cell_type": "markdown",
   "metadata": {},
   "source": [
    "To download this notebook or its pdf version:\n",
    "\n",
    "http://geometrica.saclay.inria.fr/team/Fred.Chazal/MVA2021.html"
   ]
  },
  {
   "cell_type": "markdown",
   "metadata": {},
   "source": [
    "Documentation for the latest version of Gudhi: \n",
    "\n",
    "http://gudhi.gforge.inria.fr/python/latest/"
   ]
  },
  {
   "cell_type": "markdown",
   "metadata": {},
   "source": [
    "The goal of this first TP is to get you familiar with the basic data structures in GUDHI to  build and manipulate simplicial complexes and filtrations. "
   ]
  },
  {
   "cell_type": "markdown",
   "metadata": {},
   "source": [
    "# Simplicial complexes and simplex trees"
   ]
  },
  {
   "cell_type": "markdown",
   "metadata": {},
   "source": [
    "In Gudhi, (filtered) simplicial complexes are encoded through a data structure called simplex tree. Here is a very simple example illustrating the use of simplex tree to represent simplicial complexes. See the Gudhi documentation for a complete list of functionalities. Try the following code and a few other functionalities from the documentation to get used to the Simplex Tree data structure."
   ]
  },
  {
   "cell_type": "code",
   "execution_count": 1,
   "metadata": {},
   "outputs": [],
   "source": [
    "import numpy as np\n",
    "import gudhi as gd\n",
    "import random as rd\n",
    "import matplotlib.pyplot as plt\n",
    "\n",
    "%matplotlib inline"
   ]
  },
  {
   "cell_type": "code",
   "execution_count": 2,
   "metadata": {},
   "outputs": [
    {
     "name": "stdout",
     "output_type": "stream",
     "text": [
      "First simplex inserted!\n"
     ]
    },
    {
     "data": {
      "text/plain": [
       "True"
      ]
     },
     "execution_count": 2,
     "metadata": {},
     "output_type": "execute_result"
    }
   ],
   "source": [
    "st = gd.SimplexTree() # Create an empty simplicial complex\n",
    "\n",
    "# Simplicies can be inserted 1 by 1\n",
    "# Vertices are indexed by integers\n",
    "if st.insert([0,1]):\n",
    "    print(\"First simplex inserted!\")\n",
    "st.insert([1,2])\n",
    "st.insert([2,3])\n",
    "st.insert([3,0])\n",
    "st.insert([0,2])\n",
    "st.insert([3,1])"
   ]
  },
  {
   "cell_type": "code",
   "execution_count": 3,
   "metadata": {},
   "outputs": [
    {
     "name": "stdout",
     "output_type": "stream",
     "text": [
      "([0], 0.0)\n",
      "([1], 0.0)\n",
      "([0, 1], 0.0)\n",
      "([2], 0.0)\n",
      "([0, 2], 0.0)\n",
      "([1, 2], 0.0)\n",
      "([3], 0.0)\n",
      "([0, 3], 0.0)\n",
      "([1, 3], 0.0)\n",
      "([2, 3], 0.0)\n"
     ]
    }
   ],
   "source": [
    "L = st.get_filtration() # Get a list with all simplices\n",
    "# Notice that inserting an edge automatically inserts its vertices, if they were not already in the complex\n",
    "for simplex in L:\n",
    "    print(simplex)"
   ]
  },
  {
   "cell_type": "code",
   "execution_count": 4,
   "metadata": {},
   "outputs": [
    {
     "name": "stdout",
     "output_type": "stream",
     "text": [
      "([0], 0.0)\n",
      "([1], 0.0)\n",
      "([0, 1], 0.0)\n",
      "([2], 0.0)\n",
      "([0, 2], 0.0)\n",
      "([1, 2], 0.0)\n",
      "([3], 0.0)\n",
      "([0, 3], 0.0)\n",
      "([1, 3], 0.0)\n",
      "([2, 3], 0.0)\n",
      "([0, 1, 2], 0.1)\n",
      "([1, 2, 3], 0.2)\n",
      "([0, 2, 3], 0.3)\n",
      "([0, 1, 3], 0.4)\n",
      "([4], 0.7)\n",
      "([2, 4], 0.7)\n",
      "([3, 4], 0.7)\n",
      "([2, 3, 4], 0.7)\n"
     ]
    }
   ],
   "source": [
    "# Insert the 2-skeleton, giving some filtration values to the faces\n",
    "st.insert([0,1,2],filtration=0.1)\n",
    "st.insert([1,2,3],filtration=0.2)\n",
    "st.insert([0,2,3],filtration=0.3)\n",
    "st.insert([0,1,3],filtration=0.4)\n",
    "\n",
    "# If you add a new simplex with a given filtration value, all its faces that \n",
    "# were not in the complex are inserted with the same filtration value\n",
    "st.insert([2,3,4],filtration=0.7)\n",
    "L = st.get_filtration()\n",
    "for simplex in L:\n",
    "    print(simplex)"
   ]
  },
  {
   "cell_type": "markdown",
   "metadata": {},
   "source": [
    "The filtration value of a simplex can be changed in the following way"
   ]
  },
  {
   "cell_type": "code",
   "execution_count": 5,
   "metadata": {},
   "outputs": [
    {
     "name": "stdout",
     "output_type": "stream",
     "text": [
      "([0], 0.0)\n",
      "([1], 0.0)\n",
      "([0, 1], 0.0)\n",
      "([2], 0.0)\n",
      "([0, 2], 0.0)\n",
      "([1, 2], 0.0)\n",
      "([3], 0.0)\n",
      "([0, 3], 0.0)\n",
      "([1, 3], 0.0)\n",
      "([2, 3], 0.0)\n",
      "([0, 1, 2], 0.1)\n",
      "([1, 2, 3], 0.2)\n",
      "([0, 2, 3], 0.3)\n",
      "([0, 1, 3], 0.4)\n",
      "([4], 0.7)\n",
      "([2, 4], 0.7)\n",
      "([3, 4], 0.7)\n",
      "([2, 3, 4], 1.0)\n"
     ]
    }
   ],
   "source": [
    "st.assign_filtration((2,3,4),1.0)\n",
    "\n",
    "L = st.get_filtration()\n",
    "for simplex in L:\n",
    "    print(simplex)"
   ]
  },
  {
   "cell_type": "markdown",
   "metadata": {},
   "source": [
    "** Warning! ** Take care that after changing the filtration value of a simplex, the result could no longer be a filtration, as illustrated below :"
   ]
  },
  {
   "cell_type": "code",
   "execution_count": 6,
   "metadata": {},
   "outputs": [
    {
     "name": "stdout",
     "output_type": "stream",
     "text": [
      "Giving the edge [3,4] the value 1.5:\n",
      "([0], 0.0)\n",
      "([1], 0.0)\n",
      "([0, 1], 0.0)\n",
      "([2], 0.0)\n",
      "([0, 2], 0.0)\n",
      "([1, 2], 0.0)\n",
      "([3], 0.0)\n",
      "([0, 3], 0.0)\n",
      "([1, 3], 0.0)\n",
      "([2, 3], 0.0)\n",
      "([0, 1, 2], 0.1)\n",
      "([1, 2, 3], 0.2)\n",
      "([0, 2, 3], 0.3)\n",
      "([0, 1, 3], 0.4)\n",
      "([4], 0.7)\n",
      "([2, 4], 0.7)\n",
      "([2, 3, 4], 1.0)\n",
      "([3, 4], 1.5)\n",
      "The result is no longer a filtration : [3,4] has a higher value than its coface [2,3,4]\n",
      "To fix the problem, use make_filtration_non_decreasing()\n",
      "([0], 0.0)\n",
      "([1], 0.0)\n",
      "([0, 1], 0.0)\n",
      "([2], 0.0)\n",
      "([0, 2], 0.0)\n",
      "([1, 2], 0.0)\n",
      "([3], 0.0)\n",
      "([0, 3], 0.0)\n",
      "([1, 3], 0.0)\n",
      "([2, 3], 0.0)\n",
      "([0, 1, 2], 0.1)\n",
      "([1, 2, 3], 0.2)\n",
      "([0, 2, 3], 0.3)\n",
      "([0, 1, 3], 0.4)\n",
      "([4], 0.7)\n",
      "([2, 4], 0.7)\n",
      "([3, 4], 1.5)\n",
      "([2, 3, 4], 1.5)\n"
     ]
    }
   ],
   "source": [
    "print(\"Giving the edge [3,4] the value 1.5:\")\n",
    "st.assign_filtration((3,4),1.5)\n",
    "L = st.get_filtration()\n",
    "for simplex in L:\n",
    "    print(simplex)\n",
    "print(\"The result is no longer a filtration : [3,4] has a higher value than its coface [2,3,4]\")\n",
    "print(\"To fix the problem, use make_filtration_non_decreasing()\")\n",
    "st.make_filtration_non_decreasing()\n",
    "L = st.get_filtration()\n",
    "for simplex in L:\n",
    "    print(simplex)"
   ]
  },
  {
   "cell_type": "code",
   "execution_count": 7,
   "metadata": {},
   "outputs": [
    {
     "name": "stdout",
     "output_type": "stream",
     "text": [
      "dimension= 2\n",
      "filtration value of [1,2]= 0.0\n",
      "filtration value of [4,2]= 0.7\n",
      "num_simplices= 18\n",
      "num_vertices= 5\n",
      "skeleton[2]= <generator object at 0x000001F4B816DAF0>\n",
      "skeleton[1]= <generator object at 0x000001F4B816DAF0>\n",
      "skeleton[0]= <generator object at 0x000001F4B816DAF0>\n",
      "([0, 1], 0.0)\n",
      "([0, 2], 0.0)\n",
      "([0, 3], 0.0)\n",
      "([0], 0.0)\n",
      "([1, 2], 0.0)\n",
      "([1, 3], 0.0)\n",
      "([1], 0.0)\n",
      "([2, 3], 0.0)\n",
      "([2, 4], 0.7)\n",
      "([2], 0.0)\n",
      "([3, 4], 1.5)\n",
      "([3], 0.0)\n",
      "([4], 0.7)\n"
     ]
    }
   ],
   "source": [
    "# Many operations can be done on simplicial complexes, see also the Gudhi documentation and examples\n",
    "print(\"dimension=\",st.dimension())\n",
    "print(\"filtration value of [1,2]=\",st.filtration([1,2]))\n",
    "print(\"filtration value of [4,2]=\",st.filtration([4,2]))\n",
    "print(\"num_simplices=\", st.num_simplices())\n",
    "print(\"num_vertices=\", st.num_vertices())\n",
    "\n",
    "# get_skeleton get the set of simplices of dimension at most 2\n",
    "print(\"skeleton[2]=\", st.get_skeleton(2)) \n",
    "print(\"skeleton[1]=\", st.get_skeleton(1))\n",
    "print(\"skeleton[0]=\", st.get_skeleton(0))\n",
    "L = st.get_skeleton(1)\n",
    "for simplex in L:\n",
    "    print(simplex)"
   ]
  },
  {
   "cell_type": "markdown",
   "metadata": {},
   "source": [
    "## Exercise 1. \n",
    "Make a few experiments with the simplex tree functions ( https://gudhi.inria.fr/python/latest/simplex_tree_ref.html ), e.g. changing the filtrations values, trying to assign values to simplices that do not lead to a filtration,... And observe the effects on the filtration. "
   ]
  },
  {
   "cell_type": "markdown",
   "metadata": {},
   "source": [
    "# Filtrations and Betti numbers computation"
   ]
  },
  {
   "cell_type": "code",
   "execution_count": 8,
   "metadata": {},
   "outputs": [
    {
     "name": "stdout",
     "output_type": "stream",
     "text": [
      "([0], 0.0)\n",
      "([1], 0.0)\n",
      "([2], 0.0)\n",
      "([3], 0.0)\n",
      "([4], 0.0)\n",
      "([0, 1], 1.0)\n",
      "([0, 2], 1.0)\n",
      "([1, 2], 1.0)\n",
      "([0, 3], 1.0)\n",
      "([1, 3], 1.0)\n",
      "([2, 3], 1.0)\n",
      "([2, 4], 1.0)\n",
      "([3, 4], 1.0)\n",
      "([0, 1, 2], 2.0)\n",
      "([0, 1, 3], 2.0)\n",
      "([0, 2, 3], 2.0)\n",
      "([1, 2, 3], 2.0)\n",
      "([2, 3, 4], 2.0)\n"
     ]
    }
   ],
   "source": [
    "# As an example, we assign to each simplex its dimension as filtration value\n",
    "# dimension = nbr of vertices - 1 = len(splx[0])-1\n",
    "for splx in st.get_filtration():\n",
    "    st.assign_filtration(splx[0],len(splx[0])-1)\n",
    "L = st.get_filtration()\n",
    "for simplex in L:\n",
    "    print(simplex)"
   ]
  },
  {
   "cell_type": "markdown",
   "metadata": {},
   "source": [
    "Before computing Betti numbers, we need to compute persistence of the filtration. \n",
    "For the moment, we consider the instruction below as a preprocessing step. \n",
    "However, have a look at the variable diag and try to guess, from the filtration, what it represent.  "
   ]
  },
  {
   "cell_type": "code",
   "execution_count": null,
   "metadata": {},
   "outputs": [],
   "source": [
    "# we need to compute first the persistence of the filtration before calling the betti number function\n",
    "# persistence() will compute the persistent diagram\n",
    "# when some element in homology group becomes 0, persistence will identify when this circle was created so that\n",
    "# it will pair the positive simplex and the negative one \n",
    "# ex: (1, (1.0,2.0)) => dim = 1 : 1-cycle appeared at time 1 and disappeard at time 2"
   ]
  },
  {
   "cell_type": "code",
   "execution_count": 9,
   "metadata": {},
   "outputs": [
    {
     "name": "stdout",
     "output_type": "stream",
     "text": [
      "[(2, (2.0, inf)), (1, (1.0, 2.0)), (1, (1.0, 2.0)), (1, (1.0, 2.0)), (1, (1.0, 2.0)), (0, (0.0, inf)), (0, (0.0, 1.0)), (0, (0.0, 1.0)), (0, (0.0, 1.0)), (0, (0.0, 1.0))]\n"
     ]
    }
   ],
   "source": [
    "# To compute the persistence diagram of the filtered complex\n",
    "# By default it stops at dimension-1,\n",
    "# use persistence_dim_max=True to compute homology in all dimensions\n",
    "## Here, for the moment, we use it as a preprocessing step to compute Betti numbers. \n",
    "diag = st.persistence(persistence_dim_max=True)\n",
    "# Display each interval as (dimension, (birth, death))\n",
    "print(diag)\n",
    "\n",
    "# The persistence of the simplicial complex returns a list of pairs(dimension, pair(birth, death)) \n",
    "# where the persistence value (or lifetime) of an homology group that is killed by some simplices is : birth - death - 1\n",
    "\n",
    "# if high dim simplicial complexe, you can ask the algo to restrict to some dimension "
   ]
  },
  {
   "cell_type": "code",
   "execution_count": null,
   "metadata": {},
   "outputs": [],
   "source": [
    "# pour une dim donnee on regarde le nbr de point du diagramme qui a une coordonnee infinie : \n",
    "# en dim 0 : 1\n",
    "# en dim 1 : 0\n",
    "# en dim 2 : 1"
   ]
  },
  {
   "cell_type": "code",
   "execution_count": 10,
   "metadata": {},
   "outputs": [
    {
     "name": "stdout",
     "output_type": "stream",
     "text": [
      "[1, 0, 1]\n"
     ]
    }
   ],
   "source": [
    "print(st.betti_numbers())\n",
    "\n",
    "# it could be the betti nbr of a sphere\n",
    "# any cycle is a boundary\n",
    "# [1 = dim of 0-homology = nbr of connected component, \n",
    "#  0 = dim of 1-cycles, \n",
    "#  1 = dim of cavités]"
   ]
  },
  {
   "cell_type": "markdown",
   "metadata": {},
   "source": [
    "## Exercise 2. \n",
    "Define another filtration of the simplicial complex and check that the choice of the filtration does not change the betti numbers."
   ]
  },
  {
   "cell_type": "code",
   "execution_count": null,
   "metadata": {},
   "outputs": [],
   "source": [
    "# the betti number is an invariant"
   ]
  },
  {
   "cell_type": "markdown",
   "metadata": {},
   "source": [
    "## Exercise 3. \n",
    "1. Recall the torus is homeomorphic to the surface obtained by identifying the opposite sides of a square as illustrated below. ![Figure 1](TorusTriangle.PNG) Using Gudhi, construct a triangulation (2-dimensional simplicial complex) of the Torus. Define a filtration on it, compute its persistence and use it to deduce the Betti numbers of the torus (check that you get the correct result using the function betti_numbers()).\n",
    "2. Use Gudhi to compute the Betti numbers of a sphere of dimension 2 and of a sphere of dimension 3 (hint: the k -dimensional sphere is homeomorphic to the boundary of a (k+1)-dimensional simplex."
   ]
  },
  {
   "cell_type": "code",
   "execution_count": 12,
   "metadata": {},
   "outputs": [
    {
     "data": {
      "text/plain": [
       "[(2, (0.0, inf)), (1, (0.0, inf)), (1, (0.0, inf)), (0, (0.0, inf))]"
      ]
     },
     "execution_count": 12,
     "metadata": {},
     "output_type": "execute_result"
    }
   ],
   "source": [
    "# 1\n",
    "torus = gd.SimplexTree()\n",
    "\n",
    "torus.insert([0,3,4])\n",
    "torus.insert([0,4,1])\n",
    "torus.insert([1,4,5])\n",
    "torus.insert([1,5,2])\n",
    "torus.insert([2,5,3])\n",
    "torus.insert([2,3,0])\n",
    "torus.insert([3,6,7])\n",
    "torus.insert([3,7,4])\n",
    "torus.insert([4,7,8])\n",
    "torus.insert([4,8,5])\n",
    "torus.insert([5,8,6])\n",
    "torus.insert([5,6,3])\n",
    "torus.insert([6,0,1])\n",
    "torus.insert([6,1,7])\n",
    "torus.insert([7,1,2])\n",
    "torus.insert([7,2,8])\n",
    "torus.insert([8,2,0])\n",
    "torus.insert([8,0,6])\n",
    "\n",
    "diag = torus.persistence(persistence_dim_max=True)\n",
    "diag"
   ]
  },
  {
   "cell_type": "code",
   "execution_count": 13,
   "metadata": {},
   "outputs": [
    {
     "data": {
      "text/plain": [
       "[1, 2, 1]"
      ]
     },
     "execution_count": 13,
     "metadata": {},
     "output_type": "execute_result"
    }
   ],
   "source": [
    "# betti nbr should be:\n",
    "# [1,2,1]\n",
    "\n",
    "torus.betti_numbers()"
   ]
  },
  {
   "cell_type": "code",
   "execution_count": 21,
   "metadata": {},
   "outputs": [
    {
     "data": {
      "text/plain": [
       "[1, 0, 1]"
      ]
     },
     "execution_count": 21,
     "metadata": {},
     "output_type": "execute_result"
    }
   ],
   "source": [
    "# for a sphere in 2D\n",
    "\n",
    "sphere = gd.SimplexTree()\n",
    "sphere.insert([0,1,2,3])\n",
    "sphere.remove_maximal_simplex([0,1,2,3]) # get the boundary of the tetrahedra, which is a sphere\n",
    "\n",
    "sphere.persistence(persistence_dim_max=True)\n",
    "sphere.betti_numbers()"
   ]
  },
  {
   "cell_type": "code",
   "execution_count": 20,
   "metadata": {},
   "outputs": [
    {
     "name": "stdout",
     "output_type": "stream",
     "text": [
      "[1, 0, 0, 1]\n"
     ]
    }
   ],
   "source": [
    "# for a sphere in ND\n",
    "\n",
    "n = 3\n",
    "st = gd.SimplexTree()\n",
    "simplex = []\n",
    "\n",
    "# insert (n+1) dimensional simplex in st\n",
    "# all its faces are automatically added\n",
    "\n",
    "for i in range(n+2):\n",
    "    simplex.append(i)\n",
    "st.insert(simplex)\n",
    "\n",
    "# remove the (n+1) dim simplex ; its faces remain in the simplicial complex to get a n dim sphere\n",
    "\n",
    "st.remove_maximal_simplex(simplex)\n",
    "st.set_dimension(n+1) # to get the betti nbr in dim n !!\n",
    "st.compute_persistence()\n",
    "print(st.betti_numbers())"
   ]
  },
  {
   "cell_type": "code",
   "execution_count": 25,
   "metadata": {},
   "outputs": [
    {
     "name": "stdout",
     "output_type": "stream",
     "text": [
      "([0], 0.0)\n",
      "([1], 0.0)\n",
      "([0, 1], 0.0)\n",
      "([2], 0.0)\n",
      "([0, 2], 0.0)\n",
      "([1, 2], 0.0)\n",
      "([0, 1, 2], 0.0)\n",
      "([3], 0.0)\n",
      "([1, 3], 0.0)\n",
      "([2, 3], 0.0)\n",
      "([1, 2, 3], 0.0)\n",
      "---\n",
      "([0], 0.0)\n",
      "([1], 0.0)\n",
      "([0, 1], 0.0)\n",
      "([2], 0.0)\n",
      "([0, 2], 0.0)\n",
      "([1, 2], 0.0)\n",
      "([0, 1, 2], 0.0)\n",
      "([3], 0.0)\n",
      "([1, 3], 0.0)\n",
      "([2, 3], 0.0)\n"
     ]
    }
   ],
   "source": [
    "st = gd.SimplexTree()\n",
    "st.insert([0,1,2])\n",
    "st.insert([1,2,3])\n",
    "\n",
    "L = st.get_filtration()\n",
    "for simplex in L:\n",
    "    print(simplex)\n",
    "    \n",
    "st.remove_maximal_simplex([1,2])\n",
    "print(\"---\")\n",
    "L = st.get_filtration()\n",
    "for simplex in L:\n",
    "    print(simplex)\n",
    "    \n",
    "# look at doc to understand more"
   ]
  },
  {
   "cell_type": "markdown",
   "metadata": {},
   "source": [
    "# Vietoris-Rips and alpha-complex filtrations"
   ]
  },
  {
   "cell_type": "markdown",
   "metadata": {},
   "source": [
    "For the definition of Vietoris-Rips complexes, see the slides of the courses (slide 65) : https://geometrica.saclay.inria.fr/team/Fred.Chazal/slides/Persistence2021.pdf\n",
    "\n",
    "The definition of α-complex filtrations will be given during the TP and/or see the following book, p.137\n",
    "https://hal.inria.fr/hal-01615863v2/document\n",
    "Take care that in GUDHI the α-complex filtration is indexed by the square of the radius of the smallest empty circumscribing ball. "
   ]
  },
  {
   "cell_type": "markdown",
   "metadata": {},
   "source": [
    "These are basic instructions to build Vietoris-Rips and α-complex filtrations (and compute their persistent homology)."
   ]
  },
  {
   "cell_type": "code",
   "execution_count": null,
   "metadata": {},
   "outputs": [],
   "source": [
    "# only need 1-skeleton to build the simplicial complex since it only depends on the pairwise distance between points\n",
    "# the size of the set is v^k where v nbr of vertices and k the dim"
   ]
  },
  {
   "cell_type": "code",
   "execution_count": 27,
   "metadata": {},
   "outputs": [],
   "source": [
    "#Create a random point cloud in 3D\n",
    "nb_pts=100\n",
    "pt_cloud = np.random.rand(nb_pts,3) # vertex set to build the Rips complex"
   ]
  },
  {
   "cell_type": "code",
   "execution_count": 28,
   "metadata": {},
   "outputs": [
    {
     "name": "stderr",
     "output_type": "stream",
     "text": [
      "usetex mode requires TeX.\n"
     ]
    },
    {
     "name": "stdout",
     "output_type": "stream",
     "text": [
      "Number of simplices in the V-R complex:  37257\n",
      "[1, 0, 0]\n"
     ]
    },
    {
     "data": {
      "text/plain": [
       "<AxesSubplot:title={'center':'Persistence diagram'}, xlabel='Birth', ylabel='Death'>"
      ]
     },
     "execution_count": 28,
     "metadata": {},
     "output_type": "execute_result"
    },
    {
     "data": {
      "image/png": "[encoded data removed]",
      "text/plain": [
       "<Figure size 432x288 with 1 Axes>"
      ]
     },
     "metadata": {
      "needs_background": "light"
     },
     "output_type": "display_data"
    }
   ],
   "source": [
    "#Build Rips-Vietoris filtration and compute its persistence diagram\n",
    "rips_complex = gd.RipsComplex(pt_cloud,max_edge_length=0.5) \n",
    "# the filtration value will stop at 0.5 ie: when all the points of dim < 0.5 are connected i stop and i do not add more simplices\n",
    "\n",
    "simplex_tree = rips_complex.create_simplex_tree(max_dimension=3)\n",
    "print(\"Number of simplices in the V-R complex: \", simplex_tree.num_simplices())\n",
    "\n",
    "dgm = simplex_tree.persistence(homology_coeff_field=2, min_persistence=0)\n",
    "print(simplex_tree.betti_numbers())\n",
    "gd.plot_persistence_diagram(dgm)"
   ]
  },
  {
   "cell_type": "code",
   "execution_count": null,
   "metadata": {},
   "outputs": [],
   "source": [
    "# each color corresponds to a dimension\n",
    "\n",
    "# in red : dim 1 : all the vertices came at date 1\n",
    "# in blue : dim 2 : circles start creating around 0.2 and at time 0.3... we can see that some have transformed into boundaries (dim 3)\n",
    "\n",
    "# in a rips complex, simplex have filtration value equal to their ditance ? ? ?\n",
    "# rips filtration is determined by pairwise distances"
   ]
  },
  {
   "cell_type": "code",
   "execution_count": 29,
   "metadata": {},
   "outputs": [
    {
     "data": {
      "text/plain": [
       "<AxesSubplot:title={'center':'Persistence diagram'}, xlabel='Birth', ylabel='Death'>"
      ]
     },
     "execution_count": 29,
     "metadata": {},
     "output_type": "execute_result"
    },
    {
     "data": {
      "image/png": "[encoded data removed]",
      "text/plain": [
       "<Figure size 432x288 with 1 Axes>"
      ]
     },
     "metadata": {
      "needs_background": "light"
     },
     "output_type": "display_data"
    }
   ],
   "source": [
    "#Compute Rips-Vietoris filtration and compute its persistence diagram from\n",
    "#a pairwise distance matrix\n",
    "dist_mat = []\n",
    "for i in range(nb_pts):\n",
    "    ld = []\n",
    "    for j in range(i):\n",
    "        ld.append(np.linalg.norm(pt_cloud[i,:]-pt_cloud[j,:]))\n",
    "    dist_mat.append(ld)\n",
    "rips_complex2 = gd.RipsComplex(distance_matrix=dist_mat,max_edge_length=0.5)\n",
    "simplex_tree2 = rips_complex2.create_simplex_tree(max_dimension=3)\n",
    "diag2 = simplex_tree2.persistence(homology_coeff_field=2, min_persistence=0)\n",
    "gd.plot_persistence_diagram(diag2)"
   ]
  },
  {
   "cell_type": "code",
   "execution_count": 31,
   "metadata": {},
   "outputs": [
    {
     "name": "stdout",
     "output_type": "stream",
     "text": [
      "Number of simplices in the alpha-complex:  2257\n",
      "[1, 0, 0]\n"
     ]
    },
    {
     "data": {
      "text/plain": [
       "<AxesSubplot:title={'center':'Persistence diagram'}, xlabel='Birth', ylabel='Death'>"
      ]
     },
     "execution_count": 31,
     "metadata": {},
     "output_type": "execute_result"
    },
    {
     "data": {
      "image/png": "[encoded data removed]",
      "text/plain": [
       "<Figure size 432x288 with 1 Axes>"
      ]
     },
     "metadata": {
      "needs_background": "light"
     },
     "output_type": "display_data"
    }
   ],
   "source": [
    "#Compute the alpha-complex filtration and compute its persistence\n",
    "alpha_complex = gd.AlphaComplex(points=pt_cloud)\n",
    "simplex_tree3 = alpha_complex.create_simplex_tree()\n",
    "print(\"Number of simplices in the alpha-complex: \",simplex_tree3.num_simplices())\n",
    "diag3 = simplex_tree3.persistence(homology_coeff_field=2, min_persistence=0)\n",
    "print(simplex_tree3.betti_numbers())\n",
    "gd.plot_persistence_diagram(diag3)"
   ]
  },
  {
   "cell_type": "code",
   "execution_count": null,
   "metadata": {},
   "outputs": [],
   "source": [
    "# the alpha complex has much less simplices in it than the rips cmplec"
   ]
  },
  {
   "cell_type": "markdown",
   "metadata": {},
   "source": [
    "## Exercise 4. \n",
    "+ Randomly sample n = 100 points on the unit circle in the Euclidean plane.\n",
    "+ For R in np.arange(0.0,0.5,0.01), compute the Betti numbers of the subcomplex of the Rips-Vietoris filtration (up to dimension 2) made of the simplices with index value at most R and plot the curve giving the Betti numbers as functions of R. THese curves are called the Betti curves of the filtration. \n",
    "+ Can we get the same curves directly from the persistence diagram of the Rips-Vietoris filtration (you will have to guess what the persistence diagrams represent)? If so, compute them using the persistence diagram. \n",
    "+ Same questions using the α-complex filtrations (find a right range of values for α), and try to increase the number of points in the initial point cloud. "
   ]
  },
  {
   "cell_type": "code",
   "execution_count": null,
   "metadata": {},
   "outputs": [],
   "source": [
    "nb_pts = 100\n",
    "angles = np.random.rand(nb_pts, 1)\n",
    "pt_cloud = np.concatenate([np.cos(2*np.pi*angles),np.sin(2*np.pi*angles)], axis=1)\n",
    "\n",
    "plt.scatter(pt_cloud[:,0],pt_cloud[:,1])\n",
    "plt.axis(\"square\")"
   ]
  }
 ],
 "metadata": {
  "kernelspec": {
   "display_name": "Python 3",
   "language": "python",
   "name": "python3"
  },
  "language_info": {
   "codemirror_mode": {
    "name": "ipython",
    "version": 3
   },
   "file_extension": ".py",
   "mimetype": "text/x-python",
   "name": "python",
   "nbconvert_exporter": "python",
   "pygments_lexer": "ipython3",
   "version": "3.9.5"
  },
  "toc": {
   "base_numbering": 1,
   "nav_menu": {},
   "number_sections": true,
   "sideBar": false,
   "skip_h1_title": false,
   "title_cell": "Table of Contents",
   "title_sidebar": "Contents",
   "toc_cell": false,
   "toc_position": {},
   "toc_section_display": true,
   "toc_window_display": false
  },
  "varInspector": {
   "cols": {
    "lenName": 16,
    "lenType": 16,
    "lenVar": 40
   },
   "kernels_config": {
    "python": {
     "delete_cmd_postfix": "",
     "delete_cmd_prefix": "del ",
     "library": "var_list.py",
     "varRefreshCmd": "print(var_dic_list())"
    },
    "r": {
     "delete_cmd_postfix": ") ",
     "delete_cmd_prefix": "rm(",
     "library": "var_list.r",
     "varRefreshCmd": "cat(var_dic_list()) "
    }
   },
   "types_to_exclude": [
    "module",
    "function",
    "builtin_function_or_method",
    "instance",
    "_Feature"
   ],
   "window_display": false
  }
 },
 "nbformat": 4,
 "nbformat_minor": 4
}
