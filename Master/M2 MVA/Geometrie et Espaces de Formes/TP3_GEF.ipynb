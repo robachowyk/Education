{
 "cells": [
  {
   "cell_type": "markdown",
   "metadata": {},
   "source": [
    "# Géométrie et espace de formes - TP3 - Construction d'atlas et attaches aux données géométriques\n",
    "\n",
    "<br>\n",
    "<br>\n",
    "\n",
    "## 1. Exemples d'appariements difféomorphiques : points, mesures, varifolds\n",
    "\n",
    "### a) Codes pour l'implémentation LDDMM"
   ]
  },
  {
   "cell_type": "code",
   "execution_count": 2,
   "metadata": {},
   "outputs": [],
   "source": [
    "import numpy as np\n",
    "\n",
    "import matplotlib.pyplot as plt\n",
    "from mpl_toolkits.mplot3d import Axes3D\n",
    "plt.rcParams['figure.figsize'] = [16, 10]\n",
    "\n",
    "import torch\n",
    "from torch.autograd import grad\n",
    "\n",
    "\n",
    "# noyau gaussien (K(x,y)b)_i = sum_j exp(-|xi-yj|^2)bj\n",
    "def GaussKernel(sigma):\n",
    "    oos2 = 1/sigma**2\n",
    "    def K(x,y,b):\n",
    "        return torch.exp(-oos2*torch.sum((x[:,None,:]-y[None,:,:])**2,dim=2))@b\n",
    "    return K\n",
    "\n",
    "# solveur d'ODE\n",
    "def RalstonIntegrator(nt=10):\n",
    "    def f(ODESystem,x0,deltat=1.0):\n",
    "        x = tuple(map(lambda x:x.clone(),x0))\n",
    "        dt = deltat/nt\n",
    "        for i in range(nt):\n",
    "            xdot = ODESystem(*x)\n",
    "            xi = tuple(map(lambda x,xdot:x+(2*dt/3)*xdot,x,xdot))\n",
    "            xdoti = ODESystem(*xi)\n",
    "            x = tuple(map(lambda x,xdot,xdoti:x+(.25*dt)*(xdot+3*xdoti),x,xdot,xdoti))\n",
    "        return x\n",
    "    return f\n",
    "\n",
    "# définition du Hamiltonien H(p,q)\n",
    "def Hamiltonian(K):\n",
    "    def H(p,q):\n",
    "        return .5*(p*K(q,q,p)).sum()\n",
    "    return H\n",
    "\n",
    "# système hamiltonien à résoudre pour le shooting\n",
    "def HamiltonianSystem(K):\n",
    "    H = Hamiltonian(K)\n",
    "    def HS(p,q):\n",
    "        Gp,Gq = grad(H(p,q),(p,q), create_graph=True)\n",
    "        return -Gq,Gp\n",
    "    return HS\n",
    "\n",
    "# shooting = intégration du système hamiltonien\n",
    "def Shooting(p0,q0,K,deltat=1.0,Integrator=RalstonIntegrator()):\n",
    "    return Integrator(HamiltonianSystem(K),(p0,q0),deltat)\n",
    "\n",
    "# intégration des équations de flot\n",
    "def Flow(x0,p0,q0,K,deltat=1.0,Integrator=RalstonIntegrator()):\n",
    "    HS = HamiltonianSystem(K)\n",
    "    def FlowEq(x,p,q):\n",
    "        return (K(x,q,p),)+HS(p,q)\n",
    "    return Integrator(FlowEq,(x0,p0,q0),deltat)[0]\n",
    "\n",
    "# définition de la fonctionnelle à minimiser\n",
    "def LDDMMloss(q0,K,dataloss,gamma=0.):\n",
    "    def loss(p0):\n",
    "        p,q = Shooting(p0,q0,K)\n",
    "        return gamma * Hamiltonian(K)(p0,q0) + dataloss(q)\n",
    "    return loss\n",
    "\n",
    "# méthode d'optimisation générique\n",
    "def Optimize(loss,args,niter=5):\n",
    "    optimizer = torch.optim.LBFGS(args)\n",
    "    print('performing optimization...')\n",
    "    for i in range(niter):\n",
    "        print(\"iteration \",i+1,\"/\",niter)\n",
    "        def closure():\n",
    "            optimizer.zero_grad()\n",
    "            L = loss(*args)\n",
    "            L.backward()\n",
    "            return L\n",
    "        optimizer.step(closure)\n",
    "    print(\"Done.\")\n",
    "    return args\n",
    "\n",
    "# fonction d'affichage du résultat pour des données landmarks ou nuages de points\n",
    "def PlotRes2D(z,pts=None):\n",
    "    def plotfun(q0,p0,Kv):\n",
    "        p,q = Shooting(p0,q0,Kv)\n",
    "        q0np, qnp = q0.data.numpy(), q.data.numpy()\n",
    "        q0np, qnp, znp = q0.data.numpy(), q.data.numpy(), z.data.numpy()\n",
    "        plt.plot(znp[:,0],znp[:,1],'.');\n",
    "        plt.plot(q0np[:,0],q0np[:,1],'+');\n",
    "        plt.plot(qnp[:,0],qnp[:,1],'o');\n",
    "        plt.axis('equal');\n",
    "        ng = 50\n",
    "        a = np.min(np.vstack((q0np[:,0],qnp[:,0])))\n",
    "        b = np.max(np.vstack((q0np[:,0],qnp[:,0])))\n",
    "        c = np.min(np.vstack((q0np[:,1],qnp[:,1])))\n",
    "        d = np.max(np.vstack((q0np[:,1],qnp[:,1])))\n",
    "        sz = 0.2\n",
    "        lsp1 = np.linspace(a-sz*(b-a),b+sz*(b-a),ng,dtype=np.float32)\n",
    "        lsp2 = np.linspace(c-sz*(d-c),d+sz*(d-c),ng,dtype=np.float32)\n",
    "        X1, X2 = np.meshgrid(lsp1,lsp2)\n",
    "        x = np.concatenate((X1.reshape(ng**2,1),X2.reshape(ng**2,1)),axis=1)\n",
    "        phix = Flow(torch.from_numpy(x),p0,q0,Kv).detach().numpy()\n",
    "        X1 = phix[:,0].reshape(ng,ng)\n",
    "        X2 = phix[:,1].reshape(ng,ng)\n",
    "        plt.plot(X1,X2,'k',linewidth=.25);\n",
    "        plt.plot(X1.T,X2.T,'k',linewidth=.25); \n",
    "        n,d = q0.shape\n",
    "        nt = 20\n",
    "        Q = np.zeros((n,d,nt))\n",
    "        for i in range(nt):\n",
    "            t = i/(nt-1)\n",
    "            Q[:,:,i] = Shooting(t*p0,q0,Kv)[1].data.numpy()\n",
    "        plt.plot(Q[:,0,:].T,Q[:,1,:].T,'y');\n",
    "        if type(pts)!=type(None):\n",
    "            phipts = Flow(pts,p0,q0,Kv).data\n",
    "            plt.plot(phipts.numpy()[:,0],phipts.numpy()[:,1],'.b',markersize=.1);\n",
    "    return plotfun\n",
    "\n",
    "# fonction d'affichage pour des données de type surface triangulée\n",
    "def PlotResSurf(VS,FS,VT,FT):\n",
    "    def plotfun(q0,p0,Kv):\n",
    "        fig = plt.figure();\n",
    "        plt.axis('off')\n",
    "        plt.title('LDDMM matching example')  \n",
    "        p,q = Shooting(p0,q0,Kv)\n",
    "        q0np, qnp = q0.data.numpy(), q.data.numpy()\n",
    "        FSnp,VTnp, FTnp = FS.data.numpy(),  VT.data.numpy(), FT.data.numpy()    \n",
    "        ax = Axes3D(fig, auto_add_to_figure=False)\n",
    "        ax.plot_trisurf(q0np[:,0],q0np[:,1],q0np[:,2],triangles=FSnp,alpha=.5)\n",
    "        ax.plot_trisurf(qnp[:,0],qnp[:,1],qnp[:,2],triangles=FSnp,alpha=.5)\n",
    "        ax.plot_trisurf(VTnp[:,0],VTnp[:,1],VTnp[:,2],triangles=FTnp,alpha=.5)\n",
    "        fig.add_axes(ax)\n",
    "    return plotfun"
   ]
  },
  {
   "cell_type": "markdown",
   "metadata": {},
   "source": [
    "### b) Fonctions d'attache aux données"
   ]
  },
  {
   "cell_type": "markdown",
   "metadata": {},
   "source": [
    "<span style='color:blue'> Jusque là on s'est interessé au modèle de déformation : comment générer les diffeo ? \n",
    "    \n",
    "La fonction d'attache aux données que on composait jusqu'à présent était définie comme $A(x) = \\sum_i\\|x_i - y_i \\|^2$, seulement pour l'utiliser il faut avoir repéré des points d'interet, des points de correspondances dans les images : couteux. \n",
    "    \n",
    "Qd le nbr de pts est différents d'un côté et de l'autre et qu'on n'a pas les correspondances, (on parle de points sets non ordonnés) $\\implies$ on créé un modèle de mesure : \n",
    "    \n",
    "ensemble de pts = combinaison de mesures de dirac : $\\mu_x = frac{1}{n_x} \\sum_i^{n_x} \\delta_{x_i}$, $\\mu_y = frac{1}{n_y} \\sum_i^{n_y} \\delta_{y_i}$ on construit une norme $\\|\\mu_x - \\mu_y\\|_{W'}^2 = \\|\\mu_x\\|^2_{W'} + \\|\\mu_y\\|^2_{W'} - 2 \\scal{\\mu_x}{\\mu_y}_{W'}$ avec $\\scal{\\mu_x}{\\mu_y}_{W'} = \\frac{1}{n_x n_y} \\sum_{i,j} K_w(x_i, x_j)$ duale sur l espace des mesures (equivalent a) : norme de hilbert sur l espace des fonctions. Si on fait ca, la norme de hilbert. </span>\n",
    "\n",
    "defintiion du cente : $c_i = \\frac{x_i +x_i + 1}{2}$ $\\tau_i = x_{i+1} - x_i$ (tau_x c est le vecteur tangent unitaire) a chaque instant on associe a la courbe le varifold : c est une mesure sur les focntions definie sur $\\mathbb{R}^d \\times S^{d-1}$\n",
    "\n",
    "$\\mathcal C \\longrightarrow [\\mathcal C] le varifold associe$\n",
    "\n",
    "$[\\mathcal C](f) = \\int_{\\mathcal C} f(x, \\overrightarrow{\\tau_x}) dx$\n",
    "\n",
    "norme de hilbert duale : $\\|[x] - [y]\\|_{W'}^2$ $\\scal{[x]}{[y]}_{W'} = \\sum_{i,j}K_e(x_i, y_j) K_t(\\overrightarrow{\\tau_i}, \\overrightarrow{\\tau_j})$\n",
    "$[x]$ est une mesure associee a la courbe ou on regarde les points x_i et les vecteurs tangents associes \\overrightarrow{\\tau_x}\n",
    "\n",
    "$\\mathcal C \\longrightarrow \\{(x, \\tau_x), x \\in \\mathcal C\\}$"
   ]
  },
  {
   "cell_type": "code",
   "execution_count": 3,
   "metadata": {},
   "outputs": [],
   "source": [
    "# fonction d'attache aux données pour des landmarks\n",
    "def losslmk(z):\n",
    "    def loss(q):\n",
    "        return ((q-z)**2).sum()\n",
    "    return loss\n",
    "\n",
    "# fonction d'attache aux données pour des nuages de points via le modèle des mesures\n",
    "def lossmeas(z,Kw):\n",
    "    nz = z.shape[0]\n",
    "    wz = torch.ones(nz,1)\n",
    "    cst = (1/nz**2)*Kw(z,z,wz).sum()\n",
    "    def loss(q):\n",
    "        nq = q.shape[0]\n",
    "        wq = torch.ones(nq,1)\n",
    "        return cst + (1/nq**2)*Kw(q,q,wq).sum() + (-2/(nq*nz))*Kw(q,z,wz).sum()\n",
    "    return loss\n",
    "\n",
    "\n",
    "# noyau pour les varifolds (K(x,y,u,v)b)_i = sum_j exp(-|xi-yj|^2) <ui,vj>^2 bj\n",
    "def GaussLinKernel(sigma,lib=\"keops\"):\n",
    "    oos2 = 1/sigma**2\n",
    "    def K(x,y,u,v,b):\n",
    "        Kxy = torch.exp(-oos2*torch.sum((x[:,None,:]-y[None,:,:])**2,dim=2))\n",
    "        Sxy = torch.sum(u[:,None,:]*v[None,:,:],dim=2)**2\n",
    "        return (Kxy*Sxy)@b\n",
    "    return K\n",
    "\n",
    "\n",
    "# fonction d'attache aux données pour les surfaces triangulées, modèle des varifolds\n",
    "# VT: coordonnées des points de la surface cible\n",
    "# FS,FT : indices des triangles des surfaces source et cible\n",
    "# K : noyau varifold\n",
    "def lossVarifoldSurf(FS,VT,FT,K):\n",
    "    def CompCLNn(F,V):\n",
    "        V0, V1, V2 = V.index_select(0,F[:,0]), V.index_select(0,F[:,1]), V.index_select(0,F[:,2])\n",
    "        C, N = .5*(V0+V1+V2), .5*torch.cross(V1-V0,V2-V0)\n",
    "        L = (N**2).sum(dim=1)[:,None].sqrt()\n",
    "        return C,L,N/L\n",
    "    CT,LT,NTn = CompCLNn(FT,VT)\n",
    "    cst = (LT*K(CT,CT,NTn,NTn,LT)).sum()\n",
    "    def loss(VS):\n",
    "        CS,LS,NSn = CompCLNn(FS,VS)\n",
    "        return cst + (LS*K(CS,CS,NSn,NSn,LS)).sum() - 2*(LS*K(CS,CT,NSn,NTn,LT)).sum()\n",
    "    return loss\n",
    "\n",
    "\n",
    "# fonction similaire pour les courbes\n",
    "def lossVarifoldCurve(FS, VT, FT, K):\n",
    "    # correspondances :\n",
    "    # pts :\n",
    "    # tangents :\n",
    "    def get_center_length_tangents(F, V):\n",
    "        V0, V1 = V.index_select(0, F[:, 0]), V.index_select(0, F[:, 1])\n",
    "        centers, tangents = .5*(V0+V1), V1-V0\n",
    "        length = (tangents**2).sum(dim=1)[:, None].sqrt()\n",
    "        return centers, length, tangents / length\n",
    "    CT, LT, TTn = get_center_length_tangents(FT, VT)\n",
    "    cst = (LT * K(CT, CT, TTn, TTn, LT)).sum()\n",
    "    def loss(VS):\n",
    "        CS, LS, TSn = get_center_length_tangents(FS, VS)\n",
    "        return cst + (LS * K(CS, CS, TSn, TSn, LS)).sum() - 2 * (LS * K(CS, CT, TSn, TTn, LT)).sum()\n",
    "    return loss"
   ]
  },
  {
   "cell_type": "markdown",
   "metadata": {},
   "source": [
    "### Exemple de matching de landmarks - données \"poissons\" du TP 2"
   ]
  },
  {
   "cell_type": "code",
   "execution_count": null,
   "metadata": {},
   "outputs": [
    {
     "name": "stdout",
     "output_type": "stream",
     "text": [
      "performing optimization...\n",
      "iteration  1 / 5\n",
      "iteration  2 / 5\n",
      "iteration  3 / 5\n",
      "iteration  4 / 5\n",
      "iteration  5 / 5\n",
      "Done.\n"
     ]
    }
   ],
   "source": [
    "# on charge les données\n",
    "pts1, pts2, lmk1, lmk2 = torch.load('fish.pt')\n",
    "\n",
    "# définition des points q0 = landmarks du premier poisson\n",
    "q0 = lmk1.clone().detach().requires_grad_(True)\n",
    "\n",
    "# définition du noyau Kv\n",
    "Kv = GaussKernel(sigma=.25)\n",
    "\n",
    "# terme d'attache aux données\n",
    "Dataloss = losslmk(lmk2)\n",
    "\n",
    "# fonction globale à minimiser\n",
    "loss = LDDMMloss(q0,Kv,Dataloss)\n",
    "\n",
    "# initialisation des vecteurs moments p0\n",
    "p0 = torch.zeros(q0.shape, requires_grad=True)\n",
    "\n",
    "# optimisation de p0\n",
    "p0, = Optimize(loss,[p0])\n",
    "\n",
    "# affichage du résultat\n",
    "plotfun = PlotRes2D(lmk2,pts1)\n",
    "plotfun(q0,p0,Kv)\n",
    "plt.show()"
   ]
  },
  {
   "cell_type": "markdown",
   "metadata": {},
   "source": [
    "### Exemple de matching de mesures"
   ]
  },
  {
   "cell_type": "code",
   "execution_count": null,
   "metadata": {},
   "outputs": [
    {
     "name": "stdout",
     "output_type": "stream",
     "text": [
      "performing optimization...\n",
      "iteration  1 / 5\n",
      "iteration  2 / 5\n",
      "iteration  3 / 5\n",
      "iteration  4 / 5\n",
      "iteration  5 / 5\n",
      "Done.\n"
     ]
    }
   ],
   "source": [
    "# exemple synthétique pour le modèle de mesures\n",
    "VS, _, VT, _ = torch.load('curves.pt')\n",
    "VS.requires_grad = True\n",
    "q0 = VS\n",
    "Kv = GaussKernel(sigma=.5)\n",
    "Dataloss = lossmeas(VT,GaussKernel(sigma=.5))\n",
    "loss = LDDMMloss(q0,Kv,Dataloss)\n",
    "p0 = torch.zeros(q0.shape, requires_grad=True)\n",
    "p0, = Optimize(loss,[p0])\n",
    "\n",
    "# affichage du résultat\n",
    "plotfun = PlotRes2D(VT)\n",
    "plotfun(q0,p0,Kv)\n",
    "plt.show()"
   ]
  },
  {
   "cell_type": "markdown",
   "metadata": {},
   "source": [
    "Il faut savoir que sans les bons parametres (parametres : $\\sigma_W$ dans le noyau gaussian, $\\sigma$ dans le recallage diffeomorphique, parametre d equilibre entre l'energie de deformation et l attache aux donnees)\n",
    "\n",
    "heuristique : quelle est la dist moyenne entre les pts des 2 formes ?"
   ]
  },
  {
   "cell_type": "markdown",
   "metadata": {},
   "source": [
    "### Exemple de matching de surfaces - modèle des varifolds"
   ]
  },
  {
   "cell_type": "code",
   "execution_count": null,
   "metadata": {},
   "outputs": [
    {
     "name": "stdout",
     "output_type": "stream",
     "text": [
      "performing optimization...\n",
      "iteration  1 / 5\n",
      "iteration  2 / 5\n",
      "iteration  3 / 5\n",
      "iteration  4 / 5\n",
      "iteration  5 / 5\n",
      "Done.\n"
     ]
    }
   ],
   "source": [
    "VS,FS,VT,FT = torch.load('hippos_reduc_reduc.pt')\n",
    "VS.requires_grad = True\n",
    "q0 = VS\n",
    "Kv = GaussKernel(sigma=20)\n",
    "Dataloss = lossVarifoldSurf(FS,VT,FT,GaussLinKernel(sigma=20))\n",
    "loss = LDDMMloss(q0,Kv,Dataloss)\n",
    "p0 = torch.zeros(q0.shape, requires_grad=True)\n",
    "p0, = Optimize(loss,[p0])\n",
    "\n",
    "# affichage du résultat\n",
    "plotfun = PlotResSurf(VS,FS,VT,FT)\n",
    "plotfun(q0,p0,Kv)\n",
    "plt.show()"
   ]
  },
  {
   "cell_type": "markdown",
   "metadata": {},
   "source": [
    "Qd on a une collection de fromes, exemple un meme organe.. ==> ce sont des formes similaires, on veut trouver une forme moy = une form eprototype qui rpz au mieux la collection + on veut estimer les defromation de chacune des formes a la forme moyenne\n",
    "\n",
    "p_{0, i}^1 = vecteur moment au temps 0 partant du point i pour la formation 1 (construction de la deformation \\phi_1 allant de la ofrme moyenne vers la forme 1 de la collection)."
   ]
  },
  {
   "cell_type": "markdown",
   "metadata": {},
   "source": [
    "<br>\n",
    "<br>\n",
    "\n",
    "## 2. Construction d'atlas\n",
    "\n",
    "Nous allons voir ici comment réaliser un modèle de construction d'atlas pour l'étude d'une population de formes. Autrement dit, à partir de la donnée de $N$ formes similaires $x^k$, nous cherchons à obtenir conjointement une forme moyenne (le prototype) $\\bar x$ et des déformations optimales $\\phi^k$ entre $\\bar x$ et $x^k$. La donnée finale des $N$ transformations $\\phi^k$ permet alors d'effectuer une étude statistique sur la population.\n",
    "\n",
    "Nous supposerons que les formes considérées sont paramétrables par des ensembles de points: $\\x^k=(x_i^k)_{1\\leq i\\leq n_k}\\in(\\R^d)^{n_k}$.\n",
    "\n",
    "### a) Premier modèle : déformations paramétrées par les points du prototype\n",
    "\n",
    "$\\newcommand{\\x}{{\\bf x}}$\n",
    "$\\newcommand{\\p}{\\boldsymbol{p}}$\n",
    "$\\newcommand{\\q}{\\boldsymbol{q}}$\n",
    "$\\newcommand{\\id}{{\\mathrm{id}}}$\n",
    "$\\def\\scal#1#2{\\left\\langle #1\\mathbin{,}#2\\right\\rangle}$\n",
    "$\\newcommand{\\KV}{K_V}$\n",
    "$\\newcommand{\\z}{\\boldsymbol{z}}$\n",
    "\n",
    "Nous considérons d'abord  la fonctionnelle suivante:\n",
    "$$\\tilde J(\\{\\phi^k\\}_{1\\leq k\\leq N},\\bar\\x)=\\sum_{k=1}^N\\left\\{\\gamma d_V(\\id,\\phi^k)^2+A_k(\\phi^k(\\bar \\x))\\right\\},$$\n",
    "où $V$ est un espace de Hilbert de champs de vecteurs, \n",
    "$$d_V(\\id,\\phi^k)^2=\\inf\\left\\{\\int_0^1\\|v(t,\\cdot)\\|_V^2\\;dt,\\;\\;\\phi^v(1,\\cdot)=\\phi^k\\right\\}$$\n",
    "avec $\\phi^v$ le flot des champs $v(t,\\cdot)$,\n",
    "$\\gamma>0$ un paramètre,\n",
    "et $A_k$ est la fonctionnelle d'attache aux données pour la forme $\\x^k$, tandis que $\\bar x$ est la \"forme\" (ensemble de points ici) prototype à optimiser. Le nombre de points $n$ de $\\bar x$ est fixé.\n",
    "Pour un tel problème, comme pour le problème d'appariement simple, les transformations optimales $\\phi^k$ sont paramétrées par des vecteurs $p_i(0)^k$ (appelés moments initiaux) attachés aux points $\\bar x_i$, et le problème revient à minimiser\n",
    "$$J(\\{\\p^k(0)\\}_{1\\leq k\\leq N},\\bar\\x)=\\sum_{k=1}^N\\left\\{\\gamma\\scal{\\p^k(0)}{\\KV(\\bar\\x,\\bar\\x)\\p^k(0)}+A_k(\\q^k(1))\\right\\},$$\n",
    "où $\\p^k(t),\\q^k(t)$ suivent les équations géodésiques (cf 2e TP), avec $\\q^k(0)=\\bar\\x$.\n",
    "\n",
    "<br>\n",
    "\n",
    "__Question 1__ : On va travailler avec des données de types courbes 2D et utiliser l'attache aux données avec la méthode des varifolds : $A_k(\\z)=\\|[\\z]-[\\x^k]\\|_{W'}^2$, où $[\\z]$ désigne le varifold associé à la courbe échantillonnée par les points de $\\z$, et $\\|\\cdot\\|_{W'}$ la norme de Hilbert duale sur l'espace des varifolds. (N.B. Il n'est pas nécessaire de comprendre le modèle des varifolds pour réaliser ce qui suit ; on peut utiliser cette attache aux données directement)\n",
    "\n",
    "Adapter le code exemple d'appariement difféomorphique pour obtenir ce modèle de construction d'atlas."
   ]
  },
  {
   "cell_type": "code",
   "execution_count": 4,
   "metadata": {},
   "outputs": [],
   "source": [
    "# Question 1\n",
    "\n",
    "def AtlasLDDMMloss(K,dataloss,gamma=0):\n",
    "    # fonction similaire à LDDMMloss, pour la construction d'atlas\n",
    "    # -> doit définir la fonction J(p^k,xbar) du TP\n",
    "    # arguments : \n",
    "    #    K : noyau KV du modèle difféomorphique\n",
    "    #    dataloss : liste ou t-uple de fonctions d'attache aux données\n",
    "    #    gamma : paramètre gamma de la fonction J\n",
    "    # sortie :\n",
    "    #    loss : fonction définissant J et pouvant être appelée sous la forme\n",
    "    #           loss(p^1,p^2,...,p^N,xbar)\n",
    "    #\n",
    "    def loss(*args):\n",
    "        p_ = args[:-1]\n",
    "        xbar = args[-1]\n",
    "        S = 0\n",
    "        for i in range(len(p_)):\n",
    "            p, q = Shooting(p_[i], xbar, K)\n",
    "            S += gamma * Hamiltonian(K)(p_[i], xbar) + dataloss(q)\n",
    "        return S\n",
    "    return loss"
   ]
  },
  {
   "cell_type": "code",
   "execution_count": 5,
   "metadata": {},
   "outputs": [
    {
     "ename": "NameError",
     "evalue": "name 'x' is not defined",
     "output_type": "error",
     "traceback": [
      "\u001b[1;31m---------------------------------------------------------------------------\u001b[0m",
      "\u001b[1;31mNameError\u001b[0m                                 Traceback (most recent call last)",
      "\u001b[1;32m<ipython-input-5-572ccfe893b3>\u001b[0m in \u001b[0;36m<module>\u001b[1;34m\u001b[0m\n\u001b[0;32m      1\u001b[0m \u001b[1;31m# definition des points xbar\u001b[0m\u001b[1;33m\u001b[0m\u001b[1;33m\u001b[0m\u001b[1;33m\u001b[0m\u001b[0m\n\u001b[0;32m      2\u001b[0m \u001b[1;33m\u001b[0m\u001b[0m\n\u001b[1;32m----> 3\u001b[1;33m \u001b[0mxbar\u001b[0m \u001b[1;33m=\u001b[0m \u001b[0mx\u001b[0m\u001b[1;33m[\u001b[0m\u001b[1;36m0\u001b[0m\u001b[1;33m]\u001b[0m\u001b[1;33m.\u001b[0m\u001b[0mclone\u001b[0m\u001b[1;33m(\u001b[0m\u001b[1;33m)\u001b[0m\u001b[1;33m.\u001b[0m\u001b[0mdetach\u001b[0m\u001b[1;33m(\u001b[0m\u001b[1;33m)\u001b[0m\u001b[1;33m.\u001b[0m\u001b[0mrequires_grad_\u001b[0m\u001b[1;33m(\u001b[0m\u001b[1;32mTrue\u001b[0m\u001b[1;33m)\u001b[0m\u001b[1;33m\u001b[0m\u001b[1;33m\u001b[0m\u001b[0m\n\u001b[0m\u001b[0;32m      4\u001b[0m \u001b[1;33m\u001b[0m\u001b[0m\n\u001b[0;32m      5\u001b[0m \u001b[0mnxbar\u001b[0m \u001b[1;33m=\u001b[0m \u001b[0mx\u001b[0m\u001b[1;33m[\u001b[0m\u001b[1;36m0\u001b[0m\u001b[1;33m]\u001b[0m\u001b[1;33m.\u001b[0m\u001b[0mshape\u001b[0m\u001b[1;33m[\u001b[0m\u001b[1;36m0\u001b[0m\u001b[1;33m]\u001b[0m\u001b[1;33m\u001b[0m\u001b[1;33m\u001b[0m\u001b[0m\n",
      "\u001b[1;31mNameError\u001b[0m: name 'x' is not defined"
     ]
    }
   ],
   "source": [
    "# definition des points xbar\n",
    "\n",
    "xbar = x[0].clone().detach().requires_grad_(True)\n",
    "\n",
    "nxbar = x[0].shape[0]\n",
    "FS = torch.tensor(np.array([np.arange(nxbar-1),np.arange(1,nxbar)]).T).contiguous()"
   ]
  },
  {
   "cell_type": "markdown",
   "metadata": {},
   "source": [
    "__Question 2__ : Le fichier\n",
    "${\\it synth\\_20.pt}$ contient une liste ${\\sf x}$ de $20$ configurations de $n=44$ points dans le plan. Afficher ces configurations."
   ]
  },
  {
   "cell_type": "code",
   "execution_count": null,
   "metadata": {},
   "outputs": [],
   "source": [
    "# Question 2 : affichage des données synth_20\n",
    "plt.figure(figsize=(16,20))\n",
    "x = torch.load('synth_20.pt')\n",
    "N = len(x) # N=20\n",
    "for k in range(N):\n",
    "    plt.subplot(5,4,k+1)\n",
    "    plt.plot(x[k][:,0],x[k][:,1])\n",
    "    plt.axis([0,1,0,1])\n",
    "plt.show()"
   ]
  },
  {
   "cell_type": "markdown",
   "metadata": {},
   "source": [
    "__Question 3__ : Tester la méthode de construction d'atlas avec ces données, puis\n",
    "afficher les positions des points $x_i^k$, $\\bar x_i$ et $\\phi^k(\\bar x_i)$ après minimisation."
   ]
  },
  {
   "cell_type": "code",
   "execution_count": null,
   "metadata": {},
   "outputs": [],
   "source": [
    "# to do : implémentation de la méthode et optimisation\n",
    "# doit définir xbar (tenseur), forme prototype optimisée, \n",
    "# et une liste p0 = [p_0^1,...p_O^N] de tenseurs, vecteurs moments optimisés"
   ]
  },
  {
   "cell_type": "code",
   "execution_count": null,
   "metadata": {},
   "outputs": [],
   "source": [
    "# affichage des résultats :\n",
    "\n",
    "N = len(x) # N=20\n",
    "plt.figure(figsize=(16,20))\n",
    "for k in range(N):\n",
    "    plt.subplot(5,4,k+1)\n",
    "    plt.plot(x[k][:,0],x[k][:,1],\"k\")\n",
    "    plt.plot(xbar.detach()[:,0],xbar.detach()[:,1],\"b\")\n",
    "    p,q = Shooting(p0[k],xbar,Kv)\n",
    "    plt.plot(q.detach()[:,0],q.detach()[:,1],\"r\")\n",
    "    plt.axis([0,1,0,1])\n",
    "plt.show()"
   ]
  },
  {
   "cell_type": "code",
   "execution_count": null,
   "metadata": {},
   "outputs": [],
   "source": [
    "# affichage avec grilles de déformation et trajectoires des points pour les 4 premiers exemples\n",
    "for k in range(4):\n",
    "    plt.subplot(2,2,k+1)\n",
    "    plt.plot(x[k][:,0],x[k][:,1])\n",
    "    plotfun = PlotRes2D(x[k])\n",
    "    plotfun(xbar,p0[k],Kv)\n",
    "    plt.axis([0,1,0,1])\n",
    "plt.show()"
   ]
  },
  {
   "cell_type": "markdown",
   "metadata": {},
   "source": [
    "__Question 4__ : A partir des vecteurs $\\p^k(0)$, réaliser une Analyse en Composantes Principales (utiliser la fonction {\\sf PCA} fournie) afin d'extraire les directions principales de déformation de la population. Afficher les formes correspondant à la moyenne et aux deux premières directions principales de déformation."
   ]
  },
  {
   "cell_type": "code",
   "execution_count": 11,
   "metadata": {},
   "outputs": [],
   "source": [
    "# Question 4\n",
    "\n",
    "from numpy import mean,cov,cumsum,dot,linalg,size,flipud,argsort\n",
    "\n",
    "def PCA(X,numpc=0):\n",
    "    # perform Principal Component Analysis of data matrix X\n",
    "    # computing eigenvalues and eigenvectors of covariance matrix\n",
    "    M = (X-mean(X.T,axis=1)).T # subtract the mean (along columns)\n",
    "    [latent,coeff] = linalg.eig(cov(M))\n",
    "    p = size(coeff,axis=1)\n",
    "    idx = argsort(latent) # sorting the eigenvalues\n",
    "    idx = idx[::-1]       # in ascending order\n",
    "    # sorting eigenvectors according to the sorted eigenvalues\n",
    "    coeff = coeff[:,idx]\n",
    "    latent = latent[idx] # sorting eigenvalues\n",
    "    if numpc < p and numpc >= 0:\n",
    "        coeff = coeff[:,range(numpc)] # cutting some PCs if needed\n",
    "    score = dot(coeff.T,M) # projection of the data in the new space\n",
    "    return coeff,score,latent"
   ]
  },
  {
   "cell_type": "code",
   "execution_count": 12,
   "metadata": {},
   "outputs": [],
   "source": [
    "n, d = p0[0].shape\n",
    "N = len(p0)\n",
    "X = np.zeros((N,n*d))\n",
    "for k in range(N):\n",
    "    X[k,:] = p0[k].detach().flatten()"
   ]
  },
  {
   "cell_type": "code",
   "execution_count": 13,
   "metadata": {},
   "outputs": [],
   "source": [
    "coeff,score,latent = PCA(X,numpc=N)\n",
    "coeff = np.real(coeff)"
   ]
  },
  {
   "cell_type": "markdown",
   "metadata": {},
   "source": [
    "__Question 5__ : Calculer les $C(i,k)$ pour $1\\leq i\\leq N$ et $1\\leq k\\leq 3$ correspondant aux coordonnées des données projetées sur les trois premiers axes principaux, puis visualiser la population de formes dans ces coordonnées projetées."
   ]
  },
  {
   "cell_type": "code",
   "execution_count": null,
   "metadata": {},
   "outputs": [],
   "source": [
    "ncomp, ndisp = 3, 5\n",
    "p0_bar = mean(X,axis=0)\n",
    "k = 1\n",
    "for pca_index in range(ncomp):\n",
    "    sigma_pca = np.sqrt(np.real(latent[pca_index]))\n",
    "    for alpha in np.linspace(-2*sigma_pca, 2*sigma_pca, ndisp):\n",
    "        p0_mode = p0_bar + alpha * coeff[:,pca_index]\n",
    "        p0_mode = torch.tensor(p0_mode.reshape(n,d).astype(\"float32\"), requires_grad=True)\n",
    "        p,q = Shooting(p0_mode,xbar,Kv)\n",
    "        plt.subplot(ncomp,ndisp,k)        \n",
    "        plt.plot(q.detach()[:,0],q.detach()[:,1],\"*r\")\n",
    "        plt.axis([0,1,0,1])\n",
    "        k += 1\n",
    "plt.show()"
   ]
  },
  {
   "cell_type": "markdown",
   "metadata": {},
   "source": [
    "### b) Deuxième modèle : dissociation des points de contrôle et du prototype\n",
    "\n",
    "$\\newcommand{\\bcc}{{\\bf c}}$\n",
    "A présent on introduit des variables supplémentaires $(c_i)_{1\\leq i\\leq n_c}$ \n",
    "correspondant aux points de contrôle des déformations $\\phi^k$, supposées dissociées des points du prototype. Les déformations $\\phi^k$ sont alors paramétrées par ces points et les vecteurs $(p^k_i(0))_{1\\leq i\\leq n_c}$:\n",
    "et le problème consiste alors à minimiser\n",
    "$$J(\\{\\p^k(0)\\}_{1\\leq k\\leq N},\\bar\\x,\\bcc)=\\sum_{k=1}^N\\left\\{\\gamma\\scal{\\p^k(0)}{\\KV(\\bcc,\\bcc)\\p^k(0)}+A_k(\\phi^k(\\bar\\x)\\right\\}.$$\n",
    "\n",
    "__Question 6__ : Ecrire les fonctions permettant de calculer la fonctionnelle.\n",
    "Faire des essais avec les données précédentes, avec par exemple $n_c=3$. Afficher la forme prototype optimale ainsi que les positions des points de contrôle $c_i$."
   ]
  },
  {
   "cell_type": "code",
   "execution_count": 15,
   "metadata": {},
   "outputs": [],
   "source": [
    "# to do..."
   ]
  },
  {
   "cell_type": "code",
   "execution_count": null,
   "metadata": {},
   "outputs": [],
   "source": [
    "# affichage des résultats\n",
    "\n",
    "N = len(x) # N=20\n",
    "for k in range(4):\n",
    "    plt.subplot(2,2,k+1)\n",
    "    #plt.plot(xbar.detach()[:,0],xbar.detach()[:,1],\"*b\")\n",
    "    #plt.plot(x[k][:,0],x[k][:,1],\"*k\")\n",
    "    plotfun = PlotRes2D(x[k])\n",
    "    plotfun(c,p0[k],Kv)\n",
    "    plt.axis(\"equal\")\n",
    "plt.show()"
   ]
  },
  {
   "cell_type": "markdown",
   "metadata": {},
   "source": [
    "## 2. Données réelles - attache aux données de type mesures\n",
    "\n",
    "Pour terminer nous allons réaliser une étude avec des données de type nuages de points non ordonnés. Il faut alors remplacer les fonctionnelles d'attache aux données $A_k$ par des fonctionnelles appropriées afin de quantifier la similarité entre deux nuages de points. Nous allons utiliser directement - sans l'étudier - le modèle des mesures qui définit une distance entre masses de Dirac pondérées.\n",
    "\n",
    "__Question 7__ : Recommencer l'étude (construction d'atlas et ACP) avec les données du fichier `trois.pt` (obtenues à partir d'images binaires de chiffres 3 manuscrits), en utilisant la fonction `lossmeas` fournie pour calculer les nouvelles fonctionnelles $A_k$. \n",
    "\n",
    "N.B. Pour les paramètres on pourra choisir $\\sigma_V=0.25$, $\\sigma_W=0.1$, $\\gamma=0.1$."
   ]
  },
  {
   "cell_type": "code",
   "execution_count": 18,
   "metadata": {},
   "outputs": [
    {
     "data": {
      "image/png": "[encoded data removed]",
      "text/plain": [
       "<Figure size 1152x720 with 20 Axes>"
      ]
     },
     "metadata": {
      "needs_background": "light"
     },
     "output_type": "display_data"
    }
   ],
   "source": [
    "# Affichage des données\n",
    "\n",
    "x = torch.load('trois.pt')\n",
    "\n",
    "for k in range(20):\n",
    "    plt.subplot(5,4,k+1)\n",
    "    plt.plot(x[k][:,0],x[k][:,1],\"*\")\n",
    "    plt.axis(\"equal\")\n",
    "plt.show()"
   ]
  },
  {
   "cell_type": "code",
   "execution_count": 4,
   "metadata": {},
   "outputs": [],
   "source": [
    "# to do..."
   ]
  },
  {
   "cell_type": "code",
   "execution_count": null,
   "metadata": {},
   "outputs": [],
   "source": [
    "# affichage des résultats\n",
    "\n",
    "N = len(x) # N=20\n",
    "plt.figure(figsize=(16,20))\n",
    "for k in range(N):\n",
    "    plt.subplot(5,4,k+1)\n",
    "    plt.plot(x[k][:,0],x[k][:,1],\"k*\")\n",
    "    plt.plot(xbar.detach()[:,0],xbar.detach()[:,1],\"b*\")\n",
    "    p,q = Shooting(p0[k],xbar,Kv)\n",
    "    plt.plot(q.detach()[:,0],q.detach()[:,1],\"r*\")\n",
    "    plt.axis([0,1,0,1])\n",
    "plt.show()"
   ]
  }
 ],
 "metadata": {
  "kernelspec": {
   "display_name": "Python 3",
   "language": "python",
   "name": "python3"
  },
  "language_info": {
   "codemirror_mode": {
    "name": "ipython",
    "version": 3
   },
   "file_extension": ".py",
   "mimetype": "text/x-python",
   "name": "python",
   "nbconvert_exporter": "python",
   "pygments_lexer": "ipython3",
   "version": "3.8.8"
  }
 },
 "nbformat": 4,
 "nbformat_minor": 4
}
