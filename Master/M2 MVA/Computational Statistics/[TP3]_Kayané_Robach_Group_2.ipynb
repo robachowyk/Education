{
 "cells": [
  {
   "cell_type": "markdown",
   "metadata": {
    "id": "uzsOkK08X-DK"
   },
   "source": [
    "## Exercise 1"
   ]
  },
  {
   "cell_type": "markdown",
   "metadata": {
    "id": "J-mn4l03gZP0"
   },
   "source": [
    "### 1.A\n",
    "\n",
    "#### 1\n",
    "\n",
    "\\begin{align*}\n",
    "y_{i,j} &= d_i(t_{i,j}) + \\varepsilon_{i,j}\\\\\n",
    "&= d(\\alpha_i (t_{i,j} - t_0 - \\tau_i) + t_0 ) + \\varepsilon_{i,j}\\\\\n",
    "&= p_0 + v_0 \\alpha_i (t_{i,j} - t_0 - \\tau_i) + \\varepsilon_{i,j}\n",
    "\\end{align*}\n",
    "\n",
    "We have :\n",
    "   - $p_0 \\sim \\mathcal{N}(\\bar{p_0}, \\sigma^2_{p_0})$ but is considered fixed in the end (we consider straight lines)\n",
    "   - $t_0 \\sim \\mathcal{N}(\\bar{t_0}, \\sigma^2_{t_0})$, $\\sigma^2_{t_0}$ is fixed\n",
    "   - $v_0 \\sim \\mathcal{N}(\\bar{v_0}, \\sigma^2_{v_0})$, $\\sigma^2_{v_0}$ is fixed\n",
    "   - $\\tau_i \\sim \\mathcal{N}(0,\\sigma^2_\\tau)$\n",
    "   - $\\varepsilon_{i,j} \\sim \\mathcal{N}(0,\\sigma^2)$\n",
    "   - $\\alpha_i = \\exp(\\xi_i)$, $\\xi_i \\sim \\mathcal{N}(0,\\sigma^2_\\xi)$\n",
    "\n",
    "We introduce latent variables $z = (z_i, z_{pop})$ where $z_i = (\\alpha_i, \\tau_i)$ (we could have consider also ($\\xi_i, \\tau_i$)) and $z_{pop} = (t_0, v_0)$.\n",
    "\n",
    "We identify the set of parameters $\\theta = (\\sigma^2_\\tau, \\sigma^2_\\xi, \\sigma^2, \\bar{t_0}, \\bar{v_0})$.\n",
    "\n",
    "We introduce a bayesian framework and assume the following :\n",
    "   - $\\bar{t_0} \\sim \\mathcal{N}(\\bar{\\bar{t_0}},s^2_{t_0})$\n",
    "   - $\\bar{v_0} \\sim \\mathcal{N}(\\bar{\\bar{v_0}},s^2_{v_0})$\n",
    "   - $\\sigma^2_\\xi \\sim \\mathcal{W}^{-1}(v_\\xi, m_\\xi)$\n",
    "   - $\\sigma^2_\\tau \\sim \\mathcal{W}^{-1}(v_\\tau, m_\\tau)$\n",
    "   - $\\sigma^2 \\sim \\mathcal{W}^{-1}(v, m)$\n",
    "\n",
    "Then we are looking for the log-likelihood :\n",
    "$$log( \\: q(y,z,\\theta) \\: ) = log( \\: q(y|z,\\theta) \\: ) + log( \\: q(z|\\theta) \\: ) + log( \\: q(\\theta) \\: )$$\n",
    "\n",
    "Note that $t_0$, $\\sigma^2_{t_0}$, $s^2_{t_0}$ and $v_0$, $\\sigma^2_{v_0}$, $s^2_{v_0}$ are fixed, we will get rid of constant stuffs since we don't take them into account in the maximization. Also there are $N$ individuals and $k$ measurements for each individuals (or $k_i$ if we consider different numbers of measurements for each individuals).\n",
    "\n",
    "Notice that $\\varepsilon_{i,j}$ are normally distributed, $d_i(t_{i,j})$ are deterministic so that $y_{i,j} \\sim \\mathcal{N}(d_i(t_{i,j}), \\sigma^2)$.\n",
    "\n",
    "   - $log( \\: q(y|z,\\theta) \\: )$ :\n",
    "\n",
    "\\begin{align*}\n",
    "log( \\: q(y|z,\\theta) \\: ) &= \\sum_{i,j} log( \\: q(y_{i,j}| z, \\theta) \\: )\\\\\n",
    "&= \\sum_{i,j} log \\left( \\: \\frac{1}{\\sqrt{2 \\pi \\sigma^2}} \\exp^{\\frac{-1}{2 \\sigma^2} (y_{i,j} - d_i(t_{i,j}))^2} \\: \\right)\\\\\n",
    "&= \\sum_{i,j} log(1) -\\frac{1}{2} log(2 \\pi) -\\frac{1}{2}log(\\sigma^2) - \\frac{1}{2 \\sigma^2} (y_{i,j} - d_i(t_{i,j}))^2\\\\\n",
    "&= \\sum_{i,j} -\\frac{1}{2}log(\\sigma^2) - \\frac{1}{2 \\sigma^2} (y_{i,j} - d_i(t_{i,j}))^2\\\\\n",
    "&= \\color{purple}{-\\frac{N \\times k}{2}log(\\sigma^2)} \\color{green}{- \\frac{1}{2 \\sigma^2}} \\color{blue}{\\sum_{i,j} (y_{i,j} - d_i(t_{i,j}))^2}\\\\\n",
    "&= \\color{purple}{\\psi_1(\\theta)} + \\color{green}{\\varphi_1(\\theta)} \\color{blue}{S_1(y, z)}\n",
    "\\end{align*}\n",
    "\n",
    "\n",
    "   - $log( \\: q(z|\\theta) \\: )$ :\n",
    "\n",
    "\\begin{align*}\n",
    "log( \\: q(z|\\theta) \\: ) &= \\sum_{i} log( \\: q(z_i, z_{pop}|\\theta) \\: )\\\\\n",
    "&= \\sum_{i} log( \\: q(z_i|\\theta) \\: ) + log( \\: q(z_{pop}|\\theta) \\: )\\\\\n",
    "&= \\sum_{i} log( \\: q(\\xi_i, \\tau_i|\\theta) \\: ) + log( \\: q(t_0, v_0|\\theta) \\: )\\\\\n",
    "&= \\sum_{i} log( \\: q(\\xi_i|\\theta) \\: ) + log( \\: q(\\tau_i|\\theta) \\: ) + log( \\: q(t_0|\\theta) \\: ) + log( \\: q(v_0|\\theta) \\: )\\\\\n",
    "&= \\sum_{i} - \\frac{1}{2}log(\\sigma^2_{\\xi}) - \\frac{1}{2 \\sigma^2_{\\xi}}(\\xi_i)^2 - \\frac{1}{2}log(\\sigma^2_{\\tau}) - \\frac{1}{2 \\sigma^2_{\\tau}}(\\tau_i)^2 - \\frac{1}{2 \\sigma^2_{t_0}}(t_0 - \\bar{t_0})^2 - \\frac{1}{2 \\sigma^2_{v_0}}(v_0 - \\bar{v_0})^2\\\\\n",
    "&= - \\frac{N}{2}log(\\sigma^2_{\\xi}) - \\frac{1}{2 \\sigma^2_{\\xi}} \\sum_{i} (\\xi_i)^2 - \\frac{N}{2}log(\\sigma^2_{\\tau}) - \\frac{1}{2 \\sigma^2_{\\tau}} \\sum_{i} (\\tau_i)^2 - \\frac{N}{2 \\sigma^2_{t_0}}t_0^2 + \\frac{N}{\\sigma^2_{t_0}} t_0 \\bar{t_0} - \\frac{N}{2 \\sigma^2_{t_0}}\\bar{t_0}^2 - \\frac{N}{2 \\sigma^2_{v_0}} v_0^2 + \\frac{N}{\\sigma^2_{v_0}} v_0 \\bar{v_0} - \\frac{N}{2 \\sigma^2_{v_0}} \\bar{v_0}^2\\\\\n",
    "&= \\color{purple}{- \\frac{N}{2}log(\\sigma^2_{\\xi})} \\color{green}{- \\frac{1}{2 \\sigma^2_{\\xi}}} \\color{blue}{\\sum_{i} (\\xi_i)^2} \\color{purple}{- \\frac{N}{2}log(\\sigma^2_{\\tau})} \\color{green}{- \\frac{1}{2 \\sigma^2_{\\tau}}} \\color{blue}{\\sum_{i} (\\tau_i)^2} \\color{blue}{+ \\frac{N}{\\sigma^2_{t_0}} t_0} \\color{green}{\\bar{t_0}} \\color{purple}{- \\frac{N}{2 \\sigma^2_{t_0}}\\bar{t_0}^2} \\color{blue}{+ \\frac{N}{\\sigma^2_{v_0}} v_0} \\color{green}{\\bar{v_0}} \\color{purple}{- \\frac{N}{2 \\sigma^2_{v_0}} \\bar{v_0}^2}\\\\\n",
    "&= \\color{purple}{\\psi_{2.1}(\\theta)} + \\color{green}{\\varphi_{2.1}(\\theta)} \\color{blue}{S_{2.1}(y,z)} + \\color{purple}{\\psi_{2.2}(\\theta)} + \\color{green}{\\varphi_{2.2}(\\theta)} \\color{blue}{S_{2.2}(y,z)} + \\color{blue}{S_{2.3}(y,z)} \\color{green}{\\varphi_{2.3}(\\theta)} + \\color{purple}{\\psi_{2.3}(\\theta)} + \\color{blue}{S_{2.4}(y,z)} \\color{green}{\\varphi_{2.4}(\\theta)} + \\color{purple}{\\psi_{2.4}(\\theta)}\n",
    "\\end{align*}\n",
    "\n",
    "   - $log( \\: q(\\theta) \\: )$ :\n",
    "\n",
    "\\begin{align*}\n",
    "log( \\: q(\\theta) \\: )& =  log( \\: q(\\theta) \\: )\\\\\n",
    "&= log( \\: q(\\theta) \\: )\\\\\n",
    "&= log( \\: q(\\sigma^2_\\tau, \\sigma^2_\\xi, \\sigma^2, \\bar{t_0}, \\bar{v_0}) \\: )\\\\\n",
    "&= log( \\: q(\\sigma^2_\\tau) \\: ) + log( \\: q(\\sigma^2_\\xi) \\: ) + log( \\: q(\\sigma^2) \\: ) + log( \\: q(\\bar{t_0}) \\: ) + log( \\: q(\\bar{v_0}) \\: )\\\\\n",
    "&= log(\\frac{1}{\\sigma^2_{\\tau}}) + m_{\\tau} log(\\frac{v_{\\tau}}{\\sigma_{\\tau} \\sqrt{2}}) - \\frac{v^2_{\\tau}}{2 \\sigma^2_{\\tau}} + log(\\frac{1}{\\sigma^2_{\\xi}}) + m_{\\xi} log(\\frac{v_{\\xi}}{\\sigma_{\\xi} \\sqrt{2}}) - \\frac{v^2_{\\xi}}{2 \\sigma^2_{\\xi}}\\\\\n",
    "&+ log(\\frac{1}{\\sigma^2}) + m log(\\frac{v}{\\sigma \\sqrt{2}}) - \\frac{v^2}{2 \\sigma^2}\\\\\n",
    "&- \\frac{1}{2} log(s^2_{t_0}) - \\frac{1}{2 s^2_{t_0}}(\\bar{t_0} - \\bar{\\bar{t_0}})^2 - \\frac{1}{2} log(s^2_{v_0}) - \\frac{1}{2 s^2_{v_0}}(\\bar{v_0} - \\bar{\\bar{v_0}})^2\\\\\n",
    "&= - log(\\sigma^2_{\\tau}) + m_{\\tau} log(v_{\\tau}) - m_{\\tau} log(\\sigma_{\\tau}) - \\frac{v^2_{\\tau}}{2 \\sigma^2_{\\tau}}\\\\\n",
    "&- log(\\sigma^2_{\\xi}) + m_{\\xi} log(v_{\\xi}) - m_{\\xi} log(\\sigma_{\\xi}) - \\frac{v^2_{\\xi}}{2 \\sigma^2_{\\xi}}\\\\\n",
    "&- log(\\sigma^2) + m log(v) - m log(\\sigma) - \\frac{v^2}{2 \\sigma^2}\\\\\n",
    "&- \\frac{1}{2} log(s^2_{t_0}) - \\frac{1}{2 s^2_{t_0}}(\\bar{t_0} - \\bar{\\bar{t_0}})^2 - \\frac{1}{2} log(s^2_{v_0}) - \\frac{1}{2 s^2_{v_0}}(\\bar{v_0} - \\bar{\\bar{v_0}})^2\\\\\n",
    "&= - (1 + \\frac{m_{\\tau}}{2}) log(\\sigma^2_{\\tau}) - \\frac{v^2_{\\tau}}{2 \\sigma^2_{\\tau}}\\\\\n",
    "&- (1 + \\frac{m_{\\xi}}{2}) log(\\sigma^2_{\\xi}) - \\frac{v^2_{\\xi}}{2 \\sigma^2_{\\xi}}\\\\\n",
    "&- (1 + \\frac{m}{2}) log(\\sigma^2) - \\frac{v^2}{2 \\sigma^2}\\\\\n",
    "& - \\frac{1}{2 s^2_{t_0}}(\\bar{t_0} - \\bar{\\bar{t_0}})^2 - \\frac{1}{2 s^2_{v_0}}(\\bar{v_0} - \\bar{\\bar{v_0}})^2\\\\\n",
    "&= \\color{blue}{- (1 + \\frac{m_{\\tau}}{2})} \\color{green}{log(\\sigma^2_{\\tau})} \\color{purple}{- \\frac{v^2_{\\tau}}{2 \\sigma^2_{\\tau}}}\\\\\n",
    "&\\color{blue}{- (1 + \\frac{m_{\\xi}}{2})} \\color{green}{log(\\sigma^2_{\\xi})} \\color{purple}{- \\frac{v^2_{\\xi}}{2 \\sigma^2_{\\xi}}}\\\\\n",
    "&\\color{blue}{- (1 + \\frac{m}{2})} \\color{green}{log(\\sigma^2)} \\color{purple}{- \\frac{v^2}{2 \\sigma^2}}\\\\\n",
    "& \\color{purple}{- \\frac{1}{2 s^2_{t_0}}(\\bar{t_0} - \\bar{\\bar{t_0}})^2}\\color{purple}{- \\frac{1}{2 s^2_{v_0}}(\\bar{v_0} - \\bar{\\bar{v_0}})^2}\\\\\n",
    "&= \\color{blue}{S_{3.1}(y,z)} \\color{green}{\\varphi_{3.1}(\\theta)} + \\color{purple}{\\psi_{3.1}(\\theta)}\\\\\n",
    "&+ \\color{blue}{S_{3.2}(y,z)} \\color{green}{\\varphi_{3.2}(\\theta)} + \\color{purple}{\\psi_{3.2}(\\theta)}\\\\\n",
    "&+ \\color{blue}{S_{3.3}(y,z)} \\color{green}{\\varphi_{3.3}(\\theta)} + \\color{purple}{\\psi_{3.3}(\\theta)}\\\\\n",
    "& + \\color{purple}{\\psi_{3.4}(\\theta)} + \\color{purple}{\\psi_{3.5}(\\theta)}\\\\\n",
    "\\end{align*}\n",
    "\n",
    "In the end :\n",
    "\n",
    "\\begin{align*}\n",
    "log( \\: q(y,z,\\theta) \\: ) &= log( \\: q(y|z,\\theta) \\: ) + log( \\: q(z|\\theta) \\: ) + log( \\: q(\\theta) \\: )\\\\\n",
    "&= \\sum \\color{blue}{S(y,z)} \\color{green}{\\phi(\\theta)} + \\color{purple}{\\psi(\\theta)}\\\\\n",
    "\\end{align*}\n",
    "\n",
    "Thus, the model belongs to the exponential family.\n",
    "\n",
    "\n",
    "\n",
    "\n",
    "#### 2"
   ]
  },
  {
   "cell_type": "code",
   "execution_count": 7,
   "metadata": {
    "colab": {
     "base_uri": "https://localhost:8080/",
     "height": 428
    },
    "id": "XMg5eE3qYW6S",
    "outputId": "ae9016a1-340b-485a-de3e-3562d34febd1"
   },
   "outputs": [
    {
     "data": {
      "image/png": "[encoded data removed]",
      "text/plain": [
       "<Figure size 720x504 with 1 Axes>"
      ]
     },
     "metadata": {
      "needs_background": "light"
     },
     "output_type": "display_data"
    }
   ],
   "source": [
    "from scipy.stats import invwishart\n",
    "from matplotlib import pyplot as plt\n",
    "import numpy as np\n",
    "from math import *\n",
    "\n",
    "def generate_data_from_model(N, doublebar_t0, std_t0, sigma_t0, doublebar_v0, std_v0, sigma_v0, m_epsilon, v_epsilon, m_tau, v_tau, m_xi, v_xi):\n",
    "\n",
    "    # assume there are 10 measurements for each of the i-th individuals :\n",
    "    k = 10\n",
    "\n",
    "    # assume measurements are obtained at time t in [1,N] for all individuals :\n",
    "    t = np.array([ [j for j in range(1,k+1)] for i in range(N)])\n",
    "\n",
    "    p0 = np.random.normal(2,1)\n",
    "\n",
    "    bar_t0 = np.random.normal(doublebar_t0, std_t0)\n",
    "    t0 = np.random.normal(bar_t0, sigma_t0)\n",
    "\n",
    "    bar_v0 = np.random.normal(doublebar_v0, std_v0)\n",
    "    v0 = np.random.normal(bar_v0, sigma_v0)\n",
    "\n",
    "    var_tau = invwishart.rvs(m_tau, v_tau)\n",
    "    tau = np.random.normal(0, sqrt(var_tau), N)\n",
    "\n",
    "    var_xi = invwishart.rvs(m_xi, v_xi)\n",
    "    xi = np.random.normal(0, sqrt(var_xi), N)\n",
    "\n",
    "    alpha = np.exp(xi)\n",
    "\n",
    "    var_tau = invwishart.rvs(m_tau, v_tau)\n",
    "\n",
    "    var_epsilon = invwishart.rvs(m_epsilon, v_epsilon)\n",
    "    epsilon = np.array([ [np.random.normal(0, sqrt(var_epsilon)) for j in range(k)] for i in range(N) ])\n",
    "\n",
    "    y = np.array([ [p0 + alpha[i]*v0*(t[i,j] - t0 - tau[i]) + epsilon[i,j] for j in range(k)] for i in range(N) ])\n",
    "\n",
    "    return y\n",
    "\n",
    "y = generate_data_from_model(N = 1000, doublebar_t0 = 1, std_t0 = 1, sigma_t0 = 1, doublebar_v0 = 1.5, std_v0 = 1.5, sigma_v0 = 1.5, m_epsilon = 3, v_epsilon = 2, m_tau = 1, v_tau = 0.5, m_xi = 5, v_xi = 1.5)\n",
    "\n",
    "\n",
    "plt.figure( figsize = (10,7) )\n",
    "\n",
    "individuals = np.random.randint(0, y.shape[0], 5)\n",
    "for ind in individuals:\n",
    "    plt.plot(np.arange(y.shape[1]), y[ind], label=f\"individual {ind}\")\n",
    "\n",
    "plt.legend()\n",
    "plt.show()"
   ]
  },
  {
   "cell_type": "markdown",
   "metadata": {
    "id": "cErY6yK_ttau"
   },
   "source": [
    "### 1.B\n",
    "\n",
    "#### 3\n",
    "\n",
    "We consider a multivariate gaussian distribution $\\mathcal{N}(z, \\sigma_{prop})$. Because it is symetric the acceptance ration rewrites $1 \\bigwedge \\frac{\\pi(z^{*})}{\\pi(z^{(k)})}$ where $z^{*}$ is the proposal and $z^{(k)}$ is the current state.\n",
    "\n",
    "Our target $\\pi$ is $q(y,z,\\theta)$ so that we will consider $log( \\: q(y,z,\\theta) \\: )$."
   ]
  },
  {
   "cell_type": "code",
   "execution_count": 3,
   "metadata": {
    "colab": {
     "base_uri": "https://localhost:8080/",
     "height": 131
    },
    "id": "_yzQtN8DK2FG",
    "outputId": "d59e0c7e-322e-4894-edc3-e925775341c5"
   },
   "outputs": [
    {
     "ename": "SyntaxError",
     "evalue": "ignored",
     "output_type": "error",
     "traceback": [
      "\u001b[0;36m  File \u001b[0;32m\"<ipython-input-3-e6d1eb707ea0>\"\u001b[0;36m, line \u001b[0;32m22\u001b[0m\n\u001b[0;31m    log_ratio_pi = # write the formulas of log(q(...)) according to the computation made earlier\u001b[0m\n\u001b[0m                                                                                                ^\u001b[0m\n\u001b[0;31mSyntaxError\u001b[0m\u001b[0;31m:\u001b[0m invalid syntax\n"
     ]
    }
   ],
   "source": [
    "initial_z = np.array([xi_i, tau_i, t0, v0])\n",
    "\n",
    "def Hasting_Metropolis_Sampler(initial_z, maxIter):\n",
    "\n",
    "    # assume there are 100 measurements for each of the i-th individuals :\n",
    "    k = 100\n",
    "\n",
    "    N = 1000\n",
    "\n",
    "    # assume measurements are obtained at time t in [1,N] for all individuals :\n",
    "    t = np.array([ [j for j in range(1,k+1)] for i in range(N)])\n",
    "\n",
    "    sigma_xi, sigma_tau, sigma_t0, sigma_v0 = [1, 1, 1, 1]\n",
    "    sigma_prop = np.diag( np.array([sigma_xi, sigma_tau, sigma_t0, sigma_v0]) )\n",
    "    proposal_distribution = np.random.normal(z, sigma_prop)\n",
    "\n",
    "    var_epsilon = 1\n",
    "    epsilon = np.array([ [np.random.normal(0, sqrt(var_epsilon)) for j in range(k)] for i in range(N) ])\n",
    "\n",
    "    # pi(z)/pi(zk) = q(y,z*,theta)/q(y,zk,theta) = q(y|z*,theta).q(z*|theta)/q(y|z*,theta).q(zk|theta)\n",
    "    # >>> log[pi(z)/pi(zk)] = log[q(y|z*,theta)]+log[q(z*|theta)]-log[q(y|z*,theta)]-log[q(zk|theta)]\n",
    "    log_ratio_pi = # write the formulas of log(q(...)) according to the computation made earlier\n",
    "\n",
    "    z = [initial_z] # the list of arrays of z\n",
    "\n",
    "    for k in range(maxIter):\n",
    "\n",
    "        proposal_z = proposal_distribution(z[-1], sigma_prop) # should be an array\n",
    "\n",
    "        u = np.random.uniform()\n",
    "\n",
    "        if u < np.min(0, log_pi_proposal - log_pi_z):\n",
    "            z.append(proposal)\n",
    "        else:\n",
    "            z.append(z[-1])\n",
    "\n",
    "    return z"
   ]
  },
  {
   "cell_type": "markdown",
   "metadata": {
    "id": "uq4W8OHmfJtZ"
   },
   "source": [
    "#### 4\n",
    "\n",
    "On cherche $\\theta^{(k)}_{MLE} = \\underset{\\theta \\in \\Theta}{argmax}\\{ <\\color{blue}{S(y,z)} \\color{green}{\\phi(\\theta)}> + \\color{purple}{\\psi(\\theta)} \\}$\n",
    "\n",
    "Remind that our set of parameters is : $\\theta = (\\sigma^2_\\tau, \\sigma^2_\\xi, \\sigma^2, \\bar{t_0}, \\bar{v_0})$.\n",
    "\n",
    "\\begin{align*}\n",
    "\\nabla_{\\sigma^2_\\tau}<\\color{blue}{S(y,z)} \\color{green}{\\phi(\\theta)}> + \\color{purple}{\\psi(\\theta)} &= \\nabla_{\\sigma^2_\\tau} \\color{purple}{\\psi_{2.2}(\\theta)} + \\color{green}{\\varphi_{2.2}(\\theta)} \\color{blue}{S_{2.2}(y,z)} + \\color{blue}{S_{3.1}(y,z)} \\color{green}{\\varphi_{3.1}(\\theta)} + \\color{purple}{\\psi_{3.1}(\\theta)}\\\\\n",
    "&= \\nabla_{\\sigma^2_\\tau} \\color{purple}{- \\frac{N}{2}log(\\sigma^2_{\\tau})} \\color{green}{- \\frac{1}{2 \\sigma^2_{\\tau}}} \\color{blue}{\\sum_{i} (\\tau_i)^2} + \\color{blue}{- (1 + \\frac{m_{\\tau}}{2})} \\color{green}{log(\\sigma^2_{\\tau})} \\color{purple}{- \\frac{v^2_{\\tau}}{2 \\sigma^2_{\\tau}}}\\\\\n",
    "&= -\\frac{N}{2}\\frac{1}{\\sigma^2_\\tau} + \\frac{1}{2 (\\sigma^2_\\tau)^2} \\sum_{i} (\\tau_i)^2 - (1 + \\frac{m_{\\tau}}{2}) \\frac{1}{\\sigma^2_\\tau} + \\frac{v^2_{\\tau}}{2 (\\sigma^2_{\\tau})^2}\\\\\n",
    "\\end{align*}\n",
    "\n",
    "\\begin{align*}\n",
    "&\\nabla_{\\sigma^2_\\tau}<\\color{blue}{S(y,z)} \\color{green}{\\phi(\\theta)}> + \\color{purple}{\\psi(\\theta)} = 0\\\\ \n",
    "\\iff& -\\frac{N}{2}\\frac{1}{\\sigma^2_\\tau} + \\frac{1}{2 (\\sigma^2_\\tau)^2} \\sum_{i} (\\tau_i)^2 - (1 + \\frac{m_{\\tau}}{2}) \\frac{1}{\\sigma^2_\\tau} + \\frac{v^2_{\\tau}}{2 (\\sigma^2_{\\tau})^2} = 0\\\\\n",
    "\\iff& -\\frac{N}{2}\\sigma^2_\\tau + \\frac{1}{2} \\sum_{i} (\\tau_i)^2 - (1 + \\frac{m_{\\tau}}{2}) \\sigma^2_\\tau + \\frac{v^2_{\\tau}}{2} = 0\\\\\n",
    "\\iff& \\sigma^2_\\tau (\\frac{N}{2} + 1 + \\frac{m_{\\tau}}{2}) = \\frac{1}{2} \\sum_{i} (\\tau_i)^2 + \\frac{v^2_{\\tau}}{2}\\\\\n",
    "\\iff& \\sigma^2_\\tau = \\frac{\\sum_{i} (\\tau_i)^2 + v^2_{\\tau}}{N + 2 + m_{\\tau}}\\\\\n",
    "\\end{align*}\n",
    "\n",
    "\\begin{align*}\n",
    "\\nabla_{\\sigma^2_\\xi}<\\color{blue}{S(y,z)} \\color{green}{\\phi(\\theta)}> + \\color{purple}{\\psi(\\theta)} &= \\nabla_{\\sigma^2_\\xi} \\color{purple}{\\psi_{2.1}(\\theta)} + \\color{green}{\\varphi_{2.1}(\\theta)} \\color{blue}{S_{2.1}(y,z)} + \\color{blue}{S_{3.2}(y,z)} \\color{green}{\\varphi_{3.2}(\\theta)} + \\color{purple}{\\psi_{3.2}(\\theta)}\\\\\n",
    "&= \\nabla_{\\sigma^2_\\xi} \\color{purple}{- \\frac{N}{2}log(\\sigma^2_{\\xi})} \\color{green}{- \\frac{1}{2 \\sigma^2_{\\xi}}} \\color{blue}{\\sum_{i} (\\xi_i)^2} + \\color{blue}{- (1 + \\frac{m_{\\xi}}{2})} \\color{green}{log(\\sigma^2_{\\xi})} \\color{purple}{- \\frac{v^2_{\\xi}}{2 \\sigma^2_{\\xi}}}\\\\\n",
    "&= -\\frac{N}{2}\\frac{1}{\\sigma^2_\\xi} + \\frac{1}{2 (\\sigma^2_\\xi)^2} \\sum_{i} (\\xi_i)^2 - (1 + \\frac{m_{\\xi}}{2}) \\frac{1}{\\sigma^2_\\xi} + \\frac{v^2_{\\xi}}{2 (\\sigma^2_{\\xi})^2}\\\\\n",
    "\\end{align*}\n",
    "\n",
    "\\begin{align*}\n",
    "&\\nabla_{\\sigma^2_\\xi}<\\color{blue}{S(y,z)} \\color{green}{\\phi(\\theta)}> + \\color{purple}{\\psi(\\theta)} = 0\\\\ \n",
    "\\iff& -\\frac{N}{2}\\frac{1}{\\sigma^2_\\xi} + \\frac{1}{2 (\\sigma^2_\\xi)^2} \\sum_{i} (\\xi_i)^2 - (1 + \\frac{m_{\\xi}}{2}) \\frac{1}{\\sigma^2_\\xi} + \\frac{v^2_{\\xi}}{2 (\\sigma^2_{\\xi})^2} = 0\\\\\n",
    "\\iff& \\sigma^2_\\xi = \\frac{\\sum_{i} (\\xi_i)^2 + v^2_{\\xi}}{N + 2 + m_{\\xi}}\\\\\n",
    "\\end{align*}\n",
    "\n",
    "\\begin{align*}\n",
    "\\nabla_{\\sigma^2}<\\color{blue}{S(y,z)} \\color{green}{\\phi(\\theta)}> + \\color{purple}{\\psi(\\theta)} &= \\nabla_{\\sigma^2} \\color{purple}{\\psi_{1}(\\theta)} + \\color{green}{\\varphi_{1}(\\theta)} \\color{blue}{S_{1}(y,z)} + \\color{blue}{S_{3.3}(y,z)} \\color{green}{\\varphi_{3.3}(\\theta)} + \\color{purple}{\\psi_{3.3}(\\theta)}\\\\\n",
    "&= \\nabla_{\\sigma^2} \\color{purple}{-\\frac{N \\times k}{2}log(\\sigma^2)} \\color{green}{- \\frac{1}{2 \\sigma^2}} \\color{blue}{\\sum_{i,j} (y_{i,j} - d_i(t_{i,j}))^2} + \\color{blue}{- (1 + \\frac{m}{2})} \\color{green}{log(\\sigma^2)} \\color{purple}{- \\frac{v^2}{2 \\sigma^2}}\\\\\n",
    "&= -\\frac{N \\times k}{2\\sigma^2} + \\frac{1}{2 (\\sigma^2)^2} \\sum_{i,j} (y_{i,j} - d_i(t_{i,j}))^2 - (1 + \\frac{m}{2})\\frac{1}{\\sigma^2} + \\frac{v^2}{2 (\\sigma^2)^2}\\\\\n",
    "\\end{align*}\n",
    "\n",
    "\\begin{align*}\n",
    "&\\nabla_{\\sigma^2}<\\color{blue}{S(y,z)} \\color{green}{\\phi(\\theta)}> + \\color{purple}{\\psi(\\theta)} = 0\\\\ \n",
    "\\iff& -\\frac{N \\times k}{2}\\sigma^2 + \\frac{1}{2} \\sum_{i,j} (y_{i,j} - d_i(t_{i,j}))^2 - (1 + \\frac{m}{2})\\sigma^2 + \\frac{v^2}{2} = 0\\\\\n",
    "\\iff& \\sigma^2 = \\frac{\\sum_{i} (y_{i,j} - d_i(t_{i,j}))^2 + v^2}{N \\times k + 2 + m}\\\\\n",
    "\\end{align*}\n",
    "\n",
    "\\begin{align*}\n",
    "\\nabla_{\\bar{t_0}}<\\color{blue}{S(y,z)} \\color{green}{\\phi(\\theta)}> + \\color{purple}{\\psi(\\theta)} &= \\nabla_{\\bar{t_0}} \\color{blue}{S_{2.3}(y,z)} \\color{green}{\\varphi_{2.3}(\\theta)} + \\color{purple}{\\psi_{2.3}(\\theta)} + \\color{purple}{\\psi_{3.4}(\\theta)}\\\\\n",
    "&= \\nabla_{\\bar{t_0}} \\color{blue}{\\frac{N}{\\sigma^2_{t_0}} t_0} \\color{green}{\\bar{t_0}} \\color{purple}{- \\frac{N}{2 \\sigma^2_{t_0}}\\bar{t_0}^2} \\color{purple}{- \\frac{1}{2 s^2_{t_0}}(\\bar{t_0} - \\bar{\\bar{t_0}})^2}\\\\\n",
    "&= \\frac{N}{\\sigma^2_{t_0}} t_0 - \\frac{N}{\\sigma^2_{t_0}}\\bar{t_0} - \\frac{1}{s^2_{t_0}}(\\bar{t_0} - \\bar{\\bar{t_0}})\\\\\n",
    "\\end{align*}\n",
    "\n",
    "\\begin{align*}\n",
    "&\\nabla_{\\bar{t_0}}<\\color{blue}{S(y,z)} \\color{green}{\\phi(\\theta)}> + \\color{purple}{\\psi(\\theta)} = 0\\\\ \n",
    "\\iff& \\frac{N}{\\sigma^2_{t_0}} t_0 - \\frac{N}{\\sigma^2_{t_0}}\\bar{t_0} - \\frac{1}{s^2_{t_0}}(\\bar{t_0} - \\bar{\\bar{t_0}}) = 0\\\\\n",
    "\\iff& \\bar{t_0} = \\frac{ \\frac{N}{\\sigma^2_{t_0}} t_0 + \\frac{\\bar{\\bar{t_0}}}{s^2_{t_0}} }{ \\frac{N}{\\sigma^2_{t_0}} + \\frac{1}{s^2_{t_0}} }\\\\\n",
    "\\end{align*}\n",
    "\n",
    "\\begin{align*}\n",
    "\\nabla_{\\bar{v_0}}<\\color{blue}{S(y,z)} \\color{green}{\\phi(\\theta)}> + \\color{purple}{\\psi(\\theta)} &= \\nabla_{\\bar{v_0}} \\color{blue}{S_{2.4}(y,z)} \\color{green}{\\varphi_{2.4}(\\theta)} + \\color{purple}{\\psi_{2.4}(\\theta)} + \\color{purple}{\\psi_{3.5}(\\theta)}\\\\\n",
    "&= \\nabla_{\\bar{v_0}} \\color{blue}{\\frac{N}{\\sigma^2_{v_0}} v_0} \\color{green}{\\bar{v_0}} \\color{purple}{- \\frac{N}{2 \\sigma^2_{v_0}}\\bar{v_0}^2} \\color{purple}{- \\frac{1}{2 s^2_{v_0}}(\\bar{v_0} - \\bar{\\bar{v_0}})^2}\\\\\n",
    "&= \\frac{N}{\\sigma^2_{v_0}} v_0 - \\frac{N}{\\sigma^2_{v_0}}\\bar{v_0} - \\frac{1}{s^2_{v_0}}(\\bar{v_0} - \\bar{\\bar{v_0}})\\\\\n",
    "\\end{align*}\n",
    "\n",
    "\\begin{align*}\n",
    "&\\nabla_{\\bar{v_0}}<\\color{blue}{S(y,z)} \\color{green}{\\phi(\\theta)}> + \\color{purple}{\\psi(\\theta)} = 0\\\\ \n",
    "\\iff& \\frac{N}{\\sigma^2_{v_0}} v_0 - \\frac{N}{\\sigma^2_{v_0}}\\bar{v_0} - \\frac{1}{s^2_{v_0}}(\\bar{v_0} - \\bar{\\bar{v_0}}) = 0\\\\\n",
    "\\iff& \\bar{v_0} = \\frac{ \\frac{N}{\\sigma^2_{v_0}} v_0 + \\frac{\\bar{\\bar{v_0}}}{s^2_{v_0}} }{ \\frac{N}{\\sigma^2_{v_0}} + \\frac{1}{s^2_{v_0}} }\\\\\n",
    "\\end{align*}"
   ]
  },
  {
   "cell_type": "code",
   "execution_count": null,
   "metadata": {
    "id": "vIHMg8Oui1de"
   },
   "outputs": [],
   "source": [
    "def MCMC_SAEM(y, initial_guess_theta, maxIter):\n",
    "\n",
    "    N = y.shape[0]\n",
    "\n",
    "    # initialisation\n",
    "    xi_i = np.zeros(N)\n",
    "    tau_i = np.zeros(N)\n",
    "    t0 = 0\n",
    "    v0 = 0\n",
    "\n",
    "    # (need to define what are the sufficient stats but i run out of time)\n",
    "    S = np.array([S1, S2, S3, S4, S5]) \n",
    "\n",
    "    theta = initial_guess_theta\n",
    "\n",
    "    z = np.zeros(len(xi_i) + len(tau_i) + 1 + 1)\n",
    "    z = Hasting_Metropolis_Sampler(z, maxIter)\n",
    "\n",
    "    for k in range(maxIter):\n",
    " \n",
    "        # simulate new z\n",
    "        new_z = Hasting_Metropolis_Sampler(z, maxIter)\n",
    "\n",
    "        # simulate S with new z \n",
    "        # (need to define what are the \"new\" sufficient stats but I run out of time)\n",
    "        S_with_new_z = np.array([S1_new_z, S2_new_z, S3_new_z, S4_new_z, S5_new_z])\n",
    "\n",
    "        # stochastic approx of the sufficient stats\n",
    "        Nb = maxIter/2\n",
    "        alpha = 0.75\n",
    "        if k <= Nb:\n",
    "            step_size = 1\n",
    "        else:\n",
    "            step_size = (k - Nb)**(- alpha)\n",
    "\n",
    "        new_S = S + step_size * (S_with_new_z - S)\n",
    "\n",
    "        # theta maximization\n",
    "        sigma_tau =\n",
    "        sigma_xi =\n",
    "        sigma =\n",
    "        bar_t0 =\n",
    "        bar_v0 =\n",
    "        theta = [sigma_tau, sigma_xi, sigma, bar_t0, bar_t0]\n",
    "\n",
    "        z = new_z\n",
    "        S = new_S\n",
    "\n",
    "    return theta"
   ]
  },
  {
   "cell_type": "markdown",
   "metadata": {
    "id": "hgNqkh5JIGJa"
   },
   "source": [
    "### 1.C\n",
    "\n",
    "I'm running out of time\n",
    "\n",
    "#### 5"
   ]
  },
  {
   "cell_type": "code",
   "execution_count": null,
   "metadata": {
    "id": "An-gwgeqJpL8"
   },
   "outputs": [],
   "source": [
    "def Hybrid_Gibbs_Sampler(z):\n",
    "\n",
    "... that s a good question"
   ]
  },
  {
   "cell_type": "markdown",
   "metadata": {
    "id": "cGeHc8L1MO5F"
   },
   "source": [
    "#### 6"
   ]
  },
  {
   "cell_type": "code",
   "execution_count": null,
   "metadata": {
    "id": "IROHbfKPMI3T"
   },
   "outputs": [],
   "source": [
    "def HMwG():\n",
    "\n",
    "..."
   ]
  },
  {
   "cell_type": "markdown",
   "metadata": {
    "id": "VSJ7H0TlMWLW"
   },
   "source": [
    "#### 7"
   ]
  },
  {
   "cell_type": "code",
   "execution_count": null,
   "metadata": {
    "id": "HWi6DYCJMdCb"
   },
   "outputs": [],
   "source": [
    "def HMwG_SAEM():\n",
    "\n",
    "... I must admit that at that point I m sailing through trouble waters"
   ]
  },
  {
   "cell_type": "markdown",
   "metadata": {
    "id": "P3VEsbGANIey"
   },
   "source": [
    "#### 8"
   ]
  },
  {
   "cell_type": "markdown",
   "metadata": {
    "id": "GJCtpUrvOqPi"
   },
   "source": [
    "The Gibbs sampler VS. Block Gibbs sampler :\n",
    "\n",
    "With Gibbs Sampler, the sampling step consist in updating the latent variable one at a time. This could be very long. If we consider a Metropolis Hastings step (when we cannot recover the conditional distribution of the latent given the other coordinates), computing the update of the latent could be time consuming and last but not least we sometimes reject it !\n",
    "\n",
    "On the other hand with the Block Gibbs sampler, instead of considering the latent variables one at a time we consider a subset of latent variables where the variables selected have the same shape (the individuals variables on the one hand and the population ones on the other for example). Then we do the same algorithm but group by group so that we do not have as iterations to do as in the case of a simple Gibbs Sampler."
   ]
  },
  {
   "cell_type": "markdown",
   "metadata": {
    "id": "Q0f7r4wlzdYU"
   },
   "source": [
    "#### 9"
   ]
  },
  {
   "cell_type": "code",
   "execution_count": null,
   "metadata": {
    "id": "brTuiGfVzfbB"
   },
   "outputs": [],
   "source": [
    "def Block_HMwG_sampler():"
   ]
  },
  {
   "cell_type": "markdown",
   "metadata": {
    "id": "GD9Ypuu6xMiZ"
   },
   "source": [
    "## Exercise 2"
   ]
  },
  {
   "cell_type": "markdown",
   "metadata": {
    "id": "-T0MlOpuxX2q"
   },
   "source": [
    "#### 1\n",
    "\n",
    "$\\epsilon \\sim f_{\\epsilon}$, $B \\sim B(\\frac{1}{2})$, h a measurable bounded function.\n",
    "\\begin{align*}\n",
    "\\mathbb{E}[h(Y)] &= \\mathbb{E}[h(X \\epsilon)|B=1]\\mathbb{P}(B=1) + \\mathbb{E}[h\\left(\\frac{X}{\\epsilon}\\right)|B=0]\\mathbb{P}(B=0)\\\\\n",
    "&= \\frac{1}{2} \\mathbb{E}[h(X \\epsilon)] + \\frac{1}{2} \\mathbb{E}[h\\left(\\frac{X}{\\epsilon}\\right)]\\\\\n",
    "\\end{align*}\n",
    "because $B$ and $\\epsilon$ are independent.\n",
    "\\begin{align*}\n",
    "&= \\frac{1}{2} \\int_{\\mathbb{R}} h(X \\epsilon) f_{\\epsilon}(\\epsilon) d \\epsilon + \\frac{1}{2} \\int_{\\mathbb{R}} h\\left(\\frac{X}{\\epsilon}\\right) f_{\\epsilon}(\\epsilon) d \\epsilon\\\\\n",
    "&= \\frac{1}{2} \\int_{-1}^1 h(X \\epsilon) f_{\\epsilon}(\\epsilon) d \\epsilon + \\frac{1}{2} \\int_{-1}^1 h\\left(\\frac{X}{\\epsilon}\\right) f_{\\epsilon}(\\epsilon) d \\epsilon\\\\\n",
    "\\end{align*}\n",
    "\n",
    "We make the following change of variable in the first integral : \n",
    "  - $Y = X \\epsilon$, \n",
    "  - $\\epsilon \\in [-1,1] \\implies Y \\in [-X, X]$, \n",
    "  - $d \\epsilon = \\frac{d y}{X}$\n",
    "\n",
    "And the following one in the second integral : \n",
    "  - $Y = \\frac{X}{\\epsilon}$, \n",
    "  - $\\epsilon \\in [-1,1] \\implies Y \\in [-\\infty, -X] \\: \\text{for} \\: \\epsilon < 0, Y \\in [X, +\\infty] \\: \\text{for} \\: \\epsilon > 0$, \n",
    "  - $d \\epsilon = \\frac{d y}{\\frac{-X}{\\epsilon^2}} = - d y \\frac{X}{Y^2}$\n",
    "\n",
    "\\begin{align*}\n",
    "&= \\frac{1}{2} \\int_{-X}^X h(Y) \\frac{f_{\\epsilon}(\\frac{Y}{X})}{X} d y - \\frac{1}{2} \\int_{- X}^{-\\infty} h(Y) f_{\\epsilon}\\left(\\frac{X}{Y}\\right) \\frac{X}{Y^2} d y - \\frac{1}{2} \\int_{+\\infty}^{X} h(Y) f_{\\epsilon}\\left(\\frac{X}{Y}\\right) \\frac{X}{Y^2} d y\\\\\n",
    "&= \\frac{1}{2} \\int_{-X}^X h(Y) \\frac{f_{\\epsilon}(\\frac{Y}{X})}{X} d y + \\frac{1}{2} \\int_{-\\infty}^{-X} h(Y) f_{\\epsilon}\\left(\\frac{X}{Y}\\right) \\frac{X}{Y^2} d y + \\frac{1}{2} \\int_{X}^{+\\infty} h(Y) f_{\\epsilon}\\left(\\frac{X}{Y}\\right) \\frac{X}{Y^2} d y\\\\\n",
    "\\end{align*}\n",
    "\n",
    "In the end we get :\n",
    "\n",
    "$$\n",
    "q(X,Y) = \\left\\{\n",
    "    \\begin{array}{ll}\n",
    "         \\frac{1}{2} f_{\\epsilon}\\left(\\frac{X}{Y}\\right) \\frac{X}{Y^2} & \\mbox{for } Y \\in (-\\infty, -X) \\\\\n",
    "        \\frac{1}{2} \\frac{f_{\\epsilon}(\\frac{Y}{X})}{X} & \\mbox{for } Y \\in [-X, X] \\\\\n",
    "         \\frac{1}{2} f_{\\epsilon}\\left(\\frac{X}{Y}\\right) \\frac{X}{Y^2} & \\mbox{for } Y \\in (X, +\\infty) \\\\\n",
    "    \\end{array}\n",
    "\\right.\n",
    "$$\n",
    "\n",
    "\n",
    "\n",
    "#### 2\n",
    "\n",
    "The acceptation ratio is $$\\alpha(X_n, Y_{n+1}) = 1 \\bigwedge \\frac{\\pi(Y_{n+1}) q(Y_{n+1}, X_n)}{q(X_n, Y_{n+1}) \\pi(X_n)}$$ where $q$ is the proposal distribution to sample a candidate $Y_{n+1}$. We have seen thanks to the balanced equation that the distribution $\\pi$ of the chain in that case is invariant.\n",
    "\n",
    "#### 3\n",
    "\n",
    "Let us suppose that $\\epsilon \\sim U_{[-1,1]}$"
   ]
  },
  {
   "cell_type": "code",
   "execution_count": 6,
   "metadata": {
    "colab": {
     "base_uri": "https://localhost:8080/",
     "height": 953
    },
    "id": "s757n8gZDwG6",
    "outputId": "dc5334ce-41e1-4c48-f15e-9ce94ba28364"
   },
   "outputs": [
    {
     "data": {
      "image/png": "[encoded data removed]",
      "text/plain": [
       "<Figure size 720x504 with 1 Axes>"
      ]
     },
     "metadata": {
      "needs_background": "light"
     },
     "output_type": "display_data"
    },
    {
     "name": "stderr",
     "output_type": "stream",
     "text": [
      "/usr/local/lib/python3.7/dist-packages/ipykernel_launcher.py:41: RuntimeWarning: overflow encountered in exp\n",
      "/usr/local/lib/python3.7/dist-packages/ipykernel_launcher.py:29: RuntimeWarning: invalid value encountered in double_scalars\n",
      "/usr/local/lib/python3.7/dist-packages/ipykernel_launcher.py:29: RuntimeWarning: overflow encountered in double_scalars\n",
      "/usr/local/lib/python3.7/dist-packages/ipykernel_launcher.py:29: RuntimeWarning: divide by zero encountered in double_scalars\n"
     ]
    },
    {
     "data": {
      "image/png": "[encoded data removed]",
      "text/plain": [
       "<Figure size 720x504 with 1 Axes>"
      ]
     },
     "metadata": {
      "needs_background": "light"
     },
     "output_type": "display_data"
    }
   ],
   "source": [
    "import scipy\n",
    "\n",
    "def jumping_distribution(x,y):\n",
    "    if -x < y and y < x:\n",
    "        f = 1./2 if -1 < y/x and y/x < 1 else 0\n",
    "        return 1./2 * f / x\n",
    "    else:\n",
    "        f = 1./2 if -1 < x/y and x/y < 1 else 0\n",
    "        return  1./2 * f * (x / y**2)\n",
    "  \n",
    "  \n",
    "def Multiplicative_Hastings_Metropolis(current_state, target_distribution, parameters):\n",
    "\n",
    "    X = current_state\n",
    "\n",
    "    for _ in range(1000):\n",
    "    \n",
    "        epsilon = np.random.uniform(-1, 1)\n",
    "\n",
    "        B = np.random.binomial(1, 1/2)\n",
    "\n",
    "        if B == 1:\n",
    "            candidate = X*epsilon\n",
    "        else:\n",
    "            candidate = X/epsilon\n",
    "\n",
    "        u = np.random.uniform()\n",
    "\n",
    "        if u < min(1, (target_distribution(candidate, parameters) * jumping_distribution(candidate,X)) / (jumping_distribution(X,candidate) * target_distribution(X, parameters))):\n",
    "            X = candidate\n",
    "    \n",
    "    return X\n",
    "\n",
    "\n",
    "def normal_target(x, parameter):\n",
    "    mean, var = parameter\n",
    "    return np.exp(-(x - mean)**2/2)/sqrt(2*pi*var)\n",
    "\n",
    "\n",
    "def exponential_target(x, parameter):\n",
    "    return parameter * np.exp(- parameter * x)\n",
    "\n",
    "normal_chain = [ Multiplicative_Hastings_Metropolis(1, normal_target, [0,1]) for _ in range(1000) ]\n",
    "x_axis = np.linspace(min(normal_chain), max(normal_chain), 100)\n",
    "true_normal = [ scipy.stats.norm.pdf(x, 0, 1) for x in x_axis ]\n",
    "plt.figure( figsize=(10,7) )\n",
    "plt.hist(normal_chain, 100, density=True)\n",
    "plt.plot(x_axis, true_normal, label = \"true distribution\")\n",
    "plt.legend()\n",
    "plt.show()\n",
    "\n",
    "# je ne sais pas pourquoi je n'ai que des valeurs positives... et ca ne marche pas avec la loi exponentielle...\n",
    "\n",
    "exp_chain = [ Multiplicative_Hastings_Metropolis(1, exponential_target, 1) for _ in range(1000) ]\n",
    "x_axis = np.linspace(min(exp_chain), max(exp_chain), 100)\n",
    "true_exp = [ scipy.stats.expon.pdf(x, scale = 1) for x in x_axis ]\n",
    "plt.figure( figsize=(10,7) )\n",
    "plt.hist(exp_chain, 100, density=True)\n",
    "plt.plot(x_axis, true_exp, label = \"true distribution\")\n",
    "plt.legend()\n",
    "plt.show()"
   ]
  },
  {
   "cell_type": "markdown",
   "metadata": {
    "id": "VrFzBqxQJcgx"
   },
   "source": [
    "#### 4\n",
    "\n",
    "In orange we can see the true normal distribution and in blue the one with our samples.\n",
    "\n",
    "It matches well ! Nonetheless I cannot make it good for the exponential distribution (I think the values of the exponential goes too far too fast). Also I don't know why but I only have positive values ; there might be a sign error somewhere..."
   ]
  },
  {
   "cell_type": "code",
   "execution_count": null,
   "metadata": {
    "id": "0C1KZEOyJ_Ik"
   },
   "outputs": [],
   "source": []
  }
 ],
 "metadata": {
  "colab": {
   "collapsed_sections": [],
   "name": "TP_CompStats_Kaya.ipynb",
   "provenance": []
  },
  "kernelspec": {
   "display_name": "Python 3",
   "language": "python",
   "name": "python3"
  },
  "language_info": {
   "codemirror_mode": {
    "name": "ipython",
    "version": 3
   },
   "file_extension": ".py",
   "mimetype": "text/x-python",
   "name": "python",
   "nbconvert_exporter": "python",
   "pygments_lexer": "ipython3",
   "version": "3.8.8"
  }
 },
 "nbformat": 4,
 "nbformat_minor": 4
}
