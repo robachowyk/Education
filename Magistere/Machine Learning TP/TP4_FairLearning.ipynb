{
 "cells": [
  {
   "cell_type": "markdown",
   "metadata": {},
   "source": [
    "# Magistère 2A INTRODUCTION AU MACHINE LEARNING\n",
    "## TP 4 : Apprentissage équitable\n",
    "\n",
    "## Objectifs du TP\n",
    "\n",
    "Dans ce TP, on utilisera la base `adult`. Le but de cette base est de prédire si le salaire sera supérieur à 50 000\\$ à partir d'information socio-économique et de corriger les biais lié au genre ou à la catégorie ethnique.\n",
    "\n",
    "Le TP sera à rendre en binôme pour le 6 décembre 2020.\n",
    "\n",
    "pour installer XGboost :\n",
    "\n",
    "pip install xgboost\n",
    "\n",
    "## Chargement de la base et sélection des données\n",
    "\n",
    "* Téléchargez la base *adult.csv* et chargez-la dans un DataFrame (pandas), noté *df* (pandas).\n",
    "* Affichez les attributs de la base et leur nombre. De quel type sont-ils (réels, nominaux ou variables binaires...) ? Combien y a-t-il de classes (colonne income) ?\n",
    "*  vous devez maintenant nettoyer la base :\n",
    "    * remplacer les valeurs manquantes par le mode à l'aide de *df.fillna*\n",
    "    * remplacer dans la colonne *income* '<=50K' par 0 et  '>50K' par 1\n",
    "    * remplacer dans la colonne *sex* 'male' par 0 et  'female' par 1\n",
    "    * retirer la colonne *fnlwgt*\n",
    "    * transformer les variables non numériques en variables binaires à l'aide de *pandas.get_dummies*\n",
    "    * Pour les informations liées à la catégorie ethnique, ne gardez que la colonne correspondant à \"white/not white\"\n",
    "\n",
    "* Créer une base d'apprentissage et une base de test (70\\% apprentissage 30\\% test)"
   ]
  },
  {
   "cell_type": "code",
   "execution_count": 1,
   "metadata": {},
   "outputs": [],
   "source": [
    "import os\n",
    "import pandas as pds\n",
    "import numpy as np\n",
    "from sklearn.model_selection import train_test_split, GridSearchCV\n",
    "from collections import Counter\n",
    "from matplotlib import pyplot as plt\n",
    "from sklearn.tree import DecisionTreeClassifier\n",
    "from sklearn.naive_bayes import GaussianNB\n",
    "from sklearn.neighbors import KNeighborsClassifier\n",
    "from sklearn.ensemble import RandomForestClassifier\n",
    "from sklearn.linear_model import LogisticRegression\n",
    "from xgboost import XGBClassifier\n",
    "from tqdm.auto import tqdm "
   ]
  },
  {
   "cell_type": "code",
   "execution_count": 2,
   "metadata": {},
   "outputs": [
    {
     "data": {
      "text/html": [
       "<div>\n",
       "<style scoped>\n",
       "    .dataframe tbody tr th:only-of-type {\n",
       "        vertical-align: middle;\n",
       "    }\n",
       "\n",
       "    .dataframe tbody tr th {\n",
       "        vertical-align: top;\n",
       "    }\n",
       "\n",
       "    .dataframe thead th {\n",
       "        text-align: right;\n",
       "    }\n",
       "</style>\n",
       "<table border=\"1\" class=\"dataframe\">\n",
       "  <thead>\n",
       "    <tr style=\"text-align: right;\">\n",
       "      <th></th>\n",
       "      <th>age</th>\n",
       "      <th>workclass</th>\n",
       "      <th>fnlwgt</th>\n",
       "      <th>education</th>\n",
       "      <th>education.num</th>\n",
       "      <th>marital.status</th>\n",
       "      <th>occupation</th>\n",
       "      <th>relationship</th>\n",
       "      <th>race</th>\n",
       "      <th>sex</th>\n",
       "      <th>capital.gain</th>\n",
       "      <th>capital.loss</th>\n",
       "      <th>hours.per.week</th>\n",
       "      <th>native.country</th>\n",
       "      <th>income</th>\n",
       "    </tr>\n",
       "  </thead>\n",
       "  <tbody>\n",
       "    <tr>\n",
       "      <th>0</th>\n",
       "      <td>90</td>\n",
       "      <td>?</td>\n",
       "      <td>77053</td>\n",
       "      <td>HS-grad</td>\n",
       "      <td>9</td>\n",
       "      <td>Widowed</td>\n",
       "      <td>?</td>\n",
       "      <td>Not-in-family</td>\n",
       "      <td>White</td>\n",
       "      <td>Female</td>\n",
       "      <td>0</td>\n",
       "      <td>4356</td>\n",
       "      <td>40</td>\n",
       "      <td>United-States</td>\n",
       "      <td>&lt;=50K</td>\n",
       "    </tr>\n",
       "    <tr>\n",
       "      <th>1</th>\n",
       "      <td>82</td>\n",
       "      <td>Private</td>\n",
       "      <td>132870</td>\n",
       "      <td>HS-grad</td>\n",
       "      <td>9</td>\n",
       "      <td>Widowed</td>\n",
       "      <td>Exec-managerial</td>\n",
       "      <td>Not-in-family</td>\n",
       "      <td>White</td>\n",
       "      <td>Female</td>\n",
       "      <td>0</td>\n",
       "      <td>4356</td>\n",
       "      <td>18</td>\n",
       "      <td>United-States</td>\n",
       "      <td>&lt;=50K</td>\n",
       "    </tr>\n",
       "    <tr>\n",
       "      <th>2</th>\n",
       "      <td>66</td>\n",
       "      <td>?</td>\n",
       "      <td>186061</td>\n",
       "      <td>Some-college</td>\n",
       "      <td>10</td>\n",
       "      <td>Widowed</td>\n",
       "      <td>?</td>\n",
       "      <td>Unmarried</td>\n",
       "      <td>Black</td>\n",
       "      <td>Female</td>\n",
       "      <td>0</td>\n",
       "      <td>4356</td>\n",
       "      <td>40</td>\n",
       "      <td>United-States</td>\n",
       "      <td>&lt;=50K</td>\n",
       "    </tr>\n",
       "    <tr>\n",
       "      <th>3</th>\n",
       "      <td>54</td>\n",
       "      <td>Private</td>\n",
       "      <td>140359</td>\n",
       "      <td>7th-8th</td>\n",
       "      <td>4</td>\n",
       "      <td>Divorced</td>\n",
       "      <td>Machine-op-inspct</td>\n",
       "      <td>Unmarried</td>\n",
       "      <td>White</td>\n",
       "      <td>Female</td>\n",
       "      <td>0</td>\n",
       "      <td>3900</td>\n",
       "      <td>40</td>\n",
       "      <td>United-States</td>\n",
       "      <td>&lt;=50K</td>\n",
       "    </tr>\n",
       "    <tr>\n",
       "      <th>4</th>\n",
       "      <td>41</td>\n",
       "      <td>Private</td>\n",
       "      <td>264663</td>\n",
       "      <td>Some-college</td>\n",
       "      <td>10</td>\n",
       "      <td>Separated</td>\n",
       "      <td>Prof-specialty</td>\n",
       "      <td>Own-child</td>\n",
       "      <td>White</td>\n",
       "      <td>Female</td>\n",
       "      <td>0</td>\n",
       "      <td>3900</td>\n",
       "      <td>40</td>\n",
       "      <td>United-States</td>\n",
       "      <td>&lt;=50K</td>\n",
       "    </tr>\n",
       "    <tr>\n",
       "      <th>...</th>\n",
       "      <td>...</td>\n",
       "      <td>...</td>\n",
       "      <td>...</td>\n",
       "      <td>...</td>\n",
       "      <td>...</td>\n",
       "      <td>...</td>\n",
       "      <td>...</td>\n",
       "      <td>...</td>\n",
       "      <td>...</td>\n",
       "      <td>...</td>\n",
       "      <td>...</td>\n",
       "      <td>...</td>\n",
       "      <td>...</td>\n",
       "      <td>...</td>\n",
       "      <td>...</td>\n",
       "    </tr>\n",
       "    <tr>\n",
       "      <th>32556</th>\n",
       "      <td>22</td>\n",
       "      <td>Private</td>\n",
       "      <td>310152</td>\n",
       "      <td>Some-college</td>\n",
       "      <td>10</td>\n",
       "      <td>Never-married</td>\n",
       "      <td>Protective-serv</td>\n",
       "      <td>Not-in-family</td>\n",
       "      <td>White</td>\n",
       "      <td>Male</td>\n",
       "      <td>0</td>\n",
       "      <td>0</td>\n",
       "      <td>40</td>\n",
       "      <td>United-States</td>\n",
       "      <td>&lt;=50K</td>\n",
       "    </tr>\n",
       "    <tr>\n",
       "      <th>32557</th>\n",
       "      <td>27</td>\n",
       "      <td>Private</td>\n",
       "      <td>257302</td>\n",
       "      <td>Assoc-acdm</td>\n",
       "      <td>12</td>\n",
       "      <td>Married-civ-spouse</td>\n",
       "      <td>Tech-support</td>\n",
       "      <td>Wife</td>\n",
       "      <td>White</td>\n",
       "      <td>Female</td>\n",
       "      <td>0</td>\n",
       "      <td>0</td>\n",
       "      <td>38</td>\n",
       "      <td>United-States</td>\n",
       "      <td>&lt;=50K</td>\n",
       "    </tr>\n",
       "    <tr>\n",
       "      <th>32558</th>\n",
       "      <td>40</td>\n",
       "      <td>Private</td>\n",
       "      <td>154374</td>\n",
       "      <td>HS-grad</td>\n",
       "      <td>9</td>\n",
       "      <td>Married-civ-spouse</td>\n",
       "      <td>Machine-op-inspct</td>\n",
       "      <td>Husband</td>\n",
       "      <td>White</td>\n",
       "      <td>Male</td>\n",
       "      <td>0</td>\n",
       "      <td>0</td>\n",
       "      <td>40</td>\n",
       "      <td>United-States</td>\n",
       "      <td>&gt;50K</td>\n",
       "    </tr>\n",
       "    <tr>\n",
       "      <th>32559</th>\n",
       "      <td>58</td>\n",
       "      <td>Private</td>\n",
       "      <td>151910</td>\n",
       "      <td>HS-grad</td>\n",
       "      <td>9</td>\n",
       "      <td>Widowed</td>\n",
       "      <td>Adm-clerical</td>\n",
       "      <td>Unmarried</td>\n",
       "      <td>White</td>\n",
       "      <td>Female</td>\n",
       "      <td>0</td>\n",
       "      <td>0</td>\n",
       "      <td>40</td>\n",
       "      <td>United-States</td>\n",
       "      <td>&lt;=50K</td>\n",
       "    </tr>\n",
       "    <tr>\n",
       "      <th>32560</th>\n",
       "      <td>22</td>\n",
       "      <td>Private</td>\n",
       "      <td>201490</td>\n",
       "      <td>HS-grad</td>\n",
       "      <td>9</td>\n",
       "      <td>Never-married</td>\n",
       "      <td>Adm-clerical</td>\n",
       "      <td>Own-child</td>\n",
       "      <td>White</td>\n",
       "      <td>Male</td>\n",
       "      <td>0</td>\n",
       "      <td>0</td>\n",
       "      <td>20</td>\n",
       "      <td>United-States</td>\n",
       "      <td>&lt;=50K</td>\n",
       "    </tr>\n",
       "  </tbody>\n",
       "</table>\n",
       "<p>32561 rows × 15 columns</p>\n",
       "</div>"
      ],
      "text/plain": [
       "       age workclass  fnlwgt     education  education.num      marital.status  \\\n",
       "0       90         ?   77053       HS-grad              9             Widowed   \n",
       "1       82   Private  132870       HS-grad              9             Widowed   \n",
       "2       66         ?  186061  Some-college             10             Widowed   \n",
       "3       54   Private  140359       7th-8th              4            Divorced   \n",
       "4       41   Private  264663  Some-college             10           Separated   \n",
       "...    ...       ...     ...           ...            ...                 ...   \n",
       "32556   22   Private  310152  Some-college             10       Never-married   \n",
       "32557   27   Private  257302    Assoc-acdm             12  Married-civ-spouse   \n",
       "32558   40   Private  154374       HS-grad              9  Married-civ-spouse   \n",
       "32559   58   Private  151910       HS-grad              9             Widowed   \n",
       "32560   22   Private  201490       HS-grad              9       Never-married   \n",
       "\n",
       "              occupation   relationship   race     sex  capital.gain  \\\n",
       "0                      ?  Not-in-family  White  Female             0   \n",
       "1        Exec-managerial  Not-in-family  White  Female             0   \n",
       "2                      ?      Unmarried  Black  Female             0   \n",
       "3      Machine-op-inspct      Unmarried  White  Female             0   \n",
       "4         Prof-specialty      Own-child  White  Female             0   \n",
       "...                  ...            ...    ...     ...           ...   \n",
       "32556    Protective-serv  Not-in-family  White    Male             0   \n",
       "32557       Tech-support           Wife  White  Female             0   \n",
       "32558  Machine-op-inspct        Husband  White    Male             0   \n",
       "32559       Adm-clerical      Unmarried  White  Female             0   \n",
       "32560       Adm-clerical      Own-child  White    Male             0   \n",
       "\n",
       "       capital.loss  hours.per.week native.country income  \n",
       "0              4356              40  United-States  <=50K  \n",
       "1              4356              18  United-States  <=50K  \n",
       "2              4356              40  United-States  <=50K  \n",
       "3              3900              40  United-States  <=50K  \n",
       "4              3900              40  United-States  <=50K  \n",
       "...             ...             ...            ...    ...  \n",
       "32556             0              40  United-States  <=50K  \n",
       "32557             0              38  United-States  <=50K  \n",
       "32558             0              40  United-States   >50K  \n",
       "32559             0              40  United-States  <=50K  \n",
       "32560             0              20  United-States  <=50K  \n",
       "\n",
       "[32561 rows x 15 columns]"
      ]
     },
     "execution_count": 2,
     "metadata": {},
     "output_type": "execute_result"
    }
   ],
   "source": [
    "pds.set_option('display.max_columns', None)\n",
    "df = pds.read_csv((os.path.join(\"data\", \"adult.csv\")))\n",
    "df"
   ]
  },
  {
   "cell_type": "code",
   "execution_count": 3,
   "metadata": {},
   "outputs": [
    {
     "data": {
      "text/plain": [
       "array(['White', 'Black', 'Asian-Pac-Islander', 'Other',\n",
       "       'Amer-Indian-Eskimo'], dtype=object)"
      ]
     },
     "execution_count": 3,
     "metadata": {},
     "output_type": "execute_result"
    }
   ],
   "source": [
    "df.race.unique()"
   ]
  },
  {
   "cell_type": "code",
   "execution_count": 4,
   "metadata": {},
   "outputs": [
    {
     "data": {
      "text/plain": [
       "array([0, 1], dtype=int64)"
      ]
     },
     "execution_count": 4,
     "metadata": {},
     "output_type": "execute_result"
    }
   ],
   "source": [
    "df.race = df.race.map({'White': 0, 'Black':1, 'Asian-Pac-Islander':1, 'Other':1, 'Amer-Indian-Eskimo':1})\n",
    "df.race.unique()"
   ]
  },
  {
   "cell_type": "code",
   "execution_count": 5,
   "metadata": {},
   "outputs": [
    {
     "data": {
      "text/plain": [
       "age                int64\n",
       "workclass         object\n",
       "fnlwgt             int64\n",
       "education         object\n",
       "education.num      int64\n",
       "marital.status    object\n",
       "occupation        object\n",
       "relationship      object\n",
       "race               int64\n",
       "sex               object\n",
       "capital.gain       int64\n",
       "capital.loss       int64\n",
       "hours.per.week     int64\n",
       "native.country    object\n",
       "income            object\n",
       "dtype: object"
      ]
     },
     "execution_count": 5,
     "metadata": {},
     "output_type": "execute_result"
    }
   ],
   "source": [
    "df.dtypes"
   ]
  },
  {
   "cell_type": "code",
   "execution_count": 6,
   "metadata": {},
   "outputs": [],
   "source": [
    "df = df.replace('?', np.NaN)\n",
    "df = df.fillna( df.mode().iloc[0] )\n",
    "df.income = df.income.map({'<=50K': 0,'>50K': 1})\n",
    "df.sex = df.sex.map({'Female': 1,'Male': 0})\n",
    "df = pds.concat([df, df.workclass.str.get_dummies()], axis=1)\n",
    "df = pds.concat([df, df.education.str.get_dummies()], axis=1)\n",
    "df = pds.concat([df, df['marital.status'].str.get_dummies()], axis=1)\n",
    "df = pds.concat([df, df.occupation.str.get_dummies()], axis=1)\n",
    "df = pds.concat([df, df.relationship.str.get_dummies()], axis=1)\n",
    "df = pds.concat([df, df['native.country'].str.get_dummies()], axis=1)\n",
    "\n",
    "df = df.drop(columns=['fnlwgt','workclass','education','marital.status','occupation','relationship','native.country'], axis=1)"
   ]
  },
  {
   "cell_type": "code",
   "execution_count": 7,
   "metadata": {},
   "outputs": [],
   "source": [
    "df_train, df_test = train_test_split(df, test_size = 0.3)\n",
    "\n",
    "X_test = df_test.drop('income', axis = 1)\n",
    "Y_test = df_test['income']\n",
    "\n",
    "X_train = df_train.drop('income', axis = 1)\n",
    "Y_train = df_train['income']"
   ]
  },
  {
   "cell_type": "markdown",
   "metadata": {},
   "source": [
    "## Calcul du biais\n",
    "Faire une fonction *disparate_impact(Y,S)* qui prend deux vecteurs binaires, un correspondant à $\\hat{Y}$ (ou $Y$) ,l'autre à $S$ et qui calcule le disparate impact :\n",
    "$$\n",
    "DI(\\hat{Y},S)=\\frac{P(\\hat{Y}=1|S=0)}{P(\\hat{Y}=1|S=1)}\n",
    "$$\n",
    "* calculer le disparate impact des bases train et test pour $Y$ correpondant à $income$ et $S$ correspondant à *sex* \n",
    "* calculer le disparate impact des bases train et test pour $Y$ correpondant à $income$ et $S$ correspondant à *white/not white*"
   ]
  },
  {
   "cell_type": "code",
   "execution_count": 15,
   "metadata": {},
   "outputs": [],
   "source": [
    "def disparate_impact(Y,S):\n",
    "    \n",
    "    data = pds.DataFrame([Y,S]).transpose()\n",
    "    data_tuple = list(data.itertuples(index=False, name=None))\n",
    "    count_proba = dict(zip(Counter(data_tuple).keys(), Counter(data_tuple).values()))\n",
    "    Y1_given_S0 = count_proba.get((1,0),0) / ( count_proba.get((1,0),0) + count_proba.get((0,0),0) )\n",
    "    Y1_given_S1 = count_proba.get((1,1),0) / ( count_proba.get((1,1),0) + count_proba.get((0,1),0) )\n",
    "    \n",
    "    if Y1_given_S1 != 0:\n",
    "        return Y1_given_S0 / Y1_given_S1\n",
    "    else:\n",
    "        return 100"
   ]
  },
  {
   "cell_type": "markdown",
   "metadata": {},
   "source": [
    "### Pour le genre :"
   ]
  },
  {
   "cell_type": "code",
   "execution_count": 9,
   "metadata": {},
   "outputs": [
    {
     "name": "stdout",
     "output_type": "stream",
     "text": [
      "DI_train_income_sex 2.779457442797325\n",
      "DI_test_income_sex 2.8251806696474993\n"
     ]
    }
   ],
   "source": [
    "DI_train_income_sex = disparate_impact(Y_train, X_train.sex)\n",
    "DI_test_income_sex = disparate_impact(Y_test, X_test.sex)\n",
    "\n",
    "print('DI_train_income_sex',DI_train_income_sex)\n",
    "print('DI_test_income_sex',DI_test_income_sex)"
   ]
  },
  {
   "cell_type": "markdown",
   "metadata": {},
   "source": [
    "### Pour la categorie ethnique :"
   ]
  },
  {
   "cell_type": "code",
   "execution_count": 10,
   "metadata": {},
   "outputs": [
    {
     "name": "stdout",
     "output_type": "stream",
     "text": [
      "DI_train_income_race 1.7080637201484032\n",
      "DI_test_income_race 1.6112613394858053\n"
     ]
    }
   ],
   "source": [
    "DI_train_income_race = disparate_impact(Y_train, X_train.race)\n",
    "DI_test_income_race = disparate_impact(Y_test, X_test.race)\n",
    "\n",
    "print('DI_train_income_race',DI_train_income_race)\n",
    "print('DI_test_income_race',DI_test_income_race)"
   ]
  },
  {
   "cell_type": "markdown",
   "metadata": {},
   "source": [
    "Pour le genre comme pour la categorie ethnique, le disparate impact, qui mesure la dependance entre la variable a predire et la variable a proteger (genre ou categorie ethnique) est different de 1. Il y a donc, une grande dependance entre le revenu et le genre (dipararate impacte autour de 3), tout comme il en existe une entre le revnu et la categorie ethnique (dipararate impacte autour entre 1.5 et 2)."
   ]
  },
  {
   "cell_type": "markdown",
   "metadata": {},
   "source": [
    "A l'aide de *scikit-learn* :\n",
    "* Faire un classifieur pour prédire la classe *income*\n",
    "* Prédire la class *income* sur la base de test (ce sera votre $\\hat{Y}$)\n",
    "* Calculer le taux de classification et le disparate impact de $\\hat{Y}$ pour $S$ correspondant à *sex* sur la base de test\n",
    "* Essayer avec plusieurs classifieurs, que constatez vous ?\n",
    "* Tester au moins 5 algorithmes (dont random forest et XGboost) dont vous chercherez les paramètres optimaux. Faire des graphiques comparatifs des valeurs de taux de classification et de disparate impact"
   ]
  },
  {
   "cell_type": "markdown",
   "metadata": {},
   "source": [
    "Refaire les questions précédentes en retirant la colonne *sex* des attributs utilisés par le classifieur. Que constatez-vous ?"
   ]
  },
  {
   "cell_type": "markdown",
   "metadata": {},
   "source": [
    "Faire une fonction pour calculer l'error ratio des classifieurs :\n",
    "$$\n",
    "DI(\\hat{Y},S)=\\frac{P(Y=1|\\hat{Y}=1,S=0)}{P(Y=1|\\hat{Y}=1,S=1)}\n",
    "$$\n",
    "Ajouter un graphique comparant les valeurs l'error ratio pour les classifieurs"
   ]
  },
  {
   "cell_type": "code",
   "execution_count": 12,
   "metadata": {},
   "outputs": [],
   "source": [
    "def erreur_ratio(Y,Yhat,S):\n",
    "    \n",
    "    data = pds.DataFrame([np.array(Y),Yhat,S]).transpose()\n",
    "    data_tuple = list(data.itertuples(index=False, name=None))\n",
    "    count_proba = dict(zip(Counter(data_tuple).keys(), Counter(data_tuple).values()))\n",
    "    Y1_given_Yhat1_S0 = count_proba.get((1,1,0),0) / ( count_proba.get((1,1,0),0) + count_proba.get((0,1,0),0) )\n",
    "    Y1_given_Yhat1_S1 = count_proba.get((1,1,1),0) / ( count_proba.get((1,1,1),0) + count_proba.get((0,1,1),0) )\n",
    "    \n",
    "    if Y1_given_Yhat1_S1 != 0:\n",
    "        return Y1_given_Yhat1_S0 / Y1_given_Yhat1_S1\n",
    "    else:\n",
    "        return 100"
   ]
  },
  {
   "cell_type": "markdown",
   "metadata": {},
   "source": [
    "### But : Predire le revenu :"
   ]
  },
  {
   "cell_type": "markdown",
   "metadata": {},
   "source": [
    "### Optimisation des parametres pour differents classifieurs"
   ]
  },
  {
   "cell_type": "code",
   "execution_count": 13,
   "metadata": {},
   "outputs": [],
   "source": [
    "import warnings\n",
    "warnings.filterwarnings(\"ignore\")\n",
    "\n",
    "classifiers = [DecisionTreeClassifier(), \n",
    "               GaussianNB(), \n",
    "               RandomForestClassifier(), \n",
    "               LogisticRegression(), \n",
    "               XGBClassifier()]\n",
    "\n",
    "parameters = [{'max_depth':[3,5,10]}, \n",
    "              {'var_smoothing':[1e-12,1e-9,1e-5,1e-1]}, \n",
    "              {'criterion':('gini', 'entropy'), 'max_depth':[3,5,10,20]}, \n",
    "              {'C':[0.5,1,2,5], 'solver':('newton-cg','lbfgs','liblinear','sag','saga')}, \n",
    "              {'max_depth':[3,5,10], 'learning_rate':[0.01,0.05,0.1,0.2,0.3]}]"
   ]
  },
  {
   "cell_type": "code",
   "execution_count": 14,
   "metadata": {},
   "outputs": [
    {
     "data": {
      "application/vnd.jupyter.widget-view+json": {
       "model_id": "11f8671b4dad423aacb830922bff683a",
       "version_major": 2,
       "version_minor": 0
      },
      "text/plain": [
       "HBox(children=(FloatProgress(value=0.0, max=5.0), HTML(value='')))"
      ]
     },
     "metadata": {},
     "output_type": "display_data"
    },
    {
     "name": "stdout",
     "output_type": "stream",
     "text": [
      "\n"
     ]
    },
    {
     "data": {
      "text/plain": [
       "[{'max_depth': 10},\n",
       " {'var_smoothing': 1e-09},\n",
       " {'criterion': 'entropy', 'max_depth': 20},\n",
       " {'C': 2, 'solver': 'newton-cg'},\n",
       " {'learning_rate': 0.3, 'max_depth': 5}]"
      ]
     },
     "execution_count": 14,
     "metadata": {},
     "output_type": "execute_result"
    }
   ],
   "source": [
    "df_train, df_test = train_test_split(df, test_size = 0.3)\n",
    "X_test = df_test.drop('income', axis = 1)\n",
    "Y_test = df_test['income']\n",
    "X_train = df_train.drop('income', axis = 1)\n",
    "Y_train = df_train['income']\n",
    "\n",
    "opti = []\n",
    "for i in tqdm(range(len(classifiers))):\n",
    "    clf = GridSearchCV(classifiers[i], parameters[i])\n",
    "    clf.fit(X_train, Y_train)\n",
    "    opti.append(clf.best_params_)\n",
    "\n",
    "opti"
   ]
  },
  {
   "cell_type": "markdown",
   "metadata": {},
   "source": [
    "Apres optimisation des parametres nous mettons a jour la liste des classifiers avec les parametres optimaux."
   ]
  },
  {
   "cell_type": "code",
   "execution_count": 17,
   "metadata": {},
   "outputs": [],
   "source": [
    "classifiers = [DecisionTreeClassifier(max_depth = 10), \n",
    "               GaussianNB(var_smoothing = 1e-09), \n",
    "               RandomForestClassifier(criterion = 'entropy', max_depth = 20), \n",
    "               LogisticRegression(C = 2, solver = 'liblinear'), \n",
    "               XGBClassifier(learning_rate = 0.3, max_depth = 5)]"
   ]
  },
  {
   "cell_type": "markdown",
   "metadata": {},
   "source": [
    "### Taux de classification, disparate impact, erreur ratio :"
   ]
  },
  {
   "cell_type": "code",
   "execution_count": 18,
   "metadata": {},
   "outputs": [
    {
     "data": {
      "application/vnd.jupyter.widget-view+json": {
       "model_id": "e7eae196dac3421ea74f06b22088f5db",
       "version_major": 2,
       "version_minor": 0
      },
      "text/plain": [
       "HBox(children=(FloatProgress(value=0.0, max=5.0), HTML(value='')))"
      ]
     },
     "metadata": {},
     "output_type": "display_data"
    },
    {
     "name": "stdout",
     "output_type": "stream",
     "text": [
      "\n"
     ]
    }
   ],
   "source": [
    "accuracies = []\n",
    "\n",
    "DIs_sex = []\n",
    "DIs_race = []\n",
    "\n",
    "ERs_sex = []\n",
    "ERs_race = []\n",
    "\n",
    "accuracies_without_sex = []\n",
    "accuracies_without_race = []\n",
    "\n",
    "for i in tqdm(range(len(classifiers))):\n",
    "    \n",
    "    model = classifiers[i]\n",
    "    model.fit(X_train, Y_train)\n",
    "    accuracy = round(model.score(X_test,Y_test),3)\n",
    "    Yhat = model.predict(X_test)\n",
    "    \n",
    "    accuracies.append(accuracy)\n",
    "    \n",
    "    DIs_sex.append(disparate_impact(Yhat,X_test.sex))\n",
    "    DIs_race.append(disparate_impact(Yhat,X_test.race))\n",
    "    \n",
    "    ERs_sex.append(erreur_ratio(Y_test,Yhat,X_test.sex))\n",
    "    ERs_race.append(erreur_ratio(Y_test,Yhat,X_test.race))\n",
    "    \n",
    "    model = classifiers[i]\n",
    "    \n",
    "    model.fit(X_train.drop('sex', axis = 1), Y_train)\n",
    "    accuracies_without_sex.append( round(model.score(X_test.drop('sex', axis = 1),Y_test),3) )\n",
    "    \n",
    "    model.fit(X_train.drop('race', axis = 1), Y_train)\n",
    "    accuracies_without_race.append( round(model.score(X_test.drop('race', axis = 1),Y_test),3) )"
   ]
  },
  {
   "cell_type": "markdown",
   "metadata": {},
   "source": [
    "### Pour la categorie ethnique :"
   ]
  },
  {
   "cell_type": "code",
   "execution_count": 19,
   "metadata": {},
   "outputs": [
    {
     "data": {
      "image/png": "[encoded data removed]",
      "text/plain": [
       "<Figure size 1080x720 with 1 Axes>"
      ]
     },
     "metadata": {
      "needs_background": "light"
     },
     "output_type": "display_data"
    }
   ],
   "source": [
    "plt.subplots(figsize=(15,10))\n",
    "\n",
    "plt.bar(x=[0,30,60,90,120], height=DIs_sex, width=6, align='center', color='lightcoral', label=\"DI genre\")\n",
    "plt.bar(x=[6,36,66,96,126], height=DIs_race, width=6, align='center', color='indianred', label=\"DI categrie ethnique\")\n",
    "\n",
    "plt.title('Disparate Impact selon les methodes de classification')\n",
    "plt.xticks([6,36,66,96,126],['DecisionTreeClassifier', \n",
    "                             'GaussianNB', \n",
    "                             'RandomForestClassifier', \n",
    "                             'LogisticRegression',\n",
    "                             'XGBClassifier'])\n",
    "plt.legend(loc=\"lower right\")\n",
    "\n",
    "plt.show()"
   ]
  },
  {
   "cell_type": "code",
   "execution_count": 20,
   "metadata": {},
   "outputs": [
    {
     "data": {
      "image/png": "[encoded data removed]",
      "text/plain": [
       "<Figure size 1080x720 with 1 Axes>"
      ]
     },
     "metadata": {
      "needs_background": "light"
     },
     "output_type": "display_data"
    }
   ],
   "source": [
    "plt.subplots(figsize=(15,10))\n",
    "\n",
    "plt.bar(x=[0,30,60,90,120], height=ERs_sex, width=6, align='center', color='lightsalmon', label=\"ER genre\")\n",
    "plt.bar(x=[6,36,66,96,126], height=ERs_race, width=6, align='center', color='coral', label=\"ER categrie ethnique\")\n",
    "\n",
    "plt.title('Erreur ratio selon les methodes de classification')\n",
    "plt.xticks([6,36,66,96,126],['DecisionTreeClassifier', \n",
    "                             'GaussianNB', \n",
    "                             'RandomForestClassifier', \n",
    "                             'LogisticRegression',\n",
    "                             'XGBClassifier'])\n",
    "plt.legend(loc=\"lower right\")\n",
    "\n",
    "plt.show()"
   ]
  },
  {
   "cell_type": "code",
   "execution_count": 21,
   "metadata": {},
   "outputs": [
    {
     "data": {
      "image/png": "[encoded data removed]",
      "text/plain": [
       "<Figure size 1080x720 with 1 Axes>"
      ]
     },
     "metadata": {
      "needs_background": "light"
     },
     "output_type": "display_data"
    }
   ],
   "source": [
    "plt.subplots(figsize=(15,10))\n",
    "\n",
    "plt.bar(x=[0,30,60,90,120], height=accuracies, width=6, align='center', alpha=0.8, color='teal', label=\"accuracy\")\n",
    "plt.bar(x=[6,36,66,96,126], height=accuracies_without_sex, width=6, align='center', alpha=0.5, color='lime', label=\"accuracy sans le genre\")\n",
    "plt.bar(x=[12,42,72,102,132], height=accuracies_without_race, width=6, align='center', alpha=0.3, color='cyan', label=\"accuracy sans la categorie ethnique\")\n",
    "\n",
    "plt.title('Taux de classification par methode')\n",
    "plt.xticks([6,36,66,96,126],['DecisionTreeClassifier', \n",
    "                             'GaussianNB', \n",
    "                             'RandomForestClassifier', \n",
    "                             'LogisticRegression',\n",
    "                             'XGBClassifier'])\n",
    "plt.legend(loc=\"lower right\")\n",
    "\n",
    "plt.show()"
   ]
  },
  {
   "cell_type": "markdown",
   "metadata": {},
   "source": [
    "Nous pouvons deja voir ici que les 5 classifieurs choisis ont tous un taux de classification superieur a 80%. La classification naive bayesienne semble etre la moins efficace."
   ]
  },
  {
   "cell_type": "markdown",
   "metadata": {},
   "source": [
    "## Correction des biais par re-échantillonage\n",
    "\n",
    "Dans cette partie, nous allons essayer de re-échantilloner les données de manière à ce qu'il n'y ai plus de biais (on cherche à corriger le disparat impact mais pas forcément l'error ratio).\n",
    "* Séparer la base de données d'apprentissage en 4 sous-bases :\n",
    "    * $B_1$ les femmes avec un salaire supérieur à 50 000\\$\n",
    "    * $B_2$ les hommes avec un salaire supérieur à 50 000\\$\n",
    "    * $B_3$ les femmes avec un salaire inférieur à 50 000\\$\n",
    "    * $B_4$ les hommes avec un salaire inférieur à 50 000\\$\n",
    "* sur-échantillonner la $B_1$ de manière à ce qu'elle soit de la même taille que $B_2$\n",
    "* sur-échantillonner la $B_4$ de manière à ce qu'elle soit de la même taille que $B_3$\n",
    "* concatener les 4 bases et calculer le disparate impact de $Y_{train}$ et $S_{train}$\n",
    "* entrainer un classifieur et caculer le taux de classification et le disparate impact de $\\hat{Y}_{test}$ et $S_{test}$\n",
    "* Avec les algorithmes précédents essayer de régler les paramètres de manière à avoir un disparate impact entre $0.8$ et $1.3$ et le plus haut taux de classification possible. Faire des graphiques comparatifs des résultats pour le taux d'erreur, le disparate impact et l'error ratio.\n"
   ]
  },
  {
   "cell_type": "code",
   "execution_count": 22,
   "metadata": {},
   "outputs": [
    {
     "name": "stdout",
     "output_type": "stream",
     "text": [
      "INITIALEMENT NOUS AVIONS :\n",
      "proportion de revenu > 50K : 0.24122499122499122\n",
      "proportion de revenu <= 50K : 0.7587750087750088\n",
      "\n",
      "APRES SURECHANTILLONAGE DE B1 ET B3 NOUS AVONS :\n",
      "proportion de revenu > 50K : 0.3069065506787927\n",
      "proportion de revenu <= 50K : 0.6930934493212073\n",
      "Les proportions de revenus ont changé...\n",
      "\n",
      "APRES UN NOUVEAU SURECHANTILLONNAGE DES REVENUS <=50K :\n",
      "proportion de revenu > 50K sachant homme 0.24123284123284122\n",
      "proportion de revenu > 50K sachant femme 0.24123284123284122\n",
      "proportion de revenu <= 50K sachant homme 0.7587671587671587\n",
      "proportion de revenu <= 50K sachant femme 0.7587671587671587\n",
      "proportion de revenu > 50K : 0.24123284123284122\n",
      "proportion de revenu <= 50K : 0.7587671587671587\n"
     ]
    }
   ],
   "source": [
    "# 0 = homme, 1 = femme\n",
    "\n",
    "df_train, df_test = train_test_split(df, test_size = 0.3)\n",
    "\n",
    "B1 = df_train[ (df_train.sex==1) & (df_train.income==1) ]\n",
    "B2 = df_train[ (df_train.sex==0) & (df_train.income==1) ]\n",
    "B3 = df_train[ (df_train.sex==1) & (df_train.income==0) ]\n",
    "B4 = df_train[ (df_train.sex==0) & (df_train.income==0) ]\n",
    "\n",
    "print(\"INITIALEMENT NOUS AVIONS :\")\n",
    "print(\"proportion de revenu > 50K :\", sum( df_train.income==1 ) / df_train.shape[0] )\n",
    "print(\"proportion de revenu <= 50K :\", sum( df_train.income==0 ) / df_train.shape[0] )\n",
    "\n",
    "# On veut des proportions egales d hommes et de femmes mais on veut garder les memes proportions de classes de revenu.\n",
    "\n",
    "count_B1 = B1.shape[0]\n",
    "count_B2 = B2.shape[0]\n",
    "\n",
    "over_sampling_for_B1 = B1.sample(count_B2-count_B1, replace=True)\n",
    "B1_over_sampling = pds.concat([B1, over_sampling_for_B1], axis=0)\n",
    "\n",
    "count_B3 = B3.shape[0]\n",
    "count_B4 = B4.shape[0]\n",
    "\n",
    "over_sampling_for_B3 = B3.sample(count_B4-count_B3, replace=True)\n",
    "B3_over_sampling = pds.concat([B3, over_sampling_for_B3], axis=0)\n",
    "\n",
    "new_df = pds.concat([B1_over_sampling, B2, B3_over_sampling, B4], axis=0)\n",
    "\n",
    "print(\"\\nAPRES SURECHANTILLONAGE DE B1 ET B3 NOUS AVONS :\")\n",
    "print(\"proportion de revenu > 50K :\", sum( new_df.income==1 ) / new_df.shape[0] ) # !=24%\n",
    "print(\"proportion de revenu <= 50K :\", sum( new_df.income==0 ) / new_df.shape[0] ) # !=76%\n",
    "print(\"Les proportions de revenus ont changé...\")\n",
    "\n",
    "# Pour garder les proportions surechantillonons un peu les revenus <= 50K :\n",
    "\n",
    "prop_to_keep = sum( df_train.income==0 ) / df_train.shape[0]\n",
    "obs_to_add_in_each_class = int(((prop_to_keep*new_df.shape[0] -  sum(new_df.income==0)) / (1-prop_to_keep))/2)\n",
    "\n",
    "count_B3 = B3.shape[0]\n",
    "count_B4 = B4.shape[0]\n",
    "\n",
    "over_sampling_for_B3 = B3_over_sampling.sample(obs_to_add_in_each_class, replace=True)\n",
    "over_sampling_for_B4 = B4.sample(obs_to_add_in_each_class, replace=True)\n",
    "\n",
    "new_B3_B4 = pds.concat([over_sampling_for_B4, over_sampling_for_B3], axis=0)\n",
    "\n",
    "final_df = pds.concat([new_df, new_B3_B4], axis=0)\n",
    "\n",
    "print(\"\\nAPRES UN NOUVEAU SURECHANTILLONNAGE DES REVENUS <=50K :\")\n",
    "\n",
    "print(\"proportion de revenu > 50K sachant homme\", final_df[ (final_df.sex==0) & (final_df.income==1) ].shape[0] / \n",
    "      final_df[ final_df.sex==0 ].shape[0] )\n",
    "print(\"proportion de revenu > 50K sachant femme\", final_df[ (final_df.sex==1) & (final_df.income==1) ].shape[0] / \n",
    "      final_df[ final_df.sex==1 ].shape[0] )\n",
    "\n",
    "print(\"proportion de revenu <= 50K sachant homme\", final_df[ (final_df.sex==0) & (final_df.income==0) ].shape[0] / \n",
    "      final_df[ final_df.sex==0 ].shape[0] )\n",
    "print(\"proportion de revenu <= 50K sachant femme\", final_df[ (final_df.sex==1) & (final_df.income==0) ].shape[0] / \n",
    "      final_df[ final_df.sex==1 ].shape[0] )\n",
    "\n",
    "print(\"proportion de revenu > 50K :\", sum( final_df.income==1 ) / final_df.shape[0] ) # =24%\n",
    "print(\"proportion de revenu <= 50K :\", sum( final_df.income==0 ) / final_df.shape[0] ) # =76% "
   ]
  },
  {
   "cell_type": "code",
   "execution_count": 23,
   "metadata": {},
   "outputs": [],
   "source": [
    "df_train, df_test = train_test_split(final_df, test_size = 0.3)\n",
    "\n",
    "X_test = df_test.drop('income', axis = 1)\n",
    "Y_test = df_test['income']\n",
    "\n",
    "X_train = df_train.drop('income', axis = 1)\n",
    "Y_train = df_train['income']"
   ]
  },
  {
   "cell_type": "code",
   "execution_count": 24,
   "metadata": {},
   "outputs": [
    {
     "data": {
      "application/vnd.jupyter.widget-view+json": {
       "model_id": "783cc42917a04f9d822f1e26f490178f",
       "version_major": 2,
       "version_minor": 0
      },
      "text/plain": [
       "HBox(children=(FloatProgress(value=0.0, max=5.0), HTML(value='')))"
      ]
     },
     "metadata": {},
     "output_type": "display_data"
    },
    {
     "name": "stdout",
     "output_type": "stream",
     "text": [
      "\n"
     ]
    }
   ],
   "source": [
    "non_accuracies2 = []\n",
    "\n",
    "DIs_sex2 = []\n",
    "DIs_race2 = []\n",
    "\n",
    "ERs_sex2 = []\n",
    "ERs_race2 = []\n",
    "\n",
    "for i in tqdm(range(len(classifiers))):\n",
    "    \n",
    "    model = classifiers[i]\n",
    "    model.fit(X_train, Y_train)\n",
    "    accuracy2 = round(model.score(X_test,Y_test),3)\n",
    "    non_accuracies2.append(1-accuracy2)\n",
    "    \n",
    "    Yhat = model.predict(X_test)\n",
    "    \n",
    "    DIs_sex2.append(disparate_impact(Yhat,X_test.sex))\n",
    "    DIs_race2.append(disparate_impact(Yhat,X_test.race))\n",
    "    \n",
    "    ERs_sex2.append(erreur_ratio(Y_test,Yhat,X_test.sex))\n",
    "    ERs_race2.append(erreur_ratio(Y_test,Yhat,X_test.race))"
   ]
  },
  {
   "cell_type": "code",
   "execution_count": 25,
   "metadata": {},
   "outputs": [
    {
     "data": {
      "image/png": "[encoded data removed]",
      "text/plain": [
       "<Figure size 1080x720 with 1 Axes>"
      ]
     },
     "metadata": {
      "needs_background": "light"
     },
     "output_type": "display_data"
    }
   ],
   "source": [
    "plt.subplots(figsize=(15,10))\n",
    "\n",
    "plt.bar(x=[0,30,60,90,120], height=DIs_sex2, width=6, align='center', color='lightcoral', label=\"DI genre\")\n",
    "plt.bar(x=[6,36,66,96,126], height=DIs_race2, width=6, align='center', color='indianred', label=\"DI categrie ethnique\")\n",
    "\n",
    "plt.title('Disparate Impact selon les methodes de classification apres re echantillonage')\n",
    "plt.xticks([6,36,66,96,126],['DecisionTreeClassifier', \n",
    "                             'GaussianNB', \n",
    "                             'RandomForestClassifier', \n",
    "                             'LogisticRegression',\n",
    "                             'XGBClassifier'])\n",
    "plt.legend(loc=\"lower right\")\n",
    "\n",
    "plt.show()"
   ]
  },
  {
   "cell_type": "code",
   "execution_count": 26,
   "metadata": {},
   "outputs": [
    {
     "data": {
      "image/png": "[encoded data removed]",
      "text/plain": [
       "<Figure size 1080x720 with 1 Axes>"
      ]
     },
     "metadata": {
      "needs_background": "light"
     },
     "output_type": "display_data"
    }
   ],
   "source": [
    "plt.subplots(figsize=(15,10))\n",
    "\n",
    "plt.bar(x=[0,30,60,90,120], height=ERs_sex2, width=6, align='center', color='lightsalmon', label=\"ER genre\")\n",
    "plt.bar(x=[6,36,66,96,126], height=ERs_race2, width=6, align='center', color='coral', label=\"ER categrie ethnique\")\n",
    "\n",
    "plt.title('Erreur ratio selon les methodes de classification apres re echantillonage')\n",
    "plt.xticks([6,36,66,96,126],['DecisionTreeClassifier', \n",
    "                             'GaussianNB', \n",
    "                             'RandomForestClassifier', \n",
    "                             'LogisticRegression',\n",
    "                             'XGBClassifier'])\n",
    "plt.legend(loc=\"lower right\")\n",
    "\n",
    "plt.show()"
   ]
  },
  {
   "cell_type": "code",
   "execution_count": 27,
   "metadata": {},
   "outputs": [
    {
     "data": {
      "image/png": "[encoded data removed]",
      "text/plain": [
       "<Figure size 1080x720 with 1 Axes>"
      ]
     },
     "metadata": {
      "needs_background": "light"
     },
     "output_type": "display_data"
    }
   ],
   "source": [
    "plt.subplots(figsize=(15,10))\n",
    "\n",
    "plt.bar(x=[0,30,60,90,120], height=1-np.array(accuracies), width=6, align='center', alpha=0.3, color='teal', label=\"avant\")\n",
    "plt.bar(x=[6,36,66,96,126], height=non_accuracies2, width=6, align='center', alpha=0.8, color='teal', label=\"apres re echantillonage\")\n",
    "\n",
    "plt.title(\"Taux d'erreur par methode apres re echantillonage comparé à avant\")\n",
    "plt.xticks([3,33,63,93,123],['DecisionTreeClassifier', \n",
    "                             'GaussianNB', \n",
    "                             'RandomForestClassifier', \n",
    "                             'LogisticRegression',\n",
    "                             'XGBClassifier'])\n",
    "plt.legend(loc=\"lower right\")\n",
    "\n",
    "plt.show()"
   ]
  },
  {
   "cell_type": "markdown",
   "metadata": {},
   "source": [
    "## Correction des biais par réglage du seuil\n",
    "\n",
    "A partir des données non ré-echantillonnées :\n",
    "* entrainer un classifieur sur la base d'apprentissage\n",
    "* utiliser predict_proba pour prédire $\\hat{P}(Y=1)$ \n",
    "\n",
    "Pour prédire on utilise la règle $\\hat{Y}=1$ si $\\hat{P}(Y=1)>t$. Par défaut, les algorithmes utilisent $t=0.5$\n",
    "* Sur la base de test, choisir un seuil $t_f$ pour les femmes (on gardera $t=0.5$ pour les hommes) de manière à obtenir un disparate impact proche de 1. Calculer le taux de classification\n",
    "* comparer avec la méthode précédente\n",
    "* Avec les algorithmes précédents essayer de régler les paramètres de manière à avoir un disparate impact entre $0.8$ et $1.3$ et le plus haut taux de classification possible. Faire des graphiques comparatifs des résultats pour le taux d'erreur, le disparate impact et l'error ratio."
   ]
  },
  {
   "cell_type": "code",
   "execution_count": 28,
   "metadata": {},
   "outputs": [],
   "source": [
    "df_train, df_test = train_test_split(df, test_size = 0.3)\n",
    "X_test = df_test.drop('income', axis = 1)\n",
    "Y_test = df_test['income']\n",
    "X_train = df_train.drop('income', axis = 1)\n",
    "Y_train = df_train['income']"
   ]
  },
  {
   "cell_type": "code",
   "execution_count": 29,
   "metadata": {
    "scrolled": true
   },
   "outputs": [
    {
     "data": {
      "application/vnd.jupyter.widget-view+json": {
       "model_id": "8315d25570c043148a1f8259bf11091a",
       "version_major": 2,
       "version_minor": 0
      },
      "text/plain": [
       "HBox(children=(FloatProgress(value=0.0, max=5.0), HTML(value='')))"
      ]
     },
     "metadata": {},
     "output_type": "display_data"
    },
    {
     "name": "stdout",
     "output_type": "stream",
     "text": [
      "\n"
     ]
    }
   ],
   "source": [
    "accuracies_sex = []\n",
    "accuracies_race = []\n",
    "\n",
    "DI_proche1_sex = []\n",
    "DI_proche1_race = []\n",
    "\n",
    "ERs_sex3 = []\n",
    "ERs_race3 = []\n",
    "\n",
    "opti_seuil_femmes_sex = []\n",
    "opti_seuil_exotic_race = []\n",
    "\n",
    "for i in tqdm(range(len(classifiers))):\n",
    "    \n",
    "    clf = classifiers[i]\n",
    "    clf.fit(X_train, Y_train)\n",
    "    \n",
    "    DIsex = np.array([])\n",
    "    DIrace = np.array([])\n",
    "    \n",
    "    K = clf.predict_proba(X_test)\n",
    "\n",
    "    for seuil in np.linspace(0,1,21):\n",
    "        \n",
    "        new_Y_sex = np.array( ((K[:,1]>0.5)&(X_test.sex==0)) | ((K[:,1]>seuil)&(X_test.sex==1)) )\n",
    "        \n",
    "        DIsex = np.append(DIsex, disparate_impact(new_Y_sex, X_test.sex))\n",
    "        \n",
    "        new_Y_race = np.array( ((K[:,1]>0.5)&(X_test.race==0)) | ((K[:,1]>seuil)&(X_test.race==1)) )\n",
    "        \n",
    "        DIrace = np.append(DIrace, disparate_impact(new_Y_race, X_test.race))\n",
    "            \n",
    "    idx_opt_DIsex = np.argmin(abs(DIsex-1))\n",
    "    idx_opt_DIrace = np.argmin(abs(DIrace-1))\n",
    "    \n",
    "    DI_proche1_sex.append(DIsex[idx_opt_DIsex])\n",
    "    DI_proche1_race.append(DIrace[idx_opt_DIrace])\n",
    "    \n",
    "    seuil_opti_sex = np.linspace(0,1,21)[idx_opt_DIsex]\n",
    "    seuil_opti_race = np.linspace(0,1,21)[idx_opt_DIrace]\n",
    "    \n",
    "    Yhat_sex = np.array(((K[:,1]>0.5)&(X_test.sex==0)) | ((K[:,1]>seuil_opti_sex)&(X_test.sex==1)))\n",
    "    Yhat_race = np.array(((K[:,1]>0.5)&(X_test.race==0)) | ((K[:,1]>seuil_opti_race)&(X_test.race==1)))\n",
    "    \n",
    "    accuracies_sex.append(sum(Yhat_sex==Y_test)/len(Y_test))\n",
    "    accuracies_race.append(sum(Yhat_race==Y_test)/len(Y_test))\n",
    "    \n",
    "    ERs_sex3.append(erreur_ratio(Y_test,Yhat_sex,X_test.sex))\n",
    "    ERs_race3.append(erreur_ratio(Y_test,Yhat_race,X_test.race))\n",
    "    \n",
    "    opti_seuil_femmes_sex.append(seuil_opti_sex)\n",
    "    opti_seuil_exotic_race.append(seuil_opti_race)\n"
   ]
  },
  {
   "cell_type": "code",
   "execution_count": 30,
   "metadata": {},
   "outputs": [
    {
     "data": {
      "text/plain": [
       "[0.1, 0.0, 0.1, 0.1, 0.05]"
      ]
     },
     "execution_count": 30,
     "metadata": {},
     "output_type": "execute_result"
    }
   ],
   "source": [
    "opti_seuil_femmes_sex"
   ]
  },
  {
   "cell_type": "code",
   "execution_count": 31,
   "metadata": {},
   "outputs": [
    {
     "data": {
      "text/plain": [
       "[0.35000000000000003, 0.05, 0.30000000000000004, 0.25, 0.2]"
      ]
     },
     "execution_count": 31,
     "metadata": {},
     "output_type": "execute_result"
    }
   ],
   "source": [
    "opti_seuil_exotic_race"
   ]
  },
  {
   "cell_type": "markdown",
   "metadata": {},
   "source": [
    "Que ce soit pour les femmes ou les individus non blancs, il resulte du reglage de seuil la necessite de choisir un seuil de probabilite bas pour predire la classe du revenu. On remarque ici que les seuils choisi pour les femmes (pour les differents classifieurs) et pour les individus non blancs sont bien inferieurs a 0.5."
   ]
  },
  {
   "cell_type": "code",
   "execution_count": 32,
   "metadata": {},
   "outputs": [
    {
     "data": {
      "image/png": "[encoded data removed]",
      "text/plain": [
       "<Figure size 1080x720 with 1 Axes>"
      ]
     },
     "metadata": {
      "needs_background": "light"
     },
     "output_type": "display_data"
    }
   ],
   "source": [
    "plt.subplots(figsize=(15,10))\n",
    "\n",
    "plt.bar(x=[0,30,60,90,120], height=DIs_sex, width=6, align='center', alpha=0.2, color='blue', label=\"avant\")\n",
    "plt.bar(x=[6,36,66,96,126], height=DIs_sex2, width=6, align='center', alpha=0.5, color='indigo', label=\"apres re echantillonage\")\n",
    "plt.bar(x=[12,42,72,102,132], height=DI_proche1_sex, width=6, align='center', alpha=0.3, color='purple', label=\"apres reglage de seuil\")\n",
    "\n",
    "plt.title(\"DI pour le genre avant, apres re echantillange, par reglage de seuil\")\n",
    "plt.xticks([6,36,66,96,126],['DecisionTreeClassifier', \n",
    "                             'GaussianNB', \n",
    "                             'RandomForestClassifier', \n",
    "                             'LogisticRegression',\n",
    "                             'XGBClassifier'])\n",
    "plt.legend(loc=\"lower right\")\n",
    "\n",
    "plt.show()"
   ]
  },
  {
   "cell_type": "code",
   "execution_count": 33,
   "metadata": {},
   "outputs": [
    {
     "data": {
      "image/png": "[encoded data removed]",
      "text/plain": [
       "<Figure size 1080x720 with 1 Axes>"
      ]
     },
     "metadata": {
      "needs_background": "light"
     },
     "output_type": "display_data"
    }
   ],
   "source": [
    "plt.subplots(figsize=(15,10))\n",
    "\n",
    "plt.bar(x=[0,30,60,90,120], height=DIs_race, width=6, align='center', alpha=0.2, color='green', label=\"avant\")\n",
    "plt.bar(x=[6,36,66,96,126], height=DIs_race2, width=6, align='center', alpha=0.5, color='lightgreen', label=\"apres re echantillonage\")\n",
    "plt.bar(x=[12,42,72,102,132], height=DI_proche1_race, width=6, align='center', alpha=0.3, color='cyan', label=\"apres reglage de seuil\")\n",
    "\n",
    "plt.title(\"DI pour la categorie ethnique avant, apres re echantillange, par reglage de seuil\")\n",
    "plt.xticks([6,36,66,96,126],['DecisionTreeClassifier', 'GaussianNB', 'RandomForestClassifier', 'LogisticRegression','XGBClassifier'])\n",
    "plt.legend(loc=\"lower right\")\n",
    "\n",
    "plt.show()"
   ]
  },
  {
   "cell_type": "markdown",
   "metadata": {},
   "source": [
    "Tout au long de ce TP nous avons calcule le disparate impact entre la variable d'interet : le revenu et les variables a proteger : le genre et la categorie ethnique.\n",
    "\n",
    "Pour calculer cette mesure de la dependance entre la variable d'interet et la variable a proteger nous avions besoin du vecteur de prediction de la variable d'interet pour un certain vecteur de la base de test de la variable a proteger.\n",
    "\n",
    "Nous avons donc choisi 5 algorithmes de classification afin de produire le vecteur de prediction du revenu et ainsi nous avons applique la formule du disparate impact pour les 5 differents classifieurs.\n",
    "\n",
    "Il est clair qu'au commencement du TP les disparates impacts ont revele la presence d'un biais dans nos donnees, biais vis a vis du genre et vis a vis de la categorie ethnique.\n",
    "\n",
    "Nous avons donc mis en oeuvre 2 techniques afin de transformer le tableau de donnees pour effacer ce biais. La methode du re echantillonage (sur-echantillonage) et la methode du reglage de seuil.\n",
    "\n",
    "Tout d'abord les differents classifieurs donnent des valeurs de disparate impact differentes, qui peuvent varier jusqu'a plus ou moins 1 point. Mais globalement on remarque la meme tendance pour tous les classifieurs. La methode du re echantillonage a ete efficace pour le genre et l'ethnie puisqu'elle a abaisse le DI aux alentours de 1, entre 0.75 et 1.25 en moyenne. Neanmoins, la methode par reglage du seuil a ete encore plus efficace car elle a rapproche encore plus les DI autour de 1 pour la plupart des classifieurs."
   ]
  },
  {
   "cell_type": "code",
   "execution_count": 34,
   "metadata": {},
   "outputs": [
    {
     "data": {
      "image/png": "[encoded data removed]",
      "text/plain": [
       "<Figure size 1080x720 with 1 Axes>"
      ]
     },
     "metadata": {
      "needs_background": "light"
     },
     "output_type": "display_data"
    }
   ],
   "source": [
    "plt.subplots(figsize=(15,10))\n",
    "\n",
    "plt.bar(x=[0,30,60,90,120], height=ERs_sex, width=6, align='center', alpha=0.2, color='blue', label=\"avant\")\n",
    "plt.bar(x=[6,36,66,96,126], height=ERs_sex2, width=6, align='center', alpha=0.5, color='indigo', label=\"apres re echantillonage\")\n",
    "plt.bar(x=[12,42,72,102,132], height=ERs_sex3, width=6, align='center', alpha=0.3, color='purple', label=\"apres reglage de seuil\")\n",
    "\n",
    "plt.title(\"Erreur Ratio pour le genre avant, apres re echantillange, par reglage de seuil\")\n",
    "plt.xticks([6,36,66,96,126],['DecisionTreeClassifier', 'GaussianNB', 'RandomForestClassifier', 'LogisticRegression','XGBClassifier'])\n",
    "plt.legend(loc=\"lower right\")\n",
    "\n",
    "plt.show()"
   ]
  },
  {
   "cell_type": "code",
   "execution_count": 35,
   "metadata": {},
   "outputs": [
    {
     "data": {
      "image/png": "[encoded data removed]",
      "text/plain": [
       "<Figure size 1080x720 with 1 Axes>"
      ]
     },
     "metadata": {
      "needs_background": "light"
     },
     "output_type": "display_data"
    }
   ],
   "source": [
    "plt.subplots(figsize=(15,10))\n",
    "\n",
    "plt.bar(x=[0,30,60,90,120], height=ERs_race, width=6, align='center', alpha=0.2, color='green', label=\"avant\")\n",
    "plt.bar(x=[6,36,66,96,126], height=ERs_race2, width=6, align='center', alpha=0.5, color='lightgreen', label=\"apres re echantillonage\")\n",
    "plt.bar(x=[12,42,72,102,132], height=ERs_race3, width=6, align='center', alpha=0.3, color='cyan', label=\"apres reglage de seuil\")\n",
    "\n",
    "plt.title(\"Erreur Ratio pour la categorie ethnique avant, apres re echantillange, par reglage de seuil\")\n",
    "plt.xticks([6,36,66,96,126],['DecisionTreeClassifier', 'GaussianNB', 'RandomForestClassifier', 'LogisticRegression','XGBClassifier'])\n",
    "plt.legend(loc=\"lower right\")\n",
    "\n",
    "plt.show()"
   ]
  },
  {
   "cell_type": "markdown",
   "metadata": {},
   "source": [
    "Mous avons de la meme maniere calcule les erreurs ratio, qui cette fois, mesure la dependance entre l'erreur et la variable a proteger.\n",
    "\n",
    "Au debut du TP, l'erreur ratio ne nous indiquait pas particulierement la presence d'un biais dans les donnees, pour le genre et pour l'ethnie, comme avait pu le faire le disparate impacte. En effet, l'erreur et les variables a proteger n'etaient deja pas tres dependantes. Contrairement a ce que nous avons pu voir pour le disparate impact, ici, l'erreur ratio est endommagee par la methode de reglage de seuil. La methode par re echantillonage, elle, a probablement ameliore quelque peu l'erreur ratio mais la difference avec l'erreur ratio que nous avions au commencement n'est pas grande."
   ]
  },
  {
   "cell_type": "code",
   "execution_count": 36,
   "metadata": {},
   "outputs": [
    {
     "data": {
      "image/png": "[encoded data removed]",
      "text/plain": [
       "<Figure size 1080x720 with 1 Axes>"
      ]
     },
     "metadata": {
      "needs_background": "light"
     },
     "output_type": "display_data"
    }
   ],
   "source": [
    "plt.subplots(figsize=(15,10))\n",
    "\n",
    "plt.bar(x=[0,30,60,90,120], height=1-np.array(accuracies), width=6, align='center', alpha=0.2, color='orange', label=\"avant\")\n",
    "plt.bar(x=[6,36,66,96,126], height=non_accuracies2, width=6, align='center', alpha=0.5, color='red', label=\"apres re echantillonage\")\n",
    "plt.bar(x=[12,42,72,102,132], height=1-np.array(accuracies_sex), width=6, align='center', alpha=0.3, color='yellow', label=\"apres reglage de seuil pour genre\")\n",
    "plt.bar(x=[18,48,78,108,138], height=1-np.array(accuracies_race), width=6, align='center', alpha=1, color='seashell', label=\"apres reglage de seuil pour ethnie\")\n",
    "\n",
    "plt.title(\"Taux d'erreur avant, apres re echantillange, par reglage de seuil\")\n",
    "plt.xticks([9,39,69,99,129],['DecisionTreeClassifier', 'GaussianNB', 'RandomForestClassifier', 'LogisticRegression','XGBClassifier'])\n",
    "plt.legend(loc=\"lower right\")\n",
    "\n",
    "plt.show()"
   ]
  },
  {
   "cell_type": "markdown",
   "metadata": {},
   "source": [
    "En moyenne la classifieur avec le meilleur taux de classification est probablement le XGBClassifieur qui est un gradient boosting classifier. La regression logistique fonctionne tres bien ici, tout comme fonctionnent l'arbre de decison et le random forest. Globalement c'est la methode naive bayesienne qui donne le plus haut taux d'erreur sur nos donnees.\n",
    "\n",
    "Le re echantillonage et le reglage du seuil n'ont pas, ou peu, endommage les taux de classifications (sauf pour GaussianNB). La methode de correction du biais par re echantillonage a meme ameliore la prediction pour tous les classifieurs.\n",
    "\n",
    "En ce basant sur le disparate impact nous avons, grace a la methode par reglage de seuil, quasiment efface le biais des donnees par rapport au genre ou a la categorie ethnique. L'erreur ratio ne peut pas en dire autant."
   ]
  },
  {
   "cell_type": "markdown",
   "metadata": {},
   "source": [
    "## Bonus\n",
    "Vous êtes encouragés à :\n",
    "* tester d'autres méthodes pour les variables manquantes\n",
    "* Faire le même travail en prenant la catégorie éthnique comme variable à proteger"
   ]
  }
 ],
 "metadata": {
  "kernelspec": {
   "display_name": "Python 3",
   "language": "python",
   "name": "python3"
  },
  "language_info": {
   "codemirror_mode": {
    "name": "ipython",
    "version": 3
   },
   "file_extension": ".py",
   "mimetype": "text/x-python",
   "name": "python",
   "nbconvert_exporter": "python",
   "pygments_lexer": "ipython3",
   "version": "3.8.8"
  }
 },
 "nbformat": 4,
 "nbformat_minor": 4
}
