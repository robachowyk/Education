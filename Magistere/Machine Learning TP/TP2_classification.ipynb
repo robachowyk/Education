{
 "cells": [
  {
   "cell_type": "markdown",
   "metadata": {},
   "source": [
    "# Magistère 2A INTRODUCTION AU MACHINE LEARNING\n",
    "## TP 2: Classification - Premiers pas\n",
    "\n",
    "## Objectifs du TP\n",
    "Il s'agit ici de développer des classifieurs simples. Dans un premier\n",
    "temps, nous allons nous intéressé au modèle simple de classification\n",
    "bayésienne. Dans une deuxième phase, nous allons développer l'algorithme\n",
    "dit des *$k$ plus proches voisins* et nous l'appliquerons à la base de\n",
    "données `IRIS`. Pour manipuler les données de cette base, nous\n",
    "utiliserons le package `PANDAS` vu lors du TP précédent"
   ]
  },
  {
   "cell_type": "markdown",
   "metadata": {},
   "source": [
    "## IRIS\n",
    "\n",
    "* Charger dans une `DataFrame` la base de données `IRIS` à partir du fichier `IRIS.csv`.Les colonnes de la DataFrame seront nommées `’sl’,’sw’,’pl’,’pw’,’class’`."
   ]
  },
  {
   "cell_type": "code",
   "execution_count": null,
   "metadata": {},
   "outputs": [],
   "source": [
    "import os\n",
    "import pandas as pds\n",
    "import numpy as np"
   ]
  },
  {
   "cell_type": "code",
   "execution_count": 1,
   "metadata": {},
   "outputs": [
    {
     "data": {
      "text/html": [
       "<div>\n",
       "<style scoped>\n",
       "    .dataframe tbody tr th:only-of-type {\n",
       "        vertical-align: middle;\n",
       "    }\n",
       "\n",
       "    .dataframe tbody tr th {\n",
       "        vertical-align: top;\n",
       "    }\n",
       "\n",
       "    .dataframe thead th {\n",
       "        text-align: right;\n",
       "    }\n",
       "</style>\n",
       "<table border=\"1\" class=\"dataframe\">\n",
       "  <thead>\n",
       "    <tr style=\"text-align: right;\">\n",
       "      <th></th>\n",
       "      <th>sepal.length</th>\n",
       "      <th>sepal.width</th>\n",
       "      <th>petal.length</th>\n",
       "      <th>petal.width</th>\n",
       "      <th>variety</th>\n",
       "    </tr>\n",
       "  </thead>\n",
       "  <tbody>\n",
       "    <tr>\n",
       "      <th>0</th>\n",
       "      <td>5.1</td>\n",
       "      <td>3.5</td>\n",
       "      <td>1.4</td>\n",
       "      <td>0.2</td>\n",
       "      <td>Setosa</td>\n",
       "    </tr>\n",
       "    <tr>\n",
       "      <th>1</th>\n",
       "      <td>4.9</td>\n",
       "      <td>3.0</td>\n",
       "      <td>1.4</td>\n",
       "      <td>0.2</td>\n",
       "      <td>Setosa</td>\n",
       "    </tr>\n",
       "    <tr>\n",
       "      <th>2</th>\n",
       "      <td>4.7</td>\n",
       "      <td>3.2</td>\n",
       "      <td>1.3</td>\n",
       "      <td>0.2</td>\n",
       "      <td>Setosa</td>\n",
       "    </tr>\n",
       "    <tr>\n",
       "      <th>3</th>\n",
       "      <td>4.6</td>\n",
       "      <td>3.1</td>\n",
       "      <td>1.5</td>\n",
       "      <td>0.2</td>\n",
       "      <td>Setosa</td>\n",
       "    </tr>\n",
       "    <tr>\n",
       "      <th>4</th>\n",
       "      <td>5.0</td>\n",
       "      <td>3.6</td>\n",
       "      <td>1.4</td>\n",
       "      <td>0.2</td>\n",
       "      <td>Setosa</td>\n",
       "    </tr>\n",
       "    <tr>\n",
       "      <th>...</th>\n",
       "      <td>...</td>\n",
       "      <td>...</td>\n",
       "      <td>...</td>\n",
       "      <td>...</td>\n",
       "      <td>...</td>\n",
       "    </tr>\n",
       "    <tr>\n",
       "      <th>145</th>\n",
       "      <td>6.7</td>\n",
       "      <td>3.0</td>\n",
       "      <td>5.2</td>\n",
       "      <td>2.3</td>\n",
       "      <td>Virginica</td>\n",
       "    </tr>\n",
       "    <tr>\n",
       "      <th>146</th>\n",
       "      <td>6.3</td>\n",
       "      <td>2.5</td>\n",
       "      <td>5.0</td>\n",
       "      <td>1.9</td>\n",
       "      <td>Virginica</td>\n",
       "    </tr>\n",
       "    <tr>\n",
       "      <th>147</th>\n",
       "      <td>6.5</td>\n",
       "      <td>3.0</td>\n",
       "      <td>5.2</td>\n",
       "      <td>2.0</td>\n",
       "      <td>Virginica</td>\n",
       "    </tr>\n",
       "    <tr>\n",
       "      <th>148</th>\n",
       "      <td>6.2</td>\n",
       "      <td>3.4</td>\n",
       "      <td>5.4</td>\n",
       "      <td>2.3</td>\n",
       "      <td>Virginica</td>\n",
       "    </tr>\n",
       "    <tr>\n",
       "      <th>149</th>\n",
       "      <td>5.9</td>\n",
       "      <td>3.0</td>\n",
       "      <td>5.1</td>\n",
       "      <td>1.8</td>\n",
       "      <td>Virginica</td>\n",
       "    </tr>\n",
       "  </tbody>\n",
       "</table>\n",
       "<p>150 rows × 5 columns</p>\n",
       "</div>"
      ],
      "text/plain": [
       "     sepal.length  sepal.width  petal.length  petal.width    variety\n",
       "0             5.1          3.5           1.4          0.2     Setosa\n",
       "1             4.9          3.0           1.4          0.2     Setosa\n",
       "2             4.7          3.2           1.3          0.2     Setosa\n",
       "3             4.6          3.1           1.5          0.2     Setosa\n",
       "4             5.0          3.6           1.4          0.2     Setosa\n",
       "..            ...          ...           ...          ...        ...\n",
       "145           6.7          3.0           5.2          2.3  Virginica\n",
       "146           6.3          2.5           5.0          1.9  Virginica\n",
       "147           6.5          3.0           5.2          2.0  Virginica\n",
       "148           6.2          3.4           5.4          2.3  Virginica\n",
       "149           5.9          3.0           5.1          1.8  Virginica\n",
       "\n",
       "[150 rows x 5 columns]"
      ]
     },
     "execution_count": 1,
     "metadata": {},
     "output_type": "execute_result"
    }
   ],
   "source": [
    "iris = pds.read_csv((os.path.join(\"data\", \"iris.csv\")))\n",
    "iris"
   ]
  },
  {
   "cell_type": "markdown",
   "metadata": {},
   "source": [
    "* Remplacer les valeurs de classes `’Iris-setosa’,’Iris-versicolor’,’Iris-virginica` par des valeurs numériques"
   ]
  },
  {
   "cell_type": "code",
   "execution_count": 2,
   "metadata": {},
   "outputs": [
    {
     "data": {
      "text/html": [
       "<div>\n",
       "<style scoped>\n",
       "    .dataframe tbody tr th:only-of-type {\n",
       "        vertical-align: middle;\n",
       "    }\n",
       "\n",
       "    .dataframe tbody tr th {\n",
       "        vertical-align: top;\n",
       "    }\n",
       "\n",
       "    .dataframe thead th {\n",
       "        text-align: right;\n",
       "    }\n",
       "</style>\n",
       "<table border=\"1\" class=\"dataframe\">\n",
       "  <thead>\n",
       "    <tr style=\"text-align: right;\">\n",
       "      <th></th>\n",
       "      <th>sepal.length</th>\n",
       "      <th>sepal.width</th>\n",
       "      <th>petal.length</th>\n",
       "      <th>petal.width</th>\n",
       "      <th>variety</th>\n",
       "    </tr>\n",
       "  </thead>\n",
       "  <tbody>\n",
       "    <tr>\n",
       "      <th>0</th>\n",
       "      <td>5.1</td>\n",
       "      <td>3.5</td>\n",
       "      <td>1.4</td>\n",
       "      <td>0.2</td>\n",
       "      <td>0</td>\n",
       "    </tr>\n",
       "    <tr>\n",
       "      <th>1</th>\n",
       "      <td>4.9</td>\n",
       "      <td>3.0</td>\n",
       "      <td>1.4</td>\n",
       "      <td>0.2</td>\n",
       "      <td>0</td>\n",
       "    </tr>\n",
       "    <tr>\n",
       "      <th>2</th>\n",
       "      <td>4.7</td>\n",
       "      <td>3.2</td>\n",
       "      <td>1.3</td>\n",
       "      <td>0.2</td>\n",
       "      <td>0</td>\n",
       "    </tr>\n",
       "    <tr>\n",
       "      <th>3</th>\n",
       "      <td>4.6</td>\n",
       "      <td>3.1</td>\n",
       "      <td>1.5</td>\n",
       "      <td>0.2</td>\n",
       "      <td>0</td>\n",
       "    </tr>\n",
       "    <tr>\n",
       "      <th>4</th>\n",
       "      <td>5.0</td>\n",
       "      <td>3.6</td>\n",
       "      <td>1.4</td>\n",
       "      <td>0.2</td>\n",
       "      <td>0</td>\n",
       "    </tr>\n",
       "    <tr>\n",
       "      <th>...</th>\n",
       "      <td>...</td>\n",
       "      <td>...</td>\n",
       "      <td>...</td>\n",
       "      <td>...</td>\n",
       "      <td>...</td>\n",
       "    </tr>\n",
       "    <tr>\n",
       "      <th>145</th>\n",
       "      <td>6.7</td>\n",
       "      <td>3.0</td>\n",
       "      <td>5.2</td>\n",
       "      <td>2.3</td>\n",
       "      <td>2</td>\n",
       "    </tr>\n",
       "    <tr>\n",
       "      <th>146</th>\n",
       "      <td>6.3</td>\n",
       "      <td>2.5</td>\n",
       "      <td>5.0</td>\n",
       "      <td>1.9</td>\n",
       "      <td>2</td>\n",
       "    </tr>\n",
       "    <tr>\n",
       "      <th>147</th>\n",
       "      <td>6.5</td>\n",
       "      <td>3.0</td>\n",
       "      <td>5.2</td>\n",
       "      <td>2.0</td>\n",
       "      <td>2</td>\n",
       "    </tr>\n",
       "    <tr>\n",
       "      <th>148</th>\n",
       "      <td>6.2</td>\n",
       "      <td>3.4</td>\n",
       "      <td>5.4</td>\n",
       "      <td>2.3</td>\n",
       "      <td>2</td>\n",
       "    </tr>\n",
       "    <tr>\n",
       "      <th>149</th>\n",
       "      <td>5.9</td>\n",
       "      <td>3.0</td>\n",
       "      <td>5.1</td>\n",
       "      <td>1.8</td>\n",
       "      <td>2</td>\n",
       "    </tr>\n",
       "  </tbody>\n",
       "</table>\n",
       "<p>150 rows × 5 columns</p>\n",
       "</div>"
      ],
      "text/plain": [
       "     sepal.length  sepal.width  petal.length  petal.width  variety\n",
       "0             5.1          3.5           1.4          0.2        0\n",
       "1             4.9          3.0           1.4          0.2        0\n",
       "2             4.7          3.2           1.3          0.2        0\n",
       "3             4.6          3.1           1.5          0.2        0\n",
       "4             5.0          3.6           1.4          0.2        0\n",
       "..            ...          ...           ...          ...      ...\n",
       "145           6.7          3.0           5.2          2.3        2\n",
       "146           6.3          2.5           5.0          1.9        2\n",
       "147           6.5          3.0           5.2          2.0        2\n",
       "148           6.2          3.4           5.4          2.3        2\n",
       "149           5.9          3.0           5.1          1.8        2\n",
       "\n",
       "[150 rows x 5 columns]"
      ]
     },
     "execution_count": 2,
     "metadata": {},
     "output_type": "execute_result"
    }
   ],
   "source": [
    "varieties = {'Setosa': 0, 'Versicolor': 1, 'Virginica': 2}\n",
    "iris.variety = iris.variety.map(varieties) \n",
    "iris"
   ]
  },
  {
   "cell_type": "markdown",
   "metadata": {},
   "source": [
    "* Utiliser la fonction split pour mélanger et scinder la DataFrame en deux DataFrames dont l'une contiendra 80% des échantillons et l'autre 20%. La premiere constituera la base d'apprentissage et la seconde la base de validation (test)."
   ]
  },
  {
   "cell_type": "code",
   "execution_count": 45,
   "metadata": {},
   "outputs": [],
   "source": [
    "index_split = np.split(iris.index, [int(0.8*iris.shape[0])])\n",
    "train = iris.iloc[index_split[0]]\n",
    "test = iris.iloc[index_split[1]]"
   ]
  },
  {
   "cell_type": "markdown",
   "metadata": {},
   "source": [
    "## Classification par la méthode bayésienne\n",
    "* Calculer la fréquence de chaque classe"
   ]
  },
  {
   "cell_type": "code",
   "execution_count": 4,
   "metadata": {},
   "outputs": [
    {
     "data": {
      "text/plain": [
       "array([0.33333333, 0.33333333, 0.33333333])"
      ]
     },
     "execution_count": 4,
     "metadata": {},
     "output_type": "execute_result"
    }
   ],
   "source": [
    "variety_freq = np.array([])\n",
    "\n",
    "for i in range(3):\n",
    "    variety_freq = np.append(variety_freq, iris[iris.variety==i].shape[0]/iris.shape[0])\n",
    "\n",
    "variety_freq"
   ]
  },
  {
   "cell_type": "markdown",
   "metadata": {},
   "source": [
    "* Étant données une classe et une variable, calculer la moyenne et la variance de la variable"
   ]
  },
  {
   "cell_type": "code",
   "execution_count": 5,
   "metadata": {},
   "outputs": [],
   "source": [
    "variety_setosa = iris[iris.variety==0].loc[:,['sepal.length', 'sepal.width', 'petal.length', 'petal.width']]\n",
    "variety_versicolor = iris[iris.variety==1].loc[:,['sepal.length', 'sepal.width', 'petal.length', 'petal.width']]\n",
    "variety_virginica = iris[iris.variety==2].loc[:,['sepal.length', 'sepal.width', 'petal.length', 'petal.width']]"
   ]
  },
  {
   "cell_type": "markdown",
   "metadata": {},
   "source": [
    "exemple avec la variete Setosa :"
   ]
  },
  {
   "cell_type": "code",
   "execution_count": 6,
   "metadata": {},
   "outputs": [
    {
     "data": {
      "text/plain": [
       "sepal.length    5.006\n",
       "sepal.width     3.428\n",
       "petal.length    1.462\n",
       "petal.width     0.246\n",
       "dtype: float64"
      ]
     },
     "execution_count": 6,
     "metadata": {},
     "output_type": "execute_result"
    }
   ],
   "source": [
    "variety_setosa.mean(axis=0)"
   ]
  },
  {
   "cell_type": "code",
   "execution_count": 7,
   "metadata": {
    "scrolled": true
   },
   "outputs": [
    {
     "data": {
      "text/plain": [
       "sepal.length    0.124249\n",
       "sepal.width     0.143690\n",
       "petal.length    0.030159\n",
       "petal.width     0.011106\n",
       "dtype: float64"
      ]
     },
     "execution_count": 7,
     "metadata": {},
     "output_type": "execute_result"
    }
   ],
   "source": [
    "variety_setosa.var(axis=0)"
   ]
  },
  {
   "cell_type": "markdown",
   "metadata": {},
   "source": [
    "* Étant une variable et une valeur de cette variable, calculer en utilisant la règle de bayes la probabilité d'appartenir à chaque classe. Renvoyer la classe la plus probable."
   ]
  },
  {
   "cell_type": "code",
   "execution_count": 8,
   "metadata": {},
   "outputs": [
    {
     "name": "stdout",
     "output_type": "stream",
     "text": [
      "Setosa\n"
     ]
    },
    {
     "name": "stderr",
     "output_type": "stream",
     "text": [
      "C:\\Users\\KU\\Anaconda3\\lib\\site-packages\\ipykernel_launcher.py:20: RuntimeWarning: divide by zero encountered in log\n"
     ]
    }
   ],
   "source": [
    "def Bayes_decision(variable, valeur, variety_freq):\n",
    "    \n",
    "    \"\"\"\n",
    "       On compare les proba que notre iris mystere appartienne a chacune des classes d'iris.\n",
    "       On garde la classe pour laquelle la proba est la plus grande.\n",
    "       On cherche l argument max de la P( attribut de la classe = k sachant la valeur de la variable )\n",
    "       \n",
    "       Bayesien naif : on considere que les descripteurs sont independants entre eux et on utilise des log\n",
    "       en pratique pour des calculs plus precis avec des valeurs < 1.\n",
    "       \n",
    "       argmax de : \n",
    "       ln P(attribut de la classe = k) + ln P(variable = valeur sachant attribut de la classe = k)\n",
    "       = \n",
    "       ln (classe = k) + ln (variable = valeur & classe = k / classe = k ]\n",
    "    \"\"\"\n",
    "    \n",
    "    probamax = np.array([])\n",
    "    for k in range(3):\n",
    "\n",
    "        formule = np.log( variety_freq[k] ) + np.log( sum(iris[iris.variety==k][variable]==valeur) / (iris[iris.variety==k]).shape[0] )\n",
    "        probamax = np.append(probamax, formule)\n",
    "    \n",
    "    return np.argmax(probamax)\n",
    "\n",
    "classe_predite = Bayes_decision('sepal.length', 5, variety_freq)\n",
    "\n",
    "liste_classes = ['Setosa', 'Versicolor', 'Virginica']\n",
    "print(liste_classes[classe_predite])"
   ]
  },
  {
   "cell_type": "markdown",
   "metadata": {},
   "source": [
    "* En utilisant la fonction de décision créée précédemment, créer maintenant une fonction qui calculera l'erreur de prédiction sur la base de test (le deuxième DataFrame) en fonction de la variable choisie."
   ]
  },
  {
   "cell_type": "code",
   "execution_count": 9,
   "metadata": {},
   "outputs": [
    {
     "name": "stderr",
     "output_type": "stream",
     "text": [
      "C:\\Users\\KU\\Anaconda3\\lib\\site-packages\\ipykernel_launcher.py:20: RuntimeWarning: divide by zero encountered in log\n"
     ]
    },
    {
     "data": {
      "text/plain": [
       "0.26666666666666666"
      ]
     },
     "execution_count": 9,
     "metadata": {},
     "output_type": "execute_result"
    }
   ],
   "source": [
    "def erreur_Bayes_prediciton(test_base, variable, variety_freq):\n",
    "    \n",
    "    cpt=0\n",
    "    for i in range(test_base.shape[0]):\n",
    "        \n",
    "        if Bayes_decision(variable, test_base[variable].iloc[i], variety_freq) != test_base.variety.iloc[i] :\n",
    "            cpt+=1\n",
    "            \n",
    "    return cpt/test_base.shape[0]\n",
    "\n",
    "erreur_Bayes_prediciton(test, 'sepal.length', variety_freq)"
   ]
  },
  {
   "cell_type": "markdown",
   "metadata": {},
   "source": [
    "* Trouver la variable la plus efficace pour classer avec cette méthode"
   ]
  },
  {
   "cell_type": "code",
   "execution_count": 10,
   "metadata": {},
   "outputs": [
    {
     "name": "stderr",
     "output_type": "stream",
     "text": [
      "C:\\Users\\KU\\Anaconda3\\lib\\site-packages\\ipykernel_launcher.py:20: RuntimeWarning: divide by zero encountered in log\n"
     ]
    },
    {
     "name": "stdout",
     "output_type": "stream",
     "text": [
      "[0.26666667 0.46666667 0.06666667 0.1       ] \n",
      "Meilleure variable pour cette methode :  petal.length\n"
     ]
    }
   ],
   "source": [
    "erreur = np.array([])\n",
    "L = ['sepal.length', 'sepal.width', 'petal.length', 'petal.width']\n",
    "\n",
    "for variable in L:\n",
    "    erreur = np.append(erreur, erreur_Bayes_prediciton(test, variable, variety_freq))\n",
    "\n",
    "print(erreur, '\\nMeilleure variable pour cette methode : ', L[np.argmin(erreur)])"
   ]
  },
  {
   "cell_type": "markdown",
   "metadata": {},
   "source": [
    "## Classification par la méthode des $k$ plus proches voisins\n",
    "\n",
    "* Créer une fonction qui, à partir d'un point $P$ donné, calcule la liste des distances Euclidiennes de $P$ à tous les autres points de la base d'apprentissage."
   ]
  },
  {
   "cell_type": "code",
   "execution_count": 11,
   "metadata": {},
   "outputs": [
    {
     "data": {
      "text/html": [
       "<div>\n",
       "<style scoped>\n",
       "    .dataframe tbody tr th:only-of-type {\n",
       "        vertical-align: middle;\n",
       "    }\n",
       "\n",
       "    .dataframe tbody tr th {\n",
       "        vertical-align: top;\n",
       "    }\n",
       "\n",
       "    .dataframe thead th {\n",
       "        text-align: right;\n",
       "    }\n",
       "</style>\n",
       "<table border=\"1\" class=\"dataframe\">\n",
       "  <thead>\n",
       "    <tr style=\"text-align: right;\">\n",
       "      <th></th>\n",
       "      <th>distance</th>\n",
       "    </tr>\n",
       "  </thead>\n",
       "  <tbody>\n",
       "    <tr>\n",
       "      <th>0</th>\n",
       "      <td>0.916515</td>\n",
       "    </tr>\n",
       "    <tr>\n",
       "      <th>1</th>\n",
       "      <td>1.178983</td>\n",
       "    </tr>\n",
       "    <tr>\n",
       "      <th>2</th>\n",
       "      <td>1.334166</td>\n",
       "    </tr>\n",
       "    <tr>\n",
       "      <th>3</th>\n",
       "      <td>1.435270</td>\n",
       "    </tr>\n",
       "    <tr>\n",
       "      <th>4</th>\n",
       "      <td>1.029563</td>\n",
       "    </tr>\n",
       "    <tr>\n",
       "      <th>5</th>\n",
       "      <td>0.812404</td>\n",
       "    </tr>\n",
       "    <tr>\n",
       "      <th>6</th>\n",
       "      <td>1.403567</td>\n",
       "    </tr>\n",
       "    <tr>\n",
       "      <th>7</th>\n",
       "      <td>1.004988</td>\n",
       "    </tr>\n",
       "    <tr>\n",
       "      <th>8</th>\n",
       "      <td>1.682260</td>\n",
       "    </tr>\n",
       "    <tr>\n",
       "      <th>9</th>\n",
       "      <td>1.157584</td>\n",
       "    </tr>\n",
       "    <tr>\n",
       "      <th>10</th>\n",
       "      <td>0.678233</td>\n",
       "    </tr>\n",
       "    <tr>\n",
       "      <th>11</th>\n",
       "      <td>1.208305</td>\n",
       "    </tr>\n",
       "    <tr>\n",
       "      <th>12</th>\n",
       "      <td>1.284523</td>\n",
       "    </tr>\n",
       "    <tr>\n",
       "      <th>13</th>\n",
       "      <td>1.802776</td>\n",
       "    </tr>\n",
       "    <tr>\n",
       "      <th>14</th>\n",
       "      <td>0.707107</td>\n",
       "    </tr>\n",
       "    <tr>\n",
       "      <th>15</th>\n",
       "      <td>1.048809</td>\n",
       "    </tr>\n",
       "    <tr>\n",
       "      <th>16</th>\n",
       "      <td>0.812404</td>\n",
       "    </tr>\n",
       "    <tr>\n",
       "      <th>17</th>\n",
       "      <td>0.911043</td>\n",
       "    </tr>\n",
       "    <tr>\n",
       "      <th>18</th>\n",
       "      <td>0.538516</td>\n",
       "    </tr>\n",
       "    <tr>\n",
       "      <th>19</th>\n",
       "      <td>0.984886</td>\n",
       "    </tr>\n",
       "    <tr>\n",
       "      <th>20</th>\n",
       "      <td>0.640312</td>\n",
       "    </tr>\n",
       "    <tr>\n",
       "      <th>21</th>\n",
       "      <td>0.953939</td>\n",
       "    </tr>\n",
       "    <tr>\n",
       "      <th>22</th>\n",
       "      <td>1.503330</td>\n",
       "    </tr>\n",
       "    <tr>\n",
       "      <th>23</th>\n",
       "      <td>0.948683</td>\n",
       "    </tr>\n",
       "    <tr>\n",
       "      <th>24</th>\n",
       "      <td>1.268858</td>\n",
       "    </tr>\n",
       "    <tr>\n",
       "      <th>25</th>\n",
       "      <td>1.086278</td>\n",
       "    </tr>\n",
       "    <tr>\n",
       "      <th>26</th>\n",
       "      <td>1.009950</td>\n",
       "    </tr>\n",
       "    <tr>\n",
       "      <th>27</th>\n",
       "      <td>0.812404</td>\n",
       "    </tr>\n",
       "    <tr>\n",
       "      <th>28</th>\n",
       "      <td>0.812404</td>\n",
       "    </tr>\n",
       "    <tr>\n",
       "      <th>29</th>\n",
       "      <td>1.322876</td>\n",
       "    </tr>\n",
       "    <tr>\n",
       "      <th>30</th>\n",
       "      <td>1.244990</td>\n",
       "    </tr>\n",
       "    <tr>\n",
       "      <th>31</th>\n",
       "      <td>0.608276</td>\n",
       "    </tr>\n",
       "    <tr>\n",
       "      <th>32</th>\n",
       "      <td>1.081665</td>\n",
       "    </tr>\n",
       "    <tr>\n",
       "      <th>33</th>\n",
       "      <td>0.953939</td>\n",
       "    </tr>\n",
       "    <tr>\n",
       "      <th>34</th>\n",
       "      <td>1.144552</td>\n",
       "    </tr>\n",
       "    <tr>\n",
       "      <th>35</th>\n",
       "      <td>1.067708</td>\n",
       "    </tr>\n",
       "    <tr>\n",
       "      <th>36</th>\n",
       "      <td>0.556776</td>\n",
       "    </tr>\n",
       "    <tr>\n",
       "      <th>37</th>\n",
       "      <td>1.140175</td>\n",
       "    </tr>\n",
       "    <tr>\n",
       "      <th>38</th>\n",
       "      <td>1.664332</td>\n",
       "    </tr>\n",
       "    <tr>\n",
       "      <th>39</th>\n",
       "      <td>0.905539</td>\n",
       "    </tr>\n",
       "    <tr>\n",
       "      <th>40</th>\n",
       "      <td>1.024695</td>\n",
       "    </tr>\n",
       "    <tr>\n",
       "      <th>41</th>\n",
       "      <td>1.870829</td>\n",
       "    </tr>\n",
       "    <tr>\n",
       "      <th>42</th>\n",
       "      <td>1.627882</td>\n",
       "    </tr>\n",
       "    <tr>\n",
       "      <th>43</th>\n",
       "      <td>1.053565</td>\n",
       "    </tr>\n",
       "    <tr>\n",
       "      <th>44</th>\n",
       "      <td>1.067708</td>\n",
       "    </tr>\n",
       "    <tr>\n",
       "      <th>45</th>\n",
       "      <td>1.268858</td>\n",
       "    </tr>\n",
       "    <tr>\n",
       "      <th>46</th>\n",
       "      <td>0.994987</td>\n",
       "    </tr>\n",
       "    <tr>\n",
       "      <th>47</th>\n",
       "      <td>1.421267</td>\n",
       "    </tr>\n",
       "    <tr>\n",
       "      <th>48</th>\n",
       "      <td>0.768115</td>\n",
       "    </tr>\n",
       "    <tr>\n",
       "      <th>49</th>\n",
       "      <td>1.014889</td>\n",
       "    </tr>\n",
       "    <tr>\n",
       "      <th>50</th>\n",
       "      <td>3.534119</td>\n",
       "    </tr>\n",
       "    <tr>\n",
       "      <th>51</th>\n",
       "      <td>3.261901</td>\n",
       "    </tr>\n",
       "    <tr>\n",
       "      <th>52</th>\n",
       "      <td>3.728270</td>\n",
       "    </tr>\n",
       "    <tr>\n",
       "      <th>53</th>\n",
       "      <td>2.951271</td>\n",
       "    </tr>\n",
       "    <tr>\n",
       "      <th>54</th>\n",
       "      <td>3.414674</td>\n",
       "    </tr>\n",
       "    <tr>\n",
       "      <th>55</th>\n",
       "      <td>3.232646</td>\n",
       "    </tr>\n",
       "    <tr>\n",
       "      <th>56</th>\n",
       "      <td>3.468429</td>\n",
       "    </tr>\n",
       "    <tr>\n",
       "      <th>57</th>\n",
       "      <td>2.437212</td>\n",
       "    </tr>\n",
       "    <tr>\n",
       "      <th>58</th>\n",
       "      <td>3.349627</td>\n",
       "    </tr>\n",
       "    <tr>\n",
       "      <th>59</th>\n",
       "      <td>2.846050</td>\n",
       "    </tr>\n",
       "    <tr>\n",
       "      <th>60</th>\n",
       "      <td>2.729469</td>\n",
       "    </tr>\n",
       "    <tr>\n",
       "      <th>61</th>\n",
       "      <td>2.983287</td>\n",
       "    </tr>\n",
       "    <tr>\n",
       "      <th>62</th>\n",
       "      <td>2.860070</td>\n",
       "    </tr>\n",
       "    <tr>\n",
       "      <th>63</th>\n",
       "      <td>3.421988</td>\n",
       "    </tr>\n",
       "    <tr>\n",
       "      <th>64</th>\n",
       "      <td>2.412468</td>\n",
       "    </tr>\n",
       "    <tr>\n",
       "      <th>65</th>\n",
       "      <td>3.193744</td>\n",
       "    </tr>\n",
       "    <tr>\n",
       "      <th>66</th>\n",
       "      <td>3.280244</td>\n",
       "    </tr>\n",
       "    <tr>\n",
       "      <th>67</th>\n",
       "      <td>2.789265</td>\n",
       "    </tr>\n",
       "    <tr>\n",
       "      <th>68</th>\n",
       "      <td>3.452535</td>\n",
       "    </tr>\n",
       "    <tr>\n",
       "      <th>69</th>\n",
       "      <td>2.714774</td>\n",
       "    </tr>\n",
       "    <tr>\n",
       "      <th>70</th>\n",
       "      <td>3.631804</td>\n",
       "    </tr>\n",
       "    <tr>\n",
       "      <th>71</th>\n",
       "      <td>2.760435</td>\n",
       "    </tr>\n",
       "    <tr>\n",
       "      <th>72</th>\n",
       "      <td>3.728270</td>\n",
       "    </tr>\n",
       "    <tr>\n",
       "      <th>73</th>\n",
       "      <td>3.379349</td>\n",
       "    </tr>\n",
       "    <tr>\n",
       "      <th>74</th>\n",
       "      <td>3.041381</td>\n",
       "    </tr>\n",
       "    <tr>\n",
       "      <th>75</th>\n",
       "      <td>3.184337</td>\n",
       "    </tr>\n",
       "    <tr>\n",
       "      <th>76</th>\n",
       "      <td>3.619392</td>\n",
       "    </tr>\n",
       "    <tr>\n",
       "      <th>77</th>\n",
       "      <td>3.854867</td>\n",
       "    </tr>\n",
       "    <tr>\n",
       "      <th>78</th>\n",
       "      <td>3.269557</td>\n",
       "    </tr>\n",
       "    <tr>\n",
       "      <th>79</th>\n",
       "      <td>2.284732</td>\n",
       "    </tr>\n",
       "    <tr>\n",
       "      <th>80</th>\n",
       "      <td>2.679552</td>\n",
       "    </tr>\n",
       "    <tr>\n",
       "      <th>81</th>\n",
       "      <td>2.565151</td>\n",
       "    </tr>\n",
       "    <tr>\n",
       "      <th>82</th>\n",
       "      <td>2.664583</td>\n",
       "    </tr>\n",
       "    <tr>\n",
       "      <th>83</th>\n",
       "      <td>3.891015</td>\n",
       "    </tr>\n",
       "    <tr>\n",
       "      <th>84</th>\n",
       "      <td>3.310589</td>\n",
       "    </tr>\n",
       "    <tr>\n",
       "      <th>85</th>\n",
       "      <td>3.269557</td>\n",
       "    </tr>\n",
       "    <tr>\n",
       "      <th>86</th>\n",
       "      <td>3.501428</td>\n",
       "    </tr>\n",
       "    <tr>\n",
       "      <th>87</th>\n",
       "      <td>3.272614</td>\n",
       "    </tr>\n",
       "    <tr>\n",
       "      <th>88</th>\n",
       "      <td>2.842534</td>\n",
       "    </tr>\n",
       "    <tr>\n",
       "      <th>89</th>\n",
       "      <td>2.882707</td>\n",
       "    </tr>\n",
       "    <tr>\n",
       "      <th>90</th>\n",
       "      <td>3.179623</td>\n",
       "    </tr>\n",
       "    <tr>\n",
       "      <th>91</th>\n",
       "      <td>3.315117</td>\n",
       "    </tr>\n",
       "    <tr>\n",
       "      <th>92</th>\n",
       "      <td>2.782086</td>\n",
       "    </tr>\n",
       "    <tr>\n",
       "      <th>93</th>\n",
       "      <td>2.437212</td>\n",
       "    </tr>\n",
       "    <tr>\n",
       "      <th>94</th>\n",
       "      <td>2.989983</td>\n",
       "    </tr>\n",
       "    <tr>\n",
       "      <th>95</th>\n",
       "      <td>2.889637</td>\n",
       "    </tr>\n",
       "    <tr>\n",
       "      <th>96</th>\n",
       "      <td>2.937686</td>\n",
       "    </tr>\n",
       "    <tr>\n",
       "      <th>97</th>\n",
       "      <td>3.021589</td>\n",
       "    </tr>\n",
       "    <tr>\n",
       "      <th>98</th>\n",
       "      <td>2.123676</td>\n",
       "    </tr>\n",
       "    <tr>\n",
       "      <th>99</th>\n",
       "      <td>2.865310</td>\n",
       "    </tr>\n",
       "    <tr>\n",
       "      <th>100</th>\n",
       "      <td>5.018964</td>\n",
       "    </tr>\n",
       "    <tr>\n",
       "      <th>101</th>\n",
       "      <td>4.006245</td>\n",
       "    </tr>\n",
       "    <tr>\n",
       "      <th>102</th>\n",
       "      <td>4.895917</td>\n",
       "    </tr>\n",
       "    <tr>\n",
       "      <th>103</th>\n",
       "      <td>4.404543</td>\n",
       "    </tr>\n",
       "    <tr>\n",
       "      <th>104</th>\n",
       "      <td>4.744470</td>\n",
       "    </tr>\n",
       "    <tr>\n",
       "      <th>105</th>\n",
       "      <td>5.654202</td>\n",
       "    </tr>\n",
       "    <tr>\n",
       "      <th>106</th>\n",
       "      <td>3.602777</td>\n",
       "    </tr>\n",
       "    <tr>\n",
       "      <th>107</th>\n",
       "      <td>5.218237</td>\n",
       "    </tr>\n",
       "    <tr>\n",
       "      <th>108</th>\n",
       "      <td>4.694678</td>\n",
       "    </tr>\n",
       "    <tr>\n",
       "      <th>109</th>\n",
       "      <td>5.242137</td>\n",
       "    </tr>\n",
       "    <tr>\n",
       "      <th>110</th>\n",
       "      <td>4.017462</td>\n",
       "    </tr>\n",
       "    <tr>\n",
       "      <th>111</th>\n",
       "      <td>4.201190</td>\n",
       "    </tr>\n",
       "    <tr>\n",
       "      <th>112</th>\n",
       "      <td>4.476606</td>\n",
       "    </tr>\n",
       "    <tr>\n",
       "      <th>113</th>\n",
       "      <td>4.004997</td>\n",
       "    </tr>\n",
       "    <tr>\n",
       "      <th>114</th>\n",
       "      <td>4.215448</td>\n",
       "    </tr>\n",
       "    <tr>\n",
       "      <th>115</th>\n",
       "      <td>4.317407</td>\n",
       "    </tr>\n",
       "    <tr>\n",
       "      <th>116</th>\n",
       "      <td>4.319722</td>\n",
       "    </tr>\n",
       "    <tr>\n",
       "      <th>117</th>\n",
       "      <td>5.805170</td>\n",
       "    </tr>\n",
       "    <tr>\n",
       "      <th>118</th>\n",
       "      <td>6.057227</td>\n",
       "    </tr>\n",
       "    <tr>\n",
       "      <th>119</th>\n",
       "      <td>3.889730</td>\n",
       "    </tr>\n",
       "  </tbody>\n",
       "</table>\n",
       "</div>"
      ],
      "text/plain": [
       "     distance\n",
       "0    0.916515\n",
       "1    1.178983\n",
       "2    1.334166\n",
       "3    1.435270\n",
       "4    1.029563\n",
       "5    0.812404\n",
       "6    1.403567\n",
       "7    1.004988\n",
       "8    1.682260\n",
       "9    1.157584\n",
       "10   0.678233\n",
       "11   1.208305\n",
       "12   1.284523\n",
       "13   1.802776\n",
       "14   0.707107\n",
       "15   1.048809\n",
       "16   0.812404\n",
       "17   0.911043\n",
       "18   0.538516\n",
       "19   0.984886\n",
       "20   0.640312\n",
       "21   0.953939\n",
       "22   1.503330\n",
       "23   0.948683\n",
       "24   1.268858\n",
       "25   1.086278\n",
       "26   1.009950\n",
       "27   0.812404\n",
       "28   0.812404\n",
       "29   1.322876\n",
       "30   1.244990\n",
       "31   0.608276\n",
       "32   1.081665\n",
       "33   0.953939\n",
       "34   1.144552\n",
       "35   1.067708\n",
       "36   0.556776\n",
       "37   1.140175\n",
       "38   1.664332\n",
       "39   0.905539\n",
       "40   1.024695\n",
       "41   1.870829\n",
       "42   1.627882\n",
       "43   1.053565\n",
       "44   1.067708\n",
       "45   1.268858\n",
       "46   0.994987\n",
       "47   1.421267\n",
       "48   0.768115\n",
       "49   1.014889\n",
       "50   3.534119\n",
       "51   3.261901\n",
       "52   3.728270\n",
       "53   2.951271\n",
       "54   3.414674\n",
       "55   3.232646\n",
       "56   3.468429\n",
       "57   2.437212\n",
       "58   3.349627\n",
       "59   2.846050\n",
       "60   2.729469\n",
       "61   2.983287\n",
       "62   2.860070\n",
       "63   3.421988\n",
       "64   2.412468\n",
       "65   3.193744\n",
       "66   3.280244\n",
       "67   2.789265\n",
       "68   3.452535\n",
       "69   2.714774\n",
       "70   3.631804\n",
       "71   2.760435\n",
       "72   3.728270\n",
       "73   3.379349\n",
       "74   3.041381\n",
       "75   3.184337\n",
       "76   3.619392\n",
       "77   3.854867\n",
       "78   3.269557\n",
       "79   2.284732\n",
       "80   2.679552\n",
       "81   2.565151\n",
       "82   2.664583\n",
       "83   3.891015\n",
       "84   3.310589\n",
       "85   3.269557\n",
       "86   3.501428\n",
       "87   3.272614\n",
       "88   2.842534\n",
       "89   2.882707\n",
       "90   3.179623\n",
       "91   3.315117\n",
       "92   2.782086\n",
       "93   2.437212\n",
       "94   2.989983\n",
       "95   2.889637\n",
       "96   2.937686\n",
       "97   3.021589\n",
       "98   2.123676\n",
       "99   2.865310\n",
       "100  5.018964\n",
       "101  4.006245\n",
       "102  4.895917\n",
       "103  4.404543\n",
       "104  4.744470\n",
       "105  5.654202\n",
       "106  3.602777\n",
       "107  5.218237\n",
       "108  4.694678\n",
       "109  5.242137\n",
       "110  4.017462\n",
       "111  4.201190\n",
       "112  4.476606\n",
       "113  4.004997\n",
       "114  4.215448\n",
       "115  4.317407\n",
       "116  4.319722\n",
       "117  5.805170\n",
       "118  6.057227\n",
       "119  3.889730"
      ]
     },
     "execution_count": 11,
     "metadata": {},
     "output_type": "execute_result"
    }
   ],
   "source": [
    "from scipy import spatial\n",
    "\n",
    "def dist_eu(p, train_base):\n",
    "    base = train_base.drop('variety', axis=1)\n",
    "    point = pds.DataFrame(np.full((base.shape[0],4), p))\n",
    "    points = base\n",
    "    distance = np.array([])\n",
    "    for i in range(base.shape[0]):\n",
    "        distance = np.append(distance, spatial.distance.euclidean(point.iloc[i], points.iloc[i]))\n",
    "    pds.set_option('display.max_rows', None)\n",
    "    return pds.DataFrame(distance, columns=['distance'])\n",
    "\n",
    "dist_eu([6, 3.4, 1.5, 0.3], train)"
   ]
  },
  {
   "cell_type": "markdown",
   "metadata": {},
   "source": [
    "* Créer une fonction qui à partir d'un point $P$ donné et un entier $k$ renverra les $k$ plus proches voisins de $P$ au sens de la distance Euclidienne calculée précédemment."
   ]
  },
  {
   "cell_type": "code",
   "execution_count": 12,
   "metadata": {},
   "outputs": [
    {
     "data": {
      "text/plain": [
       "Int64Index([18, 36, 31], dtype='int64')"
      ]
     },
     "execution_count": 12,
     "metadata": {},
     "output_type": "execute_result"
    }
   ],
   "source": [
    "def k_proches_voisins(p, k, train_base):\n",
    "    \n",
    "    distance = dist_eu(p, train_base)\n",
    "    \n",
    "    return distance.nsmallest(k,'distance').index\n",
    "\n",
    "k_proches_voisins([6, 3.4, 1.5, 0.3], 3, train)"
   ]
  },
  {
   "cell_type": "markdown",
   "metadata": {},
   "source": [
    "* Créer ensuite une fonction de décision qui, à partir d'un point $P$ donné et du nombre de voisins $k$, renverra la classe majoritaire parmi les $k$ voisins de $P$ considérée comme la classe de $P$."
   ]
  },
  {
   "cell_type": "code",
   "execution_count": 13,
   "metadata": {},
   "outputs": [
    {
     "name": "stdout",
     "output_type": "stream",
     "text": [
      "Setosa\n"
     ]
    }
   ],
   "source": [
    "from collections import Counter\n",
    "\n",
    "def voisin_decision(p, k, train_base):\n",
    "    \n",
    "    classe = np.array([])\n",
    "    for element in k_proches_voisins(p, k, train_base):\n",
    "        classe = np.append(classe, train_base.variety.loc[element])\n",
    "\n",
    "    count = Counter(classe)\n",
    "    \n",
    "    return int(count.most_common(1)[0][0])\n",
    "    \n",
    "classe_predicte = voisin_decision([6, 3.4, 1.5, 0.3], 3, train)\n",
    "liste_classes = ['Setosa', 'Versicolor', 'Virginica']\n",
    "print(liste_classes[classe_predite])"
   ]
  },
  {
   "cell_type": "markdown",
   "metadata": {},
   "source": [
    "* En utilisant la fonction de décision créée précédemment, créer maintenant une fonction qui calculera l'erreur de prédiction sur la base de test (le deuxième DataFrame)."
   ]
  },
  {
   "cell_type": "code",
   "execution_count": 14,
   "metadata": {},
   "outputs": [
    {
     "data": {
      "text/plain": [
       "0.23333333333333334"
      ]
     },
     "execution_count": 14,
     "metadata": {},
     "output_type": "execute_result"
    }
   ],
   "source": [
    "def erreur_voisin_prediction(test_base, train_base, k):\n",
    "    \n",
    "    cpt=0\n",
    "    \n",
    "    for i in range(test_base.shape[0]):\n",
    "        p = np.array(test_base[['sepal.length', 'sepal.width', 'petal.length', 'petal.width']].iloc[i])\n",
    "        if voisin_decision(p, k, train_base) != test_base.variety.iloc[i] :\n",
    "            cpt+=1\n",
    "            \n",
    "    return cpt/test_base.shape[0]\n",
    "\n",
    "erreur_voisin_prediction(test, train, 3)"
   ]
  },
  {
   "cell_type": "markdown",
   "metadata": {},
   "source": [
    "* Etudier l'évolution de l'erreur de prédiction sur la base de test en fonction du choix de $k$."
   ]
  },
  {
   "cell_type": "code",
   "execution_count": 15,
   "metadata": {},
   "outputs": [
    {
     "data": {
      "application/vnd.jupyter.widget-view+json": {
       "model_id": "193a6005dcaa4a4f863399569a1cd1b0",
       "version_major": 2,
       "version_minor": 0
      },
      "text/plain": [
       "HBox(children=(FloatProgress(value=0.0, max=29.0), HTML(value='')))"
      ]
     },
     "metadata": {},
     "output_type": "display_data"
    },
    {
     "name": "stdout",
     "output_type": "stream",
     "text": [
      "\n"
     ]
    },
    {
     "data": {
      "text/plain": [
       "Text(0.5, 1.0, \"evolution de l'erreur en fonction du nombre de voisins\")"
      ]
     },
     "execution_count": 15,
     "metadata": {},
     "output_type": "execute_result"
    },
    {
     "data": {
      "image/png": "[encoded data removed]",
      "text/plain": [
       "<Figure size 432x288 with 1 Axes>"
      ]
     },
     "metadata": {
      "needs_background": "light"
     },
     "output_type": "display_data"
    }
   ],
   "source": [
    "from tqdm.auto import tqdm\n",
    "\n",
    "k_error = np.array([])\n",
    "\n",
    "for k in tqdm(range(1,test.shape[0])):\n",
    "    k_error = np.append(k_error, erreur_voisin_prediction(test, train, k))\n",
    "    \n",
    "from matplotlib import pyplot as plt\n",
    "plt.plot(k_error)\n",
    "plt.title(\"evolution de l'erreur en fonction du nombre de voisins\")"
   ]
  },
  {
   "cell_type": "markdown",
   "metadata": {},
   "source": [
    "* Etudier l'évolution de l'erreur de prédiction sur la base de test en fonction du nombre de points utilisés pour l'apprentissage et pour le test."
   ]
  },
  {
   "cell_type": "code",
   "execution_count": 20,
   "metadata": {},
   "outputs": [
    {
     "data": {
      "application/vnd.jupyter.widget-view+json": {
       "model_id": "05330a6aff16479a913fe3bba7aa193a",
       "version_major": 2,
       "version_minor": 0
      },
      "text/plain": [
       "HBox(children=(FloatProgress(value=0.0, max=15.0), HTML(value='')))"
      ]
     },
     "metadata": {},
     "output_type": "display_data"
    },
    {
     "name": "stdout",
     "output_type": "stream",
     "text": [
      "(1, 5)\n",
      "(11, 5)\n",
      "(21, 5)\n",
      "(31, 5)\n",
      "(41, 5)\n",
      "(51, 5)\n",
      "(61, 5)\n",
      "(71, 5)\n",
      "(81, 5)\n",
      "(91, 5)\n",
      "(101, 5)\n",
      "(111, 5)\n",
      "(121, 5)\n",
      "(131, 5)\n",
      "(141, 5)\n",
      "\n"
     ]
    },
    {
     "data": {
      "text/plain": [
       "Text(0.5, 1.0, \"evolution de l'erreur en fonction du nombre de points utilises pour le test\")"
      ]
     },
     "execution_count": 20,
     "metadata": {},
     "output_type": "execute_result"
    },
    {
     "data": {
      "image/png": "[encoded data removed]",
      "text/plain": [
       "<Figure size 432x288 with 1 Axes>"
      ]
     },
     "metadata": {
      "needs_background": "light"
     },
     "output_type": "display_data"
    }
   ],
   "source": [
    "base_error = np.array([])\n",
    "test_pts = 1\n",
    "\n",
    "for i in tqdm( range(0, iris.shape[0]-1, 10) ):\n",
    "\n",
    "    index_split = np.split( iris.index, [int( test_pts )] )\n",
    "    train = iris.iloc[index_split[1]]\n",
    "    test = iris.iloc[index_split[0]]\n",
    "    print(test.shape)\n",
    "    base_error = np.append(base_error, erreur_voisin_prediction(test, train, 3))\n",
    "\n",
    "    test_pts += 10\n",
    "    \n",
    "plt.plot(base_error)\n",
    "plt.title(\"evolution de l'erreur en fonction du nombre de points utilises pour le test\")"
   ]
  },
  {
   "cell_type": "markdown",
   "metadata": {},
   "source": [
    "* Créer des variantes de cet algorithme en remplaçant la distance Euclidienne par d'autres choix de distances.\n"
   ]
  },
  {
   "cell_type": "code",
   "execution_count": 88,
   "metadata": {},
   "outputs": [
    {
     "data": {
      "application/vnd.jupyter.widget-view+json": {
       "model_id": "b3760ee9a481445c95fea624b13f8309",
       "version_major": 2,
       "version_minor": 0
      },
      "text/plain": [
       "HBox(children=(FloatProgress(value=0.0, max=60.0), HTML(value='')))"
      ]
     },
     "metadata": {},
     "output_type": "display_data"
    },
    {
     "name": "stdout",
     "output_type": "stream",
     "text": [
      "\n"
     ]
    },
    {
     "data": {
      "application/vnd.jupyter.widget-view+json": {
       "model_id": "41956eb04ea04e30bdd955db13147b91",
       "version_major": 2,
       "version_minor": 0
      },
      "text/plain": [
       "HBox(children=(FloatProgress(value=0.0, max=15.0), HTML(value='')))"
      ]
     },
     "metadata": {},
     "output_type": "display_data"
    },
    {
     "name": "stdout",
     "output_type": "stream",
     "text": [
      "\n"
     ]
    },
    {
     "data": {
      "text/plain": [
       "Text(0.5, 1.0, \"evolution de l'erreur en fonction du nombre de points utilises pour le test\")"
      ]
     },
     "execution_count": 88,
     "metadata": {},
     "output_type": "execute_result"
    },
    {
     "data": {
      "image/png": "[encoded data removed]",
      "text/plain": [
       "<Figure size 432x288 with 1 Axes>"
      ]
     },
     "metadata": {
      "needs_background": "light"
     },
     "output_type": "display_data"
    },
    {
     "data": {
      "image/png": "[encoded data removed]",
      "text/plain": [
       "<Figure size 432x288 with 1 Axes>"
      ]
     },
     "metadata": {
      "needs_background": "light"
     },
     "output_type": "display_data"
    }
   ],
   "source": [
    "from scipy.spatial.distance import cosine, squareform\n",
    "\n",
    "def k_proches_voisins2(p, k, train_base):\n",
    "    \n",
    "    #distance = pds.DataFrame(columns=['distance'])\n",
    "    train_base = train_base.drop('variety', axis=1)\n",
    "    distance = train_base.apply(lambda row : cosine(p,row), axis=1)\n",
    "    distance = pds.DataFrame(distance, columns=['distance'])\n",
    "\n",
    "    return distance.nsmallest(k, 'distance').index\n",
    "\n",
    "def voisin_decision2(p, k, train_base):\n",
    "    \n",
    "    classe = np.array([])\n",
    "    for element in k_proches_voisins2(p, k, train_base):\n",
    "        classe = np.append(classe, train_base.variety.loc[element])\n",
    "\n",
    "    count = Counter(classe)\n",
    "    \n",
    "    return int(count.most_common(1)[0][0])\n",
    "\n",
    "    \n",
    "def erreur_voisin_prediction2(test_base, train_base, k):\n",
    "    \n",
    "    cpt=0\n",
    "    for i in range(test_base.shape[0]):\n",
    "        p = np.array(test_base[['sepal.length', 'sepal.width', 'petal.length', 'petal.width']].iloc[i])\n",
    "        if voisin_decision2(p, k, train_base) != test_base.variety.iloc[i] :\n",
    "            cpt+=1\n",
    "            \n",
    "    return cpt/test_base.shape[0]\n",
    "\n",
    "k_error2 = np.array([])\n",
    "\n",
    "for k in tqdm( range(1,test.shape[0]) ):\n",
    "    k_error2 = np.append(k_error2, erreur_voisin_prediction2(test, train, k))\n",
    "    \n",
    "plt.figure()\n",
    "plt.plot(k_error2)\n",
    "plt.title(\"evolution de l'erreur en fonction du nombre de voisins\")\n",
    "\n",
    "base_error2 = np.array([])\n",
    "test_pts = 1\n",
    "\n",
    "for i in tqdm( range(0, iris.shape[0]-1, 10) ):\n",
    "\n",
    "    index_split = np.split( iris.index, [int( test_pts )] )\n",
    "    train = iris.iloc[index_split[1]]\n",
    "    test = iris.iloc[index_split[0]]\n",
    "    base_error2 = np.append(base_error2, erreur_voisin_prediction2(test, train, 3))\n",
    "    test_pts += 10\n",
    "        \n",
    "plt.figure()\n",
    "plt.plot(base_error2)\n",
    "plt.title(\"evolution de l'erreur en fonction du nombre de points utilises pour le test\")"
   ]
  }
 ],
 "metadata": {
  "kernelspec": {
   "display_name": "Python 3",
   "language": "python",
   "name": "python3"
  },
  "language_info": {
   "codemirror_mode": {
    "name": "ipython",
    "version": 3
   },
   "file_extension": ".py",
   "mimetype": "text/x-python",
   "name": "python",
   "nbconvert_exporter": "python",
   "pygments_lexer": "ipython3",
   "version": "3.8.8"
  }
 },
 "nbformat": 4,
 "nbformat_minor": 4
}
