{
  "nbformat": 4,
  "nbformat_minor": 0,
  "metadata": {
    "colab": {
      "provenance": [],
      "collapsed_sections": []
    },
    "kernelspec": {
      "display_name": "Python 3",
      "name": "python3"
    },
    "language_info": {
      "codemirror_mode": {
        "name": "ipython",
        "version": 3
      },
      "file_extension": ".py",
      "mimetype": "text/x-python",
      "name": "python",
      "nbconvert_exporter": "python",
      "pygments_lexer": "ipython3",
      "version": "3.6.13"
    },
    "gpuClass": "standard"
  },
  "cells": [
    {
      "cell_type": "markdown",
      "metadata": {
        "id": "MuVouapRmjEW"
      },
      "source": [
        "# Hierarchical Attention Network Using GRU architecture in RNN for movies reviews classification\n",
        "\n",
        "\n",
        "### ***Charlotte Bredy-Maux & Kayané Robach***\n",
        "\n",
        "#### Etude de cas n°3 - 3ème année de Magistère d'Economiste Statisticien"
      ]
    },
    {
      "cell_type": "code",
      "metadata": {
        "id": "ogg6hkhFW8Jz",
        "colab": {
          "base_uri": "https://localhost:8080/"
        },
        "outputId": "e389b276-843a-4875-bb45-8044fc2bfb79"
      },
      "source": [
        "!pip install tensorflow==1.14\n",
        "!pip install keras==2.2.5\n",
        "\n",
        "!wget -c \"https://onedrive.live.com/download?cid=AE69638675180117&resid=AE69638675180117%2199289&authkey=AHgxt3xmgG0Fu5A\" -O \"data.zip\"\n",
        "!unzip data.zip"
      ],
      "execution_count": null,
      "outputs": [
        {
          "output_type": "stream",
          "name": "stdout",
          "text": [
            "Looking in indexes: https://pypi.org/simple, https://us-python.pkg.dev/colab-wheels/public/simple/\n",
            "Collecting tensorflow==1.14\n",
            "  Downloading tensorflow-1.14.0-cp37-cp37m-manylinux1_x86_64.whl (109.3 MB)\n",
            "\u001b[K     |████████████████████████████████| 109.3 MB 53 kB/s \n",
            "\u001b[?25hRequirement already satisfied: gast>=0.2.0 in /usr/local/lib/python3.7/dist-packages (from tensorflow==1.14) (0.5.3)\n",
            "Requirement already satisfied: termcolor>=1.1.0 in /usr/local/lib/python3.7/dist-packages (from tensorflow==1.14) (1.1.0)\n",
            "Collecting tensorflow-estimator<1.15.0rc0,>=1.14.0rc0\n",
            "  Downloading tensorflow_estimator-1.14.0-py2.py3-none-any.whl (488 kB)\n",
            "\u001b[K     |████████████████████████████████| 488 kB 47.8 MB/s \n",
            "\u001b[?25hRequirement already satisfied: absl-py>=0.7.0 in /usr/local/lib/python3.7/dist-packages (from tensorflow==1.14) (1.2.0)\n",
            "Requirement already satisfied: wrapt>=1.11.1 in /usr/local/lib/python3.7/dist-packages (from tensorflow==1.14) (1.14.1)\n",
            "Requirement already satisfied: astor>=0.6.0 in /usr/local/lib/python3.7/dist-packages (from tensorflow==1.14) (0.8.1)\n",
            "Requirement already satisfied: protobuf>=3.6.1 in /usr/local/lib/python3.7/dist-packages (from tensorflow==1.14) (3.17.3)\n",
            "Requirement already satisfied: grpcio>=1.8.6 in /usr/local/lib/python3.7/dist-packages (from tensorflow==1.14) (1.48.1)\n",
            "Collecting tensorboard<1.15.0,>=1.14.0\n",
            "  Downloading tensorboard-1.14.0-py3-none-any.whl (3.1 MB)\n",
            "\u001b[K     |████████████████████████████████| 3.1 MB 18.2 MB/s \n",
            "\u001b[?25hRequirement already satisfied: six>=1.10.0 in /usr/local/lib/python3.7/dist-packages (from tensorflow==1.14) (1.15.0)\n",
            "Requirement already satisfied: numpy<2.0,>=1.14.5 in /usr/local/lib/python3.7/dist-packages (from tensorflow==1.14) (1.21.6)\n",
            "Requirement already satisfied: google-pasta>=0.1.6 in /usr/local/lib/python3.7/dist-packages (from tensorflow==1.14) (0.2.0)\n",
            "Collecting keras-applications>=1.0.6\n",
            "  Downloading Keras_Applications-1.0.8-py3-none-any.whl (50 kB)\n",
            "\u001b[K     |████████████████████████████████| 50 kB 6.5 MB/s \n",
            "\u001b[?25hRequirement already satisfied: wheel>=0.26 in /usr/local/lib/python3.7/dist-packages (from tensorflow==1.14) (0.37.1)\n",
            "Requirement already satisfied: keras-preprocessing>=1.0.5 in /usr/local/lib/python3.7/dist-packages (from tensorflow==1.14) (1.1.2)\n",
            "Requirement already satisfied: h5py in /usr/local/lib/python3.7/dist-packages (from keras-applications>=1.0.6->tensorflow==1.14) (3.1.0)\n",
            "Requirement already satisfied: markdown>=2.6.8 in /usr/local/lib/python3.7/dist-packages (from tensorboard<1.15.0,>=1.14.0->tensorflow==1.14) (3.4.1)\n",
            "Requirement already satisfied: setuptools>=41.0.0 in /usr/local/lib/python3.7/dist-packages (from tensorboard<1.15.0,>=1.14.0->tensorflow==1.14) (57.4.0)\n",
            "Requirement already satisfied: werkzeug>=0.11.15 in /usr/local/lib/python3.7/dist-packages (from tensorboard<1.15.0,>=1.14.0->tensorflow==1.14) (1.0.1)\n",
            "Requirement already satisfied: importlib-metadata>=4.4 in /usr/local/lib/python3.7/dist-packages (from markdown>=2.6.8->tensorboard<1.15.0,>=1.14.0->tensorflow==1.14) (4.12.0)\n",
            "Requirement already satisfied: typing-extensions>=3.6.4 in /usr/local/lib/python3.7/dist-packages (from importlib-metadata>=4.4->markdown>=2.6.8->tensorboard<1.15.0,>=1.14.0->tensorflow==1.14) (4.1.1)\n",
            "Requirement already satisfied: zipp>=0.5 in /usr/local/lib/python3.7/dist-packages (from importlib-metadata>=4.4->markdown>=2.6.8->tensorboard<1.15.0,>=1.14.0->tensorflow==1.14) (3.8.1)\n",
            "Requirement already satisfied: cached-property in /usr/local/lib/python3.7/dist-packages (from h5py->keras-applications>=1.0.6->tensorflow==1.14) (1.5.2)\n",
            "Installing collected packages: tensorflow-estimator, tensorboard, keras-applications, tensorflow\n",
            "  Attempting uninstall: tensorflow-estimator\n",
            "    Found existing installation: tensorflow-estimator 2.8.0\n",
            "    Uninstalling tensorflow-estimator-2.8.0:\n",
            "      Successfully uninstalled tensorflow-estimator-2.8.0\n",
            "  Attempting uninstall: tensorboard\n",
            "    Found existing installation: tensorboard 2.8.0\n",
            "    Uninstalling tensorboard-2.8.0:\n",
            "      Successfully uninstalled tensorboard-2.8.0\n",
            "  Attempting uninstall: tensorflow\n",
            "    Found existing installation: tensorflow 2.8.2+zzzcolab20220719082949\n",
            "    Uninstalling tensorflow-2.8.2+zzzcolab20220719082949:\n",
            "      Successfully uninstalled tensorflow-2.8.2+zzzcolab20220719082949\n",
            "\u001b[31mERROR: pip's dependency resolver does not currently take into account all the packages that are installed. This behaviour is the source of the following dependency conflicts.\n",
            "kapre 0.3.7 requires tensorflow>=2.0.0, but you have tensorflow 1.14.0 which is incompatible.\u001b[0m\n",
            "Successfully installed keras-applications-1.0.8 tensorboard-1.14.0 tensorflow-1.14.0 tensorflow-estimator-1.14.0\n",
            "Looking in indexes: https://pypi.org/simple, https://us-python.pkg.dev/colab-wheels/public/simple/\n",
            "Collecting keras==2.2.5\n",
            "  Downloading Keras-2.2.5-py2.py3-none-any.whl (336 kB)\n",
            "\u001b[K     |████████████████████████████████| 336 kB 25.7 MB/s \n",
            "\u001b[?25hRequirement already satisfied: six>=1.9.0 in /usr/local/lib/python3.7/dist-packages (from keras==2.2.5) (1.15.0)\n",
            "Requirement already satisfied: pyyaml in /usr/local/lib/python3.7/dist-packages (from keras==2.2.5) (6.0)\n",
            "Requirement already satisfied: keras-applications>=1.0.8 in /usr/local/lib/python3.7/dist-packages (from keras==2.2.5) (1.0.8)\n",
            "Requirement already satisfied: numpy>=1.9.1 in /usr/local/lib/python3.7/dist-packages (from keras==2.2.5) (1.21.6)\n",
            "Requirement already satisfied: scipy>=0.14 in /usr/local/lib/python3.7/dist-packages (from keras==2.2.5) (1.7.3)\n",
            "Requirement already satisfied: h5py in /usr/local/lib/python3.7/dist-packages (from keras==2.2.5) (3.1.0)\n",
            "Requirement already satisfied: keras-preprocessing>=1.1.0 in /usr/local/lib/python3.7/dist-packages (from keras==2.2.5) (1.1.2)\n",
            "Requirement already satisfied: cached-property in /usr/local/lib/python3.7/dist-packages (from h5py->keras==2.2.5) (1.5.2)\n",
            "Installing collected packages: keras\n",
            "  Attempting uninstall: keras\n",
            "    Found existing installation: keras 2.8.0\n",
            "    Uninstalling keras-2.8.0:\n",
            "      Successfully uninstalled keras-2.8.0\n",
            "Successfully installed keras-2.2.5\n",
            "--2022-10-04 12:03:43--  https://onedrive.live.com/download?cid=AE69638675180117&resid=AE69638675180117%2199289&authkey=AHgxt3xmgG0Fu5A\n",
            "Resolving onedrive.live.com (onedrive.live.com)... 13.107.42.13\n",
            "Connecting to onedrive.live.com (onedrive.live.com)|13.107.42.13|:443... connected.\n",
            "HTTP request sent, awaiting response... 302 Found\n",
            "Location: https://vqtlqw.am.files.1drv.com/y4md2UlA1fG355jxzfUKQ5zXJrux2_QtuUsw1oiaxJ-qsoCJ44wSVxSUh68Oo8azgokILUWHS3hYNG3KTrexFbkxWXwIPMXsm6BJw4R4GYTMe534pYESpA3O1M8V0oURvAV7CC6HBk1ytvOyMMBpvWTlUioZminrC3DBLslBm0h5kV8Fsx0xz8atspGcAHaGc-IPNS_QYvWrI_8xvZh_qN0hQ/data.zip?download&psid=1 [following]\n",
            "--2022-10-04 12:03:43--  https://vqtlqw.am.files.1drv.com/y4md2UlA1fG355jxzfUKQ5zXJrux2_QtuUsw1oiaxJ-qsoCJ44wSVxSUh68Oo8azgokILUWHS3hYNG3KTrexFbkxWXwIPMXsm6BJw4R4GYTMe534pYESpA3O1M8V0oURvAV7CC6HBk1ytvOyMMBpvWTlUioZminrC3DBLslBm0h5kV8Fsx0xz8atspGcAHaGc-IPNS_QYvWrI_8xvZh_qN0hQ/data.zip?download&psid=1\n",
            "Resolving vqtlqw.am.files.1drv.com (vqtlqw.am.files.1drv.com)... 13.107.42.12\n",
            "Connecting to vqtlqw.am.files.1drv.com (vqtlqw.am.files.1drv.com)|13.107.42.12|:443... connected.\n",
            "HTTP request sent, awaiting response... 200 OK\n",
            "Length: 12650196 (12M) [application/zip]\n",
            "Saving to: ‘data.zip’\n",
            "\n",
            "data.zip            100%[===================>]  12.06M  7.78MB/s    in 1.6s    \n",
            "\n",
            "2022-10-04 12:03:47 (7.78 MB/s) - ‘data.zip’ saved [12650196/12650196]\n",
            "\n",
            "Archive:  data.zip\n",
            "   creating: data/\n",
            "  inflating: __MACOSX/._data         \n",
            "  inflating: data/labels_train.npy   \n",
            "  inflating: __MACOSX/data/._labels_train.npy  \n",
            "  inflating: data/docs_test.npy      \n",
            "  inflating: __MACOSX/data/._docs_test.npy  \n",
            "  inflating: data/labels_test.npy    \n",
            "  inflating: __MACOSX/data/._labels_test.npy  \n",
            "  inflating: data/word_to_index.json  \n",
            "  inflating: __MACOSX/data/._word_to_index.json  \n",
            "  inflating: data/docs_train.npy     \n",
            "  inflating: __MACOSX/data/._docs_train.npy  \n"
          ]
        }
      ]
    },
    {
      "cell_type": "markdown",
      "metadata": {
        "id": "xJaSJaIP1xRy"
      },
      "source": [
        "# Attention Layer"
      ]
    },
    {
      "cell_type": "code",
      "metadata": {
        "id": "MeXk--0rncj4"
      },
      "source": [
        "def dot_product(x, kernel):\n",
        "    if K.backend() == 'tensorflow':\n",
        "        return K.squeeze(K.dot(x, K.expand_dims(kernel)), axis=-1)\n",
        "    else:\n",
        "        return K.dot(x, kernel)"
      ],
      "execution_count": null,
      "outputs": []
    },
    {
      "cell_type": "code",
      "metadata": {
        "id": "yoM7H0KQncpF",
        "colab": {
          "base_uri": "https://localhost:8080/"
        },
        "outputId": "7663f1d7-b0cf-4ced-f651-146eed5e37b0"
      },
      "source": [
        "import keras.backend as K\n",
        "from keras.layers import Layer as Layer\n",
        "from keras import initializers, regularizers, constraints\n",
        "\n",
        "class AttentionWithContext(Layer):\n",
        "    \"\"\"\n",
        "    Follows the work of Yang et al. [https://cs.stanford.edu/~diyiy/docs/naacl16.pdf]\n",
        "    \"Hierarchical Attention Networks for Document Classification\"\n",
        "    by using a context vector to assist the attention\n",
        "    # Input shape\n",
        "        3D tensor with shape: `(samples, steps, features)`.\n",
        "    # Output shape\n",
        "        2D tensor with shape: `(samples, features)`.\n",
        "\n",
        "    To be put it on top of an RNN Layer (GRU) with return_sequences=True.\n",
        "    The dimensions are inferred based on the output shape of the RNN.\n",
        "    \"\"\"\n",
        "    \n",
        "    def __init__(self, return_coefficients=False,\n",
        "                 W_regularizer=None, u_regularizer=None, b_regularizer=None,\n",
        "                 W_constraint=None, u_constraint=None, b_constraint=None,\n",
        "                 bias=True, **kwargs):\n",
        "        self.supports_masking = True\n",
        "        self.return_coefficients = return_coefficients\n",
        "        self.init = initializers.get('glorot_uniform')\n",
        "        \n",
        "        self.W_regularizer = regularizers.get(W_regularizer)\n",
        "        self.u_regularizer = regularizers.get(u_regularizer)\n",
        "        self.b_regularizer = regularizers.get(b_regularizer)\n",
        "        \n",
        "        self.W_constraint = constraints.get(W_constraint)\n",
        "        self.u_constraint = constraints.get(u_constraint)\n",
        "        self.b_constraint = constraints.get(b_constraint)\n",
        "        \n",
        "        self.bias = bias\n",
        "        super(AttentionWithContext, self).__init__(**kwargs)\n",
        "    \n",
        "    def build(self, input_shape):\n",
        "        assert len(input_shape) == 3\n",
        "        \n",
        "        self.W = self.add_weight((input_shape[-1], input_shape[-1],),\n",
        "                                 initializer=self.init,\n",
        "                                 name='{}_W'.format(self.name),\n",
        "                                 regularizer=self.W_regularizer,\n",
        "                                 constraint=self.W_constraint)\n",
        "        if self.bias:\n",
        "            self.b = self.add_weight((input_shape[-1],),\n",
        "                                     initializer='zero',\n",
        "                                     name='{}_b'.format(self.name),\n",
        "                                     regularizer=self.b_regularizer,\n",
        "                                     constraint=self.b_constraint)\n",
        "        \n",
        "        self.u = self.add_weight((input_shape[-1],),\n",
        "                                 initializer=self.init,\n",
        "                                 name='{}_u'.format(self.name),\n",
        "                                 regularizer=self.u_regularizer,\n",
        "                                 constraint=self.u_constraint)\n",
        "        \n",
        "        super(AttentionWithContext, self).build(input_shape)\n",
        "    \n",
        "    def compute_mask(self, input, input_mask=None):\n",
        "        # do not pass the mask to the next layers\n",
        "        return None\n",
        "    \n",
        "    def call(self, x, mask=None):\n",
        "        uit = dot_product(x, self.W)\n",
        "        \n",
        "        if self.bias:\n",
        "            uit += self.b\n",
        "        \n",
        "        uit = K.tanh(uit)\n",
        "        ait = dot_product(uit, self.u)\n",
        "        \n",
        "        a = K.exp(ait)\n",
        "        \n",
        "        # apply mask after the exp. will be re-normalized next\n",
        "        if mask is not None:\n",
        "            # Cast the mask to floatX to avoid float64 upcasting in theano\n",
        "            a *= K.cast(mask, K.floatx())\n",
        "        \n",
        "        # in some cases especially in the early stages of training the sum may be almost zero\n",
        "        # and this results in NaN's. A workaround is to add a very small positive number ε to the sum.\n",
        "        a /= K.cast(K.sum(a, axis=1, keepdims=True) + K.epsilon(), K.floatx())\n",
        "        \n",
        "        a = K.expand_dims(a)\n",
        "\n",
        "        # compute the attentional vector\n",
        "        weighted_input = K.sum(a*x, axis = 1)\n",
        "        \n",
        "        if self.return_coefficients:\n",
        "          ### [attentional vector, coefficients] ###\n",
        "            return  [weighted_input, a]\n",
        "        else:\n",
        "          ### attentional vector only ###\n",
        "            return  weighted_input\n",
        "    \n",
        "    def compute_output_shape(self, input_shape):\n",
        "        if self.return_coefficients:\n",
        "            return [(input_shape[0], input_shape[-1]), (input_shape[0], input_shape[-1], 1)]\n",
        "        else:\n",
        "            return input_shape[0], input_shape[-1]"
      ],
      "execution_count": null,
      "outputs": [
        {
          "output_type": "stream",
          "name": "stderr",
          "text": [
            "Using TensorFlow backend.\n",
            "/usr/local/lib/python3.7/dist-packages/tensorflow/python/framework/dtypes.py:516: FutureWarning: Passing (type, 1) or '1type' as a synonym of type is deprecated; in a future version of numpy, it will be understood as (type, (1,)) / '(1,)type'.\n",
            "  _np_qint8 = np.dtype([(\"qint8\", np.int8, 1)])\n",
            "/usr/local/lib/python3.7/dist-packages/tensorflow/python/framework/dtypes.py:517: FutureWarning: Passing (type, 1) or '1type' as a synonym of type is deprecated; in a future version of numpy, it will be understood as (type, (1,)) / '(1,)type'.\n",
            "  _np_quint8 = np.dtype([(\"quint8\", np.uint8, 1)])\n",
            "/usr/local/lib/python3.7/dist-packages/tensorflow/python/framework/dtypes.py:518: FutureWarning: Passing (type, 1) or '1type' as a synonym of type is deprecated; in a future version of numpy, it will be understood as (type, (1,)) / '(1,)type'.\n",
            "  _np_qint16 = np.dtype([(\"qint16\", np.int16, 1)])\n",
            "/usr/local/lib/python3.7/dist-packages/tensorflow/python/framework/dtypes.py:519: FutureWarning: Passing (type, 1) or '1type' as a synonym of type is deprecated; in a future version of numpy, it will be understood as (type, (1,)) / '(1,)type'.\n",
            "  _np_quint16 = np.dtype([(\"quint16\", np.uint16, 1)])\n",
            "/usr/local/lib/python3.7/dist-packages/tensorflow/python/framework/dtypes.py:520: FutureWarning: Passing (type, 1) or '1type' as a synonym of type is deprecated; in a future version of numpy, it will be understood as (type, (1,)) / '(1,)type'.\n",
            "  _np_qint32 = np.dtype([(\"qint32\", np.int32, 1)])\n",
            "/usr/local/lib/python3.7/dist-packages/tensorflow/python/framework/dtypes.py:525: FutureWarning: Passing (type, 1) or '1type' as a synonym of type is deprecated; in a future version of numpy, it will be understood as (type, (1,)) / '(1,)type'.\n",
            "  np_resource = np.dtype([(\"resource\", np.ubyte, 1)])\n",
            "/usr/local/lib/python3.7/dist-packages/tensorboard/compat/tensorflow_stub/dtypes.py:541: FutureWarning: Passing (type, 1) or '1type' as a synonym of type is deprecated; in a future version of numpy, it will be understood as (type, (1,)) / '(1,)type'.\n",
            "  _np_qint8 = np.dtype([(\"qint8\", np.int8, 1)])\n",
            "/usr/local/lib/python3.7/dist-packages/tensorboard/compat/tensorflow_stub/dtypes.py:542: FutureWarning: Passing (type, 1) or '1type' as a synonym of type is deprecated; in a future version of numpy, it will be understood as (type, (1,)) / '(1,)type'.\n",
            "  _np_quint8 = np.dtype([(\"quint8\", np.uint8, 1)])\n",
            "/usr/local/lib/python3.7/dist-packages/tensorboard/compat/tensorflow_stub/dtypes.py:543: FutureWarning: Passing (type, 1) or '1type' as a synonym of type is deprecated; in a future version of numpy, it will be understood as (type, (1,)) / '(1,)type'.\n",
            "  _np_qint16 = np.dtype([(\"qint16\", np.int16, 1)])\n",
            "/usr/local/lib/python3.7/dist-packages/tensorboard/compat/tensorflow_stub/dtypes.py:544: FutureWarning: Passing (type, 1) or '1type' as a synonym of type is deprecated; in a future version of numpy, it will be understood as (type, (1,)) / '(1,)type'.\n",
            "  _np_quint16 = np.dtype([(\"quint16\", np.uint16, 1)])\n",
            "/usr/local/lib/python3.7/dist-packages/tensorboard/compat/tensorflow_stub/dtypes.py:545: FutureWarning: Passing (type, 1) or '1type' as a synonym of type is deprecated; in a future version of numpy, it will be understood as (type, (1,)) / '(1,)type'.\n",
            "  _np_qint32 = np.dtype([(\"qint32\", np.int32, 1)])\n",
            "/usr/local/lib/python3.7/dist-packages/tensorboard/compat/tensorflow_stub/dtypes.py:550: FutureWarning: Passing (type, 1) or '1type' as a synonym of type is deprecated; in a future version of numpy, it will be understood as (type, (1,)) / '(1,)type'.\n",
            "  np_resource = np.dtype([(\"resource\", np.ubyte, 1)])\n"
          ]
        }
      ]
    },
    {
      "cell_type": "markdown",
      "metadata": {
        "id": "AB-WOy4YHlsr"
      },
      "source": [
        "# Bidirectional GRU\n",
        "#### add a RNN-GRU layer and a bidirectional wrapper ###\n",
        "#### bidirectional: (https://keras.io/layers/wrappers/)\n",
        "#### GRU: (https://keras.io/layers/recurrent/)"
      ]
    },
    {
      "cell_type": "code",
      "metadata": {
        "id": "qoFkuGwNncwy"
      },
      "source": [
        "from keras.layers import Bidirectional, GRU\n",
        "\n",
        "def bidir_gru(my_seq,n_units):\n",
        "    '''A convenient wrapper for bidirectional RNN with GRU units.'''\n",
        "    return Bidirectional(layer = GRU(units=n_units, activation=\"tanh\", return_sequences=True), merge_mode = \"sum\")(my_seq)"
      ],
      "execution_count": null,
      "outputs": []
    },
    {
      "cell_type": "markdown",
      "metadata": {
        "id": "DgTP6GrOHlss"
      },
      "source": [
        "# Parameters"
      ]
    },
    {
      "cell_type": "code",
      "metadata": {
        "id": "czsVjxgYnczb"
      },
      "source": [
        "import sys\n",
        "import json\n",
        "import operator\n",
        "import numpy as np\n",
        "\n",
        "path_root = ''\n",
        "path_to_data = path_root + 'data/'\n",
        "\n",
        "d = 30 # dimensionality of word embeddings\n",
        "n_units = 50 # RNN layer dimensionality\n",
        "drop_rate = 0.5 # dropout\n",
        "mfw_idx = 2 # index of the most frequent words in the dictionary \n",
        "            # 0 is for the special padding token\n",
        "            # 1 is for the special out-of-vocabulary token\n",
        "\n",
        "padding_idx = 0\n",
        "oov_idx = 1\n",
        "batch_size = 32\n",
        "nb_epochs = 6\n",
        "my_optimizer = 'adam'\n",
        "my_patience = 2 # for early stopping strategy"
      ],
      "execution_count": null,
      "outputs": []
    },
    {
      "cell_type": "markdown",
      "metadata": {
        "id": "K8Vot_C7Hlst"
      },
      "source": [
        "# Data Loading"
      ]
    },
    {
      "cell_type": "code",
      "metadata": {
        "id": "UD6hRh0OHlst"
      },
      "source": [
        "my_docs_array_train = np.load(path_to_data + 'docs_train.npy')\n",
        "my_docs_array_test = np.load(path_to_data + 'docs_test.npy')\n",
        "\n",
        "my_labels_array_train = np.load(path_to_data + 'labels_train.npy')\n",
        "my_labels_array_test = np.load(path_to_data + 'labels_test.npy')\n",
        "\n",
        "# load dictionary of word indexes (sorted by decreasing frequency across the corpus)\n",
        "with open(path_to_data + 'word_to_index.json', 'r') as my_file:\n",
        "    word_to_index = json.load(my_file)\n",
        "\n",
        "# invert mapping\n",
        "index_to_word = dict((v,k) for k,v in word_to_index.items())"
      ],
      "execution_count": null,
      "outputs": []
    },
    {
      "cell_type": "code",
      "source": [
        "len(index_to_word)"
      ],
      "metadata": {
        "colab": {
          "base_uri": "https://localhost:8080/"
        },
        "id": "6tvgTCMIThxi",
        "outputId": "57c821f0-1d9b-4d25-ea87-32843573e637"
      },
      "execution_count": null,
      "outputs": [
        {
          "output_type": "execute_result",
          "data": {
            "text/plain": [
              "29936"
            ]
          },
          "metadata": {},
          "execution_count": 7
        }
      ]
    },
    {
      "cell_type": "code",
      "source": [
        "my_docs_array_train.shape"
      ],
      "metadata": {
        "colab": {
          "base_uri": "https://localhost:8080/"
        },
        "id": "dRSeRRGsxlCH",
        "outputId": "f70a1a73-65e3-419a-e0bd-2c5818c8f7fb"
      },
      "execution_count": null,
      "outputs": [
        {
          "output_type": "execute_result",
          "data": {
            "text/plain": [
              "(25000, 7, 30)"
            ]
          },
          "metadata": {},
          "execution_count": 8
        }
      ]
    },
    {
      "cell_type": "code",
      "source": [
        "my_labels_array_train.shape"
      ],
      "metadata": {
        "colab": {
          "base_uri": "https://localhost:8080/"
        },
        "id": "Sr0cqRgWxpPt",
        "outputId": "7044b676-021c-4147-d811-a67549b85c1a"
      },
      "execution_count": null,
      "outputs": [
        {
          "output_type": "execute_result",
          "data": {
            "text/plain": [
              "(25000,)"
            ]
          },
          "metadata": {},
          "execution_count": 9
        }
      ]
    },
    {
      "cell_type": "code",
      "source": [
        "my_docs_array_test.shape"
      ],
      "metadata": {
        "colab": {
          "base_uri": "https://localhost:8080/"
        },
        "id": "X7tTnDIyxm3r",
        "outputId": "bc4bbab1-5568-4343-8664-a3fb281501aa"
      },
      "execution_count": null,
      "outputs": [
        {
          "output_type": "execute_result",
          "data": {
            "text/plain": [
              "(25000, 7, 30)"
            ]
          },
          "metadata": {},
          "execution_count": 10
        }
      ]
    },
    {
      "cell_type": "code",
      "source": [
        "my_labels_array_test.shape"
      ],
      "metadata": {
        "colab": {
          "base_uri": "https://localhost:8080/"
        },
        "id": "6PfCYZxixsWn",
        "outputId": "b81b595c-adfb-4e21-e41d-9109c153eba4"
      },
      "execution_count": null,
      "outputs": [
        {
          "output_type": "execute_result",
          "data": {
            "text/plain": [
              "(25000,)"
            ]
          },
          "metadata": {},
          "execution_count": 11
        }
      ]
    },
    {
      "cell_type": "markdown",
      "metadata": {
        "id": "6rzqEGOdHlst"
      },
      "source": [
        "# Defining Architecture"
      ]
    },
    {
      "cell_type": "code",
      "metadata": {
        "id": "AMj9j1_pHlst",
        "colab": {
          "base_uri": "https://localhost:8080/"
        },
        "outputId": "8f1c7fea-fb91-4107-9c7b-e2c48f490220"
      },
      "source": [
        "from tensorflow.keras import layers\n",
        "from tensorflow import keras\n",
        "import tensorflow as tf\n",
        "\n",
        "from keras.models import Model\n",
        "from keras.layers import Input, Embedding, Dropout, TimeDistributed, Dense\n",
        "\n",
        "sent_ints = Input(shape=(my_docs_array_train.shape[2],)) # vec of ints of variable size\n",
        "\n",
        "sent_wv = Embedding(input_dim=len(index_to_word)+2, # vocab size\n",
        "                    output_dim=d, # dimensionality of embedding space\n",
        "                    input_length=my_docs_array_train.shape[2],\n",
        "                    trainable=True\n",
        "                    )(sent_ints)\n",
        "\n",
        "sent_wv_dr = Dropout(drop_rate)(sent_wv)\n",
        "\n",
        "# get the annotations for each word in the sent\n",
        "sent_wa = bidir_gru(sent_wv_dr, n_units)\n",
        "\n",
        "# get the attentional vector for the sentence\n",
        "sent_att_vec, word_att_coeffs = AttentionWithContext(return_coefficients=True)(sent_wa)\n",
        "sent_att_vec_dr = Dropout(drop_rate)(sent_att_vec)                      \n",
        "sent_encoder = Model(sent_ints,sent_att_vec_dr) # return att vector not coef\n",
        "\n",
        "doc_ints = Input(shape=(my_docs_array_train.shape[1],my_docs_array_train.shape[2],))\n",
        "# apply the sentence encoder model to each sentence in the document. Search for 'TimeDistributed' in https://keras.io/layers/wrappers/\n",
        "sent_att_vecs_dr = TimeDistributed(sent_encoder)(doc_ints)\n",
        "doc_sa = bidir_gru(sent_att_vecs_dr,n_units) # get annotations for each sent in the doc\n",
        "# get attentional vector for the doc\n",
        "doc_att_vec, sent_att_coeffs = AttentionWithContext(return_coefficients=True)(doc_sa)\n",
        "doc_att_vec_dr = Dropout(drop_rate)(doc_att_vec)\n",
        "                  \n",
        "preds = Dense(units=1,\n",
        "              activation='sigmoid')(doc_att_vec_dr)\n",
        "\n",
        "model = Model(doc_ints,preds)\n",
        "\n",
        "model.compile(loss='binary_crossentropy',\n",
        "              optimizer = my_optimizer,\n",
        "              metrics = ['accuracy'])\n",
        "\n",
        "print('model compiled')"
      ],
      "execution_count": null,
      "outputs": [
        {
          "output_type": "stream",
          "name": "stderr",
          "text": [
            "WARNING:tensorflow:From /usr/local/lib/python3.7/dist-packages/keras/backend/tensorflow_backend.py:66: The name tf.get_default_graph is deprecated. Please use tf.compat.v1.get_default_graph instead.\n",
            "\n",
            "WARNING:tensorflow:From /usr/local/lib/python3.7/dist-packages/keras/backend/tensorflow_backend.py:541: The name tf.placeholder is deprecated. Please use tf.compat.v1.placeholder instead.\n",
            "\n",
            "WARNING:tensorflow:From /usr/local/lib/python3.7/dist-packages/keras/backend/tensorflow_backend.py:4432: The name tf.random_uniform is deprecated. Please use tf.random.uniform instead.\n",
            "\n",
            "WARNING:tensorflow:From /usr/local/lib/python3.7/dist-packages/keras/backend/tensorflow_backend.py:148: The name tf.placeholder_with_default is deprecated. Please use tf.compat.v1.placeholder_with_default instead.\n",
            "\n",
            "WARNING:tensorflow:From /usr/local/lib/python3.7/dist-packages/keras/backend/tensorflow_backend.py:3733: calling dropout (from tensorflow.python.ops.nn_ops) with keep_prob is deprecated and will be removed in a future version.\n",
            "Instructions for updating:\n",
            "Please use `rate` instead of `keep_prob`. Rate should be set to `rate = 1 - keep_prob`.\n",
            "WARNING:tensorflow:From /usr/local/lib/python3.7/dist-packages/keras/optimizers.py:793: The name tf.train.Optimizer is deprecated. Please use tf.compat.v1.train.Optimizer instead.\n",
            "\n",
            "WARNING:tensorflow:From /usr/local/lib/python3.7/dist-packages/keras/backend/tensorflow_backend.py:3657: The name tf.log is deprecated. Please use tf.math.log instead.\n",
            "\n",
            "WARNING:tensorflow:From /usr/local/lib/python3.7/dist-packages/tensorflow/python/ops/nn_impl.py:180: add_dispatch_support.<locals>.wrapper (from tensorflow.python.ops.array_ops) is deprecated and will be removed in a future version.\n",
            "Instructions for updating:\n",
            "Use tf.where in 2.0, which has the same broadcast rule as np.where\n"
          ]
        },
        {
          "output_type": "stream",
          "name": "stdout",
          "text": [
            "model compiled\n"
          ]
        }
      ]
    },
    {
      "cell_type": "markdown",
      "metadata": {
        "id": "sgreR5AcHlst"
      },
      "source": [
        "# Training"
      ]
    },
    {
      "cell_type": "code",
      "metadata": {
        "id": "rbW_vheGHlst",
        "colab": {
          "base_uri": "https://localhost:8080/"
        },
        "outputId": "d834be44-545f-4870-dabe-93e26f6df1a0"
      },
      "source": [
        "from keras.callbacks import EarlyStopping, ModelCheckpoint\n",
        "\n",
        "loading_pretrained = False\n",
        "\n",
        "if not loading_pretrained:\n",
        "\n",
        "    early_stopping = EarlyStopping(monitor='val_acc',\n",
        "                                   patience= my_patience,\n",
        "                                   mode='max')\n",
        "    \n",
        "    # save model corresponding to best epoch\n",
        "    checkpointer = ModelCheckpoint(filepath=path_to_data + 'model', \n",
        "                                   verbose=1, \n",
        "                                   save_best_only=True,\n",
        "                                   save_weights_only=True)\n",
        "    \n",
        "    # 200s/epoch on CPU - reaches 84.38% accuracy in 2 epochs\n",
        "\n",
        "    # call the .fit() method on your model with the arguments: \n",
        "    # my_docs_array_train, my_labels_array_train, batch_size, nb_epochs, my_docs_array_test, my_labels_array_test, early_stopping\n",
        "    # look at: https://keras.io/models/sequential/#fit\n",
        "\n",
        "    history = model.fit(x = my_docs_array_train, \n",
        "              y = my_labels_array_train, \n",
        "              batch_size = batch_size, \n",
        "              epochs=nb_epochs, \n",
        "              validation_data = (my_docs_array_test, my_labels_array_test), \n",
        "              callbacks = [early_stopping, checkpointer]) # checkpointer\n",
        "    \n",
        "    plt.plot(history.history['accuracy'])\n",
        "    plt.plot(history.history['val_accuracy'])\n",
        "    plt.title('model accuracy')\n",
        "    plt.ylabel('accuracy')\n",
        "    plt.xlabel('epoch')\n",
        "    plt.legend(['train', 'test'], loc='upper left')\n",
        "    plt.show();\n",
        "\n",
        "    plt.plot(history.history['loss'])\n",
        "    plt.plot(history.history['val_loss'])\n",
        "    plt.title('model loss')\n",
        "    plt.ylabel('loss')\n",
        "    plt.xlabel('epoch')\n",
        "    plt.legend(['train', 'test'], loc='upper left')\n",
        "    plt.show();\n",
        "\n",
        "else:\n",
        "    model.load_weights(path_to_data + 'model')"
      ],
      "execution_count": null,
      "outputs": [
        {
          "output_type": "stream",
          "name": "stdout",
          "text": [
            "Train on 25000 samples, validate on 25000 samples\n",
            "Epoch 1/6\n",
            "25000/25000 [==============================] - 112s 4ms/step - loss: 0.2689 - acc: 0.8923 - val_loss: 0.3789 - val_acc: 0.8378\n",
            "\n",
            "Epoch 00001: val_loss improved from inf to 0.37894, saving model to data/model\n",
            "Epoch 2/6\n",
            "25000/25000 [==============================] - 123s 5ms/step - loss: 0.1916 - acc: 0.9276 - val_loss: 0.4469 - val_acc: 0.8154\n",
            "\n",
            "Epoch 00002: val_loss did not improve from 0.37894\n",
            "Epoch 3/6\n",
            "24992/25000 [============================>.] - ETA: 0s - loss: 0.1389 - acc: 0.9489"
          ]
        }
      ]
    },
    {
      "cell_type": "code",
      "source": [
        "from keras.utils.vis_utils import plot_model\n",
        "plot_model(model, to_file='model_plot.png', show_shapes=True, show_layer_names=True)"
      ],
      "metadata": {
        "colab": {
          "base_uri": "https://localhost:8080/",
          "height": 644
        },
        "id": "HxyzLdno7iAz",
        "outputId": "2566bc8e-0680-44c4-ed40-dcc8f019fb64"
      },
      "execution_count": null,
      "outputs": [
        {
          "output_type": "execute_result",
          "data": {
            "image/png": "[encoded data removed]",
            "text/plain": [
              "<IPython.core.display.Image object>"
            ]
          },
          "metadata": {},
          "execution_count": 15
        }
      ]
    },
    {
      "cell_type": "code",
      "source": [
        "## Making predictions on our model\n",
        "prediction = model.predict(my_docs_array_test)\n",
        "y_pred = (prediction > 0.5)\n",
        "\n",
        "from sklearn import metrics\n",
        "\n",
        "metrics.f1_score(my_labels_array_test, y_pred)"
      ],
      "metadata": {
        "colab": {
          "base_uri": "https://localhost:8080/"
        },
        "id": "XAXD-Q0dreVR",
        "outputId": "2cc11046-b959-4f16-a742-c42ffb7d6a5c"
      },
      "execution_count": null,
      "outputs": [
        {
          "output_type": "execute_result",
          "data": {
            "text/plain": [
              "0.8285192240407417"
            ]
          },
          "metadata": {},
          "execution_count": 16
        }
      ]
    },
    {
      "cell_type": "code",
      "source": [
        "## Plotting the results\n",
        "from sklearn.metrics import roc_curve\n",
        "from matplotlib import pyplot as plt\n",
        "fpr_keras, tpr_keras, thresholds_keras = roc_curve(my_labels_array_test, y_pred)\n",
        "from sklearn.metrics import auc\n",
        "auc_keras = auc(fpr_keras, tpr_keras)\n",
        "plt.figure()\n",
        "plt.plot([0, 1], [0, 1], 'k--')\n",
        "plt.plot(fpr_keras, tpr_keras, label='AUC (area = {:.3f})'.format(auc_keras))\n",
        "plt.xlabel('False positive rate')\n",
        "plt.ylabel('True positive rate')\n",
        "plt.title('ROC curve')\n",
        "plt.legend()\n",
        "plt.show();"
      ],
      "metadata": {
        "colab": {
          "base_uri": "https://localhost:8080/",
          "height": 295
        },
        "id": "jS_71hcZZ_ap",
        "outputId": "557ffe61-ab53-4a6f-b53e-daef160b5b38"
      },
      "execution_count": null,
      "outputs": [
        {
          "output_type": "display_data",
          "data": {
            "text/plain": [
              "<Figure size 432x288 with 1 Axes>"
            ],
            "image/png": "[encoded data removed]"
          },
          "metadata": {
            "needs_background": "light"
          }
        }
      ]
    },
    {
      "cell_type": "code",
      "source": [
        "import seaborn as sns\n",
        "import matplotlib\n",
        "\n",
        "# Get and reshape confusion matrix data\n",
        "matrix=metrics.confusion_matrix(my_labels_array_test, y_pred, labels=[0, 1])\n",
        "matrix=matrix.astype('float') / matrix.sum(axis=1)[:, np.newaxis]\n",
        "\n",
        "# Build the plot\n",
        "plt.figure(figsize=(16,7))\n",
        "sns.set(font_scale=1.4)\n",
        "sns.heatmap(matrix, annot=True, annot_kws={'size':10}, cmap=matplotlib.cm.get_cmap('Oranges'), linewidths=0.2)\n",
        "\n",
        "# Add labels to the plot\n",
        "class_names = ['Negative', 'Positive']\n",
        "tick_marks = np.arange(len(class_names)) + 0.5\n",
        "plt.xticks(tick_marks, class_names, rotation=0)\n",
        "plt.yticks(tick_marks, class_names, rotation=0)\n",
        "plt.xlabel('Predicted label')\n",
        "plt.ylabel('True label')\n",
        "plt.title(f'Confusion Matrix for reviews classification')\n",
        "plt.show()"
      ],
      "metadata": {
        "colab": {
          "base_uri": "https://localhost:8080/",
          "height": 478
        },
        "id": "S-XkmNpetBv_",
        "outputId": "055d597e-3bc6-4876-9976-fbdfc122de94"
      },
      "execution_count": null,
      "outputs": [
        {
          "output_type": "display_data",
          "data": {
            "text/plain": [
              "<Figure size 1152x504 with 2 Axes>"
            ],
            "image/png": "[encoded data removed]"
          },
          "metadata": {
            "needs_background": "light"
          }
        }
      ]
    },
    {
      "cell_type": "markdown",
      "metadata": {
        "id": "Dvyr8B5QHlst"
      },
      "source": [
        "# Extraction of Attention Coefficients"
      ]
    },
    {
      "cell_type": "code",
      "source": [
        "my_review = my_docs_array_test[0:,:,:] # select last review"
      ],
      "metadata": {
        "id": "YP07GimgZ4VZ"
      },
      "execution_count": null,
      "outputs": []
    },
    {
      "cell_type": "code",
      "source": [
        "index_to_word[1] = 'OOV'\n",
        "my_review_text = [[index_to_word[idx] for idx in sent if idx in index_to_word] for sent in my_review.tolist()[0]]"
      ],
      "metadata": {
        "id": "fwHcg9wQZ7r0"
      },
      "execution_count": null,
      "outputs": []
    },
    {
      "cell_type": "code",
      "source": [
        "my_review_text"
      ],
      "metadata": {
        "colab": {
          "base_uri": "https://localhost:8080/"
        },
        "id": "s7nQnkBjZ9YJ",
        "outputId": "bc8a687f-5891-4a11-8853-127ef264ada4"
      },
      "execution_count": null,
      "outputs": [
        {
          "output_type": "execute_result",
          "data": {
            "text/plain": [
              "[['this',\n",
              "  'movie',\n",
              "  'gets',\n",
              "  'a',\n",
              "  '10',\n",
              "  'because',\n",
              "  'there',\n",
              "  'is',\n",
              "  'a',\n",
              "  'lot',\n",
              "  'of',\n",
              "  'gore',\n",
              "  'in',\n",
              "  'OOV',\n",
              "  'cares',\n",
              "  'about',\n",
              "  'the',\n",
              "  'plot',\n",
              "  'or',\n",
              "  'the',\n",
              "  'OOV',\n",
              "  'is',\n",
              "  'an',\n",
              "  'Italian',\n",
              "  'horror',\n",
              "  'movie',\n",
              "  'people',\n",
              "  'so',\n",
              "  'you',\n",
              "  'know'],\n",
              " [],\n",
              " [],\n",
              " [],\n",
              " [],\n",
              " [],\n",
              " []]"
            ]
          },
          "metadata": {},
          "execution_count": 22
        }
      ]
    },
    {
      "cell_type": "code",
      "metadata": {
        "id": "UVr8cS4MHlst"
      },
      "source": [
        "from keras.models import Model\n",
        "# define intermediate models\n",
        "\n",
        "get_word_att_coeffs = Model(sent_ints, word_att_coeffs)\n",
        "# attention coeffs over the words in a sent\n",
        "\n",
        "get_sent_attention_coeffs = Model(doc_ints, sent_att_coeffs)\n",
        "# attention coeffs over the sents in the doc\n",
        "\n",
        "my_review = my_docs_array_test[-1:,:,:] # select last review\n",
        "# convert integer review to text\n",
        "index_to_word[1] = 'OOV'\n",
        "my_review_text = [[index_to_word[idx] for idx in sent if idx in index_to_word] for sent in my_review.tolist()[0]]"
      ],
      "execution_count": null,
      "outputs": []
    },
    {
      "cell_type": "markdown",
      "source": [
        "# Exemple of sentence encoding (preprocessing)"
      ],
      "metadata": {
        "id": "ymU6Tpbv3TWk"
      }
    },
    {
      "cell_type": "code",
      "source": [
        "my_docs_array_test[-1:,:,:][0][1]"
      ],
      "metadata": {
        "colab": {
          "base_uri": "https://localhost:8080/"
        },
        "id": "YAa-OjA7J0ud",
        "outputId": "7691f2bf-fa8e-4327-985a-e0d014c6265f"
      },
      "execution_count": null,
      "outputs": [
        {
          "output_type": "execute_result",
          "data": {
            "text/plain": [
              "array([1623,   63,   14,    6,  100,  869,    7,   97,   13,  856,   84,\n",
              "         31,   92,    2,  236,    7,   15,   20,    3,   11,  283,   46,\n",
              "          8, 7216,   82, 3013,    7,  184,    2,  128])"
            ]
          },
          "metadata": {},
          "execution_count": 24
        }
      ]
    },
    {
      "cell_type": "code",
      "source": [
        "print(my_review_text[1][:11])\n",
        "print(my_review_text[1][11:22])\n",
        "print(my_review_text[1][22:])"
      ],
      "metadata": {
        "colab": {
          "base_uri": "https://localhost:8080/"
        },
        "id": "KmsJlJc0HXqc",
        "outputId": "57db1c48-ba42-473a-a02b-b0ed11f053f3"
      },
      "execution_count": null,
      "outputs": [
        {
          "output_type": "stream",
          "name": "stdout",
          "text": [
            "['Since', 'there', \"'s\", 'a', 'great', 'deal', 'of', 'people', 'that', 'apparently', 'did']\n",
            "['not', 'get', 'the', 'point', 'of', 'this', 'movie', ',', 'I', \"'d\", 'like']\n",
            "['to', 'contribute', 'my', 'interpretation', 'of', 'why', 'the', 'plot']\n"
          ]
        }
      ]
    },
    {
      "cell_type": "markdown",
      "metadata": {
        "id": "wHDJ7JiqHlsu"
      },
      "source": [
        "# Attention Over Sentences in the Document"
      ]
    },
    {
      "cell_type": "code",
      "metadata": {
        "id": "yooWg3kkHlsu",
        "colab": {
          "base_uri": "https://localhost:8080/"
        },
        "outputId": "e86b780d-52a7-48ed-b40e-2f45c055d17a"
      },
      "source": [
        "sent_coeffs = get_sent_attention_coeffs.predict(my_review)\n",
        "sent_coeffs = sent_coeffs[0,:,:]\n",
        "\n",
        "for elt in zip(sent_coeffs[:,0].tolist(),[' '.join(elt) for elt in my_review_text]):\n",
        "    print(round(elt[0]*100,2),elt[1])"
      ],
      "execution_count": null,
      "outputs": [
        {
          "output_type": "stream",
          "name": "stdout",
          "text": [
            "15.62 There 's a sign on The Lost Highway that says : OOV SPOILERS OOV ( but you already knew that , did n't you ? )\n",
            "19.74 Since there 's a great deal of people that apparently did not get the point of this movie , I 'd like to contribute my interpretation of why the plot\n",
            "17.47 As others have pointed out , one single viewing of this movie is not sufficient .\n",
            "23.32 If you have the DVD of MD , you can OOV ' by looking at David Lynch 's 'Top 10 OOV to OOV MD ' ( but only upon second\n",
            "10.97 ; ) First of all , Mulholland Drive is downright brilliant .\n",
            "8.72 A masterpiece .\n",
            "4.16 This is the kind of movie that refuse to leave your head .\n"
          ]
        }
      ]
    },
    {
      "cell_type": "markdown",
      "metadata": {
        "id": "rII-DNrKHlsu"
      },
      "source": [
        "# Attention Over Words in Each Sentence"
      ]
    },
    {
      "cell_type": "code",
      "metadata": {
        "id": "JyFjAga6Hlsu",
        "colab": {
          "base_uri": "https://localhost:8080/"
        },
        "outputId": "c3c0db46-f387-4c6a-c0fb-56a95cd70596"
      },
      "source": [
        "from keras.backend.tensorflow_backend import _to_tensor\n",
        "\n",
        "my_review_tensor = _to_tensor(my_review,dtype='float32') # a layer, unlike a model, requires a TensorFlow tensor as input\n",
        "\n",
        "# get the word attentional coefficients for each sentence in the document\n",
        "word_coeffs = TimeDistributed(get_word_att_coeffs)(my_review_tensor) # apply the model on each sentence of my review\n",
        "\n",
        "word_coeffs = K.eval(word_coeffs) # shape = (1, 7, 30, 1): (batch size, nb of sents in doc, nb of words per sent, coeff)\n",
        "word_coeffs = word_coeffs[0,:,:,0] # shape = (7, 30) (coeff for each word in each sentence)\n",
        "word_coeffs = sent_coeffs * word_coeffs # re-weight by sentence importance\n",
        "word_coeffs = np.round((word_coeffs*100).astype(np.float64),2)\n",
        "\n",
        "word_coeffs_list = word_coeffs.tolist()\n",
        "\n",
        "# match text and coefficients\n",
        "text_word_coeffs = [list(zip(words,word_coeffs_list[idx][:len(words)])) for idx,words in enumerate(my_review_text)]\n",
        "\n",
        "for sent in text_word_coeffs:\n",
        "    [print(elt) for elt in sent]  \n",
        "    print('= = = =')\n",
        "\n",
        "# sort words by importance within each sentence\n",
        "text_word_coeffs_sorted = [sorted(elt,key=operator.itemgetter(1),reverse=True) for elt in text_word_coeffs]\n",
        "\n",
        "for sent in text_word_coeffs_sorted:\n",
        "    [print(elt) for elt in sent]\n",
        "    print('= = = =')\n",
        "\n",
        "# repeat with projection onto [0,1] TODO\n",
        "text_word_coeffs_sorted = [sorted(elt,key=operator.itemgetter(1),reverse=True) for elt in text_word_coeffs]\n",
        "\n",
        "for sent in text_word_coeffs_sorted:\n",
        "    [print(elt) for elt in sent]\n",
        "    print('= = = =')"
      ],
      "execution_count": null,
      "outputs": [
        {
          "output_type": "stream",
          "name": "stdout",
          "text": [
            "('There', 0.06)\n",
            "(\"'s\", 0.07)\n",
            "('a', 0.1)\n",
            "('sign', 0.04)\n",
            "('on', 0.08)\n",
            "('The', 0.13)\n",
            "('Lost', 2.11)\n",
            "('Highway', 3.15)\n",
            "('that', 1.31)\n",
            "('says', 0.62)\n",
            "(':', 0.26)\n",
            "('OOV', 0.22)\n",
            "('SPOILERS', 0.13)\n",
            "('OOV', 0.13)\n",
            "('(', 0.13)\n",
            "('but', 0.2)\n",
            "('you', 0.57)\n",
            "('already', 0.31)\n",
            "('knew', 0.65)\n",
            "('that', 0.65)\n",
            "(',', 0.85)\n",
            "('did', 0.84)\n",
            "(\"n't\", 0.37)\n",
            "('you', 0.74)\n",
            "('?', 0.58)\n",
            "(')', 0.74)\n",
            "= = = =\n",
            "('Since', 0.34)\n",
            "('there', 0.38)\n",
            "(\"'s\", 0.32)\n",
            "('a', 0.51)\n",
            "('great', 5.4)\n",
            "('deal', 3.82)\n",
            "('of', 1.89)\n",
            "('people', 1.22)\n",
            "('that', 0.85)\n",
            "('apparently', 0.8)\n",
            "('did', 0.59)\n",
            "('not', 0.16)\n",
            "('get', 0.15)\n",
            "('the', 0.13)\n",
            "('point', 0.13)\n",
            "('of', 0.16)\n",
            "('this', 0.27)\n",
            "('movie', 0.47)\n",
            "(',', 0.44)\n",
            "('I', 0.43)\n",
            "(\"'d\", 0.28)\n",
            "('like', 0.17)\n",
            "('to', 0.15)\n",
            "('contribute', 0.12)\n",
            "('my', 0.18)\n",
            "('interpretation', 0.17)\n",
            "('of', 0.08)\n",
            "('why', 0.03)\n",
            "('the', 0.04)\n",
            "('plot', 0.04)\n",
            "= = = =\n",
            "('As', 1.45)\n",
            "('others', 1.01)\n",
            "('have', 0.62)\n",
            "('pointed', 0.53)\n",
            "('out', 0.29)\n",
            "(',', 0.3)\n",
            "('one', 0.46)\n",
            "('single', 0.41)\n",
            "('viewing', 1.43)\n",
            "('of', 0.6)\n",
            "('this', 1.04)\n",
            "('movie', 1.9)\n",
            "('is', 3.39)\n",
            "('not', 1.91)\n",
            "('sufficient', 1.2)\n",
            "('.', 0.43)\n",
            "= = = =\n",
            "('If', 0.06)\n",
            "('you', 0.06)\n",
            "('have', 0.03)\n",
            "('the', 0.05)\n",
            "('DVD', 0.19)\n",
            "('of', 0.09)\n",
            "('MD', 0.29)\n",
            "(',', 0.18)\n",
            "('you', 0.24)\n",
            "('can', 0.18)\n",
            "('OOV', 0.14)\n",
            "(\"'\", 0.1)\n",
            "('by', 0.09)\n",
            "('looking', 0.14)\n",
            "('at', 0.21)\n",
            "('David', 0.49)\n",
            "('Lynch', 0.68)\n",
            "(\"'s\", 1.01)\n",
            "(\"'Top\", 3.86)\n",
            "('10', 2.51)\n",
            "('OOV', 1.93)\n",
            "('to', 1.8)\n",
            "('OOV', 1.33)\n",
            "('MD', 3.06)\n",
            "(\"'\", 1.39)\n",
            "('(', 0.88)\n",
            "('but', 0.99)\n",
            "('only', 0.73)\n",
            "('upon', 0.41)\n",
            "('second', 0.19)\n",
            "= = = =\n",
            "(';', 0.32)\n",
            "(')', 0.4)\n",
            "('First', 0.24)\n",
            "('of', 0.23)\n",
            "('all', 0.15)\n",
            "(',', 0.22)\n",
            "('Mulholland', 0.39)\n",
            "('Drive', 0.28)\n",
            "('is', 0.92)\n",
            "('downright', 0.31)\n",
            "('brilliant', 6.14)\n",
            "('.', 0.68)\n",
            "= = = =\n",
            "('A', 0.47)\n",
            "('masterpiece', 6.71)\n",
            "('.', 0.78)\n",
            "= = = =\n",
            "('This', 0.17)\n",
            "('is', 0.67)\n",
            "('the', 0.95)\n",
            "('kind', 0.24)\n",
            "('of', 0.21)\n",
            "('movie', 0.3)\n",
            "('that', 0.15)\n",
            "('refuse', 0.29)\n",
            "('to', 0.36)\n",
            "('leave', 0.32)\n",
            "('your', 0.25)\n",
            "('head', 0.14)\n",
            "('.', 0.04)\n",
            "= = = =\n",
            "('Highway', 3.15)\n",
            "('Lost', 2.11)\n",
            "('that', 1.31)\n",
            "(',', 0.85)\n",
            "('did', 0.84)\n",
            "('you', 0.74)\n",
            "(')', 0.74)\n",
            "('knew', 0.65)\n",
            "('that', 0.65)\n",
            "('says', 0.62)\n",
            "('?', 0.58)\n",
            "('you', 0.57)\n",
            "(\"n't\", 0.37)\n",
            "('already', 0.31)\n",
            "(':', 0.26)\n",
            "('OOV', 0.22)\n",
            "('but', 0.2)\n",
            "('The', 0.13)\n",
            "('SPOILERS', 0.13)\n",
            "('OOV', 0.13)\n",
            "('(', 0.13)\n",
            "('a', 0.1)\n",
            "('on', 0.08)\n",
            "(\"'s\", 0.07)\n",
            "('There', 0.06)\n",
            "('sign', 0.04)\n",
            "= = = =\n",
            "('great', 5.4)\n",
            "('deal', 3.82)\n",
            "('of', 1.89)\n",
            "('people', 1.22)\n",
            "('that', 0.85)\n",
            "('apparently', 0.8)\n",
            "('did', 0.59)\n",
            "('a', 0.51)\n",
            "('movie', 0.47)\n",
            "(',', 0.44)\n",
            "('I', 0.43)\n",
            "('there', 0.38)\n",
            "('Since', 0.34)\n",
            "(\"'s\", 0.32)\n",
            "(\"'d\", 0.28)\n",
            "('this', 0.27)\n",
            "('my', 0.18)\n",
            "('like', 0.17)\n",
            "('interpretation', 0.17)\n",
            "('not', 0.16)\n",
            "('of', 0.16)\n",
            "('get', 0.15)\n",
            "('to', 0.15)\n",
            "('the', 0.13)\n",
            "('point', 0.13)\n",
            "('contribute', 0.12)\n",
            "('of', 0.08)\n",
            "('the', 0.04)\n",
            "('plot', 0.04)\n",
            "('why', 0.03)\n",
            "= = = =\n",
            "('is', 3.39)\n",
            "('not', 1.91)\n",
            "('movie', 1.9)\n",
            "('As', 1.45)\n",
            "('viewing', 1.43)\n",
            "('sufficient', 1.2)\n",
            "('this', 1.04)\n",
            "('others', 1.01)\n",
            "('have', 0.62)\n",
            "('of', 0.6)\n",
            "('pointed', 0.53)\n",
            "('one', 0.46)\n",
            "('.', 0.43)\n",
            "('single', 0.41)\n",
            "(',', 0.3)\n",
            "('out', 0.29)\n",
            "= = = =\n",
            "(\"'Top\", 3.86)\n",
            "('MD', 3.06)\n",
            "('10', 2.51)\n",
            "('OOV', 1.93)\n",
            "('to', 1.8)\n",
            "(\"'\", 1.39)\n",
            "('OOV', 1.33)\n",
            "(\"'s\", 1.01)\n",
            "('but', 0.99)\n",
            "('(', 0.88)\n",
            "('only', 0.73)\n",
            "('Lynch', 0.68)\n",
            "('David', 0.49)\n",
            "('upon', 0.41)\n",
            "('MD', 0.29)\n",
            "('you', 0.24)\n",
            "('at', 0.21)\n",
            "('DVD', 0.19)\n",
            "('second', 0.19)\n",
            "(',', 0.18)\n",
            "('can', 0.18)\n",
            "('OOV', 0.14)\n",
            "('looking', 0.14)\n",
            "(\"'\", 0.1)\n",
            "('of', 0.09)\n",
            "('by', 0.09)\n",
            "('If', 0.06)\n",
            "('you', 0.06)\n",
            "('the', 0.05)\n",
            "('have', 0.03)\n",
            "= = = =\n",
            "('brilliant', 6.14)\n",
            "('is', 0.92)\n",
            "('.', 0.68)\n",
            "(')', 0.4)\n",
            "('Mulholland', 0.39)\n",
            "(';', 0.32)\n",
            "('downright', 0.31)\n",
            "('Drive', 0.28)\n",
            "('First', 0.24)\n",
            "('of', 0.23)\n",
            "(',', 0.22)\n",
            "('all', 0.15)\n",
            "= = = =\n",
            "('masterpiece', 6.71)\n",
            "('.', 0.78)\n",
            "('A', 0.47)\n",
            "= = = =\n",
            "('the', 0.95)\n",
            "('is', 0.67)\n",
            "('to', 0.36)\n",
            "('leave', 0.32)\n",
            "('movie', 0.3)\n",
            "('refuse', 0.29)\n",
            "('your', 0.25)\n",
            "('kind', 0.24)\n",
            "('of', 0.21)\n",
            "('This', 0.17)\n",
            "('that', 0.15)\n",
            "('head', 0.14)\n",
            "('.', 0.04)\n",
            "= = = =\n",
            "('Highway', 3.15)\n",
            "('Lost', 2.11)\n",
            "('that', 1.31)\n",
            "(',', 0.85)\n",
            "('did', 0.84)\n",
            "('you', 0.74)\n",
            "(')', 0.74)\n",
            "('knew', 0.65)\n",
            "('that', 0.65)\n",
            "('says', 0.62)\n",
            "('?', 0.58)\n",
            "('you', 0.57)\n",
            "(\"n't\", 0.37)\n",
            "('already', 0.31)\n",
            "(':', 0.26)\n",
            "('OOV', 0.22)\n",
            "('but', 0.2)\n",
            "('The', 0.13)\n",
            "('SPOILERS', 0.13)\n",
            "('OOV', 0.13)\n",
            "('(', 0.13)\n",
            "('a', 0.1)\n",
            "('on', 0.08)\n",
            "(\"'s\", 0.07)\n",
            "('There', 0.06)\n",
            "('sign', 0.04)\n",
            "= = = =\n",
            "('great', 5.4)\n",
            "('deal', 3.82)\n",
            "('of', 1.89)\n",
            "('people', 1.22)\n",
            "('that', 0.85)\n",
            "('apparently', 0.8)\n",
            "('did', 0.59)\n",
            "('a', 0.51)\n",
            "('movie', 0.47)\n",
            "(',', 0.44)\n",
            "('I', 0.43)\n",
            "('there', 0.38)\n",
            "('Since', 0.34)\n",
            "(\"'s\", 0.32)\n",
            "(\"'d\", 0.28)\n",
            "('this', 0.27)\n",
            "('my', 0.18)\n",
            "('like', 0.17)\n",
            "('interpretation', 0.17)\n",
            "('not', 0.16)\n",
            "('of', 0.16)\n",
            "('get', 0.15)\n",
            "('to', 0.15)\n",
            "('the', 0.13)\n",
            "('point', 0.13)\n",
            "('contribute', 0.12)\n",
            "('of', 0.08)\n",
            "('the', 0.04)\n",
            "('plot', 0.04)\n",
            "('why', 0.03)\n",
            "= = = =\n",
            "('is', 3.39)\n",
            "('not', 1.91)\n",
            "('movie', 1.9)\n",
            "('As', 1.45)\n",
            "('viewing', 1.43)\n",
            "('sufficient', 1.2)\n",
            "('this', 1.04)\n",
            "('others', 1.01)\n",
            "('have', 0.62)\n",
            "('of', 0.6)\n",
            "('pointed', 0.53)\n",
            "('one', 0.46)\n",
            "('.', 0.43)\n",
            "('single', 0.41)\n",
            "(',', 0.3)\n",
            "('out', 0.29)\n",
            "= = = =\n",
            "(\"'Top\", 3.86)\n",
            "('MD', 3.06)\n",
            "('10', 2.51)\n",
            "('OOV', 1.93)\n",
            "('to', 1.8)\n",
            "(\"'\", 1.39)\n",
            "('OOV', 1.33)\n",
            "(\"'s\", 1.01)\n",
            "('but', 0.99)\n",
            "('(', 0.88)\n",
            "('only', 0.73)\n",
            "('Lynch', 0.68)\n",
            "('David', 0.49)\n",
            "('upon', 0.41)\n",
            "('MD', 0.29)\n",
            "('you', 0.24)\n",
            "('at', 0.21)\n",
            "('DVD', 0.19)\n",
            "('second', 0.19)\n",
            "(',', 0.18)\n",
            "('can', 0.18)\n",
            "('OOV', 0.14)\n",
            "('looking', 0.14)\n",
            "(\"'\", 0.1)\n",
            "('of', 0.09)\n",
            "('by', 0.09)\n",
            "('If', 0.06)\n",
            "('you', 0.06)\n",
            "('the', 0.05)\n",
            "('have', 0.03)\n",
            "= = = =\n",
            "('brilliant', 6.14)\n",
            "('is', 0.92)\n",
            "('.', 0.68)\n",
            "(')', 0.4)\n",
            "('Mulholland', 0.39)\n",
            "(';', 0.32)\n",
            "('downright', 0.31)\n",
            "('Drive', 0.28)\n",
            "('First', 0.24)\n",
            "('of', 0.23)\n",
            "(',', 0.22)\n",
            "('all', 0.15)\n",
            "= = = =\n",
            "('masterpiece', 6.71)\n",
            "('.', 0.78)\n",
            "('A', 0.47)\n",
            "= = = =\n",
            "('the', 0.95)\n",
            "('is', 0.67)\n",
            "('to', 0.36)\n",
            "('leave', 0.32)\n",
            "('movie', 0.3)\n",
            "('refuse', 0.29)\n",
            "('your', 0.25)\n",
            "('kind', 0.24)\n",
            "('of', 0.21)\n",
            "('This', 0.17)\n",
            "('that', 0.15)\n",
            "('head', 0.14)\n",
            "('.', 0.04)\n",
            "= = = =\n"
          ]
        }
      ]
    },
    {
      "cell_type": "code",
      "metadata": {
        "colab": {
          "base_uri": "https://localhost:8080/",
          "height": 220
        },
        "id": "7D2B7WHyfRnx",
        "outputId": "2ea26be6-cb79-4090-94d2-844728f8e235"
      },
      "source": [
        "import numpy as np\n",
        "import pylab as pl\n",
        "\n",
        "# source of the code : https://gist.github.com/ihsgnef/f13c35cd46624c8f458a4d23589ac768\n",
        "\n",
        "def colorize(words, color_array):\n",
        "    # words is a list of words\n",
        "    # color_array is an array of numbers between 0 and 1 of length equal to words\n",
        "    cmap = matplotlib.cm.get_cmap('Oranges')\n",
        "    template = '<span class=\"barcode\"; style=\"color: black; background-color: {}\">{}</span>'\n",
        "    colored_string = ''\n",
        "    for word, color in zip(words, color_array):\n",
        "        color = matplotlib.colors.rgb2hex(cmap(color)[:3])\n",
        "        colored_string += template.format(color, '&nbsp' + word + '&nbsp')\n",
        "    return colored_string\n",
        "    \n",
        "min_color = 1\n",
        "max_color = 1\n",
        "for sent in text_word_coeffs:\n",
        "\n",
        "    words = [word for (word,coef) in sent]\n",
        "    color_array = [coef for (word,coef) in sent]\n",
        "    s = colorize(words, color_array)\n",
        "    if min(color_array) < min_color:\n",
        "        min_color = min(color_array)\n",
        "    if max(color_array) > max_color:\n",
        "        max_color = max(color_array)\n",
        "\n",
        "    # to display :\n",
        "    from IPython.display import display, HTML\n",
        "    display(HTML(s))\n",
        "\n",
        "a = np.array([[min_color,max_color]])\n",
        "pl.figure(figsize=(5, 0.5))\n",
        "img = pl.imshow(a, cmap='Oranges')\n",
        "pl.gca().set_visible(False)\n",
        "cax = pl.axes([0.2, 0.4, 1.6, 1.2])\n",
        "pl.colorbar(orientation=\"horizontal\", cax=cax);"
      ],
      "execution_count": null,
      "outputs": [
        {
          "output_type": "display_data",
          "data": {
            "text/plain": [
              "<IPython.core.display.HTML object>"
            ],
            "text/html": [
              "<span class=\"barcode\"; style=\"color: black; background-color: #ffeedd\">&nbspThere&nbsp</span><span class=\"barcode\"; style=\"color: black; background-color: #feeddc\">&nbsp's&nbsp</span><span class=\"barcode\"; style=\"color: black; background-color: #fee9d4\">&nbspa&nbsp</span><span class=\"barcode\"; style=\"color: black; background-color: #fff0e2\">&nbspsign&nbsp</span><span class=\"barcode\"; style=\"color: black; background-color: #feecd9\">&nbspon&nbsp</span><span class=\"barcode\"; style=\"color: black; background-color: #fee5cc\">&nbspThe&nbsp</span><span class=\"barcode\"; style=\"color: black; background-color: #7f2704\">&nbspLost&nbsp</span><span class=\"barcode\"; style=\"color: black; background-color: #7f2704\">&nbspHighway&nbsp</span><span class=\"barcode\"; style=\"color: black; background-color: #7f2704\">&nbspthat&nbsp</span><span class=\"barcode\"; style=\"color: black; background-color: #f26b15\">&nbspsays&nbsp</span><span class=\"barcode\"; style=\"color: black; background-color: #fdce9e\">&nbsp:&nbsp</span><span class=\"barcode\"; style=\"color: black; background-color: #fdd5ad\">&nbspOOV&nbsp</span><span class=\"barcode\"; style=\"color: black; background-color: #fee5cc\">&nbspSPOILERS&nbsp</span><span class=\"barcode\"; style=\"color: black; background-color: #fee5cc\">&nbspOOV&nbsp</span><span class=\"barcode\"; style=\"color: black; background-color: #fee5cc\">&nbsp(&nbsp</span><span class=\"barcode\"; style=\"color: black; background-color: #fdd9b4\">&nbspbut&nbsp</span><span class=\"barcode\"; style=\"color: black; background-color: #f67925\">&nbspyou&nbsp</span><span class=\"barcode\"; style=\"color: black; background-color: #fdc088\">&nbspalready&nbsp</span><span class=\"barcode\"; style=\"color: black; background-color: #ec620f\">&nbspknew&nbsp</span><span class=\"barcode\"; style=\"color: black; background-color: #ec620f\">&nbspthat&nbsp</span><span class=\"barcode\"; style=\"color: black; background-color: #b03903\">&nbsp,&nbsp</span><span class=\"barcode\"; style=\"color: black; background-color: #b33b02\">&nbspdid&nbsp</span><span class=\"barcode\"; style=\"color: black; background-color: #fdb06e\">&nbspn't&nbsp</span><span class=\"barcode\"; style=\"color: black; background-color: #db4a02\">&nbspyou&nbsp</span><span class=\"barcode\"; style=\"color: black; background-color: #f57622\">&nbsp?&nbsp</span><span class=\"barcode\"; style=\"color: black; background-color: #db4a02\">&nbsp)&nbsp</span>"
            ]
          },
          "metadata": {}
        },
        {
          "output_type": "display_data",
          "data": {
            "text/plain": [
              "<IPython.core.display.HTML object>"
            ],
            "text/html": [
              "<span class=\"barcode\"; style=\"color: black; background-color: #fdb77a\">&nbspSince&nbsp</span><span class=\"barcode\"; style=\"color: black; background-color: #fdad69\">&nbspthere&nbsp</span><span class=\"barcode\"; style=\"color: black; background-color: #fdbe84\">&nbsp's&nbsp</span><span class=\"barcode\"; style=\"color: black; background-color: #fc8a39\">&nbspa&nbsp</span><span class=\"barcode\"; style=\"color: black; background-color: #7f2704\">&nbspgreat&nbsp</span><span class=\"barcode\"; style=\"color: black; background-color: #7f2704\">&nbspdeal&nbsp</span><span class=\"barcode\"; style=\"color: black; background-color: #7f2704\">&nbspof&nbsp</span><span class=\"barcode\"; style=\"color: black; background-color: #7f2704\">&nbsppeople&nbsp</span><span class=\"barcode\"; style=\"color: black; background-color: #b03903\">&nbspthat&nbsp</span><span class=\"barcode\"; style=\"color: black; background-color: #c54102\">&nbspapparently&nbsp</span><span class=\"barcode\"; style=\"color: black; background-color: #f4721e\">&nbspdid&nbsp</span><span class=\"barcode\"; style=\"color: black; background-color: #fee0c3\">&nbspnot&nbsp</span><span class=\"barcode\"; style=\"color: black; background-color: #fee2c6\">&nbspget&nbsp</span><span class=\"barcode\"; style=\"color: black; background-color: #fee5cc\">&nbspthe&nbsp</span><span class=\"barcode\"; style=\"color: black; background-color: #fee5cc\">&nbsppoint&nbsp</span><span class=\"barcode\"; style=\"color: black; background-color: #fee0c3\">&nbspof&nbsp</span><span class=\"barcode\"; style=\"color: black; background-color: #fdca99\">&nbspthis&nbsp</span><span class=\"barcode\"; style=\"color: black; background-color: #fd9547\">&nbspmovie&nbsp</span><span class=\"barcode\"; style=\"color: black; background-color: #fd9d53\">&nbsp,&nbsp</span><span class=\"barcode\"; style=\"color: black; background-color: #fd9f56\">&nbspI&nbsp</span><span class=\"barcode\"; style=\"color: black; background-color: #fdc895\">&nbsp'd&nbsp</span><span class=\"barcode\"; style=\"color: black; background-color: #fedebf\">&nbsplike&nbsp</span><span class=\"barcode\"; style=\"color: black; background-color: #fee2c6\">&nbspto&nbsp</span><span class=\"barcode\"; style=\"color: black; background-color: #fee7d0\">&nbspcontribute&nbsp</span><span class=\"barcode\"; style=\"color: black; background-color: #fedcbb\">&nbspmy&nbsp</span><span class=\"barcode\"; style=\"color: black; background-color: #fedebf\">&nbspinterpretation&nbsp</span><span class=\"barcode\"; style=\"color: black; background-color: #feecd9\">&nbspof&nbsp</span><span class=\"barcode\"; style=\"color: black; background-color: #fff2e5\">&nbspwhy&nbsp</span><span class=\"barcode\"; style=\"color: black; background-color: #fff0e2\">&nbspthe&nbsp</span><span class=\"barcode\"; style=\"color: black; background-color: #fff0e2\">&nbspplot&nbsp</span>"
            ]
          },
          "metadata": {}
        },
        {
          "output_type": "display_data",
          "data": {
            "text/plain": [
              "<IPython.core.display.HTML object>"
            ],
            "text/html": [
              "<span class=\"barcode\"; style=\"color: black; background-color: #7f2704\">&nbspAs&nbsp</span><span class=\"barcode\"; style=\"color: black; background-color: #7f2704\">&nbspothers&nbsp</span><span class=\"barcode\"; style=\"color: black; background-color: #f26b15\">&nbsphave&nbsp</span><span class=\"barcode\"; style=\"color: black; background-color: #fa8532\">&nbsppointed&nbsp</span><span class=\"barcode\"; style=\"color: black; background-color: #fdc590\">&nbspout&nbsp</span><span class=\"barcode\"; style=\"color: black; background-color: #fdc38d\">&nbsp,&nbsp</span><span class=\"barcode\"; style=\"color: black; background-color: #fd984b\">&nbspone&nbsp</span><span class=\"barcode\"; style=\"color: black; background-color: #fda55f\">&nbspsingle&nbsp</span><span class=\"barcode\"; style=\"color: black; background-color: #7f2704\">&nbspviewing&nbsp</span><span class=\"barcode\"; style=\"color: black; background-color: #f3701b\">&nbspof&nbsp</span><span class=\"barcode\"; style=\"color: black; background-color: #7f2704\">&nbspthis&nbsp</span><span class=\"barcode\"; style=\"color: black; background-color: #7f2704\">&nbspmovie&nbsp</span><span class=\"barcode\"; style=\"color: black; background-color: #7f2704\">&nbspis&nbsp</span><span class=\"barcode\"; style=\"color: black; background-color: #7f2704\">&nbspnot&nbsp</span><span class=\"barcode\"; style=\"color: black; background-color: #7f2704\">&nbspsufficient&nbsp</span><span class=\"barcode\"; style=\"color: black; background-color: #fd9f56\">&nbsp.&nbsp</span>"
            ]
          },
          "metadata": {}
        },
        {
          "output_type": "display_data",
          "data": {
            "text/plain": [
              "<IPython.core.display.HTML object>"
            ],
            "text/html": [
              "<span class=\"barcode\"; style=\"color: black; background-color: #ffeedd\">&nbspIf&nbsp</span><span class=\"barcode\"; style=\"color: black; background-color: #ffeedd\">&nbspyou&nbsp</span><span class=\"barcode\"; style=\"color: black; background-color: #fff2e5\">&nbsphave&nbsp</span><span class=\"barcode\"; style=\"color: black; background-color: #ffefe0\">&nbspthe&nbsp</span><span class=\"barcode\"; style=\"color: black; background-color: #fddbb8\">&nbspDVD&nbsp</span><span class=\"barcode\"; style=\"color: black; background-color: #feead6\">&nbspof&nbsp</span><span class=\"barcode\"; style=\"color: black; background-color: #fdc590\">&nbspMD&nbsp</span><span class=\"barcode\"; style=\"color: black; background-color: #fedcbb\">&nbsp,&nbsp</span><span class=\"barcode\"; style=\"color: black; background-color: #fdd2a6\">&nbspyou&nbsp</span><span class=\"barcode\"; style=\"color: black; background-color: #fedcbb\">&nbspcan&nbsp</span><span class=\"barcode\"; style=\"color: black; background-color: #fee4ca\">&nbspOOV&nbsp</span><span class=\"barcode\"; style=\"color: black; background-color: #fee9d4\">&nbsp'&nbsp</span><span class=\"barcode\"; style=\"color: black; background-color: #feead6\">&nbspby&nbsp</span><span class=\"barcode\"; style=\"color: black; background-color: #fee4ca\">&nbsplooking&nbsp</span><span class=\"barcode\"; style=\"color: black; background-color: #fdd7b1\">&nbspat&nbsp</span><span class=\"barcode\"; style=\"color: black; background-color: #fd9040\">&nbspDavid&nbsp</span><span class=\"barcode\"; style=\"color: black; background-color: #e65a0b\">&nbspLynch&nbsp</span><span class=\"barcode\"; style=\"color: black; background-color: #7f2704\">&nbsp's&nbsp</span><span class=\"barcode\"; style=\"color: black; background-color: #7f2704\">&nbsp'Top&nbsp</span><span class=\"barcode\"; style=\"color: black; background-color: #7f2704\">&nbsp10&nbsp</span><span class=\"barcode\"; style=\"color: black; background-color: #7f2704\">&nbspOOV&nbsp</span><span class=\"barcode\"; style=\"color: black; background-color: #7f2704\">&nbspto&nbsp</span><span class=\"barcode\"; style=\"color: black; background-color: #7f2704\">&nbspOOV&nbsp</span><span class=\"barcode\"; style=\"color: black; background-color: #7f2704\">&nbspMD&nbsp</span><span class=\"barcode\"; style=\"color: black; background-color: #7f2704\">&nbsp'&nbsp</span><span class=\"barcode\"; style=\"color: black; background-color: #a43503\">&nbsp(&nbsp</span><span class=\"barcode\"; style=\"color: black; background-color: #812804\">&nbspbut&nbsp</span><span class=\"barcode\"; style=\"color: black; background-color: #dd4d04\">&nbsponly&nbsp</span><span class=\"barcode\"; style=\"color: black; background-color: #fda55f\">&nbspupon&nbsp</span><span class=\"barcode\"; style=\"color: black; background-color: #fddbb8\">&nbspsecond&nbsp</span>"
            ]
          },
          "metadata": {}
        },
        {
          "output_type": "display_data",
          "data": {
            "text/plain": [
              "<IPython.core.display.HTML object>"
            ],
            "text/html": [
              "<span class=\"barcode\"; style=\"color: black; background-color: #fdbe84\">&nbsp;&nbsp</span><span class=\"barcode\"; style=\"color: black; background-color: #fda762\">&nbsp)&nbsp</span><span class=\"barcode\"; style=\"color: black; background-color: #fdd2a6\">&nbspFirst&nbsp</span><span class=\"barcode\"; style=\"color: black; background-color: #fdd4aa\">&nbspof&nbsp</span><span class=\"barcode\"; style=\"color: black; background-color: #fee2c6\">&nbspall&nbsp</span><span class=\"barcode\"; style=\"color: black; background-color: #fdd5ad\">&nbsp,&nbsp</span><span class=\"barcode\"; style=\"color: black; background-color: #fdab66\">&nbspMulholland&nbsp</span><span class=\"barcode\"; style=\"color: black; background-color: #fdc895\">&nbspDrive&nbsp</span><span class=\"barcode\"; style=\"color: black; background-color: #973003\">&nbspis&nbsp</span><span class=\"barcode\"; style=\"color: black; background-color: #fdc088\">&nbspdownright&nbsp</span><span class=\"barcode\"; style=\"color: black; background-color: #7f2704\">&nbspbrilliant&nbsp</span><span class=\"barcode\"; style=\"color: black; background-color: #e65a0b\">&nbsp.&nbsp</span>"
            ]
          },
          "metadata": {}
        },
        {
          "output_type": "display_data",
          "data": {
            "text/plain": [
              "<IPython.core.display.HTML object>"
            ],
            "text/html": [
              "<span class=\"barcode\"; style=\"color: black; background-color: #fd9547\">&nbspA&nbsp</span><span class=\"barcode\"; style=\"color: black; background-color: #7f2704\">&nbspmasterpiece&nbsp</span><span class=\"barcode\"; style=\"color: black; background-color: #cd4401\">&nbsp.&nbsp</span>"
            ]
          },
          "metadata": {}
        },
        {
          "output_type": "display_data",
          "data": {
            "text/plain": [
              "<IPython.core.display.HTML object>"
            ],
            "text/html": [
              "<span class=\"barcode\"; style=\"color: black; background-color: #fedebf\">&nbspThis&nbsp</span><span class=\"barcode\"; style=\"color: black; background-color: #e85d0c\">&nbspis&nbsp</span><span class=\"barcode\"; style=\"color: black; background-color: #8e2d04\">&nbspthe&nbsp</span><span class=\"barcode\"; style=\"color: black; background-color: #fdd2a6\">&nbspkind&nbsp</span><span class=\"barcode\"; style=\"color: black; background-color: #fdd7b1\">&nbspof&nbsp</span><span class=\"barcode\"; style=\"color: black; background-color: #fdc38d\">&nbspmovie&nbsp</span><span class=\"barcode\"; style=\"color: black; background-color: #fee2c6\">&nbspthat&nbsp</span><span class=\"barcode\"; style=\"color: black; background-color: #fdc590\">&nbsprefuse&nbsp</span><span class=\"barcode\"; style=\"color: black; background-color: #fdb271\">&nbspto&nbsp</span><span class=\"barcode\"; style=\"color: black; background-color: #fdbe84\">&nbspleave&nbsp</span><span class=\"barcode\"; style=\"color: black; background-color: #fdd0a2\">&nbspyour&nbsp</span><span class=\"barcode\"; style=\"color: black; background-color: #fee4ca\">&nbsphead&nbsp</span><span class=\"barcode\"; style=\"color: black; background-color: #fff0e2\">&nbsp.&nbsp</span>"
            ]
          },
          "metadata": {}
        },
        {
          "output_type": "display_data",
          "data": {
            "text/plain": [
              "<Figure size 360x36 with 2 Axes>"
            ],
            "image/png": "[encoded data removed]"
          },
          "metadata": {}
        }
      ]
    },
    {
      "cell_type": "code",
      "metadata": {
        "id": "iIu4X2TVlTAa",
        "colab": {
          "base_uri": "https://localhost:8080/"
        },
        "outputId": "f6d4bf1d-a6b5-4fc5-f7f7-05d94e367e19"
      },
      "source": [
        "# select last review label\n",
        "print(my_labels_array_test[-1])\n",
        "print(y_pred[-1])"
      ],
      "execution_count": null,
      "outputs": [
        {
          "output_type": "stream",
          "name": "stdout",
          "text": [
            "1\n",
            "[ True]\n"
          ]
        }
      ]
    }
  ]
}