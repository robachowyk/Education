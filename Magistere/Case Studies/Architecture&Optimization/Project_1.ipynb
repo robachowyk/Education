{
 "cells": [
  {
   "cell_type": "markdown",
   "id": "01155001-413c-4175-a8bb-fbbe560f0119",
   "metadata": {},
   "source": [
    "# Optimisation en architecture"
   ]
  },
  {
   "cell_type": "markdown",
   "id": "a0161e8c-2f46-40ff-8038-5e19b80229bd",
   "metadata": {},
   "source": [
    "***Kayané Robach***\n",
    "\n",
    "***Magistère d'Economiste Statisticien***\n",
    "\n",
    "***11 juin 2021***\n",
    "\n",
    "Le but de ce projet est de construire et résoudre un problème d’optimisation appliqué à l’architecture. Initialement l'objectif était de proposer une alternative aux logements sociaux disposés en blocs. Pour cela nous définirons des contraintes à respecter, à savoir, minimiser le vis à vis, minimiser les surfaces de contact entre habitations, maximiser le champ visuel.\n",
    "\n",
    "Nous nous intéressons donc au problème suivant :\n",
    "\n",
    "Comment construire une structure agréable à vivre en utilisant un recuit simulé ?\n",
    "\n",
    "Nous verrons dans un premier temps comment répondre à ce problème en 2D en utilisant la méthode du recuit simulé. Puis nous appliquerons ce processus en 3D pour répondre à notre problématique. Le choix de cette méthode mathématique s'est imposé au vue du cadre discret du problème et de la complexité de l'analyse. En effet je n'ai trouvé aucune autre méthode pertinente pour répondre aux objectifs choisis."
   ]
  },
  {
   "cell_type": "markdown",
   "id": "2b342cf7-40d4-4729-b2ee-469ae0ece1f0",
   "metadata": {},
   "source": [
    "### Algorithme du recuit simulé\n",
    "\n",
    "Soit $E$, l'espace d'état, fini et $H : E \\longrightarrow \\mathbb{R}$, la fonction objectif, une fonction dont on cherche un minimum.\n",
    "\n",
    "On considère une mesure de Gibbs paramétrée par $T > 0$ de la forme $$\\mu_T(x) = \\frac{1}{Z_T} exp^{- \\frac{H(x)}{T}}$$ où $Z_T$ est la constante de normalisation souvent appelée fonction de partition. Lorsque $T \\longrightarrow 0$ la mesure $\\mu_T$ se concentre sur les cubes de E proche des minimums de H ; on considère donc une suite $(T_n)_n$ telle que $\\underset{n \\longrightarrow \\infty}{lim} T_n = 0$ et l'algorithme de Hastings-Metropolis afin trouver la solution minimum à notre problème.\n",
    "\n",
    "___"
   ]
  },
  {
   "cell_type": "markdown",
   "id": "311c82a6-5bc0-4f44-813a-b6124a7249ac",
   "metadata": {},
   "source": [
    "**L'algorithme de Hastings-Metropolis** permet de construire une chaîne de Markov de probabilité invariante $\\mu$ donnée ; en principe cet algorithme est utilisé pour simuler une loi (grâce à une chaine de Markov) qui est difficile à simuler.\n",
    "\n",
    "L'algorithme construit de manière itérative une suite $(x_n)_n$ d'éléments de E. Le terme $x_n$ de la suite $(x_n)_n$ désigne le cube du chemin $(x_n)_n$ envisagé que nous sommes en train de construire et qui parcoure E dans un but précis (dépendant de chaque problème). Pour chaque nouvelle itération cherchons un cube suivant qui nous rapprochera de la solution du problème dont il est question. Nous sélectionnons donc un nouveau chemin candidat $(y_n)_n$ puis nous le testons afin de décider si nous le choisissons ou non comme étape suivante de notre chemin solution.\n",
    "\n",
    "Une matrice $P$, dite de sélection, est définie afin de parcourir l'espace d'état E. Notre but est de construire une chaîne de Markov $(X_n)_n$ de probabilité invariante $\\mu$. La matrice de sélection permet de sélectionner des candidats $y = (y_n)_n$ voisins de notre chemin actuel $x = (x_n)_n$ pour construire le chemin solution représenté par $(X_n)_n$. Ainsi $\\forall x, y \\in E, P(x,y) = \\mathbb{P}(Y_n^{(x)} = y)$ défini la probabilité que l'on choisisse le chemin y en tant que candidat (la variable aléatoire du candidat étant $(Y_n)_n$) à partir du chemin actuel $x$.\n",
    "\n",
    "Une fonction $\\rho$ est ensuite définie à partir de $P$ et de $\\mu$ par : $$\\forall x,y \\in E, \\rho(x,y) = \\frac{\\mu(y) P(y,x)}{\\mu(x) P(x,y)} \\wedge 1$$ $\\rho$ c'est la probabilité que l'on accepte le candidat $y$ selectionné par $P$.\n",
    "\n",
    "A partir de toutes les définitions présentées nous pouvons ensuite construire la matrice stochastique Q comme la probabilité de procéder à la transition de x à y à l'étape n de la construction de notre suite solution. En termes mathématiques : $$Q(x,y) = \\mathbb{P}[X_{n+1} = y | X_n = x] = \\left\\{ \\begin{array}{ll} P(x,y) \\rho(x,y) & \\mbox{si } x \\neq y \\\\ 1 - \\sum_{z \\neq x} Q(x,z) & \\mbox{sinon.} \\end{array} \\right.$$\n",
    "\n",
    "Sous les hypothèses adhoc, la chaîne de Markov $(X_n)_n$ (de transition Q) converge en loi vers $\\mu$.\n",
    "\n",
    "Pour résumer, on choisit un voisin $y$ de $x$ avec probabilité $P(x,y)$ (donnée par la matrice de sélection) puis, avec probabilité $\\rho(x,y)$ on accepte ce voisin, auquel cas on pose $x_{n+1} = y$ ou on le refuse et on pose $x_{n+1} = x$\n",
    "\n",
    "Concrètement la définition de notre chaîne de Markov est la suivante : (nous avons besoin de $(U_n)_n \\approx \\mathcal{U}_{[0,1]}$ pour construire $(X_n)_n$ rigoureusement) $$X_{n+1} = Y_{n+1}^{X_n} \\mathbb{1}_{\\{U_{n+1} \\leq \\rho(X_n,Y_{n+1}^{X_n})\\}} + X_n \\mathbb{1}_{\\{U_{n+1} > \\rho(X_n,Y_{n+1}^{X_n})\\}}$$\n",
    "___"
   ]
  },
  {
   "cell_type": "markdown",
   "id": "2433e3df-59a2-48cb-a61e-f1ba0678f1dd",
   "metadata": {},
   "source": [
    "Dans le cadre du recuit simulé la probabilité de procéder à la transition de x à y à l'étape n de la construction de notre suite solution : $Q$ est la suivante : $$Q_n(x,y) = \\mathbb{P}[X_{n+1} = y | X_n = x] = \\left\\{ \\begin{array}{ll} P(x,y) exp^{- \\frac{(H(y) - H(x))_{+}}{T_n}} & \\mbox{si } x \\neq y \\\\ 1 - \\sum_{z \\neq x} Q_n(x,z) & \\mbox{sinon.} \\end{array} \\right.$$\n",
    "\n",
    "Voici un résumé schématique du fonctionnement du recuit simulé :"
   ]
  },
  {
   "cell_type": "code",
   "execution_count": null,
   "id": "ed69d16a-0a25-4784-afce-928821a5a1ab",
   "metadata": {},
   "outputs": [],
   "source": [
    "from math import *\n",
    "import matplotlib.pyplot as plt\n",
    "import numpy as np\n",
    "from scipy.sparse.csgraph import connected_components\n",
    "import datetime\n",
    "from tqdm.notebook import tqdm\n",
    "from IPython.display import Image"
   ]
  },
  {
   "cell_type": "markdown",
   "id": "b46a7664-92a7-4be5-b0f0-bc1bc8a0da1a",
   "metadata": {},
   "source": [
    "<img src=\"algo_scheme.png\">"
   ]
  },
  {
   "cell_type": "code",
   "execution_count": null,
   "id": "5bdde008-d40e-4a9a-97b6-4ec925d163ee",
   "metadata": {},
   "outputs": [],
   "source": [
    "light_colors = np.array(['thistle','plum','orchid','palevioletred','pink',\n",
    "                         'cyan','magenta','green','olive','blue','yellow','red','lavender','grey','orange','aquamarine',\n",
    "                         'lightgreen','lime','dimgrey','fuchsia','slateblue','plum','pink','peru','indigo',\n",
    "                         'rosybrown','lightcoral','indianred','darksalmon','sandybrown','peachpuff','linen',\n",
    "                         'lightgray','tan','darkorange','gold','darkkhaki','red','cyan','magenta',\n",
    "                         'lightgreen','mediumaquamarine','paleturquoise','powderblue','skyblue','lightslategray',\n",
    "                         'lightsteelblue','lavender'])\n",
    "\n",
    "rng = np.random.default_rng()\n",
    "  \n",
    "def create_colored_matrix(matrix, colors):\n",
    "    colors = rng.choice(light_colors, size=len(np.unique(matrix)))\n",
    "    d = {}\n",
    "    for value in np.unique(matrix):\n",
    "        idx = int(value) \n",
    "        d[value] = colors[idx]\n",
    "    Mcolor = matrix.copy()\n",
    "    Mcolor = Mcolor.astype('str')\n",
    "    for row in range(Mcolor.shape[0]):\n",
    "        for col in range(Mcolor.shape[1]):\n",
    "            for depth in range(Mcolor.shape[2]):\n",
    "                key = float(Mcolor[row][col][depth])\n",
    "                if int(key) == 0:\n",
    "                    Mcolor[row][col][depth] = 'None'\n",
    "                else :\n",
    "                    Mcolor[row][col][depth] = d[key]\n",
    "    return Mcolor, d\n",
    "\n",
    "def colorate_new_matrix(matrix, d):\n",
    "    Mcolor = matrix.copy()\n",
    "    Mcolor = Mcolor.astype('str')\n",
    "    for row in range(Mcolor.shape[0]):\n",
    "        for col in range(Mcolor.shape[1]):\n",
    "            for depth in range(Mcolor.shape[2]):\n",
    "                key = float(Mcolor[row][col][depth])\n",
    "                if int(key) == 0:\n",
    "                    Mcolor[row][col][depth] = 'None'\n",
    "                else :\n",
    "                    Mcolor[row][col][depth] = d[key]\n",
    "    return Mcolor"
   ]
  },
  {
   "cell_type": "markdown",
   "id": "4aa36b02-a621-4c95-8f15-7c52cb5a6a4b",
   "metadata": {},
   "source": [
    "### Problème du petit lotissement\n",
    "\n",
    "Sur un terrain carré nous voulons construire des maisons vitrées. Une contrainte doit être vérifiée : il doit y avoir le moins de vis à vis possible. Pour cela la première étape est d'éloigner les maisons au maximum les unes des autres.\n",
    "\n",
    "Pour répondre à ce problème d'optimisation nous utiliserons l'algorithme du recuit simulé expliqué ci dessous.\n",
    "\n",
    "Nous travaillons pour le moment en dimension 2."
   ]
  },
  {
   "cell_type": "markdown",
   "id": "f3d73ac7-2c53-4d25-94a0-e6ee45e22590",
   "metadata": {},
   "source": [
    "### Modélisation de notre problème du petit lotissement\n",
    "\n",
    "L'espace d'état E ici est une grille que l'on représentera par une matrice $k$ x $k$. Nous considèrerons $p$ cubes de cette grille défini chacun par 1 entier difféfent de 0 comme étant les maisons. La matrice \"terrain\" contient aisni des 0 pour les espaces libres et des entiers allant de 1 à $p$ pour les habitations.\n",
    "\n",
    "Soit p maisons représentées par un vecteur $M = (M_1, M_2, M_3, ..., M_p)$ ; chaque entier représentant une maison se voit attribuer des coordonnées dans la matrice en 2 dimensions $\\in [0,1,2, ..., k] \\times [0,1,2, ..., k]$. Nous notons $d$ la distance euclidienne entre 2 maisons $M_i$ et $M_j$ $i,j \\in {1,2,3, ..., p}$ : $d(M_i, M_j)$.\n",
    "\n",
    "Notre algorithme devra retourner un grille remplie avec des maisons (donc une matrice de 0 avec un 1, un 2, un 3, ... et un $p$ pour représenter chaque maison dans la grille).\n",
    "\n",
    "On souhaite maximiser la distance entre les maisons dans notre petit lotissement. On a donc un vecteur de distances $( d(M_1, M_2), d(M_1, M_3), d(M_2, M_3), ... )$ à maximiser.\n",
    "\n",
    "H, la fonction objectif que nous allons minimiser, peut être donc être définie dans un premier temps comme l'opposé de la norme du vecteur des distances. Avec $p$ = 3 on a : $$H(M) = - ||(d(M_1, M_2), d(M_1, M_3), d(M_2, M_3))||$$"
   ]
  },
  {
   "cell_type": "markdown",
   "id": "00a80503-354f-48ca-928b-26c0b76ddda1",
   "metadata": {},
   "source": [
    "#### Code de la distance\n",
    "\n",
    "On utilisera la distance euclidienne."
   ]
  },
  {
   "cell_type": "code",
   "execution_count": null,
   "id": "501bc850-bd35-4f86-8af2-47e4ab981ee3",
   "metadata": {},
   "outputs": [],
   "source": [
    "def distance(matrix, i, j):\n",
    "    \"\"\" \n",
    "    inputs : matrix (square matrix), i, j\n",
    "    i and j are 2 integers different from 0. They identify cubes located in the matrix (0 = free space).\n",
    "    The distance function returns the euclidean distance between the cubes i and j of the matrix. \"\"\"\n",
    "    cube_i_coordinate = np.asarray( matrix==i ).nonzero() # is a tuple, 1st element : array of the row coordinate, 2nd element : array of the column coordinate\n",
    "    xi = cube_i_coordinate[0][0]\n",
    "    yi = cube_i_coordinate[1][0]\n",
    "    cube_j_coordinate = np.asarray( matrix==j ).nonzero() # is a tuple, 1st element : array of the row coordinate, 2nd element : array of the column coordinate\n",
    "    xj = cube_j_coordinate[0][0]\n",
    "    yj = cube_j_coordinate[1][0]\n",
    "    return sqrt( (xi - xj)**2 + (yi - yj)**2 )"
   ]
  },
  {
   "cell_type": "markdown",
   "id": "dbdbddcb-7de5-4831-937b-7a1b7b432848",
   "metadata": {},
   "source": [
    "#### Code de H\n",
    "\n",
    "Pour commencer, la fonction objectif est l'opposé de la norme du vecteur des distances. Si on veut maximiser les distances, on veut donc maximiser la norme du vecteur des distances. Cela revient à minimiser l'opposé."
   ]
  },
  {
   "cell_type": "code",
   "execution_count": null,
   "id": "2c2289d6-9c6b-40c4-b639-dee10638858a",
   "metadata": {},
   "outputs": [],
   "source": [
    "def H(matrix):\n",
    "    \"\"\" \n",
    "    input : matrix (square matrix)\n",
    "    matrix is fulfilled with 0 for free space and integers identifying each cubes.\n",
    "    H function returns the opposit of the norm of a specific vector. It is the vector of the distances between \n",
    "    cubes in the matrix. Since it is our objective function, it should be interpreted as the distance between \n",
    "    occupied spaces in the matrix. \"\"\"\n",
    "    nbr_of_cubes = int(np.max(matrix))\n",
    "    norm = np.array([])\n",
    "    for i in range(1, nbr_of_cubes + 1):\n",
    "        for j in range(i+1, nbr_of_cubes + 1):\n",
    "            norm = np.append(norm, distance(matrix, i, j))\n",
    "    return - np.linalg.norm(norm)"
   ]
  },
  {
   "cell_type": "markdown",
   "id": "39d91257-2697-45c5-86ed-c4a4b3eabc8f",
   "metadata": {},
   "source": [
    "### Recuit simulé\n",
    "\n",
    "Concrètement, nous avons une matrice avec des emplacements occupés et des emplacements libres. Nous choisissons une maison à déplacer. Nous cherchons les emplacements voisins de cette maison qui sont libres et nous sélectionnons un de ces espaces non occupés.\n",
    "\n",
    "$ \\left\\{ \\begin{array}{ll} \\mbox{si } H \\searrow & \\mbox{nous déplaçons la maison }\\\\ \\mbox{sinon } & \\mbox{nous déplaçons la maison de temps en temps } \\end{array} \\right. $\n",
    "\n",
    "Nous souhaitons explorer de temps en temps les alentours même si H ne diminue pas (d'où l'idée d'algorithme stochastique). Cela nous permettrait de sortir d'un minima local si nous nous retrouvions coincés.\n",
    "\n",
    "Nous reviendrons plus en détails sur ce processus plus tard.\n",
    "\n",
    "Définissons la matrice de sélection $P$ qui nous permettra de parcourir l'expace ainsi qu'une suite $(T_n)_n$ telle que $\\underset{n \\longrightarrow \\infty}{lim} T_n = 0$.\n",
    "\n",
    "Pour cela nous allons donner une matrice initiale à l’algorithme (représentant ici notre terrain avec quelques maisons). Nous choisissons une maison aléatoirement, puis avec une certaine probabilité nous déplaçons cette maison.\n",
    "\n"
   ]
  },
  {
   "cell_type": "markdown",
   "id": "072d92ad-6f79-41a5-ae48-8a3b114e0250",
   "metadata": {},
   "source": [
    "### Code de la suite T\n",
    "\n",
    "Un théoreme énonce que si la matrice de sélection P est symétrique irréductible et si cette matrice vérifie la condition de Doeblin (faisant intervenir les chaînes de Markov et la théorie des probabilités) et si $$\\forall n \\geq 1, T_n = \\frac{\\gamma}{log(n)}$$ avec $\\gamma > \\underset{x, y}{max}(H(y) - H(x)) \\mathbb{1}_{\\{P(x,y)>0\\}}$\n",
    "\n",
    "Alors pour toute loi initiale $\\nu_0$ de $X_0$ on a : $$\\underset{n \\longrightarrow \\infty}{lim} ||\\nu_n - \\mu_n|| = 0$$ donc en particulier, $\\underset{n \\longrightarrow \\infty}{lim} P( H(X_n)>argmin H ) = 0$"
   ]
  },
  {
   "cell_type": "code",
   "execution_count": null,
   "id": "76db81b4-8021-434f-bb4e-f6ac8dc51800",
   "metadata": {},
   "outputs": [],
   "source": [
    "def T(n):\n",
    "    \"\"\" \n",
    "    inputs : n\n",
    "    n is used to iterate in the Metropolis algorithm.\n",
    "    The T function is the T sequence of the Metropolis Hastings theory. It is arbitrarely fixed here to 0.01/log(n). \"\"\"\n",
    "    return 0.01 / log(n)"
   ]
  },
  {
   "cell_type": "markdown",
   "id": "eb6400cd-8ed2-48b0-acc1-8b63fafb6dae",
   "metadata": {},
   "source": [
    "### Code de la matrice de sélection\n",
    "\n",
    "Pour le moment, étant donné une combinaison de position de maisons (un trajet dans le cas du problème du voyageur), on tire une maison aléatoirement, et on bouge cette maison dans un des espaces libres autour d'elle avec une certaine probabilité. Autour d'elle signifie dans un premier temps : à une norme 1 vallant 1.\n",
    "\n",
    "Pour construire $P$ comme on le souhaite il faut d'abord une fonction qui identifie les espaces libres autour d'une maison.\n",
    "\n",
    "Pour cela, nous créons une matrice d'indices (ou plutot 2 pour les indices lignes et les indices colonnes) que nous centrons avec les coordonnées de notre point.\n",
    "\n",
    "Prenons un exemple : nous regardons le point qui devrait se trouver dans le carré rouge (point d'indice (2,2) car on commence à 0).\n",
    "\n",
    "Nous construisons une matrice d'indices lignes et une matrice d'indices colonnes."
   ]
  },
  {
   "cell_type": "markdown",
   "id": "3162604b-4b11-4c36-a63f-9fac674f30bc",
   "metadata": {},
   "source": [
    "<img src=\"matrix_1.png\" width=\"250px\">\n",
    "\n",
    "Nous centrons les matrices en soustrayant l'indice ligne à la matrice d'indices lignes et l'indice colonne à la matrice d'indices colonnes.\n",
    "\n",
    "<img src=\"matrix_2.png\" width=\"250px\">\n",
    "\n",
    "Nous calculons ensuite la somme des valeurs absolues des coordonnées des 2 matrices d'indices. Dans la matrice obtenue, les éléments $\\leq$ 1 sont les voisins de notre point.\n",
    "\n",
    "<img src=\"matrix_3.png\" width=\"250px\">\n",
    "\n",
    "<img src=\"matrix_4.png\" width=\"122px\">\n",
    "\n",
    "Nous pouvons ensuite construire $P$. Après sélection d'une maison et identification de l'espace libre autour de cette dernière, nous choisissons aléatoirement un emplacement parmi les emplacements libres et nous déplaçons la maison."
   ]
  },
  {
   "cell_type": "code",
   "execution_count": null,
   "id": "e69f997e-8d4b-4a86-82fb-c846131aa711",
   "metadata": {},
   "outputs": [],
   "source": [
    "def free_space_around_2d(matrix, cube):\n",
    "    \"\"\" \n",
    "    inputs : matrix (square matrix), cube\n",
    "    matrix is the space, should be an array of integers (0 = free space).\n",
    "    cube is an integer (different from 0 and unique) in the matrix.\n",
    "    The free_space_around_2d function gets the coordinates of the cubes at norm 1 = 1 around the cube in parameter.\n",
    "    It return a tuple of 2 arrays : \n",
    "        - the first one for x coordinates\n",
    "        - the second one for y coordinates\n",
    "        of the cubes located at distance 1 with norm 1 of the cube. \"\"\"\n",
    "    cube_coordinate = np.asarray( matrix==cube ).nonzero() # is a tuple, 1st element : array of the row coordinate, 2nd element : array of the  col coordinate\n",
    "    # we create 2 matrix of the row indexes and the columns indexes of the matrix in input\n",
    "    # we center these matrix of indexes (with respect to the coordinate of our cube)\n",
    "    # then each cube of norm 1 = 1 is a neighbor of our cube\n",
    "    matrix_row_idx = np.repeat(np.arange(matrix.shape[0]).reshape(-1,1),matrix.shape[1],1)\n",
    "    matrix_row_idx = np.abs(matrix_row_idx - cube_coordinate[0][0])\n",
    "    matrix_col_idx = np.repeat(np.arange(matrix.shape[0]).reshape(-1,1),matrix.shape[1],1).transpose()\n",
    "    matrix_col_idx = np.abs(matrix_col_idx - cube_coordinate[1][0]\n",
    "    matrix_norm = (matrix_row_idx + matrix_col_idx) # is the norm 1 of each cube in the centered matrix of indexes\n",
    "    # we return only cubes which are at norm 1 < 1 in the centered matrix of indexes \n",
    "    # and which are not occupied (value = 0)\n",
    "    return np.asarray( (matrix_norm<=1)&(matrix==0) ).nonzero()\n",
    "\n",
    "def P_2d(matrix):\n",
    "    \"\"\" \n",
    "    input : matrix (square matrix) is the space, should be an array of integers (0 = free space).\n",
    "    Only consider 2D problems !\n",
    "    The P_2d function returns \n",
    "        - the new matrix with one cube relocated,\n",
    "        - the new cube coordinates,\n",
    "        - the old cube coordinates. \"\"\"\n",
    "    free_space = (np.array([]),np.array([]))\n",
    "    while len(free_space[0]) <= 0:\n",
    "        location = np.random.randint(1, np.max(matrix)+1) # is the identity integer of the cube we will move\n",
    "        cube_coordinate = np.asarray( matrix==location ).nonzero() # is a tuple, 1st element : array of the row coordinate, 2nd element : array of the column coordinate\n",
    "        row_coord = cube_coordinate[0][0]\n",
    "        col_coord = cube_coordinate[1][0] # are the current coordinates of the cube we will move\n",
    "        free_space = free_space_around_2d(matrix, location) # is a tuple with 2 arrays of row and column coordinates of the cubes around the one we want to move\n",
    "    new_location_idx = np.random.randint(0, len(free_space[0])) # is the random place we choose in the free_space arrays to be the new location of our cube\n",
    "    row_coord_new = free_space[0][new_location_idx]\n",
    "    col_coord_new = free_space[1][new_location_idx]  \n",
    "    # current place of the cube become 0 \n",
    "    # new location become the identity integer of our cube\n",
    "    matrix[row_coord,col_coord] = 0\n",
    "    matrix[row_coord_new,col_coord_new] = location\n",
    "    new_cube_coords = np.array([row_coord_new, col_coord_new])\n",
    "    old_cube_coord = np.array([row_coord, col_coord])\n",
    "    return matrix, new_cube_coords, old_cube_coord"
   ]
  },
  {
   "cell_type": "markdown",
   "id": "d3ad602d-755d-4ab7-847d-130e9a3d5244",
   "metadata": {},
   "source": [
    "Revenons à notre problème global, nous cherchons à minimiser une fonction H que nous connaissons car nous l'avons défini mais dont nous ne connaissons ni la forme ni le fond. Pour éviter les minima locaux nous faisons donc fluctuer notre avancée de manière aléatoire (en déplacant aléatoirement un cube à une place libre choisie aussi aléatoirement). C'est ainsi que nous seront capable d'aboutir au minimum de H (nous l'espérons).\n",
    "\n",
    "Rappelons la définition de la marice de transition de notre problème de recuit simulé.\n",
    "\n",
    "$$Q(x,y) = \\mathbb{P}[X_{n+1} = y | X_n = x] = \\left\\{ \\begin{array}{ll} P(x,y) \\rho(x,y) & \\mbox{si } x \\neq y \\\\ 1 - \\sum_{z \\neq x} Q(x,z) & \\mbox{sinon.} \\end{array} \\right.$$$$\\rho(x,y) = \\frac{\\mu(y) P(y,x)}{\\mu(x) P(x,y)} \\wedge 1$$$$Q(x,y) = \\mathbb{P}[X_{n+1} = y | X_n = x] = \\left\\{ \\begin{array}{ll} P(x,y) (\\frac{\\mu(y) P(y,x)}{\\mu(x) P(x,y)} \\wedge 1) & \\mbox{si } x \\neq y \\\\ 1 - \\sum_{z \\neq x} Q(x,z) & \\mbox{sinon.} \\end{array} \\right.$$$$\\mu_{T_n}(x) = \\frac{1}{Z_{T_n}} exp^{- \\frac{H(x)}{T_n}}$$$$Q(x,y) = \\mathbb{P}[X_{n+1} = y | X_n = x] = \\left\\{ \\begin{array}{ll} P(x,y) (\\frac{\\frac{1}{Z_{T_n}} exp^{- \\frac{H(y)}{T_n}} P(y,x)}{\\frac{1}{Z_{T_n}} exp^{- \\frac{H(x)}{T_n}} P(x,y)} \\wedge 1) & \\mbox{si } x \\neq y \\\\ 1 - \\sum_{z \\neq x} Q(x,z) & \\mbox{sinon.} \\end{array} \\right.$$\n",
    "$P$ est supposée symétrique.\n",
    "\n",
    "$$Q(x,y) = \\mathbb{P}[X_{n+1} = y | X_n = x] = \\left\\{ \\begin{array}{ll} P(x,y) ( \\frac{ exp^{ - \\frac{H(y)}{T_n}} }{ exp^{- \\frac{H(x)}{T_n}} } \\wedge 1) & \\mbox{si } x \\neq y \\\\ 1 - \\sum_{z \\neq x} Q(x,z) & \\mbox{sinon.} \\end{array} \\right.$$$$Q(x,y) = \\mathbb{P}[X_{n+1} = y | X_n = x] = \\left\\{ \\begin{array}{ll} P(x,y) (exp^{- \\frac{H(y)}{T_n} + \\frac{H(x)}{T_n}} \\wedge 1) & \\mbox{si } x \\neq y \\\\ 1 - \\sum_{z \\neq x} Q(x,z) & \\mbox{sinon.} \\end{array} \\right.$$$$ exp^{- \\frac{H(y)}{T_n} + \\frac{H(x)}{T_n} } < 1 \\iff exp^{- \\frac{H(y)}{T_n} + \\frac{H(x)}{T_n} } < exp^{0} \\iff \\frac{H(x)}{T_n} - \\frac{H(y)}{T_n} < 0 $$$$ \\implies \\left\\{ \\begin{array}{ll} exp^{- \\frac{H(y)}{T_n} + \\frac{H(x)}{T_n}} \\wedge 1 = 1 & \\mbox{si } \\frac{H(x)}{T_n} - \\frac{H(y)}{T_n} \\geq 0 \\\\ exp^{- \\frac{H(y)}{T_n} + \\frac{H(x)}{T_n}} \\wedge 1 = exp^{- \\frac{H(y)}{T_n} + \\frac{H(x)}{T_n}} < 1 & \\mbox{sinon.} \\end{array} \\right. $$$$ \\iff \\left\\{ \\begin{array}{ll} exp^{- \\frac{H(y)}{T_n} + \\frac{H(x)}{T_n}} \\wedge 1 = exp^{0} = 1 & \\mbox{si } (H(y) - H(x))_{+} = 0 \\geq 0 \\\\ exp^{- \\frac{H(y)}{T_n} + \\frac{H(x)}{T_n}} \\wedge 1 = exp^{- \\frac{H(y)}{T_n} + \\frac{H(x)}{T_n}} < 1 & \\mbox{sinon.} \\end{array} \\right. $$$$Q_n(x,y) = \\mathbb{P}[X_{n+1} = y | X_n = x] = \\left\\{ \\begin{array}{ll} P(x,y) exp^{- \\frac{(H(y) - H(x))_{+}}{T_n}} & \\mbox{si } x \\neq y \\\\ 1 - \\sum_{z \\neq x} Q_n(x,z) & \\mbox{sinon.} \\end{array} \\right.$$\n",
    "Concrètement que doit-il se passer ?\n",
    "\n",
    "On a notre matrice avec une certaine combinaison d'emplacements occupés et d'emplacements libres. On choisi aléatoirement une maison à déplacer (grâce à la matrice de sélection $P$) et, on choisi le nouvel emplacement qu'elle va éventuellement occuper (parmi les emplacements voisins de cette maison). La norme utilisée a ici un rôle très important dans la définition des espaces voisins disponibles et/ou occupés. Avec une certaine probabilité (définie par $\\rho$) nous déplaçons cette maison. Comment ?\n",
    "\n",
    "Nous avons là défini l'éventuel nouvel emplacement de notre maison. Nous comparons alors la valeur de notre fonction objectif $H$ évaluée à l'ancienne matrice puis à la nouvelle (après éventuel délacement d'une des maisons).\n",
    "\n",
    "- Si H diminue avec le déplacement nous déplaçons bien la maison :\n",
    "\n",
    "Si $H(new\\_matrix) < H(matrix)$, alors nous déplaçons la maison.\n",
    "\n",
    "- Si H ne diminue pas avec le déplacement : $H(new\\_matrix) > H(matrix)$ $\\iff$ $\\frac{H(matrix) - H(new\\_matrix)}{T(n)} < 0$ $\\iff$ $exp^{\\frac{H(matrix) - H(new\\_matrix)}{T(n)}} < 1$, nous souhaitons quand même explorer de temps en temps les alentours donc nous voulons déplacer la maison les $exp^{\\frac{H(matrix) - H(new\\_matrix)}{T(n)}}$ du temps :\n",
    "\n",
    "Si $\\mathcal{U}_{[0,1]}$ < $exp^{ \\frac{H(matrix) - H(new\\_matrix)}{T(n)} }$, alors nous déplaçons la maison.\n",
    "\n",
    "- Sinon nous ne déplaçons pas la maison."
   ]
  },
  {
   "cell_type": "markdown",
   "id": "9d9795be-4bcb-42c2-bdcc-e2a002371b6e",
   "metadata": {},
   "source": [
    "### L'Algorithme de Metropolis"
   ]
  },
  {
   "cell_type": "code",
   "execution_count": null,
   "id": "8225520e-75a1-4b9f-b264-c1252c66f5e1",
   "metadata": {},
   "outputs": [],
   "source": [
    "def transition_Q(H, P, T, matrix, H_matrix, n):\n",
    "    \"\"\"\n",
    "    inputs : \n",
    "    H the objective function to minimize, \n",
    "    P the functionjapplying the selection matrix to move one cube,\n",
    "    T the sequence converging towards 0 (optimaly : epsilon / log(n)), \n",
    "    matrix (square matrix), \n",
    "    n the iteration step.\n",
    "    The function is in charge of moving (or not) a cube selected with P as explained above. \"\"\"\n",
    "    new_matrix, new_cube, old_cube = P(np.copy(matrix))\n",
    "    H_new_matrix = H(new_matrix)\n",
    "    delta = H_new_matrix - H_matrix\n",
    "    if delta < 0:\n",
    "        return new_cube, new_matrix, H_new_matrix\n",
    "    elif np.random.uniform(0,1) < exp(- delta / T(n)):\n",
    "        return new_cube, new_matrix, H_new_matrix\n",
    "    else:\n",
    "        return old_cube, matrix, H_matrix\n",
    "    \n",
    "def Metropolis(H, P, T, matrix, N):\n",
    "    \"\"\"\n",
    "    inputs : \n",
    "    H the objective function to minimize, \n",
    "    P the functionjapplying the selection matrix to move one cube,\n",
    "    T the sequence converging towards 0 (optimaly : epsilon / log(n)), \n",
    "    matrix (square matrix), \n",
    "    N the total number of iterations.\n",
    "    The function iterates N times the transition defined above. So, we \"progress\" thanks to the N steps towards the minimum. \"\"\"\n",
    "    objective = []\n",
    "    new_matrix = np.copy(matrix)\n",
    "    H_new_matrix = H(np.copy(matrix))\n",
    "    for n in tqdm(range(2,N)):\n",
    "        new_cube, new_matrix, H_new_matrix = transition_Q(H, P, T, new_matrix, H_new_matrix, n)\n",
    "        objective.append(H_new_matrix)\n",
    "    return objective, new_matrix"
   ]
  },
  {
   "cell_type": "markdown",
   "id": "a14d9951-e635-4b93-a401-feed5efc5fa2",
   "metadata": {},
   "source": [
    "Let's go !\n",
    "\n",
    "Nous lançons l'algorithme sur une matrice 10x10 en 2D."
   ]
  },
  {
   "cell_type": "code",
   "execution_count": null,
   "id": "37d0d7f6-5a7d-418f-b60d-9f11e1020707",
   "metadata": {},
   "outputs": [],
   "source": [
    "M = np.zeros((10,10,1)) # etage, ligne, colonne\n",
    "M[2][4][0] = 1\n",
    "M[3][4][0] = 2\n",
    "M[1][4][0] = 3\n",
    "M[5][4][0] = 4\n",
    "M[4][4][0] = 5\n",
    "Mcolor, dcolor = create_colored_matrix(M, light_colors)\n",
    "ax = plt.figure(figsize=(15,15)).add_subplot(projection='3d')\n",
    "ax.set_aspect('auto')\n",
    "ax.set_box_aspect((4,4,0.4))\n",
    "ax.voxels(M, facecolors = Mcolor, edgecolor = \"white\", alpha = 0.8)\n",
    "plt.show()\n",
    "\n",
    "N0 = 1000\n",
    "distances, new_M = Metropolis(H, P_2d, T, M, N0)\n",
    "Mcolor = colorate_new_matrix(new_M, dcolor)\n",
    "ax = plt.figure(figsize=(15,15)).add_subplot(projection='3d')\n",
    "ax.set_aspect('auto')\n",
    "ax.set_box_aspect((4,4,0.4))\n",
    "ax.voxels(new_M, facecolors = Mcolor, edgecolor = \"grey\", alpha = 0.7)\n",
    "plt.show()\n",
    "\n",
    "plt.figure(figsize=(15,7))\n",
    "plt.plot([distances[i] for i in range(0, N0, int(N0/100))])\n",
    "plt.title(\"Evolution de H au cours des itérations\")\n",
    "plt.show()"
   ]
  },
  {
   "cell_type": "markdown",
   "id": "ae90c943-4f53-4ae7-8654-0f11943380d2",
   "metadata": {},
   "source": [
    "<img src=\"simulation_1.png\" width=\"500px\">\n",
    "\n",
    "<img src=\"simulation_2.png\" width=\"500px\">\n",
    "\n",
    "<img src=\"H_evolution_1.png\" width=\"500px\">"
   ]
  },
  {
   "cell_type": "markdown",
   "id": "282cbe6e-907f-4c70-85cc-75b60aca6d27",
   "metadata": {},
   "source": [
    "Un problème apparaît. Notre fonction H étant définie comme elle l'est, c'est à dire, en prenant en compte la distance moyenne des maisons aux autres, l'algorithme n'a pas d'intérêt à changer une combinaison comme celle qui apparaît à la fin. En effet, si on déplace une des maisons qui est acollée à une autre, notre fonction objectif n'est pas modifiée.\n",
    "\n",
    "Nous allons donc changer notre fonction objectif.\n",
    "\n",
    "Petit retour en arrière pour redéfinir H."
   ]
  },
  {
   "cell_type": "markdown",
   "id": "e15e82e8-6b3d-4546-b0a4-90940579dfeb",
   "metadata": {},
   "source": [
    "### Code de H\n",
    "\n",
    "La fonction objectif est maintenant la somme des inverses des distances de chaque maison aux autres. Si on veut maximiser les distances, on veut donc minimiser les inverses des distances. Cela permet de mettre plus de poids sur les distances courtes et ainsi de faire en sorte que chaque maison s'isole des autres."
   ]
  },
  {
   "cell_type": "code",
   "execution_count": null,
   "id": "a0797fa8-2038-4fad-b6aa-60e2f292db65",
   "metadata": {},
   "outputs": [],
   "source": [
    "def H(matrix):\n",
    "    \"\"\" \n",
    "    input : matrix (square matrix)\n",
    "    matrix is fulfilled with 0 for free space and integers identifying each cubes.\n",
    "    H function returns the sum of the inverse of the distances of each building with respect to another. \"\"\"\n",
    "    nbr_of_cubes = np.max(matrix)\n",
    "    sum_of_inverse_distance = np.array([])\n",
    "    for i in range(1, int(nbr_of_cubes) + 1):\n",
    "        for j in range(i+1, int(nbr_of_cubes) + 1):\n",
    "            sum_of_inverse_distance = np.append(sum_of_inverse_distance, 1 / distance(matrix, i, j))\n",
    "    return sum(sum_of_inverse_distance)"
   ]
  },
  {
   "cell_type": "markdown",
   "id": "30d74d0d-9548-49b3-b7c3-143284557122",
   "metadata": {},
   "source": [
    "Voyons si nous avons réussi améliorer notre algorithme :"
   ]
  },
  {
   "cell_type": "code",
   "execution_count": null,
   "id": "1e4c7796-7a1c-4447-a386-ba3a315d2b2d",
   "metadata": {},
   "outputs": [],
   "source": [
    "Mcolor, dcolor = create_colored_matrix(M, light_colors)\n",
    "ax = plt.figure(figsize=(15,15)).add_subplot(projection='3d')\n",
    "ax.set_aspect('auto')\n",
    "ax.set_box_aspect((4,4,0.4))\n",
    "ax.voxels(M, facecolors = Mcolor, edgecolor = \"white\", alpha = 0.8)\n",
    "plt.show()\n",
    "\n",
    "N0 = 1000\n",
    "distances, new_M = Metropolis(H, P_2d, T, M, N0)\n",
    "Mcolor = colorate_new_matrix(new_M, dcolor)\n",
    "ax = plt.figure(figsize=(15,15)).add_subplot(projection='3d')\n",
    "ax.set_aspect('auto')\n",
    "ax.set_box_aspect((4,4,0.4))\n",
    "ax.voxels(new_M, facecolors = Mcolor, edgecolor = \"white\", alpha = 0.8)\n",
    "plt.show()\n",
    "\n",
    "plt.figure(figsize=(15,7))\n",
    "plt.plot([distances[i] for i in range(0, N0, int(N0/100))])\n",
    "plt.title(\"Evolution de H au cours des itérations\")\n",
    "plt.show()"
   ]
  },
  {
   "cell_type": "markdown",
   "id": "ec9df62a-f49f-458b-8f96-ded8c1974bf8",
   "metadata": {},
   "source": [
    "<img src=\"simulation_3.png\" width=\"500px\">\n",
    "\n",
    "<img src=\"simulation_4.png\" width=\"500px\">\n",
    "\n",
    "<img src=\"H_evolution_2.png\" width=\"500px\">"
   ]
  },
  {
   "cell_type": "markdown",
   "id": "a5cf902a-be0a-4095-8adc-0d0c98c8c41f",
   "metadata": {},
   "source": [
    "Regardons ce que ca donne quand la moitié de la surface est occupée :"
   ]
  },
  {
   "cell_type": "code",
   "execution_count": null,
   "id": "9a17ea4e-905a-4b98-b09c-e75ec18e585e",
   "metadata": {},
   "outputs": [],
   "source": [
    "# etage, ligne, colonne\n",
    "Mx = np.arange(10)\n",
    "My = np.arange(10)\n",
    "M = np.zeros((10,10, 1))\n",
    "for i in range(1,M.shape[0]+1):\n",
    "    places_y = np.random.choice(My, int(M.shape[0]/3), replace=False)\n",
    "    for j in range(1,len(places_y)+1):\n",
    "        M[i-1][places_y[j-1]][0] = j + int(M.shape[0]/3)*(i-1)\n",
    "ax = plt.figure(figsize=(15,15)).add_subplot(projection='3d')\n",
    "ax.set_aspect('auto')\n",
    "ax.set_box_aspect((4,4,0.4))\n",
    "Mcolor, dcolor = create_colored_matrix(M, light_colors)\n",
    "ax.voxels(M, facecolors = Mcolor, edgecolor = \"white\", alpha = 0.8)\n",
    "plt.show()\n",
    "\n",
    "N0 = 1000\n",
    "distances, new_M = Metropolis(H, P_2d, T, M, N0)\n",
    "ax = plt.figure(figsize=(15,15)).add_subplot(projection='3d')\n",
    "ax.set_aspect('auto')\n",
    "ax.set_box_aspect((4,4,0.4))\n",
    "Mcolor = colorate_new_matrix(new_M, dcolor)\n",
    "ax.voxels(new_M, facecolors = Mcolor, edgecolor = \"white\", alpha = 0.8)\n",
    "plt.show()\n",
    "\n",
    "plt.figure(figsize=(15,7))\n",
    "plt.plot([distances[i] for i in range(0, N0, int(N0/100))])\n",
    "plt.title(\"Evolution de H au cours des itérations\")\n",
    "plt.show()"
   ]
  },
  {
   "cell_type": "markdown",
   "id": "2f0c9bc4-685f-4d9f-8e88-18c671047e7b",
   "metadata": {},
   "source": [
    "<img src=\"simulation_5.png\" width=\"500px\">\n",
    "\n",
    "<img src=\"simulation_6.png\" width=\"500px\">\n",
    "\n",
    "<img src=\"H_evolution_3.png\" width=\"500px\">"
   ]
  },
  {
   "cell_type": "markdown",
   "id": "02d04c38-004f-4db8-bb83-da57f88c9b4a",
   "metadata": {},
   "source": [
    "### Problème du HAV, l'Habitation Agréable à Vivre\n",
    "\n",
    "Nous avons vu le problème du petit lotissement ; fini les plaisanteries, nous passons désormais en 3D. Sur un terrain carré (ou plutôt cubique car nous pouvons considérer la hauteur), nous voulons construire un batiment.\n",
    "\n",
    "Ce sera une structure où chacun des cubes qui la composent représente une habitation. Comme tout à l'heure nous imaginons des petites habitations vitrées. Mais attention, nous changeons les contraintes : il doit toujours y avoir le moins de vis à vis possible et nous voulons que les habitations ne forment pas un block, nous souhatons une structure plus épurée. Nous allons définir proprement toutes ces contraintes par la suite.\n",
    "\n",
    "Nous travaillons désormais en 3D ; dans notre matrice initiale, tous les cubes sont au sols."
   ]
  },
  {
   "cell_type": "markdown",
   "id": "f25f8763-96ea-4d7c-a2d6-ddc6af1a874a",
   "metadata": {},
   "source": [
    "### Voici notre matrice initiale"
   ]
  },
  {
   "cell_type": "code",
   "execution_count": null,
   "id": "da80616f-90e3-4ed2-bb02-ac612a262628",
   "metadata": {},
   "outputs": [],
   "source": [
    "M = np.zeros((10,10,10)) # etage, ligne, colonne\n",
    "M[3][4][0] = 1\n",
    "M[4][4][0] = 2\n",
    "M[5][4][0] = 3\n",
    "M[6][4][0] = 4\n",
    "M[3][5][0] = 5\n",
    "M[4][5][0] = 6\n",
    "M[5][5][0] = 7\n",
    "M[6][5][0] = 8\n",
    "M[3][4][1] = 9\n",
    "M[4][4][1] = 10\n",
    "M[5][4][1] = 11\n",
    "M[6][4][1] = 12\n",
    "M[3][5][1] = 13\n",
    "M[4][5][1] = 14\n",
    "M[5][5][1] = 15\n",
    "M[6][5][1] = 16\n",
    "Mcolor, dcolor = create_colored_matrix(M, light_colors)\n",
    "ax = plt.figure(figsize=(15,15)).add_subplot(projection='3d')\n",
    "ax.set_aspect('auto')\n",
    "ax.voxels(M, facecolors = Mcolor, edgecolor = \"white\", alpha = 0.8)\n",
    "plt.show()"
   ]
  },
  {
   "cell_type": "markdown",
   "id": "f56f89db-219a-4875-9451-158430aea59e",
   "metadata": {},
   "source": [
    "<img src=\"simulation_7.png\" width=\"500px\">"
   ]
  },
  {
   "cell_type": "markdown",
   "id": "53bace6d-31c9-4411-a78d-ae5d8bae6d9d",
   "metadata": {},
   "source": [
    "Pour répondre à nos besoins nous définissons quelques fonctions utiles.\n",
    "\n",
    "- un processus pour identifier les places libres dans la matrice qui se trouvent autour d'un cube, ainsi que les places occupées qui se trouvent autour d'un cube.\n",
    "Nous avons besoin de 4 fonctions pour cela ; get_matrix_indexes fait, tout comme en 2D, une matrice d'indices, que cette fois nous représentons en tuple (x, y, z). centered_matrix_norm existe en 2 exemplaire, un pour la norm 1 et un pour la norm 2. Tout comme en 2D encore, ces fonctions centrent la matrice des indices à partir des coordonnées d'un cube spécifique afin d'identifier les voisins du cube dont il est question. Enfin get_location_around sert à la fois à identifier les emplacements libres et les emplacements occupées autour du cube passé en paramètre.\n",
    "\n",
    "- une fonction pour créer une matrice d'affinité entre les cubes présents dans notre grille 3D. Vous vous demanderez, mais pourquoi ? Nous créons une matrice d'affinité entre cubes pour identifier les \"affinités\" qu'ils ont entre eux, c'est à dire les liens. Cette fonction qui nous ressort donc une matrice remplie de 1 et de 0 indiquants un lien ou non entre 2 cubes en ligne et colonne. Nous l'utilisons par la suite pour identifier le nombre de groupes de cubes (à partir de la théorie des graphes). Ces groupes de cubes seront définis en focntions des affinités, elles mêmes définies en fonction de la norme.\n",
    "\n",
    "- Une fonction qui calcule \"le champ visuel\". Elle retourn 2 éléments, le champ Nord-Sud et Est-Ouest. Le champ visuel est défini comme le compte des places libres autour d'un cube mais uniquement dans l'axe des abcisses ou des ordonnées. Vous comprendrez mieux avec un petit dessin :"
   ]
  },
  {
   "cell_type": "markdown",
   "id": "1172082d-b27c-4443-9576-8d9ce3c7ef48",
   "metadata": {},
   "source": [
    "<img src=\"simulation_8.png\" width=\"500px\">"
   ]
  },
  {
   "cell_type": "code",
   "execution_count": null,
   "id": "28aac60e-71d4-4809-9740-010e1f59c969",
   "metadata": {},
   "outputs": [],
   "source": [
    "def get_matrix_indexes(matrix):\n",
    "    \"\"\" \n",
    "    Inputs : matrix (square matrix)\n",
    "    Returns a matrix filled with tuple of 3 elements (x,y,z) of the indexes of each possible cube location in 3d. \"\"\"\n",
    "    idx = np.zeros(matrix.shape,dtype='i,i,i')\n",
    "    for x in range(matrix.shape[0]):\n",
    "        for y in range(matrix.shape[1]):\n",
    "            for z in range(matrix.shape[2]):\n",
    "                idx[x][y][z] = (x,y,z)\n",
    "    return idx\n",
    "\n",
    "def centered_matrix_norm1(matrix, cube):\n",
    "    \"\"\" \n",
    "    Inputs : matrix (square matrix), cube\n",
    "    Returns a norm 1 matrix (built as we did in 2d). Using a matrix of tuples indexes in 3d \n",
    "    we center the matrix using the cube coordinates and we compute the norm 1.\n",
    "    Then the norm 1 matrix is returned. \"\"\"\n",
    "    idx = get_matrix_indexes(matrix)\n",
    "    cube_coordinate = np.asarray(matrix==cube).nonzero()\n",
    "    cube_tuple = (cube_coordinate[0][0],cube_coordinate[1][0],cube_coordinate[2][0])\n",
    "    norm = np.zeros(matrix.shape,dtype='i')\n",
    "    for x in range(matrix.shape[0]):\n",
    "        for y in range(matrix.shape[1]):\n",
    "            for z in range(matrix.shape[2]):\n",
    "                idx[x][y][z][0] = abs(idx[x][y][z][0] - cube_tuple[0])\n",
    "                idx[x][y][z][1] = abs(idx[x][y][z][1] - cube_tuple[1])\n",
    "                idx[x][y][z][2] = abs(idx[x][y][z][2] - cube_tuple[2])\n",
    "                norm[x][y][z] = sum(idx[x][y][z])                \n",
    "    return norm\n",
    "\n",
    "def centered_matrix_norm2(matrix, cube):\n",
    "    \"\"\" \n",
    "    Inputs : matrix (square matrix), cube\n",
    "    Returns a norm 2 matrix. Using a matrix of tuples indexes in 3d \n",
    "    we center the matrix using the cube coordinates and we compute the norm 2.\n",
    "    Then the norm 2 matrix is returned. \"\"\"\n",
    "    idx = get_matrix_indexes(matrix)\n",
    "    cube_coordinate = np.asarray(matrix==cube).nonzero()\n",
    "    cube_tuple = (cube_coordinate[0][0],cube_coordinate[1][0],cube_coordinate[2][0])\n",
    "    norm = np.zeros(matrix.shape,dtype='i')\n",
    "    for x in range(matrix.shape[0]):\n",
    "        for y in range(matrix.shape[1]):\n",
    "            for z in range(matrix.shape[2]):\n",
    "                idx[x][y][z][0] = abs(idx[x][y][z][0] - cube_tuple[0])**2\n",
    "                idx[x][y][z][1] = abs(idx[x][y][z][1] - cube_tuple[1])**2\n",
    "                idx[x][y][z][2] = abs(idx[x][y][z][2] - cube_tuple[2])**2\n",
    "                norm[x][y][z] = sqrt(sum(idx[x][y][z]))          \n",
    "    return norm\n",
    "\n",
    "def get_location_around(matrix, cube, norm_value_contact, norm_value_free, str_norm_to_use):\n",
    "    \"\"\" \n",
    "    Inputs : matrix (square matrix), cube, norm_value_contact, norm_value_free\n",
    "    Look for the location around the cube in the matrix which are close (according to the norm 1 as expressed in centered_matrix_norm) to the cube.\n",
    "    Returns 2 matrixes. The first one, matrix filled with True/False for the occupied locations in contact with \n",
    "    the cube (at norm norm_value_contact from the cube). The second one, matrix filled with True/False for the free location around the cube\n",
    "    (at norm norm_value_free from the cube). \"\"\"\n",
    "    if str_norm_to_use == \"norm1\":\n",
    "        centered_matrix_norm = centered_matrix_norm1\n",
    "    elif str_norm_to_use == \"norm2\":\n",
    "        centered_matrix_norm = centered_matrix_norm2\n",
    "    else :\n",
    "        print(\"error norm, we will use norm1\")\n",
    "        centered_matrix_norm = centered_matrix_norm1\n",
    "    norm = centered_matrix_norm(matrix, cube)\n",
    "    # get occupied location in contact with the cube :\n",
    "    contact_spaces = np.asarray( (norm<=norm_value_contact)&(matrix!=0)&(matrix!=cube) ).nonzero()\n",
    "    contact = np.full(matrix.shape, False)\n",
    "    for coords in range(len(contact_spaces[0])):\n",
    "        contact[contact_spaces[0][coords]][contact_spaces[1][coords]][contact_spaces[2][coords]] = True\n",
    "    # get location around the cube which are free :\n",
    "    free_spaces = np.asarray( (norm<=norm_value_free)&(matrix==0) ).nonzero()\n",
    "    free = np.full(matrix.shape, False)\n",
    "    for coords in range(len(free_spaces[0])):\n",
    "        free[free_spaces[0][coords]][free_spaces[1][coords]][free_spaces[2][coords]] = True    \n",
    "    return contact, free\n",
    "\n",
    "def create_affinity_matrix(matrix, norm_value_contact, norm_value_free, str_norm_to_use):\n",
    "    \"\"\" \n",
    "    Inputs : matrix (square matrix), norm_value_contact, norm_value_free, str_norm_to_use\n",
    "    (norm_value_contact, norm_value_free and str_norm_to_use are parameters for the get_location_around)\n",
    "    Create an affinity matrix of the cubes in the matrix passed in parameter.\n",
    "    Since then, it is a symetric matrix of shape (number of cubes, number of cubes). \"\"\"\n",
    "    affinity = np.zeros( (int(np.max(matrix)),int(np.max(matrix))) )\n",
    "    for cube in range(1, int(np.max(matrix))+1):\n",
    "        cube_coord = np.asarray( matrix==cube ).nonzero()\n",
    "        in_contact, free = get_location_around(matrix, cube, norm_value_contact, norm_value_free, str_norm_to_use)\n",
    "        for other_cube in matrix[in_contact]:\n",
    "            affinity[cube-1, int(other_cube)-1] = 1\n",
    "    return affinity\n",
    "\n",
    "def get_visual_field_length(matrix, cube, norm_value_contact, norm_value_free, str_norm_to_use):\n",
    "    \"\"\" \n",
    "    Inputs : matrix (square matrix), cube, norm_value_contact, norm_value_free, str_norm_to_use\n",
    "    (norm_value_contact, norm_value_free and str_norm_to_use are parameters for the get_location_around)\n",
    "    We look at a cube (passed in parameter) and we return what we call the visual field (South North) and (East West).\n",
    "    We define the visual field (S/N or E/W) as the count of free spaces on the same level (coordinate z) of the cube\n",
    "    in S/N directions before meeting another cube. \"\"\"\n",
    "    nbr_of_cubes = np.max(matrix)\n",
    "    # we look at free spaces around\n",
    "    # we look at spaces occupied around\n",
    "    cubes_in_contact, cubes_free_locations = get_location_around(matrix, cube, norm_value_contact, norm_value_free, str_norm_to_use)\n",
    "    cubes_in_contact_coord = np.asarray( cubes_in_contact==True ).nonzero()\n",
    "    cubes_free_locations_coord = np.asarray( cubes_free_locations==True ).nonzero()\n",
    "    # we place ourselve at the floor where the cube is located (z coordinate) :\n",
    "    fix_z = np.asarray( matrix==cube ).nonzero()[2][0]\n",
    "    # visual field = free spaces before the next cube\n",
    "    fix_x = np.asarray( matrix==cube ).nonzero()[0][0]\n",
    "    fix_y = np.asarray( matrix==cube ).nonzero()[1][0]\n",
    "    # we look at the visual field Sud/Nord, for fixed z and fixed x :\n",
    "    visual_field = np.full(matrix.shape, False)\n",
    "    for y in range(matrix.shape[1]):\n",
    "        if y != fix_y :\n",
    "            if matrix[fix_x][y][fix_z] == 0:\n",
    "                visual_field[fix_x][y][fix_z] = True\n",
    "    visual_N = visual_field[fix_x,:,fix_z][np.asarray( matrix==cube ).nonzero()[1][0]+1:]\n",
    "    visual_S = visual_field[fix_x,:,fix_z][:np.asarray( matrix==cube ).nonzero()[1][0]-1]\n",
    "    visual_S_N = 0\n",
    "    for element in visual_N:\n",
    "        if element == True:\n",
    "            visual_S_N += 1\n",
    "        else:\n",
    "            break\n",
    "    for element in visual_S:\n",
    "        if element == True:\n",
    "            visual_S_N += 1\n",
    "        else:\n",
    "            break\n",
    "    # we look at the visual field Est/West, for fixed z and fixed y :\n",
    "    visual_field = np.full(matrix.shape, False)\n",
    "    for x in range(matrix.shape[0]):\n",
    "        if x != fix_x :\n",
    "            if matrix[x][fix_y][fix_z] == 0:\n",
    "                visual_field[x][fix_y][fix_z] = True\n",
    "    visual_W = visual_field[:,fix_y,fix_z][np.asarray( matrix==cube ).nonzero()[0][0]+1:]\n",
    "    visual_E = visual_field[:,fix_y,fix_z][:np.asarray( matrix==cube ).nonzero()[0][0]-1]\n",
    "    visual_W_E = 0\n",
    "    for element in visual_W:\n",
    "        if element == True:\n",
    "            visual_W_E += 1\n",
    "        else:\n",
    "            break\n",
    "    for element in visual_E:\n",
    "        if element == True:\n",
    "            visual_W_E += 1\n",
    "        else:\n",
    "            break\n",
    "    return visual_S_N, visual_W_E"
   ]
  },
  {
   "cell_type": "markdown",
   "id": "138d78a8-01ce-47dd-8944-4e3f6581a14d",
   "metadata": {},
   "source": [
    "Grâce aux fonctions ci dessus nous allons définir nos objectifs. Nous voulons désormais minimiser les surfaces en contact et maximiser le champ visuel.\n",
    "\n",
    "Premièrement nous voulons minimiser les surfaces en contact entre cubes, donc H prend en compte la moyenne des surface en contact par cube. Ensuite nous voulons maximiser le champ visuel, donc minimiser l'inverse du champ visuel. Rappelez vous comment nous avons défini le champ visuel : il est le total des cases séparant la face d'un cube et le prochain cube rencontré sur le même axe (pour une même hauteur). Pour être plus explicit, imagnez un cube-appartement traversant (avec des fenêtres sur 2 faces opposées), vous vous tenez au milieu de la pièce et regardez une fenêtre puis vous comptez l'espace entre votre appartement-cube et le suivant qui se trouve dans votre champ de vision ; en sommant ces valeurs pour chacune des fenêtres nous obtenons ce que nous avons appelé ici le champ visuel.\n",
    "\n",
    "Mais il y a 2 champs visuels, le Nord-Sud et le Est-Ouest. A chaque fois, nous avons donc décidé de considérer comme le champ visuel à maximiser, celui qui est le plus grand.\n",
    "\n",
    "Ainsi H est la somme de :\n",
    "\n",
    "- la moyenne des surfaces en contact des cubes\n",
    "- l'inverse de la moyenne des champs visuels des cubes"
   ]
  },
  {
   "cell_type": "markdown",
   "id": "93b97448-8e4b-47bd-8833-b5c59940d8e3",
   "metadata": {},
   "source": [
    "### Code de H"
   ]
  },
  {
   "cell_type": "code",
   "execution_count": null,
   "id": "40e4131f-e10b-4be5-9f19-c0d5fac8ac2b",
   "metadata": {},
   "outputs": [],
   "source": [
    "def H(matrix):\n",
    "    \"\"\" \n",
    "    input : matrix (square matrix)\n",
    "    (norm_value_contact, norm_value_free, str_norm_to_use are needed for the get_location_around function)\n",
    "    matrix is fulfilled with 0 for free space and integers identifying each cubes.\n",
    "    H function returns the mean of the number of cube in contact with each cube + the inverse of the mean of visual field of each cube. \"\"\"\n",
    "    nbr_of_cubes = np.max(matrix)\n",
    "    nbr_cubes_in_contact = np.array([])\n",
    "    visual_field = np.array([])\n",
    "    for i in range(1, int(nbr_of_cubes) + 1):\n",
    "        start=datetime.datetime.now()\n",
    "        cube = i\n",
    "        cubes_in_contact, cubes_free_locations = get_location_around(matrix, cube, norm_value_contact, norm_value_free, str_norm_to_use)\n",
    "        nbr_cubes_in_contact = np.append(nbr_cubes_in_contact, sum(sum(sum(cubes_in_contact))))\n",
    "        field_SN, field_WE = get_visual_field_length(matrix, cube, norm_value_contact, norm_value_free, str_norm_to_use)\n",
    "        visual_field = np.append(visual_field, np.maximum(field_SN, field_WE))\n",
    "    return np.mean(nbr_cubes_in_contact) + 1/np.mean(visual_field)"
   ]
  },
  {
   "cell_type": "markdown",
   "id": "6ebf3976-1c63-4b4e-ac7a-89e88e1836db",
   "metadata": {},
   "source": [
    "C'est parti pour définir la matrice de passage P cette fois en 3D.\n",
    "\n",
    "Comment faire ?\n",
    "\n",
    "Nous piochons un cube et nous identifions les espaces libres et occupés qu'il a autour de lui. (Et s'il n'y en a pas nous en piochons un autre).\n",
    "\n",
    "Là, nous allons proposer une nouvelle place pour le cube sélectionné, et nous allons calculer le nombre de groupes de cubes qui seraient alors identifiés (grâce à la matrice d'affinité), si nous déplacions le cube. Rappelez vous, nous souhaitons construire une structure donc nous voulons identifier 1 seul groupe car il faut que nos cubes soient tous \"liés\" entre eux.\n",
    "\n",
    "Donc, tant que la place proposée pour le cube sépare notre structure nous en choisissons une autre.\n",
    "\n",
    "Plusieurs paramètres sont définis pour controller notre algorithme :\n",
    "\n",
    "- norm_value_contact, norm_value_free : are the values of norms to use to define proximity between the cube and others or between the cube and free spaces around\n",
    "- str_norm_to_use : is the norm to use L1 or L2 to define this proximity\n",
    "- print_progress : to print or not the graphs of cubes evolving in the while iteration. The while iteration tests whether there is too much groups of cubes or not\n",
    "- connected_cubes_limit : to define the limit number of groups to admit"
   ]
  },
  {
   "cell_type": "code",
   "execution_count": null,
   "id": "9c866d77-387c-4415-8402-ebcc7b474ed2",
   "metadata": {},
   "outputs": [],
   "source": [
    "# PARAMETERS : \n",
    "#    norm_value_contact, norm_value_free (values of norms to use to define proximity between cubes / free space)\n",
    "#    str_norm_to_use (norm to use L1 or L2)\n",
    "#    print_progress (to print or not the graphs of cubes evolving in the while iteration)\n",
    "#    connected_cubes_limit (to define the limit number of groups to admit)\n",
    "def P_3d(matrix):\n",
    "    # we compute all the centered norms (for each cube in the matrix)\n",
    "    norms = []\n",
    "    for cube in range(1, int(np.max(matrix))+1):\n",
    "        norm = centered_matrix_norm(matrix, cube)\n",
    "        norms.append(norm)\n",
    "    location_to_place_cube = (np.array([]),np.array([]),np.array([]))\n",
    "    list_of_cubes = np.arange(np.max(matrix))+1\n",
    "    while len(location_to_place_cube[0]) <= 0:\n",
    "        cube = rng.choice(list_of_cubes, size=1)[0]\n",
    "        list_of_cubes = np.delete( list_of_cubes, np.asarray(list_of_cubes == cube).nonzero()[0] )\n",
    "        # TAKE TOO MUCH TIME :\n",
    "        #   we identify location around cube :\n",
    "        #   loc_around = np.full(matrix.shape, False)\n",
    "        #   loc_around_true = np.asarray(norms[cube-1] <= 2).nonzero()\n",
    "        #   for coord in range(len(loc_around_true[0])):\n",
    "        #       loc_around[loc_around_true[0][coord]][loc_around_true[1][coord]][loc_around_true[2][coord]] = True\n",
    "        # we identify location in contact with any other cube :\n",
    "        loc_in_contact = np.full(matrix.shape, False)\n",
    "        for block in range(1, int(np.max(matrix))+1):\n",
    "            if block != cube:\n",
    "                loc_in_contact_true = np.asarray(norms[block-1] <= norm_value_contact).nonzero()\n",
    "                for coord in range(len(loc_in_contact_true[0])):\n",
    "                    loc_in_contact[loc_in_contact_true[0][coord]][loc_in_contact_true[1][coord]][loc_in_contact_true[2][coord]] = True\n",
    "        #location_to_place_cube = np.asarray( (matrix==0)&(loc_in_contact==True)&(loc_around==True) ).nonzero()\n",
    "        location_to_place_cube = np.asarray( (matrix==0)&(loc_in_contact==True) ).nonzero()\n",
    "    cube_coordinate = np.asarray( matrix==cube ).nonzero()\n",
    "    connected_cubes = 10\n",
    "    list_of_places = np.arange(len(location_to_place_cube[0]))\n",
    "    limit = len(list_of_places)-3\n",
    "    cptwhile = 0\n",
    "    while connected_cubes > connected_cubes_limit:\n",
    "        new_location_idx = rng.choice(list_of_places, size=1)[0]  \n",
    "        list_of_places = np.delete( list_of_places, np.asarray(list_of_places == new_location_idx).nonzero()[0] ) # is the random place we choose in the location_to_place_cube arrays to be the new location of our cube\n",
    "        cptwhile+=1\n",
    "        new_x = location_to_place_cube[0][new_location_idx]\n",
    "        new_y = location_to_place_cube[1][new_location_idx]\n",
    "        new_z = location_to_place_cube[2][new_location_idx]\n",
    "        # current place of the cube become 0 \n",
    "        # new location become the identity integer of our cube\n",
    "        temporary_matrix = np.copy(matrix)\n",
    "        temporary_matrix[cube_coordinate[0][0]][cube_coordinate[1][0]][cube_coordinate[2][0]] = 0\n",
    "        temporary_matrix[new_x][new_y][new_z] = cube\n",
    "        Mcolor = colorate_new_matrix(temporary_matrix, dcolor)\n",
    "        Mcolor[new_x][new_y][new_z] = 'black'\n",
    "        graph = create_affinity_matrix(temporary_matrix, norm_value_contact, norm_value_free, str_norm_to_use)    \n",
    "        if print_progress == True:\n",
    "            if cptwhile > limit:    \n",
    "                if cptwhile == limit+1 : # we just entered a new loop\n",
    "                    print(f\"\\n\\n\\nTHE BLACK CUBE IS MOVING\\n\\n\")\n",
    "                print(f\"We identify {connected_cubes} group(s) of cubes\")\n",
    "                ax = plt.figure(figsize=(15,15)).add_subplot(projection='3d')\n",
    "                ax.set_aspect('auto')\n",
    "                ax.voxels(temporary_matrix, facecolors = Mcolor, edgecolor = \"white\", alpha = 0.8)\n",
    "                plt.show()\n",
    "        connected_cubes = connected_components(csgraph=graph, directed=False, return_labels=False)\n",
    "    matrix = temporary_matrix\n",
    "    new_cube_coords = np.array([new_x, new_y, new_z])\n",
    "    old_cube_coord = np.array([cube_coordinate[0][0], cube_coordinate[1][0], cube_coordinate[2][0]])\n",
    "    return matrix, new_cube_coords, old_cube_coord"
   ]
  },
  {
   "cell_type": "markdown",
   "id": "3984bf72-b689-47bb-b7ce-4ab2077851b2",
   "metadata": {},
   "source": [
    "Lançons l'algorithme :\n",
    "\n",
    "Nous afficherons les étapes de la \"construction\" lorsque l'algorithme approche une impasse."
   ]
  },
  {
   "cell_type": "code",
   "execution_count": null,
   "id": "6af4fa6a-97a1-487b-b320-a60e5b4e8d46",
   "metadata": {},
   "outputs": [],
   "source": [
    "norm_value_contact = 1\n",
    "norm_value_free = 1\n",
    "str_norm_to_use = \"norm1\"\n",
    "print_progress = True\n",
    "connected_cubes_limit = 1\n",
    "\n",
    "if str_norm_to_use == \"norm1\":\n",
    "    centered_matrix_norm = centered_matrix_norm1\n",
    "elif str_norm_to_use == \"norm2\":\n",
    "    centered_matrix_norm = centered_matrix_norm2\n",
    "else :\n",
    "    print(\"error norm, we will use norm1\")\n",
    "    centered_matrix_norm = centered_matrix_norm1\n",
    "    \n",
    "N0 = 100\n",
    "distances, new_M = Metropolis(H, P_3d, T, M, N0)\n",
    "ax = plt.figure(figsize=(15,15)).add_subplot(projection='3d')\n",
    "ax.set_aspect('auto')\n",
    "Mcolor = colorate_new_matrix(new_M, dcolor)\n",
    "ax.voxels(new_M, facecolors = Mcolor, edgecolor = \"white\", alpha = 0.8)\n",
    "plt.show()\n",
    "\n",
    "plt.figure(figsize=(15,7))\n",
    "plt.plot([distances[i] for i in range(0, N0, int(N0/10))])\n",
    "plt.title(\"Evolution de H au cours des itérations\")\n",
    "plt.show()"
   ]
  },
  {
   "cell_type": "markdown",
   "id": "6cde18ad-0037-42d2-afe6-ec71717205eb",
   "metadata": {},
   "source": [
    "### Analyse step-by-step"
   ]
  },
  {
   "cell_type": "markdown",
   "id": "d6da8a40-6258-44e4-8e2c-5c3a14aa939c",
   "metadata": {},
   "source": [
    "THE BLACK CUBE IS MOVING\n",
    "\n",
    "We identify 2 group(s) of cubes"
   ]
  },
  {
   "cell_type": "markdown",
   "id": "5b838a26-ee40-4397-baf4-0b5864966732",
   "metadata": {},
   "source": [
    "<img src=\"simulation_9.png\" width=\"500px\">"
   ]
  },
  {
   "cell_type": "markdown",
   "id": "c859f24d-8d11-4722-852c-6131ba79a3bc",
   "metadata": {},
   "source": [
    "We identify 2 group(s) of cubes"
   ]
  },
  {
   "cell_type": "markdown",
   "id": "b8fcb077-629d-45d0-b3c6-d09b5ed37496",
   "metadata": {},
   "source": [
    "<img src=\"simulation_10.png\" width=\"500px\">"
   ]
  },
  {
   "cell_type": "markdown",
   "id": "8efe247f-1e78-4e5e-83cd-8a485cff0f62",
   "metadata": {},
   "source": [
    "We identify 2 group(s) of cubes"
   ]
  },
  {
   "cell_type": "markdown",
   "id": "ff955274-9db4-4848-9e96-2a4a0dc4cd8a",
   "metadata": {},
   "source": [
    "<img src=\"simulation_11.png\" width=\"500px\">"
   ]
  },
  {
   "cell_type": "markdown",
   "id": "dc4c12b4-9d93-4315-b557-b0863ce96227",
   "metadata": {},
   "source": [
    "Avez vous identifié le problème ?\n",
    "\n",
    "Il arrive qu'un cube que l'on déplace sépare la structure, la faisant passer d'un seul et même groupe à 3 groupes distincts de cubes. Le cube que l'on déplace à ce moment ne peut jamais palier à ce problème sans revenir à sa position initiale (d'où on le déplace justement).\n",
    "\n",
    "Nous avons donc plusieurs possibilité devant nous :\n",
    "\n",
    "- Nous pouvons changer la norme définissant la proximité entre les cubes\n",
    "- Nous pouvons ajouter une boucle dans notre processus pour changer de cube quand nous avons sélectionné un tel cube, nous faisant tomber dans une impasse (mais ca risque d'être très long)\n",
    "- Nous pouvons tester avec plus ou moins de cubes\n",
    "- Nous pouvons tester différentes matrices initiales (car le point initial impact l'evolution de notre algorithme)\n",
    "\n",
    "Jusqu'à présent nous utilisions la norme 1 égale à 1 pour définir une proximité entre cubes.\n",
    "\n",
    "Testons tout d'abord avec la norme 2 afin de considérer comme \"en contact\" des cubes qui se trouvent en diagonale."
   ]
  },
  {
   "cell_type": "code",
   "execution_count": null,
   "id": "3bf1901e-5bf5-4f44-9eb6-3bd6083554d6",
   "metadata": {},
   "outputs": [],
   "source": [
    "norm_value_contact = 1\n",
    "norm_value_free = 1\n",
    "str_norm_to_use = \"norm2\"\n",
    "print_progress = True\n",
    "connected_cubes_limit = 1\n",
    "\n",
    "if str_norm_to_use == \"norm1\":\n",
    "    centered_matrix_norm = centered_matrix_norm1\n",
    "elif str_norm_to_use == \"norm2\":\n",
    "    centered_matrix_norm = centered_matrix_norm2\n",
    "else :\n",
    "    print(\"error norm, we will use norm1\")\n",
    "    centered_matrix_norm = centered_matrix_norm1\n",
    "       \n",
    "N0 = 100\n",
    "distances, new_M = Metropolis(H, P_3d, T, M, N0)\n",
    "ax = plt.figure(figsize=(15,15)).add_subplot(projection='3d')\n",
    "ax.set_aspect('auto')\n",
    "Mcolor = colorate_new_matrix(new_M, dcolor)\n",
    "ax.voxels(new_M, facecolors = Mcolor, edgecolor = \"white\", alpha = 0.8)\n",
    "plt.show()\n",
    "\n",
    "plt.figure(figsize=(15,7))\n",
    "plt.plot([distances[i] for i in range(0, N0, int(N0/10))])\n",
    "plt.title(\"Evolution de H au cours des itérations\")\n",
    "plt.show()"
   ]
  },
  {
   "cell_type": "markdown",
   "id": "40c63cf8-b648-4d05-8635-4dfd8dc59e89",
   "metadata": {},
   "source": [
    "### Analyse step-by-step"
   ]
  },
  {
   "cell_type": "markdown",
   "id": "113e37d0-4313-4456-a91e-952c1e8ea261",
   "metadata": {},
   "source": [
    "THE BLACK CUBE IS MOVING\n",
    "\n",
    "We identify 2 group(s) of cubes"
   ]
  },
  {
   "cell_type": "markdown",
   "id": "19e7dd4a-cbb6-4b1a-a2ba-83593d528292",
   "metadata": {},
   "source": [
    "<img src=\"simulation_12.png\" width=\"500px\">"
   ]
  },
  {
   "cell_type": "markdown",
   "id": "93f2be56-b7e9-4ec2-95fe-05200e7ce7e7",
   "metadata": {},
   "source": [
    "We identify 2 group(s) of cubes"
   ]
  },
  {
   "cell_type": "markdown",
   "id": "b6d4af85-78ed-44a8-8baf-1a8293f06944",
   "metadata": {},
   "source": [
    "<img src=\"simulation_13.png\" width=\"500px\">"
   ]
  },
  {
   "cell_type": "markdown",
   "id": "6baebe73-ab14-480b-98c0-77af54518181",
   "metadata": {},
   "source": [
    "We identify 2 group(s) of cubes"
   ]
  },
  {
   "cell_type": "markdown",
   "id": "30560004-c638-4da8-9be8-a9b0c5fb5c4b",
   "metadata": {},
   "source": [
    "<img src=\"simulation_14.png\" width=\"500px\">"
   ]
  },
  {
   "cell_type": "markdown",
   "id": "0f99feb0-b7f9-4e33-8bc8-6cfd4eef7548",
   "metadata": {},
   "source": [
    "C'est difficile de garder une structure en 1 morceau avec cette solution...\n",
    "\n",
    "Maintenant, toujours avec la norme 2, nous commençons avec une plus grosse quantité de cubes. En changeant ainsi la matrice initiale et la quantité de cubes nous espérons aboutir à un résultat plus convaincant."
   ]
  },
  {
   "cell_type": "code",
   "execution_count": null,
   "id": "ce671510-f6fd-42ae-b507-59f665e358a7",
   "metadata": {},
   "outputs": [],
   "source": [
    "M = np.zeros((9,9,11))\n",
    "c = 0 \n",
    "for i in range(3,6):\n",
    "    for j in range(3,6):\n",
    "        M[i][j][0] = c+1\n",
    "        M[i][j][1] = c+2\n",
    "        M[i][j][2] = c+3\n",
    "        M[i][j][3] = c+4\n",
    "        M[i][j][4] = c+5\n",
    "        M[i][j][5] = c+6\n",
    "        M[i][j][6] = c+7\n",
    "        M[i][j][7] = c+8\n",
    "        c+=8\n",
    "ax = plt.figure(figsize=(15,15)).add_subplot(projection='3d')\n",
    "ax.set_aspect('auto')\n",
    "Mcolor, dcolor = create_colored_matrix(M, light_colors)\n",
    "ax.voxels(M, facecolors = Mcolor, edgecolor = \"white\", alpha = 0.8)\n",
    "plt.show()\n",
    "\n",
    "norm_value_contact = 1\n",
    "norm_value_free = 1\n",
    "str_norm_to_use = \"norm2\"\n",
    "print_progress = True\n",
    "connected_cubes_limit = 1\n",
    "\n",
    "if str_norm_to_use == \"norm1\":\n",
    "    centered_matrix_norm = centered_matrix_norm1\n",
    "elif str_norm_to_use == \"norm2\":\n",
    "    centered_matrix_norm = centered_matrix_norm2\n",
    "else :\n",
    "    print(\"error norm, we will use norm1\")\n",
    "    centered_matrix_norm = centered_matrix_norm1\n",
    "    \n",
    "N0 = 100\n",
    "distances, new_M = Metropolis(H, P_3d, T, M, N0)\n",
    "ax = plt.figure(figsize=(15,15)).add_subplot(projection='3d')\n",
    "ax.set_aspect('auto')\n",
    "Mcolor = colorate_new_matrix(new_M, dcolor)\n",
    "ax.voxels(new_M, facecolors = Mcolor, edgecolor = \"white\", alpha = 0.8)\n",
    "plt.show()\n",
    "\n",
    "plt.figure(figsize=(15,7))\n",
    "plt.plot([distances[i] for i in range(0, N0, int(N0/10))])\n",
    "plt.title(\"Evolution de H au cours des itérations\")\n",
    "plt.show()"
   ]
  },
  {
   "cell_type": "markdown",
   "id": "75058973-50e7-41f5-afc7-7e8e819528fd",
   "metadata": {},
   "source": [
    "<img src=\"simulation_15.png\" width=\"500px\">\n",
    "\n",
    "<img src=\"simulation_16.png\" width=\"500px\">\n",
    "\n",
    "<img src=\"H_evolution_4.png\" width=\"500px\">"
   ]
  },
  {
   "cell_type": "markdown",
   "id": "f2354949-7e7e-4cc7-9a70-9e6731978984",
   "metadata": {},
   "source": [
    "Visiblement, l'algorithme ne rencontre pas d'erreur avec un plus grand nombre de cubes. Néanmoins, comparé aux situations précédentes nous pouvons voir sur ce graphique d'évolution de la fonction H que le minimum n'est pas atteint. L'algorithme met beaucoup de temps à s'éxécuter, il faudrait augmenter le nombre d'itérations. Le même problème persiste, avec la norme 2 il est impossible d'obtenir une structure viable.\n",
    "\n",
    "Nous allons donc tenter d’utiliser la norme 2 uniquement pour identifier le nombre de groupes de cubes (des cubes en diagonale sont donc considérés comme étant en lien). Nous gardons la norme 1 pour le reste, c’est à dire la localisation des voisins des cubes, les surfaces en contact, l’identification des places libres autour... La norme 2 interviendra uniquement dans le calcul de la matrice de liens pour définir les affinités entre cubes. (Pour cela nous définissons à nouveau la fonction \"create_affinity_matrix\")."
   ]
  },
  {
   "cell_type": "code",
   "execution_count": null,
   "id": "81900791-48d1-4381-a244-51dc1c92ddae",
   "metadata": {},
   "outputs": [],
   "source": [
    "def P_3d(matrix):\n",
    "    # we compute all the centered norms (for each cube in the matrix)\n",
    "    norms = []\n",
    "    for cube in range(1, int(np.max(matrix))+1):\n",
    "        norm = centered_matrix_norm(matrix, cube)\n",
    "        norms.append(norm)\n",
    "    location_to_place_cube = (np.array([]),np.array([]),np.array([]))\n",
    "    list_of_cubes = np.arange(np.max(matrix))+1\n",
    "    while len(location_to_place_cube[0]) <= 0:\n",
    "        cube = rng.choice(list_of_cubes, size=1)[0]\n",
    "        list_of_cubes = np.delete( list_of_cubes, np.asarray(list_of_cubes == cube).nonzero()[0] )\n",
    "        # TAKE TOO MUCH TIME :\n",
    "        #    we identify location around cube :\n",
    "        #    loc_around = np.full(matrix.shape, False)\n",
    "        #    loc_around_true = np.asarray(norms[cube-1] <= 2).nonzero()\n",
    "        #    for coord in range(len(loc_around_true[0])):\n",
    "        #        loc_around[loc_around_true[0][coord]][loc_around_true[1][coord]][loc_around_true[2][coord]] = True\n",
    "        # we identify location in contact with any other cube :\n",
    "        loc_in_contact = np.full(matrix.shape, False)\n",
    "        for block in range(1, int(np.max(matrix))+1):\n",
    "            if block != cube:\n",
    "                loc_in_contact_true = np.asarray(norms[block-1] <= norm_value_contact).nonzero()\n",
    "                for coord in range(len(loc_in_contact_true[0])):\n",
    "                    loc_in_contact[loc_in_contact_true[0][coord]][loc_in_contact_true[1][coord]][loc_in_contact_true[2][coord]] = True\n",
    "        #location_to_place_cube = np.asarray( (matrix==0)&(loc_in_contact==True)&(loc_around==True) ).nonzero()\n",
    "        location_to_place_cube = np.asarray( (matrix==0)&(loc_in_contact==True) ).nonzero()\n",
    "    cube_coordinate = np.asarray( matrix==cube ).nonzero()\n",
    "    connected_cubes = 10\n",
    "    list_of_places = np.arange(len(location_to_place_cube[0]))\n",
    "    limit = len(list_of_places)-3\n",
    "    cptwhile = 0\n",
    "    while connected_cubes > connected_cubes_limit:\n",
    "        new_location_idx = rng.choice(list_of_places, size=1)[0] \n",
    "        list_of_places = np.delete( list_of_places, np.asarray(list_of_places == new_location_idx).nonzero()[0] ) # is the random place we choose in the location_to_place_cube arrays to be the new location of our cube\n",
    "        cptwhile+=1\n",
    "        new_x = location_to_place_cube[0][new_location_idx]\n",
    "        new_y = location_to_place_cube[1][new_location_idx]\n",
    "        new_z = location_to_place_cube[2][new_location_idx]\n",
    "        # current place of the cube become 0 \n",
    "        # new location become the identity integer of our cube\n",
    "        temporary_matrix = np.copy(matrix)\n",
    "        temporary_matrix[cube_coordinate[0][0]][cube_coordinate[1][0]][cube_coordinate[2][0]] = 0\n",
    "        temporary_matrix[new_x][new_y][new_z] = cube\n",
    "        Mcolor = colorate_new_matrix(temporary_matrix, dcolor)\n",
    "        Mcolor[new_x][new_y][new_z] = 'black'\n",
    "        graph = create_affinity_matrix(temporary_matrix, norm_value_contact, norm_value_free, \"norm2\")    \n",
    "        if print_progress == True:\n",
    "            if cptwhile > limit:    \n",
    "                if cptwhile == limit+1 : # we just entered a new loop\n",
    "                    print(f\"\\n\\n\\nTHE BLACK CUBE IS MOVING\\n\\n\")\n",
    "                print(f\"We identify {connected_cubes} group(s) of cubes\")\n",
    "                ax = plt.figure(figsize=(15,15)).add_subplot(projection='3d')\n",
    "                ax.set_aspect('auto')\n",
    "                ax.voxels(temporary_matrix, facecolors = Mcolor, edgecolor = \"white\", alpha = 0.8)\n",
    "                plt.show()\n",
    "        connected_cubes = connected_components(csgraph=graph, directed=False, return_labels=False)\n",
    "    matrix = temporary_matrix\n",
    "    new_cube_coords = np.array([new_x, new_y, new_z])\n",
    "    old_cube_coord = np.array([cube_coordinate[0][0], cube_coordinate[1][0], cube_coordinate[2][0]])\n",
    "    return matrix, new_cube_coords, old_cube_coord"
   ]
  },
  {
   "cell_type": "code",
   "execution_count": null,
   "id": "d6e8ea8b-c4f7-4431-9317-1c696e86e7ff",
   "metadata": {},
   "outputs": [],
   "source": [
    "norm_value_contact = 1\n",
    "norm_value_free = 1\n",
    "str_norm_to_use = \"norm1\"\n",
    "print_progress = True\n",
    "connected_cubes_limit = 1\n",
    "  \n",
    "N0 = 500\n",
    "distances, new_M = Metropolis(H, P_3d, T, M, N0)\n",
    "ax = plt.figure(figsize=(15,15)).add_subplot(projection='3d')\n",
    "ax.set_aspect('auto')\n",
    "Mcolor = colorate_new_matrix(new_M, dcolor)\n",
    "ax.voxels(new_M, facecolors = Mcolor, edgecolor = \"white\", alpha = 0.8)\n",
    "plt.show()\n",
    "\n",
    "plt.figure(figsize=(15,7))\n",
    "plt.plot([distances[i] for i in range(0, N0, int(N0/10))])\n",
    "plt.title(\"Evolution de H au cours des itérations\")\n",
    "plt.show()"
   ]
  },
  {
   "cell_type": "markdown",
   "id": "ec63363a-fa30-4dbb-9ebd-50cc59fca9e9",
   "metadata": {},
   "source": [
    "THE BLACK CUBE IS MOVING\n",
    "\n",
    "We identify 3 group(s) of cubes"
   ]
  },
  {
   "cell_type": "markdown",
   "id": "2e6adbe6-1a23-4220-a7d2-d95a629d800c",
   "metadata": {},
   "source": [
    "<img src=\"simulation_17.png\" width=\"500px\">"
   ]
  },
  {
   "cell_type": "markdown",
   "id": "0232f842-6b85-4350-b089-268e3f5556f0",
   "metadata": {},
   "source": [
    "Encore une fois, le code est très long et rencontre une erreur avant la fin...\n",
    "\n",
    "Pour conclure, nous avons obtenu la meilleure combinaison avec la norme 1 et un \"grand\" nombre de cubes. Voici une matrice initiale accompagné de 2 résultats obtenus lors de différentes executions du code."
   ]
  },
  {
   "cell_type": "markdown",
   "id": "4267c9f5-8198-4bb4-8d63-bd9920dcd4f6",
   "metadata": {},
   "source": [
    "<img src=\"simulation_18.png\" width=\"500px\">\n",
    "\n",
    "<img src=\"simulation_19.png\" width=\"500px\">"
   ]
  },
  {
   "cell_type": "markdown",
   "id": "5480d2fe-f735-4f42-bc4e-3dada94485c1",
   "metadata": {},
   "source": [
    "Ces résultats finaux correspondent bien à nos objectifs mêmes s'ils ne représentent pas le résultat optimal atendu minimisant la fonction objectif.\n",
    "\n",
    "Finalement, pour répondre à notre problématique initial, il semble important d'optimiser son code car la procédure du recuit simulé peut être très longue. De plus, comme nous l'avons vu, la définition de la fonction objectif à minimiser est une étape importante et complexe de ce projet. Globalement sur les 2 résultats finaux présentés ci-dessus, une structure arborescente apparaît. Un problème éventuel serait le fait que des cubes s'accrochent côte à côte sans qu'aucun cube ne soit présent en dessous ; ce qui n'est pas possible, il faudrait donc prendre en compte cet aspect là dans la construction si nous voulions continuer ce projet.\n",
    "\n",
    "Néanmoins, les résultats obtenus sont en accord avec les contraintes définies. L'objectif de ce projet est ainsi en parti atteint et laisse place à de nouvelles perspectives pour prolonger et approfondir cette recherche."
   ]
  }
 ],
 "metadata": {
  "kernelspec": {
   "display_name": "Python 3",
   "language": "python",
   "name": "python3"
  },
  "language_info": {
   "codemirror_mode": {
    "name": "ipython",
    "version": 3
   },
   "file_extension": ".py",
   "mimetype": "text/x-python",
   "name": "python",
   "nbconvert_exporter": "python",
   "pygments_lexer": "ipython3",
   "version": "3.8.8"
  }
 },
 "nbformat": 4,
 "nbformat_minor": 5
}
